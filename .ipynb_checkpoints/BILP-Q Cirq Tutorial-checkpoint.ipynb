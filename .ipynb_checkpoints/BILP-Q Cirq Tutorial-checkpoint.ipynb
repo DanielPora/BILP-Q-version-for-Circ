{
 "cells": [
  {
   "cell_type": "markdown",
   "id": "f13843f6",
   "metadata": {},
   "source": [
    "# This notebook implements the BILP-Q tutorial in Cirq"
   ]
  },
  {
   "cell_type": "code",
   "execution_count": 1,
   "id": "89dbabed",
   "metadata": {},
   "outputs": [],
   "source": [
    "try:\n",
    "    import cirq\n",
    "except ImportError:\n",
    "    print(\"installing cirq...\")\n",
    "    !pip install --quiet cirq\n",
    "    print(\"installed cirq.\")\n",
    "    import cirq\n",
    "import cirq_google\n",
    "from Utils_CSG import *\n",
    "import sympy \n",
    "import numpy as np\n",
    "from typing import Sequence, Tuple\n",
    "from cirq.circuits import InsertStrategy\n",
    "from cirq.contrib.svg import SVGCircuit\n",
    "import matplotlib.pyplot as plt"
   ]
  },
  {
   "cell_type": "markdown",
   "id": "4a3b4b38",
   "metadata": {},
   "source": [
    "## Starting with the a given CSG\n",
    "Using the same steps as in the BILP-Q Qiskit tutorial to generate the Q-matrix"
   ]
  },
  {
   "cell_type": "code",
   "execution_count": 2,
   "id": "6d74dd2b",
   "metadata": {},
   "outputs": [
    {
     "data": {
      "text/plain": [
       "{'1': 30, '2': 40, '3': 25, '1,2': 70, '1,3': 60, '2,3': 65, '1,2,3': 90}"
      ]
     },
     "execution_count": 2,
     "metadata": {},
     "output_type": "execute_result"
    }
   ],
   "source": [
    "coalition_values={\n",
    "    '1':30,\n",
    "    '2':40,\n",
    "    '3':25,\n",
    "    '1,2':70,\n",
    "    '1,3':60,\n",
    "    '2,3':65,\n",
    "    '1,2,3':90\n",
    "}\n",
    "coalition_values\n",
    "\n"
   ]
  },
  {
   "cell_type": "code",
   "execution_count": 3,
   "id": "2c2b4141",
   "metadata": {
    "scrolled": true
   },
   "outputs": [
    {
     "name": "stdout",
     "output_type": "stream",
     "text": [
      "c = [30, 40, 25, 70, 60, 65, 90]\n",
      "S = [[1, 0, 0, 1, 1, 0, 1], [0, 1, 0, 1, 0, 1, 1], [0, 0, 1, 0, 1, 1, 1]]\n",
      "b = [1, 1, 1]\n"
     ]
    }
   ],
   "source": [
    "c,S,b = convert_to_BILP(coalition_values)       # A function in Utils_CSG.py\n",
    "print(f'c = {c}\\nS = {S}\\nb = {b}')"
   ]
  },
  {
   "cell_type": "code",
   "execution_count": 59,
   "id": "f01cfd52",
   "metadata": {},
   "outputs": [
    {
     "name": "stdout",
     "output_type": "stream",
     "text": [
      "Linear Coefficients = {'x_6': -15090.0, 'x_3': -10070.0, 'x_4': -10060.0, 'x_5': -10065.0, 'x_0': -5030.0, 'x_1': -5040.0, 'x_2': -5025.0} \n",
      " Quadratic Coefficients = {('x_3', 'x_6'): 20000.0, ('x_4', 'x_6'): 20000.0, ('x_5', 'x_6'): 20000.0, ('x_0', 'x_3'): 10000.0, ('x_0', 'x_4'): 10000.0, ('x_0', 'x_6'): 10000.0, ('x_1', 'x_3'): 10000.0, ('x_1', 'x_5'): 10000.0, ('x_1', 'x_6'): 10000.0, ('x_2', 'x_4'): 10000.0, ('x_2', 'x_5'): 10000.0, ('x_2', 'x_6'): 10000.0, ('x_3', 'x_4'): 10000.0, ('x_3', 'x_5'): 10000.0, ('x_4', 'x_5'): 10000.0}\n"
     ]
    }
   ],
   "source": [
    "qubo_penalty = 5000 * -1\n",
    "\n",
    "linear,quadratic = get_QUBO_coeffs(c,S,b,qubo_penalty)        # A function in Utils_CSG.py\n",
    "\n",
    "print(f\"Linear Coefficients = {linear} \\n Quadratic Coefficients = {quadratic}\")"
   ]
  },
  {
   "cell_type": "code",
   "execution_count": 60,
   "id": "9ef99dde",
   "metadata": {
    "scrolled": false
   },
   "outputs": [
    {
     "data": {
      "text/plain": [
       "array([[-0.3,  0. ,  0. ,  0.3,  0.3,  0. ,  0.3],\n",
       "       [ 0. , -0.3,  0. ,  0.3,  0. ,  0.3,  0.3],\n",
       "       [ 0. ,  0. , -0.3,  0. ,  0.3,  0.3,  0.3],\n",
       "       [ 0.3,  0.3,  0. , -0.7,  0.3,  0.3,  0.7],\n",
       "       [ 0.3,  0. ,  0.3,  0.3, -0.7,  0.3,  0.7],\n",
       "       [ 0. ,  0.3,  0.3,  0.3,  0.3, -0.7,  0.7],\n",
       "       [ 0.3,  0.3,  0.3,  0.7,  0.7,  0.7, -1. ]])"
      ]
     },
     "execution_count": 60,
     "metadata": {},
     "output_type": "execute_result"
    }
   ],
   "source": [
    "Q = np.zeros([len(linear),len(linear)])\n",
    "Qmax = 0\n",
    "#diagonal elements\n",
    "for key,value in linear.items():\n",
    "    if Qmax < abs(value):\n",
    "        Qmax = abs(value)\n",
    "        \n",
    "    Q[int(key.split('_')[1]),int(key.split('_')[1])] = value\n",
    "\n",
    "#non diagonal elements\n",
    "for key,value in quadratic.items():\n",
    "    if Qmax < abs(value/2):\n",
    "        Qmax = abs(value/2)\n",
    "    Q[int(key[0].split('_')[1]),int(key[1].split('_')[1])] = value/2\n",
    "    Q[int(key[1].split('_')[1]),int(key[0].split('_')[1])] = value/2\n",
    "\n",
    "\n",
    "Q = Q/Qmax\n",
    "Q.round(1)\n"
   ]
  },
  {
   "cell_type": "markdown",
   "id": "05cdb565",
   "metadata": {},
   "source": [
    "## Initializing the circuit\n",
    "\n",
    "There are many other ways to create circuts. Worth mentioning is that cirq can also create grid-circuits and check, whether all two-qubits gates are only applied to adjacent qubits. This can be usefull when implementing for real quantum devices (D-Wave part)."
   ]
  },
  {
   "cell_type": "code",
   "execution_count": 6,
   "id": "f5f6dad8",
   "metadata": {},
   "outputs": [],
   "source": [
    "def cirq_init(n_prob):\n",
    "    \"\"\"Initializes a circuit of n_prob Line Qubits in equal superposition\n",
    "    Return: the circuit itself and the quibits used in it\"\"\"\n",
    "    circuit = cirq.Circuit() #initializing a circuit object\n",
    "    qubits = cirq.LineQubit.range(n_prob) # creating n_prob qubits\n",
    "    circuit.append(cirq.H(q) for q in qubits) # adding the just created qubits each with a H-Gate to the circuit\n",
    "    return circuit, qubits"
   ]
  },
  {
   "cell_type": "markdown",
   "id": "fc2a57d4",
   "metadata": {},
   "source": [
    "## Creating cost and mixer layers"
   ]
  },
  {
   "cell_type": "code",
   "execution_count": 7,
   "id": "f805a5da",
   "metadata": {},
   "outputs": [],
   "source": [
    "# the mixer layer should just be a list of X rotation gates with parameter beta on each qubit\n",
    "# that will be appended to the circuit\n",
    "\n",
    "def mixer_layer(in_circuit, beta_value: float):\n",
    "    \"\"\"Adds a mixer layer to circuit with parameter beta_value\"\"\"\n",
    "    circuit = in_circuit.copy() \n",
    "    # without copy() circuit would still be the same instance of in_circuit\n",
    "    # and mixer() would in-place change in_circuit\n",
    "    \n",
    "    n_qubits = len(circuit.get_independent_qubit_sets())\n",
    "    circuit.append([cirq.X(q) ** beta_value for q in qubits],  strategy=InsertStrategy.NEW_THEN_INLINE)\n",
    "    # adding an X-gate to the power of beta_value to every qubit. Using an insert strategy to put them all in the same moment\n",
    "    # for better readability in the diagram later\n",
    "    return circuit"
   ]
  },
  {
   "cell_type": "code",
   "execution_count": 8,
   "id": "3e539ec1",
   "metadata": {},
   "outputs": [],
   "source": [
    "def cost_layer(in_circuit:cirq.circuits.circuit.Circuit, gamma_value:float, Q:np.ndarray) -> cirq.circuits.circuit.Circuit:\n",
    "    \"\"\"Adds the cost layer defined by QUBO matrix Q to circuit with the parameter gamma_value\"\"\"\n",
    "    \n",
    "    \n",
    "    circuit = in_circuit.copy()\n",
    "    nrow = np. size(Q, 0)\n",
    "    ncol = np. size(Q, 1)\n",
    "    \n",
    "    # in the Q matrix, diagonal entries represent the coefficients for linear terms, while the of-diagonal non-zero elements\n",
    "    # are the coefficients for mixed terms. A linear term will be implemented as Z rotation gate on the resprective qubit,\n",
    "    # while a mixed term is implemented as ZZ rotational gate on the 2 resprective qubits.\n",
    "    # the rotations are parametrized by the gamma_value for this sprecific layer\n",
    "    \n",
    "    for row in range(nrow):\n",
    "        # we don't need to iterrate through the whole matrix, since it's symetrical. The upper right part and diagonal is enough\n",
    "        for col in range(row, ncol):\n",
    "            \n",
    "            if row == col:\n",
    "                lin = Q[row,col]\n",
    "                continue \n",
    "                # if the element is on the diagonal we will collect the coefficient to apply the single Z gate after all\n",
    "                # ZZ gates are done on this qubit\n",
    "            \n",
    "            elif Q[row,col] != 0:\n",
    "                # when we have a non-diagonal element that is not zero we append a gama_value\n",
    "                # parametrized ZZ rotation gate on the resprective 2 qubits\n",
    "                circuit.append(cirq.ZZ(qubits[row],qubits[col]) ** (gamma_value * Q[row,col]))\n",
    "        # the single qubit z gate for linear terms at the end of all ZZ gate for this qubit \n",
    "        if lin != 0:\n",
    "            circuit.append(cirq.Z(qubits[row]) ** (gamma_value * lin))\n",
    "                  \n",
    "    return circuit"
   ]
  },
  {
   "cell_type": "markdown",
   "id": "a77432ae",
   "metadata": {},
   "source": [
    "## Creating the circuit\n",
    "Note: the layer-functions still change the circuit in-place"
   ]
  },
  {
   "cell_type": "code",
   "execution_count": 9,
   "id": "69ff4ff8",
   "metadata": {},
   "outputs": [
    {
     "name": "stdout",
     "output_type": "stream",
     "text": [
      "[β_0] [γ_0]\n"
     ]
    }
   ],
   "source": [
    "p = 1 # number of layers\n",
    "\n",
    "# Parameters are introduced as 'symbols'. Symbols can be used like variables in a circuit but need to be 'resolved'\n",
    "# (get a value assigned to) when we want to simulate or run the circuit\n",
    "beta = [sympy.Symbol(\"β_\"+str(i)) for i in range(p)]\n",
    "gamma = [sympy.Symbol(\"γ_\"+str(i)) for i in range(p)]\n",
    "print(beta, gamma)"
   ]
  },
  {
   "cell_type": "code",
   "execution_count": 10,
   "id": "0e601e07",
   "metadata": {},
   "outputs": [
    {
     "data": {
      "text/plain": [
       "{γ_0: 1, β_0: 1}"
      ]
     },
     "execution_count": 10,
     "metadata": {},
     "output_type": "execute_result"
    }
   ],
   "source": [
    "problem_size = len(Q[0]) # defines how many qubits will be necessary to represent the problem \n",
    "\n",
    "qaoa, qubits = cirq_init(problem_size)\n",
    "\n",
    "param_dict = {} #used to store the parameters in a dictionary. For later use in the param resolver\n",
    "for i in range(p):\n",
    "    qaoa = cost_layer(qaoa, gamma[i], Q)\n",
    "    qaoa = mixer_layer(qaoa, beta[i])\n",
    "    param_dict[gamma[i]] = 1\n",
    "    param_dict[beta[i]] = 1\n",
    "    \n",
    "param_dict"
   ]
  },
  {
   "cell_type": "code",
   "execution_count": 11,
   "id": "0c870770",
   "metadata": {},
   "outputs": [
    {
     "data": {
      "image/svg+xml": [
       "<svg xmlns=\"http://www.w3.org/2000/svg\" width=\"3507.944101562501\" height=\"390.0\"><line x1=\"30.0\" x2=\"3477.944101562501\" y1=\"45.0\" y2=\"45.0\" stroke=\"#1967d2\" stroke-width=\"1\" /><line x1=\"30.0\" x2=\"3477.944101562501\" y1=\"95.0\" y2=\"95.0\" stroke=\"#1967d2\" stroke-width=\"1\" /><line x1=\"30.0\" x2=\"3477.944101562501\" y1=\"145.0\" y2=\"145.0\" stroke=\"#1967d2\" stroke-width=\"1\" /><line x1=\"30.0\" x2=\"3477.944101562501\" y1=\"195.0\" y2=\"195.0\" stroke=\"#1967d2\" stroke-width=\"1\" /><line x1=\"30.0\" x2=\"3477.944101562501\" y1=\"245.0\" y2=\"245.0\" stroke=\"#1967d2\" stroke-width=\"1\" /><line x1=\"30.0\" x2=\"3477.944101562501\" y1=\"295.0\" y2=\"295.0\" stroke=\"#1967d2\" stroke-width=\"1\" /><line x1=\"30.0\" x2=\"3477.944101562501\" y1=\"345.0\" y2=\"345.0\" stroke=\"#1967d2\" stroke-width=\"1\" /><line x1=\"2405.6944140625\" x2=\"2813.0933984375006\" y1=\"5.0\" y2=\"5.0\" stroke=\"black\" stroke-width=\"1\" /><line x1=\"2405.6944140625\" x2=\"2813.0933984375006\" y1=\"385.0\" y2=\"385.0\" stroke=\"black\" stroke-width=\"1\" /><line x1=\"1988.2954296875002\" x2=\"2395.6944140625\" y1=\"5.0\" y2=\"5.0\" stroke=\"black\" stroke-width=\"1\" /><line x1=\"1988.2954296875002\" x2=\"2395.6944140625\" y1=\"385.0\" y2=\"385.0\" stroke=\"black\" stroke-width=\"1\" /><line x1=\"1372.1969531250002\" x2=\"1978.2954296875002\" y1=\"5.0\" y2=\"5.0\" stroke=\"black\" stroke-width=\"1\" /><line x1=\"1372.1969531250002\" x2=\"1978.2954296875002\" y1=\"385.0\" y2=\"385.0\" stroke=\"black\" stroke-width=\"1\" /><line x1=\"756.0984765625001\" x2=\"1362.1969531250002\" y1=\"5.0\" y2=\"5.0\" stroke=\"black\" stroke-width=\"1\" /><line x1=\"756.0984765625001\" x2=\"1362.1969531250002\" y1=\"385.0\" y2=\"385.0\" stroke=\"black\" stroke-width=\"1\" /><line x1=\"338.6994921875\" x2=\"746.0984765625001\" y1=\"5.0\" y2=\"5.0\" stroke=\"black\" stroke-width=\"1\" /><line x1=\"338.6994921875\" x2=\"746.0984765625001\" y1=\"385.0\" y2=\"385.0\" stroke=\"black\" stroke-width=\"1\" /><line x1=\"229.34974609375\" x2=\"229.34974609375\" y1=\"45.0\" y2=\"195.0\" stroke=\"black\" stroke-width=\"3\" /><line x1=\"438.04923828125004\" x2=\"438.04923828125004\" y1=\"45.0\" y2=\"245.0\" stroke=\"black\" stroke-width=\"3\" /><line x1=\"636.7487304687501\" x2=\"636.7487304687501\" y1=\"95.0\" y2=\"195.0\" stroke=\"black\" stroke-width=\"3\" /><line x1=\"855.4482226562501\" x2=\"855.4482226562501\" y1=\"45.0\" y2=\"345.0\" stroke=\"black\" stroke-width=\"3\" /><line x1=\"1054.1477148437502\" x2=\"1054.1477148437502\" y1=\"95.0\" y2=\"295.0\" stroke=\"black\" stroke-width=\"3\" /><line x1=\"1252.84720703125\" x2=\"1252.84720703125\" y1=\"145.0\" y2=\"245.0\" stroke=\"black\" stroke-width=\"3\" /><line x1=\"1471.5466992187503\" x2=\"1471.5466992187503\" y1=\"95.0\" y2=\"345.0\" stroke=\"black\" stroke-width=\"3\" /><line x1=\"1670.24619140625\" x2=\"1670.24619140625\" y1=\"145.0\" y2=\"295.0\" stroke=\"black\" stroke-width=\"3\" /><line x1=\"1868.9456835937503\" x2=\"1868.9456835937503\" y1=\"195.0\" y2=\"245.0\" stroke=\"black\" stroke-width=\"3\" /><line x1=\"2087.64517578125\" x2=\"2087.64517578125\" y1=\"145.0\" y2=\"345.0\" stroke=\"black\" stroke-width=\"3\" /><line x1=\"2286.3446679687504\" x2=\"2286.3446679687504\" y1=\"195.0\" y2=\"295.0\" stroke=\"black\" stroke-width=\"3\" /><line x1=\"2505.04416015625\" x2=\"2505.04416015625\" y1=\"195.0\" y2=\"345.0\" stroke=\"black\" stroke-width=\"3\" /><line x1=\"2703.7436523437505\" x2=\"2703.7436523437505\" y1=\"245.0\" y2=\"295.0\" stroke=\"black\" stroke-width=\"3\" /><line x1=\"2932.4431445312507\" x2=\"2932.4431445312507\" y1=\"245.0\" y2=\"345.0\" stroke=\"black\" stroke-width=\"3\" /><line x1=\"3151.142636718751\" x2=\"3151.142636718751\" y1=\"295.0\" y2=\"345.0\" stroke=\"black\" stroke-width=\"3\" /><line x1=\"2405.6944140625\" x2=\"2405.6944140625\" y1=\"5.0\" y2=\"15.0\" stroke=\"black\" stroke-width=\"3\" /><line x1=\"2813.0933984375006\" x2=\"2813.0933984375006\" y1=\"5.0\" y2=\"15.0\" stroke=\"black\" stroke-width=\"3\" /><line x1=\"2405.6944140625\" x2=\"2405.6944140625\" y1=\"375.0\" y2=\"385.0\" stroke=\"black\" stroke-width=\"3\" /><line x1=\"2813.0933984375006\" x2=\"2813.0933984375006\" y1=\"375.0\" y2=\"385.0\" stroke=\"black\" stroke-width=\"3\" /><line x1=\"1988.2954296875002\" x2=\"1988.2954296875002\" y1=\"5.0\" y2=\"15.0\" stroke=\"black\" stroke-width=\"3\" /><line x1=\"2395.6944140625\" x2=\"2395.6944140625\" y1=\"5.0\" y2=\"15.0\" stroke=\"black\" stroke-width=\"3\" /><line x1=\"1988.2954296875002\" x2=\"1988.2954296875002\" y1=\"375.0\" y2=\"385.0\" stroke=\"black\" stroke-width=\"3\" /><line x1=\"2395.6944140625\" x2=\"2395.6944140625\" y1=\"375.0\" y2=\"385.0\" stroke=\"black\" stroke-width=\"3\" /><line x1=\"1372.1969531250002\" x2=\"1372.1969531250002\" y1=\"5.0\" y2=\"15.0\" stroke=\"black\" stroke-width=\"3\" /><line x1=\"1978.2954296875002\" x2=\"1978.2954296875002\" y1=\"5.0\" y2=\"15.0\" stroke=\"black\" stroke-width=\"3\" /><line x1=\"1372.1969531250002\" x2=\"1372.1969531250002\" y1=\"375.0\" y2=\"385.0\" stroke=\"black\" stroke-width=\"3\" /><line x1=\"1978.2954296875002\" x2=\"1978.2954296875002\" y1=\"375.0\" y2=\"385.0\" stroke=\"black\" stroke-width=\"3\" /><line x1=\"756.0984765625001\" x2=\"756.0984765625001\" y1=\"5.0\" y2=\"15.0\" stroke=\"black\" stroke-width=\"3\" /><line x1=\"1362.1969531250002\" x2=\"1362.1969531250002\" y1=\"5.0\" y2=\"15.0\" stroke=\"black\" stroke-width=\"3\" /><line x1=\"756.0984765625001\" x2=\"756.0984765625001\" y1=\"375.0\" y2=\"385.0\" stroke=\"black\" stroke-width=\"3\" /><line x1=\"1362.1969531250002\" x2=\"1362.1969531250002\" y1=\"375.0\" y2=\"385.0\" stroke=\"black\" stroke-width=\"3\" /><line x1=\"338.6994921875\" x2=\"338.6994921875\" y1=\"5.0\" y2=\"15.0\" stroke=\"black\" stroke-width=\"3\" /><line x1=\"746.0984765625001\" x2=\"746.0984765625001\" y1=\"5.0\" y2=\"15.0\" stroke=\"black\" stroke-width=\"3\" /><line x1=\"338.6994921875\" x2=\"338.6994921875\" y1=\"375.0\" y2=\"385.0\" stroke=\"black\" stroke-width=\"3\" /><line x1=\"746.0984765625001\" x2=\"746.0984765625001\" y1=\"375.0\" y2=\"385.0\" stroke=\"black\" stroke-width=\"3\" /><rect x=\"10.0\" y=\"25.0\" width=\"40\" height=\"40\" stroke=\"black\" fill=\"white\" stroke-width=\"0\" /><text x=\"30.0\" y=\"45.0\" dominant-baseline=\"middle\" text-anchor=\"middle\" font-size=\"14px\" font-family=\"Arial\">0: </text><rect x=\"10.0\" y=\"75.0\" width=\"40\" height=\"40\" stroke=\"black\" fill=\"white\" stroke-width=\"0\" /><text x=\"30.0\" y=\"95.0\" dominant-baseline=\"middle\" text-anchor=\"middle\" font-size=\"14px\" font-family=\"Arial\">1: </text><rect x=\"10.0\" y=\"125.0\" width=\"40\" height=\"40\" stroke=\"black\" fill=\"white\" stroke-width=\"0\" /><text x=\"30.0\" y=\"145.0\" dominant-baseline=\"middle\" text-anchor=\"middle\" font-size=\"14px\" font-family=\"Arial\">2: </text><rect x=\"10.0\" y=\"175.0\" width=\"40\" height=\"40\" stroke=\"black\" fill=\"white\" stroke-width=\"0\" /><text x=\"30.0\" y=\"195.0\" dominant-baseline=\"middle\" text-anchor=\"middle\" font-size=\"14px\" font-family=\"Arial\">3: </text><rect x=\"10.0\" y=\"225.0\" width=\"40\" height=\"40\" stroke=\"black\" fill=\"white\" stroke-width=\"0\" /><text x=\"30.0\" y=\"245.0\" dominant-baseline=\"middle\" text-anchor=\"middle\" font-size=\"14px\" font-family=\"Arial\">4: </text><rect x=\"10.0\" y=\"275.0\" width=\"40\" height=\"40\" stroke=\"black\" fill=\"white\" stroke-width=\"0\" /><text x=\"30.0\" y=\"295.0\" dominant-baseline=\"middle\" text-anchor=\"middle\" font-size=\"14px\" font-family=\"Arial\">5: </text><rect x=\"10.0\" y=\"325.0\" width=\"40\" height=\"40\" stroke=\"black\" fill=\"white\" stroke-width=\"0\" /><text x=\"30.0\" y=\"345.0\" dominant-baseline=\"middle\" text-anchor=\"middle\" font-size=\"14px\" font-family=\"Arial\">6: </text><rect x=\"70.0\" y=\"25.0\" width=\"40\" height=\"40\" stroke=\"black\" fill=\"white\" stroke-width=\"1\" /><text x=\"90.0\" y=\"45.0\" dominant-baseline=\"middle\" text-anchor=\"middle\" font-size=\"18px\" font-family=\"Arial\">H</text><rect x=\"70.0\" y=\"75.0\" width=\"40\" height=\"40\" stroke=\"black\" fill=\"white\" stroke-width=\"1\" /><text x=\"90.0\" y=\"95.0\" dominant-baseline=\"middle\" text-anchor=\"middle\" font-size=\"18px\" font-family=\"Arial\">H</text><rect x=\"70.0\" y=\"125.0\" width=\"40\" height=\"40\" stroke=\"black\" fill=\"white\" stroke-width=\"1\" /><text x=\"90.0\" y=\"145.0\" dominant-baseline=\"middle\" text-anchor=\"middle\" font-size=\"18px\" font-family=\"Arial\">H</text><rect x=\"70.0\" y=\"175.0\" width=\"40\" height=\"40\" stroke=\"black\" fill=\"white\" stroke-width=\"1\" /><text x=\"90.0\" y=\"195.0\" dominant-baseline=\"middle\" text-anchor=\"middle\" font-size=\"18px\" font-family=\"Arial\">H</text><rect x=\"70.0\" y=\"225.0\" width=\"40\" height=\"40\" stroke=\"black\" fill=\"white\" stroke-width=\"1\" /><text x=\"90.0\" y=\"245.0\" dominant-baseline=\"middle\" text-anchor=\"middle\" font-size=\"18px\" font-family=\"Arial\">H</text><rect x=\"70.0\" y=\"275.0\" width=\"40\" height=\"40\" stroke=\"black\" fill=\"white\" stroke-width=\"1\" /><text x=\"90.0\" y=\"295.0\" dominant-baseline=\"middle\" text-anchor=\"middle\" font-size=\"18px\" font-family=\"Arial\">H</text><rect x=\"70.0\" y=\"325.0\" width=\"40\" height=\"40\" stroke=\"black\" fill=\"white\" stroke-width=\"1\" /><text x=\"90.0\" y=\"345.0\" dominant-baseline=\"middle\" text-anchor=\"middle\" font-size=\"18px\" font-family=\"Arial\">H</text><rect x=\"130.0\" y=\"25.0\" width=\"198.69949218750003\" height=\"40\" stroke=\"black\" fill=\"white\" stroke-width=\"1\" /><text x=\"229.34974609375\" y=\"45.0\" dominant-baseline=\"middle\" text-anchor=\"middle\" font-size=\"14px\" font-family=\"Arial\">ZZ</text><rect x=\"130.0\" y=\"175.0\" width=\"198.69949218750003\" height=\"40\" stroke=\"black\" fill=\"white\" stroke-width=\"1\" /><text x=\"229.34974609375\" y=\"195.0\" dominant-baseline=\"middle\" text-anchor=\"middle\" font-size=\"14px\" font-family=\"Arial\">ZZ^(0.208333333333333*γ_0)</text><rect x=\"338.6994921875\" y=\"25.0\" width=\"198.69949218750003\" height=\"40\" stroke=\"black\" fill=\"white\" stroke-width=\"1\" /><text x=\"438.04923828125004\" y=\"45.0\" dominant-baseline=\"middle\" text-anchor=\"middle\" font-size=\"14px\" font-family=\"Arial\">ZZ</text><rect x=\"338.6994921875\" y=\"225.0\" width=\"198.69949218750003\" height=\"40\" stroke=\"black\" fill=\"white\" stroke-width=\"1\" /><text x=\"438.04923828125004\" y=\"245.0\" dominant-baseline=\"middle\" text-anchor=\"middle\" font-size=\"14px\" font-family=\"Arial\">ZZ^(0.208333333333333*γ_0)</text><rect x=\"537.398984375\" y=\"75.0\" width=\"198.69949218750003\" height=\"40\" stroke=\"black\" fill=\"white\" stroke-width=\"1\" /><text x=\"636.7487304687501\" y=\"95.0\" dominant-baseline=\"middle\" text-anchor=\"middle\" font-size=\"14px\" font-family=\"Arial\">ZZ</text><rect x=\"537.398984375\" y=\"175.0\" width=\"198.69949218750003\" height=\"40\" stroke=\"black\" fill=\"white\" stroke-width=\"1\" /><text x=\"636.7487304687501\" y=\"195.0\" dominant-baseline=\"middle\" text-anchor=\"middle\" font-size=\"14px\" font-family=\"Arial\">ZZ^(0.208333333333333*γ_0)</text><rect x=\"756.0984765625001\" y=\"25.0\" width=\"198.69949218750003\" height=\"40\" stroke=\"black\" fill=\"white\" stroke-width=\"1\" /><text x=\"855.4482226562501\" y=\"45.0\" dominant-baseline=\"middle\" text-anchor=\"middle\" font-size=\"14px\" font-family=\"Arial\">ZZ</text><rect x=\"756.0984765625001\" y=\"325.0\" width=\"198.69949218750003\" height=\"40\" stroke=\"black\" fill=\"white\" stroke-width=\"1\" /><text x=\"855.4482226562501\" y=\"345.0\" dominant-baseline=\"middle\" text-anchor=\"middle\" font-size=\"14px\" font-family=\"Arial\">ZZ^(0.208333333333333*γ_0)</text><rect x=\"954.7979687500002\" y=\"75.0\" width=\"198.69949218750003\" height=\"40\" stroke=\"black\" fill=\"white\" stroke-width=\"1\" /><text x=\"1054.1477148437502\" y=\"95.0\" dominant-baseline=\"middle\" text-anchor=\"middle\" font-size=\"14px\" font-family=\"Arial\">ZZ</text><rect x=\"954.7979687500002\" y=\"275.0\" width=\"198.69949218750003\" height=\"40\" stroke=\"black\" fill=\"white\" stroke-width=\"1\" /><text x=\"1054.1477148437502\" y=\"295.0\" dominant-baseline=\"middle\" text-anchor=\"middle\" font-size=\"14px\" font-family=\"Arial\">ZZ^(0.208333333333333*γ_0)</text><rect x=\"1153.4974609375\" y=\"125.0\" width=\"198.69949218750003\" height=\"40\" stroke=\"black\" fill=\"white\" stroke-width=\"1\" /><text x=\"1252.84720703125\" y=\"145.0\" dominant-baseline=\"middle\" text-anchor=\"middle\" font-size=\"14px\" font-family=\"Arial\">ZZ</text><rect x=\"1153.4974609375\" y=\"225.0\" width=\"198.69949218750003\" height=\"40\" stroke=\"black\" fill=\"white\" stroke-width=\"1\" /><text x=\"1252.84720703125\" y=\"245.0\" dominant-baseline=\"middle\" text-anchor=\"middle\" font-size=\"14px\" font-family=\"Arial\">ZZ^(0.208333333333333*γ_0)</text><rect x=\"1372.1969531250002\" y=\"25.0\" width=\"198.69949218750003\" height=\"40\" stroke=\"black\" fill=\"white\" stroke-width=\"1\" /><text x=\"1471.5466992187503\" y=\"45.0\" dominant-baseline=\"middle\" text-anchor=\"middle\" font-size=\"14px\" font-family=\"Arial\">Z^(-0.333333333333333*γ_0)</text><rect x=\"1372.1969531250002\" y=\"75.0\" width=\"198.69949218750003\" height=\"40\" stroke=\"black\" fill=\"white\" stroke-width=\"1\" /><text x=\"1471.5466992187503\" y=\"95.0\" dominant-baseline=\"middle\" text-anchor=\"middle\" font-size=\"14px\" font-family=\"Arial\">ZZ</text><rect x=\"1372.1969531250002\" y=\"325.0\" width=\"198.69949218750003\" height=\"40\" stroke=\"black\" fill=\"white\" stroke-width=\"1\" /><text x=\"1471.5466992187503\" y=\"345.0\" dominant-baseline=\"middle\" text-anchor=\"middle\" font-size=\"14px\" font-family=\"Arial\">ZZ^(0.208333333333333*γ_0)</text><rect x=\"1570.8964453125\" y=\"125.0\" width=\"198.69949218750003\" height=\"40\" stroke=\"black\" fill=\"white\" stroke-width=\"1\" /><text x=\"1670.24619140625\" y=\"145.0\" dominant-baseline=\"middle\" text-anchor=\"middle\" font-size=\"14px\" font-family=\"Arial\">ZZ</text><rect x=\"1570.8964453125\" y=\"275.0\" width=\"198.69949218750003\" height=\"40\" stroke=\"black\" fill=\"white\" stroke-width=\"1\" /><text x=\"1670.24619140625\" y=\"295.0\" dominant-baseline=\"middle\" text-anchor=\"middle\" font-size=\"14px\" font-family=\"Arial\">ZZ^(0.208333333333333*γ_0)</text><rect x=\"1769.5959375000002\" y=\"175.0\" width=\"198.69949218750003\" height=\"40\" stroke=\"black\" fill=\"white\" stroke-width=\"1\" /><text x=\"1868.9456835937503\" y=\"195.0\" dominant-baseline=\"middle\" text-anchor=\"middle\" font-size=\"14px\" font-family=\"Arial\">ZZ</text><rect x=\"1769.5959375000002\" y=\"225.0\" width=\"198.69949218750003\" height=\"40\" stroke=\"black\" fill=\"white\" stroke-width=\"1\" /><text x=\"1868.9456835937503\" y=\"245.0\" dominant-baseline=\"middle\" text-anchor=\"middle\" font-size=\"14px\" font-family=\"Arial\">ZZ^(0.208333333333333*γ_0)</text><rect x=\"1988.2954296875\" y=\"75.0\" width=\"198.69949218750003\" height=\"40\" stroke=\"black\" fill=\"white\" stroke-width=\"1\" /><text x=\"2087.64517578125\" y=\"95.0\" dominant-baseline=\"middle\" text-anchor=\"middle\" font-size=\"14px\" font-family=\"Arial\">Z^(-0.375*γ_0)</text><rect x=\"1988.2954296875\" y=\"125.0\" width=\"198.69949218750003\" height=\"40\" stroke=\"black\" fill=\"white\" stroke-width=\"1\" /><text x=\"2087.64517578125\" y=\"145.0\" dominant-baseline=\"middle\" text-anchor=\"middle\" font-size=\"14px\" font-family=\"Arial\">ZZ</text><rect x=\"1988.2954296875\" y=\"325.0\" width=\"198.69949218750003\" height=\"40\" stroke=\"black\" fill=\"white\" stroke-width=\"1\" /><text x=\"2087.64517578125\" y=\"345.0\" dominant-baseline=\"middle\" text-anchor=\"middle\" font-size=\"14px\" font-family=\"Arial\">ZZ^(0.208333333333333*γ_0)</text><rect x=\"2186.9949218750003\" y=\"175.0\" width=\"198.69949218750003\" height=\"40\" stroke=\"black\" fill=\"white\" stroke-width=\"1\" /><text x=\"2286.3446679687504\" y=\"195.0\" dominant-baseline=\"middle\" text-anchor=\"middle\" font-size=\"14px\" font-family=\"Arial\">ZZ</text><rect x=\"2186.9949218750003\" y=\"275.0\" width=\"198.69949218750003\" height=\"40\" stroke=\"black\" fill=\"white\" stroke-width=\"1\" /><text x=\"2286.3446679687504\" y=\"295.0\" dominant-baseline=\"middle\" text-anchor=\"middle\" font-size=\"14px\" font-family=\"Arial\">ZZ^(0.208333333333333*γ_0)</text><rect x=\"2405.6944140625\" y=\"125.0\" width=\"198.69949218750003\" height=\"40\" stroke=\"black\" fill=\"white\" stroke-width=\"1\" /><text x=\"2505.04416015625\" y=\"145.0\" dominant-baseline=\"middle\" text-anchor=\"middle\" font-size=\"14px\" font-family=\"Arial\">Z^(-0.3125*γ_0)</text><rect x=\"2405.6944140625\" y=\"175.0\" width=\"198.69949218750003\" height=\"40\" stroke=\"black\" fill=\"white\" stroke-width=\"1\" /><text x=\"2505.04416015625\" y=\"195.0\" dominant-baseline=\"middle\" text-anchor=\"middle\" font-size=\"14px\" font-family=\"Arial\">ZZ</text><rect x=\"2405.6944140625\" y=\"325.0\" width=\"198.69949218750003\" height=\"40\" stroke=\"black\" fill=\"white\" stroke-width=\"1\" /><text x=\"2505.04416015625\" y=\"345.0\" dominant-baseline=\"middle\" text-anchor=\"middle\" font-size=\"14px\" font-family=\"Arial\">ZZ^(0.416666666666667*γ_0)</text><rect x=\"2604.3939062500003\" y=\"225.0\" width=\"198.69949218750003\" height=\"40\" stroke=\"black\" fill=\"white\" stroke-width=\"1\" /><text x=\"2703.7436523437505\" y=\"245.0\" dominant-baseline=\"middle\" text-anchor=\"middle\" font-size=\"14px\" font-family=\"Arial\">ZZ</text><rect x=\"2604.3939062500003\" y=\"275.0\" width=\"198.69949218750003\" height=\"40\" stroke=\"black\" fill=\"white\" stroke-width=\"1\" /><text x=\"2703.7436523437505\" y=\"295.0\" dominant-baseline=\"middle\" text-anchor=\"middle\" font-size=\"14px\" font-family=\"Arial\">ZZ^(0.208333333333333*γ_0)</text><rect x=\"2833.0933984375006\" y=\"175.0\" width=\"198.69949218750003\" height=\"40\" stroke=\"black\" fill=\"white\" stroke-width=\"1\" /><text x=\"2932.4431445312507\" y=\"195.0\" dominant-baseline=\"middle\" text-anchor=\"middle\" font-size=\"14px\" font-family=\"Arial\">Z^(-0.708333333333333*γ_0)</text><rect x=\"2833.0933984375006\" y=\"225.0\" width=\"198.69949218750003\" height=\"40\" stroke=\"black\" fill=\"white\" stroke-width=\"1\" /><text x=\"2932.4431445312507\" y=\"245.0\" dominant-baseline=\"middle\" text-anchor=\"middle\" font-size=\"14px\" font-family=\"Arial\">ZZ</text><rect x=\"2833.0933984375006\" y=\"325.0\" width=\"198.69949218750003\" height=\"40\" stroke=\"black\" fill=\"white\" stroke-width=\"1\" /><text x=\"2932.4431445312507\" y=\"345.0\" dominant-baseline=\"middle\" text-anchor=\"middle\" font-size=\"14px\" font-family=\"Arial\">ZZ^(0.416666666666667*γ_0)</text><rect x=\"3051.792890625001\" y=\"225.0\" width=\"198.69949218750003\" height=\"40\" stroke=\"black\" fill=\"white\" stroke-width=\"1\" /><text x=\"3151.142636718751\" y=\"245.0\" dominant-baseline=\"middle\" text-anchor=\"middle\" font-size=\"14px\" font-family=\"Arial\">Z^(-0.666666666666667*γ_0)</text><rect x=\"3051.792890625001\" y=\"275.0\" width=\"198.69949218750003\" height=\"40\" stroke=\"black\" fill=\"white\" stroke-width=\"1\" /><text x=\"3151.142636718751\" y=\"295.0\" dominant-baseline=\"middle\" text-anchor=\"middle\" font-size=\"14px\" font-family=\"Arial\">ZZ</text><rect x=\"3051.792890625001\" y=\"325.0\" width=\"198.69949218750003\" height=\"40\" stroke=\"black\" fill=\"white\" stroke-width=\"1\" /><text x=\"3151.142636718751\" y=\"345.0\" dominant-baseline=\"middle\" text-anchor=\"middle\" font-size=\"14px\" font-family=\"Arial\">ZZ^(0.416666666666667*γ_0)</text><rect x=\"3270.492382812501\" y=\"275.0\" width=\"109.16238281250003\" height=\"40\" stroke=\"black\" fill=\"white\" stroke-width=\"1\" /><text x=\"3325.073574218751\" y=\"295.0\" dominant-baseline=\"middle\" text-anchor=\"middle\" font-size=\"14px\" font-family=\"Arial\">Z^(-0.6875*γ_0)</text><rect x=\"3270.492382812501\" y=\"325.0\" width=\"109.16238281250003\" height=\"40\" stroke=\"black\" fill=\"white\" stroke-width=\"1\" /><text x=\"3325.073574218751\" y=\"345.0\" dominant-baseline=\"middle\" text-anchor=\"middle\" font-size=\"14px\" font-family=\"Arial\">Z^(-1.0*γ_0)</text><rect x=\"3399.6547656250013\" y=\"25.0\" width=\"58.2893359375\" height=\"40\" stroke=\"black\" fill=\"white\" stroke-width=\"1\" /><text x=\"3428.7994335937515\" y=\"45.0\" dominant-baseline=\"middle\" text-anchor=\"middle\" font-size=\"14px\" font-family=\"Arial\">X^(β_0)</text><rect x=\"3399.6547656250013\" y=\"75.0\" width=\"58.2893359375\" height=\"40\" stroke=\"black\" fill=\"white\" stroke-width=\"1\" /><text x=\"3428.7994335937515\" y=\"95.0\" dominant-baseline=\"middle\" text-anchor=\"middle\" font-size=\"14px\" font-family=\"Arial\">X^(β_0)</text><rect x=\"3399.6547656250013\" y=\"125.0\" width=\"58.2893359375\" height=\"40\" stroke=\"black\" fill=\"white\" stroke-width=\"1\" /><text x=\"3428.7994335937515\" y=\"145.0\" dominant-baseline=\"middle\" text-anchor=\"middle\" font-size=\"14px\" font-family=\"Arial\">X^(β_0)</text><rect x=\"3399.6547656250013\" y=\"175.0\" width=\"58.2893359375\" height=\"40\" stroke=\"black\" fill=\"white\" stroke-width=\"1\" /><text x=\"3428.7994335937515\" y=\"195.0\" dominant-baseline=\"middle\" text-anchor=\"middle\" font-size=\"14px\" font-family=\"Arial\">X^(β_0)</text><rect x=\"3399.6547656250013\" y=\"225.0\" width=\"58.2893359375\" height=\"40\" stroke=\"black\" fill=\"white\" stroke-width=\"1\" /><text x=\"3428.7994335937515\" y=\"245.0\" dominant-baseline=\"middle\" text-anchor=\"middle\" font-size=\"14px\" font-family=\"Arial\">X^(β_0)</text><rect x=\"3399.6547656250013\" y=\"275.0\" width=\"58.2893359375\" height=\"40\" stroke=\"black\" fill=\"white\" stroke-width=\"1\" /><text x=\"3428.7994335937515\" y=\"295.0\" dominant-baseline=\"middle\" text-anchor=\"middle\" font-size=\"14px\" font-family=\"Arial\">X^(β_0)</text><rect x=\"3399.6547656250013\" y=\"325.0\" width=\"58.2893359375\" height=\"40\" stroke=\"black\" fill=\"white\" stroke-width=\"1\" /><text x=\"3428.7994335937515\" y=\"345.0\" dominant-baseline=\"middle\" text-anchor=\"middle\" font-size=\"14px\" font-family=\"Arial\">X^(β_0)</text></svg>"
      ],
      "text/plain": [
       "<cirq.contrib.svg.svg.SVGCircuit at 0x2b4ff982ca0>"
      ]
     },
     "execution_count": 11,
     "metadata": {},
     "output_type": "execute_result"
    }
   ],
   "source": [
    "# better printing with SVG\n",
    "SVGCircuit(qaoa)"
   ]
  },
  {
   "cell_type": "code",
   "execution_count": 12,
   "id": "5715b2ea",
   "metadata": {},
   "outputs": [],
   "source": [
    "def state_vector_params(gamma, beta, circuit):\n",
    "    simulator = cirq.Simulator() # initializing the simulator object\n",
    "    params = cirq.ParamResolver({\"γ_0\": gamma, \"β_0\": beta}) \n",
    "    #the param resolver maps values from the function input to the respective variables in the circuit\n",
    "    \n",
    "    result = abs(simulator.simulate(circuit, param_resolver=params).final_state_vector)\n",
    "    # simulates the final state vector of the circuit with the input values for the parameters gamma and beta\n",
    "    # only take tha absolut values since the imaginary parts should only exist due to rounding errors\n",
    "    sum = 0\n",
    "    for elm in result:\n",
    "        sum += elm**2\n",
    "    if 1 != round(sum,3):\n",
    "        print(\"Warning: final state vector is normalized. Difference to 1 is more than .001\")\n",
    "    \n",
    "    return result\n",
    " \n"
   ]
  },
  {
   "cell_type": "markdown",
   "id": "16499670",
   "metadata": {},
   "source": [
    "# Numerical tests"
   ]
  },
  {
   "cell_type": "code",
   "execution_count": 13,
   "id": "84f9b278",
   "metadata": {},
   "outputs": [
    {
     "data": {
      "text/plain": [
       "array([[ 1.,  0.,  0.,  0.,  0.,  0.,  0.,  0.],\n",
       "       [ 0., -1.,  0., -0.,  0., -0.,  0., -0.],\n",
       "       [ 0.,  0., -1., -0.,  0.,  0., -0., -0.],\n",
       "       [ 0., -0., -0.,  1.,  0., -0., -0.,  0.],\n",
       "       [ 0.,  0.,  0.,  0., -1., -0., -0., -0.],\n",
       "       [ 0., -0.,  0., -0., -0.,  1., -0.,  0.],\n",
       "       [ 0.,  0., -0., -0., -0., -0.,  1.,  0.],\n",
       "       [ 0., -0., -0.,  0., -0.,  0.,  0., -1.]])"
      ]
     },
     "execution_count": 13,
     "metadata": {},
     "output_type": "execute_result"
    }
   ],
   "source": [
    "def M_z(dim):\n",
    "    \"\"\"For measurments in the computational basis this function can create a matrix corresponding to the \n",
    "    tensor produkt of number of dim Pauli-Z matrices. \n",
    "    dim: number of qubits in the circuit\"\"\"\n",
    "    mat_Z = np.eye(2)\n",
    "    mat_Z[1,1] = -1\n",
    "    M = [1]\n",
    "    for i in range(dim):\n",
    "        M = np.kron(M, mat_Z)\n",
    "    return M\n",
    "\n",
    "M_z(3)"
   ]
  },
  {
   "cell_type": "markdown",
   "id": "a9d978f3",
   "metadata": {},
   "source": [
    "Creating the measurement operator for the expectation calculation "
   ]
  },
  {
   "cell_type": "code",
   "execution_count": 14,
   "id": "f73f5913",
   "metadata": {},
   "outputs": [],
   "source": [
    "def ez_filter(n, dim):\n",
    "    '''\n",
    "    Creates matrices like Z_n (for n={1,...,#qubits}) , where we apply the Z gate to the n-th qubit\n",
    "    in a circuit of dim number of qubits\n",
    "    '''\n",
    "    # start with Pauli-Z matrix\n",
    "    ez_f = np.eye(2)\n",
    "    ez_f[1,1] = -1\n",
    "\n",
    "    if n == 1:\n",
    "        #with for Z_1 we need to do the tensor product of Pauli-Z with dim-1 unit matrices\n",
    "        ez_f = np.kron(ez_f, np.eye(2**(dim-1) ))\n",
    "        \n",
    "    else:\n",
    "        #for Z_n we need a tensor product of n-1 unit matrices then Pauli-Z and again unit matrices for all the other qubits\n",
    "        ez_f = np.kron(np.eye(2**(n-1)), ez_f)\n",
    "        ez_f = np.kron(ez_f, np.eye(2**(dim-n)))   \n",
    "\n",
    "    return ez_f\n",
    "\n",
    "def m_op(Q):\n",
    "    '''\n",
    "    A matrix corresponding to the problem hamiltonian H_c. To compute the expectation values in terms of cost for the qubo\n",
    "    '''\n",
    "    dim = len(Q[1])\n",
    "    \n",
    "    nrow = np. size(Q, 0)\n",
    "    \n",
    "    ncol = np. size(Q, 1)\n",
    "        \n",
    "    ez = np.zeros((2**nrow, 2**ncol))\n",
    "\n",
    "    for row in range(nrow):\n",
    "        \n",
    "        for col in range(row, ncol):\n",
    "            \n",
    "            if row == col:\n",
    "                lin = Q[row,col]\n",
    "               \n",
    "                continue \n",
    "\n",
    "\n",
    "            elif Q[row,col] != 0:\n",
    "               \n",
    "                ez += Q[row,col] * ez_filter(row+1, dim) @ ez_filter(col+1, dim)\n",
    "\n",
    "\n",
    "        if lin != 0:\n",
    "            ez += lin * ez_filter(row+1, dim)\n",
    "\n",
    "        \n",
    "    return ez\n",
    "\n"
   ]
  },
  {
   "cell_type": "code",
   "execution_count": 15,
   "id": "85260207",
   "metadata": {},
   "outputs": [
    {
     "data": {
      "text/plain": [
       "(128, 128)"
      ]
     },
     "execution_count": 15,
     "metadata": {},
     "output_type": "execute_result"
    }
   ],
   "source": [
    "# defining the measurement operator\n",
    "M = m_op(Q)\n",
    "M.shape\n"
   ]
  },
  {
   "cell_type": "code",
   "execution_count": 16,
   "id": "273e407e",
   "metadata": {},
   "outputs": [],
   "source": [
    "grid_size = 40\n",
    "gamma_max = 5\n",
    "beta_max = 2\n",
    "\n",
    "# Do the grid search.\n",
    "energies = np.zeros((grid_size, grid_size))\n",
    "for i in range(0,grid_size):\n",
    "    for j in range(0,grid_size):\n",
    "        vec = state_vector_params(i * gamma_max / grid_size, j * beta_max / grid_size, qaoa)\n",
    "        energies[i, j] = vec @ M @ vec\n",
    "        "
   ]
  },
  {
   "cell_type": "code",
   "execution_count": 17,
   "id": "b193e42b",
   "metadata": {},
   "outputs": [
    {
     "data": {
      "image/png": "[encoded data removed]",
      "text/plain": [
       "<Figure size 432x288 with 2 Axes>"
      ]
     },
     "metadata": {
      "needs_background": "light"
     },
     "output_type": "display_data"
    },
    {
     "name": "stdout",
     "output_type": "stream",
     "text": [
      "Numerically found parameters: Gamma = 4.875, Beta = 0.5\n",
      "Energy = -1.5246461156849718\n"
     ]
    }
   ],
   "source": [
    "\"\"\"Plot the energy as a function of the parameters 𝛄 and β found in the grid search.\"\"\"\n",
    "plt.ylabel(r\"$\\gamma$\")\n",
    "plt.xlabel(r\"$\\beta$\")\n",
    "plt.title(\"Energy as a function of parameters\")\n",
    "plt.imshow(energies, extent=(0, beta_max, gamma_max, 0))\n",
    "plt.colorbar()\n",
    "plt.show()\n",
    "ind = np.unravel_index(np.argmin(energies, axis=None), energies.shape) \n",
    "ind_gam, ind_bet = ind\n",
    "eng = energies[ind]\n",
    "opt_gam = ind_gam / grid_size * gamma_max\n",
    "opt_bet = ind_bet / grid_size * beta_max\n",
    "print(f\"Numerically found parameters: Gamma = {opt_gam}, Beta = {opt_bet}\\nEnergy = {eng}\")"
   ]
  },
  {
   "cell_type": "code",
   "execution_count": 18,
   "id": "8b66ca50",
   "metadata": {},
   "outputs": [],
   "source": [
    "# Adding a measurement layer\n",
    "measure_qaoa = qaoa.copy()\n",
    "measure_qaoa.append(cirq.measure(qubits, key = 'result'))"
   ]
  },
  {
   "cell_type": "code",
   "execution_count": 19,
   "id": "e3d316bb",
   "metadata": {},
   "outputs": [
    {
     "data": {
      "text/plain": [
       "[(115, 37),\n",
       " (116, 37),\n",
       " (46, 35),\n",
       " (18, 34),\n",
       " (99, 30),\n",
       " (35, 27),\n",
       " (57, 24),\n",
       " (21, 23),\n",
       " (4, 20),\n",
       " (77, 19)]"
      ]
     },
     "execution_count": 19,
     "metadata": {},
     "output_type": "execute_result"
    }
   ],
   "source": [
    "num_reps = 1000\n",
    "params = cirq.ParamResolver({'γ_0': 54.722, 'β_0': -2.439})\n",
    "simulator = cirq.Simulator()\n",
    "measure_result = simulator.run(measure_qaoa, param_resolver=params, repetitions = num_reps)\n",
    "counts = measure_result.histogram(key='result')\n",
    "common_solution = counts.most_common(3)\n",
    "counts.most_common(10)"
   ]
  },
  {
   "cell_type": "markdown",
   "id": "d8da9a21",
   "metadata": {},
   "source": [
    "# Analytical optimization"
   ]
  },
  {
   "cell_type": "code",
   "execution_count": 20,
   "id": "2dabd2f0",
   "metadata": {},
   "outputs": [],
   "source": [
    "# Basic gradient descent to find the best parameter for the lowest energy level\n",
    "def param_optimizer(param_dict, circuit, qubits, lr, epochs):\n",
    "    \"\"\"param_dict: dictionary with parameters {γ_0: 0, β_0: 0, .... }\n",
    "       returns one step optimimized parameter dictionary\n",
    "    \"\"\"\n",
    "    # Creating the meassurement operator\n",
    "    \n",
    "    \n",
    "    # setting up some utilities\n",
    "    opt_energy = float('inf')\n",
    "    opt_param_dict = {}\n",
    "    simulator = cirq.Simulator() # initializing the simulator object\n",
    "    params = cirq.ParamResolver(param_dict)\n",
    "    \n",
    "    random_restart = 0\n",
    "    \n",
    "    \n",
    "    \n",
    "    for step in range(epochs):\n",
    "        \n",
    "        # The final state vector and energy of the circuit with the parameter values given by param_dict\n",
    "        base_state = abs(simulator.simulate(circuit, param_resolver=params).final_state_vector)\n",
    "        base_energy = base_state @ M @ base_state\n",
    "        \n",
    "        # whenever the energy is lower than previously detected, the best value and it's parameter will be stored\n",
    "        if base_energy < opt_energy: \n",
    "            opt_energy = base_energy\n",
    "            opt_param_dict = param_dict\n",
    "        \n",
    "        # Calculating the gradient numerically    \n",
    "        grad = np.zeros(len(param_dict))\n",
    "        j = 0\n",
    "        for i in param_dict:\n",
    "\n",
    "            param_dict[i] += 0.001\n",
    "            params = cirq.ParamResolver(param_dict)\n",
    "            eps_state = abs(simulator.simulate(circuit, param_resolver=params).final_state_vector)\n",
    "            param_dict[i] -= 0.001\n",
    "            eps = base_energy - (eps_state @ M @ eps_state)\n",
    "            grad[j] = eps/0.001\n",
    "            j += 1\n",
    "\n",
    "        grad = grad * lr\n",
    "        \n",
    "        j = 0\n",
    "        for i in param_dict:\n",
    "            param_dict[i] += grad[j]\n",
    "            j +=1\n",
    "        \n",
    "        # the energy of the learned state = base state + gradient * learning rate\n",
    "        params = cirq.ParamResolver(param_dict) # new parameter after the gradient step \n",
    "        vec = abs(simulator.simulate(circuit, param_resolver=params).final_state_vector)\n",
    "        energy = vec @ M @ vec #energy after the gradient step\n",
    "        if energy < opt_energy:\n",
    "            opt_energy = energy\n",
    "            opt_param_dict = param_dict\n",
    "        else: \n",
    "            random_restart +=1\n",
    "        \n",
    "        if random_restart == 3:\n",
    "            \n",
    "            random_restart = 0\n",
    "            param_dict[gamma[0]] = random.uniform(0, 5)\n",
    "            param_dict[beta[0]] = random.uniform(0, 2)\n",
    "            \n",
    "        if not step % 25:    \n",
    "            print(f\"Epoch {step+1}, Energy: {opt_energy}\")\n",
    "    return opt_param_dict, opt_energy\n"
   ]
  },
  {
   "cell_type": "code",
   "execution_count": 21,
   "id": "4d471306",
   "metadata": {},
   "outputs": [
    {
     "name": "stdout",
     "output_type": "stream",
     "text": [
      "{γ_0: 4.875, β_0: 0.5}\n",
      "Epoch 1, Energy: -1.525418915683557\n",
      "Epoch 26, Energy: -1.5322514605150703\n",
      "Epoch 51, Energy: -1.5326275491613404\n",
      "Epoch 76, Energy: -1.5326399657730165\n",
      "Epoch 101, Energy: -1.5326399657730165\n",
      "Epoch 126, Energy: -1.5326399657730165\n",
      "Epoch 151, Energy: -1.5326399657730165\n",
      "Epoch 176, Energy: -1.5326399657730165\n",
      "Epoch 201, Energy: -1.5326399657730165\n",
      "Epoch 226, Energy: -1.5326399657730165\n",
      "Epoch 251, Energy: -1.5326399657730165\n",
      "Epoch 276, Energy: -1.5326399657730165\n"
     ]
    },
    {
     "data": {
      "text/plain": [
       "[({γ_0: 0.5861305735779848, β_0: 1.485524222418435}, -1.5326399657730165)]"
      ]
     },
     "execution_count": 21,
     "metadata": {},
     "output_type": "execute_result"
    }
   ],
   "source": [
    "solutions = []\n",
    "param_dict[gamma[0]] = opt_gam\n",
    "param_dict[beta[0]] = opt_bet\n",
    "print(param_dict)\n",
    "\n",
    "solutions.append(param_optimizer(param_dict, qaoa, qubits, 0.01, 300))\n",
    "solutions"
   ]
  },
  {
   "cell_type": "code",
   "execution_count": 22,
   "id": "5a70b1a3",
   "metadata": {},
   "outputs": [
    {
     "data": {
      "text/plain": [
       "{γ_0: 0.5861305735779848, β_0: 1.485524222418435}"
      ]
     },
     "execution_count": 22,
     "metadata": {},
     "output_type": "execute_result"
    }
   ],
   "source": [
    "opt_params = dict()\n",
    "opt_params = solutions[0][0]\n",
    "\n",
    "opt_params"
   ]
  },
  {
   "cell_type": "code",
   "execution_count": 23,
   "id": "dc5f759e",
   "metadata": {},
   "outputs": [
    {
     "name": "stdout",
     "output_type": "stream",
     "text": [
      "cirq.ParamResolver({sympy.Symbol('γ_0'): 0.5861305735779848, sympy.Symbol('β_0'): 1.485524222418435})\n"
     ]
    },
    {
     "data": {
      "image/png": "[encoded data removed]",
      "text/plain": [
       "<Figure size 432x288 with 1 Axes>"
      ]
     },
     "metadata": {
      "needs_background": "light"
     },
     "output_type": "display_data"
    },
    {
     "data": {
      "text/plain": [
       "[(0, 257),\n",
       " (1, 72),\n",
       " (16, 56),\n",
       " (64, 45),\n",
       " (32, 37),\n",
       " (5, 35),\n",
       " (3, 34),\n",
       " (9, 32),\n",
       " (80, 21),\n",
       " (72, 13)]"
      ]
     },
     "execution_count": 23,
     "metadata": {},
     "output_type": "execute_result"
    }
   ],
   "source": [
    "num_reps = 1000\n",
    "params = cirq.ParamResolver(opt_params)\n",
    "print(params)\n",
    "measure_result = simulator.run(measure_qaoa, param_resolver=params, repetitions = num_reps)\n",
    "cirq.plot_state_histogram(measure_result, plt.subplot())\n",
    "plt.show()\n",
    "counts = measure_result.histogram(key='result')\n",
    "solution = counts.most_common(10)\n",
    "solution"
   ]
  },
  {
   "cell_type": "code",
   "execution_count": 24,
   "id": "17d56f7b",
   "metadata": {},
   "outputs": [],
   "source": [
    "def to_bin_array(n):\n",
    "    ar = [0, 0, 0, 0, 0, 0, 0]\n",
    "    for i in str(bin(n))[2:]:\n",
    "        ar.append(int(i))\n",
    " \n",
    "\n",
    "    return ar[-7:]"
   ]
  },
  {
   "cell_type": "code",
   "execution_count": 25,
   "id": "0a51c89b",
   "metadata": {},
   "outputs": [
    {
     "name": "stdout",
     "output_type": "stream",
     "text": [
      "Most frequent measurment:  0\n"
     ]
    },
    {
     "data": {
      "text/plain": [
       "[]"
      ]
     },
     "execution_count": 25,
     "metadata": {},
     "output_type": "execute_result"
    }
   ],
   "source": [
    "most_common = solution[0][0]\n",
    "print(\"Most frequent measurment: \", most_common)\n",
    "decode(to_bin_array(most_common), coalition_values)"
   ]
  },
  {
   "cell_type": "code",
   "execution_count": 26,
   "id": "e2fcb3f9",
   "metadata": {},
   "outputs": [
    {
     "data": {
      "text/plain": [
       "[{'2'}, {'3'}, {'1', '2'}, {'1', '3'}, {'2', '3'}]"
      ]
     },
     "execution_count": 26,
     "metadata": {},
     "output_type": "execute_result"
    }
   ],
   "source": [
    "\n",
    "decode(to_bin_array(62), coalition_values)"
   ]
  },
  {
   "cell_type": "markdown",
   "id": "c1dd28c3",
   "metadata": {},
   "source": [
    "# Sampling approach"
   ]
  },
  {
   "cell_type": "code",
   "execution_count": 27,
   "id": "c6fdc850",
   "metadata": {},
   "outputs": [
    {
     "data": {
      "text/plain": [
       "Counter({32: 35,\n",
       "         18: 13,\n",
       "         107: 3,\n",
       "         64: 63,\n",
       "         0: 240,\n",
       "         15: 11,\n",
       "         72: 10,\n",
       "         25: 6,\n",
       "         11: 3,\n",
       "         24: 6,\n",
       "         9: 36,\n",
       "         85: 2,\n",
       "         48: 15,\n",
       "         1: 68,\n",
       "         16: 66,\n",
       "         43: 7,\n",
       "         13: 2,\n",
       "         3: 32,\n",
       "         34: 8,\n",
       "         40: 6,\n",
       "         69: 5,\n",
       "         20: 11,\n",
       "         127: 10,\n",
       "         119: 1,\n",
       "         113: 1,\n",
       "         12: 9,\n",
       "         35: 5,\n",
       "         37: 3,\n",
       "         96: 11,\n",
       "         109: 2,\n",
       "         116: 5,\n",
       "         5: 37,\n",
       "         63: 3,\n",
       "         41: 6,\n",
       "         111: 6,\n",
       "         66: 10,\n",
       "         99: 2,\n",
       "         27: 3,\n",
       "         10: 7,\n",
       "         54: 1,\n",
       "         80: 9,\n",
       "         38: 2,\n",
       "         30: 1,\n",
       "         56: 3,\n",
       "         26: 2,\n",
       "         112: 7,\n",
       "         105: 2,\n",
       "         71: 2,\n",
       "         93: 2,\n",
       "         122: 1,\n",
       "         125: 5,\n",
       "         94: 6,\n",
       "         47: 3,\n",
       "         31: 5,\n",
       "         117: 7,\n",
       "         91: 1,\n",
       "         50: 3,\n",
       "         76: 1,\n",
       "         45: 3,\n",
       "         68: 10,\n",
       "         84: 6,\n",
       "         60: 2,\n",
       "         6: 10,\n",
       "         67: 9,\n",
       "         7: 6,\n",
       "         83: 3,\n",
       "         104: 3,\n",
       "         79: 3,\n",
       "         17: 1,\n",
       "         62: 3,\n",
       "         106: 3,\n",
       "         82: 1,\n",
       "         92: 2,\n",
       "         86: 4,\n",
       "         14: 4,\n",
       "         53: 4,\n",
       "         114: 3,\n",
       "         59: 7,\n",
       "         28: 1,\n",
       "         97: 3,\n",
       "         81: 4,\n",
       "         89: 5,\n",
       "         21: 3,\n",
       "         49: 2,\n",
       "         36: 6,\n",
       "         123: 4,\n",
       "         98: 1,\n",
       "         124: 3,\n",
       "         121: 4,\n",
       "         46: 3,\n",
       "         101: 4,\n",
       "         77: 4,\n",
       "         74: 1,\n",
       "         42: 2,\n",
       "         115: 1,\n",
       "         118: 1,\n",
       "         95: 1,\n",
       "         73: 2,\n",
       "         57: 3,\n",
       "         102: 3,\n",
       "         61: 1,\n",
       "         126: 1,\n",
       "         70: 2,\n",
       "         23: 1,\n",
       "         39: 1,\n",
       "         110: 1,\n",
       "         103: 1,\n",
       "         58: 2,\n",
       "         55: 3,\n",
       "         120: 1,\n",
       "         44: 1,\n",
       "         19: 3,\n",
       "         33: 1,\n",
       "         29: 1})"
      ]
     },
     "execution_count": 27,
     "metadata": {},
     "output_type": "execute_result"
    }
   ],
   "source": [
    "simulator = cirq.Simulator()\n",
    "batch_size = 100\n",
    "params = cirq.ParamResolver(opt_params)\n",
    "\n",
    "sample_results = simulator.run(measure_qaoa, param_resolver=params, repetitions = num_reps)\n",
    "sample_results = sample_results.histogram(key='result')\n",
    "sample_results"
   ]
  },
  {
   "cell_type": "code",
   "execution_count": 28,
   "id": "a20c387f",
   "metadata": {},
   "outputs": [
    {
     "data": {
      "text/plain": [
       "-275.35416666666663"
      ]
     },
     "execution_count": 28,
     "metadata": {},
     "output_type": "execute_result"
    }
   ],
   "source": [
    "def cost(sample_results):\n",
    "    cost = 0\n",
    "\n",
    "    for k in sample_results:\n",
    "        bits = np.array(to_bin_array(k))\n",
    "\n",
    "        cost += sample_results[k] * bits @ Q @ bits\n",
    "    \n",
    "    return cost\n",
    "    \n",
    "cost(sample_results)\n"
   ]
  },
  {
   "cell_type": "code",
   "execution_count": 36,
   "id": "ac2ff469",
   "metadata": {},
   "outputs": [],
   "source": [
    "def sample_optimizer(param_dict, circuit, qubits, lr, batch_size = 100, epochs = 300):\n",
    "    \"\"\"param_dict: dictionary with parameters {γ_0: 0, β_0: 0, .... }\n",
    "       returns one step optimimized parameter dictionary\n",
    "    \"\"\"\n",
    "    # Creating the meassurement operator\n",
    "    \n",
    "    vals = []\n",
    "    # setting up some utilities\n",
    "    opt_cost = float('inf')\n",
    "    opt_param_dict = {}\n",
    "    simulator = cirq.Simulator() # initializing the simulator object\n",
    "    params = cirq.ParamResolver(param_dict)\n",
    "    \n",
    "    random_restart = 0\n",
    "    \n",
    "    \n",
    "    \n",
    "    for step in range(epochs):\n",
    "        \n",
    "        # get cost from samples\n",
    "        sample_results = simulator.run(circuit, param_resolver=param_dict, repetitions = batch_size)\n",
    "        sample_results = sample_results.histogram(key='result')\n",
    "        \n",
    "        base_cost = cost(sample_results)\n",
    "        vals.append(base_cost)\n",
    "        # whenever the energy is lower than previously detected, the best value and it's parameter will be stored\n",
    "        if base_cost < opt_cost: \n",
    "            opt_cost = base_cost\n",
    "            opt_param_dict = param_dict\n",
    "        \n",
    "        # Calculating the gradient numerically    \n",
    "        grad = np.zeros(len(param_dict))\n",
    "        j = 0\n",
    "        for i in param_dict:\n",
    "\n",
    "            param_dict[i] += 0.001\n",
    "            params = cirq.ParamResolver(param_dict)\n",
    "            eps_results = simulator.run(circuit, param_resolver=param_dict, repetitions = batch_size)\n",
    "            eps_results = eps_results.histogram(key='result')\n",
    "            param_dict[i] -= 0.001\n",
    "            eps = base_cost - cost(eps_results)\n",
    "            grad[j] = eps/0.001\n",
    "            j += 1\n",
    "\n",
    "        grad = grad * lr\n",
    "        \n",
    "        j = 0\n",
    "        for i in param_dict:\n",
    "            param_dict[i] += grad[j]\n",
    "            j +=1\n",
    "        \n",
    "        # the energy of the learned state = base state + gradient * learning rate\n",
    "        params = cirq.ParamResolver(param_dict) # new parameter after the gradient step \n",
    "        grad_results = simulator.run(circuit, param_resolver=param_dict, repetitions = batch_size)\n",
    "        grad_results = grad_results.histogram(key='result')\n",
    "        \n",
    "        # cost after grad step\n",
    "        grad_cost = cost(grad_results)\n",
    "               \n",
    "        if grad_cost < opt_cost:\n",
    "            opt_cost = grad_cost\n",
    "            opt_param_dict = param_dict\n",
    "        else: \n",
    "            random_restart +=1\n",
    "        \n",
    "        if random_restart == 3:\n",
    "            \n",
    "            random_restart = 0\n",
    "            param_dict[gamma[0]] = random.uniform(0, 5)\n",
    "            param_dict[beta[0]] = random.uniform(0, 2)\n",
    "            \n",
    "        if not step % 25:    \n",
    "            print(f\"Epoch {step+1}, Energy: {opt_cost}\")\n",
    "        \n",
    "        x = (range(len(vals)))\n",
    "    plt.plot(x,vals)\n",
    "    plt.show()    \n",
    "    return opt_param_dict, opt_cost\n"
   ]
  },
  {
   "cell_type": "code",
   "execution_count": 41,
   "id": "519de269",
   "metadata": {},
   "outputs": [
    {
     "name": "stdout",
     "output_type": "stream",
     "text": [
      "Epoch 1, Energy: -211.5208333333333\n",
      "Epoch 26, Energy: -476.45833333333326\n",
      "Epoch 51, Energy: -601.8750000000001\n",
      "Epoch 76, Energy: -601.8750000000001\n",
      "Epoch 101, Energy: -736.7500000000001\n",
      "Epoch 126, Energy: -736.7500000000001\n",
      "Epoch 151, Energy: -736.7500000000001\n",
      "Epoch 176, Energy: -736.7500000000001\n",
      "Epoch 201, Energy: -736.7500000000001\n",
      "Epoch 226, Energy: -736.7500000000001\n",
      "Epoch 251, Energy: -736.7500000000001\n",
      "Epoch 276, Energy: -736.7500000000001\n",
      "Epoch 301, Energy: -736.7500000000001\n",
      "Epoch 326, Energy: -736.7500000000001\n",
      "Epoch 351, Energy: -736.7500000000001\n",
      "Epoch 376, Energy: -736.7500000000001\n",
      "Epoch 401, Energy: -759.5833333333334\n",
      "Epoch 426, Energy: -759.5833333333334\n",
      "Epoch 451, Energy: -759.5833333333334\n",
      "Epoch 476, Energy: -759.5833333333334\n"
     ]
    },
    {
     "data": {
      "image/png": "[encoded data removed]",
      "text/plain": [
       "<Figure size 432x288 with 1 Axes>"
      ]
     },
     "metadata": {
      "needs_background": "light"
     },
     "output_type": "display_data"
    },
    {
     "data": {
      "text/plain": [
       "[({γ_0: -15932.16071111455, β_0: -6180.786995364602}, -759.5833333333334)]"
      ]
     },
     "execution_count": 41,
     "metadata": {},
     "output_type": "execute_result"
    }
   ],
   "source": [
    "samples_sol = []\n",
    "samples_sol.append(sample_optimizer(param_dict, measure_qaoa, qubits, lr = 0.1,  batch_size =1000, epochs = 500))\n",
    "samples_sol"
   ]
  },
  {
   "cell_type": "code",
   "execution_count": 42,
   "id": "7d72a73d",
   "metadata": {},
   "outputs": [
    {
     "name": "stdout",
     "output_type": "stream",
     "text": [
      "cirq.ParamResolver({sympy.Symbol('γ_0'): -15932.16071111455, sympy.Symbol('β_0'): -6180.786995364602})\n"
     ]
    },
    {
     "data": {
      "image/png": "[encoded data removed]",
      "text/plain": [
       "<Figure size 432x288 with 1 Axes>"
      ]
     },
     "metadata": {
      "needs_background": "light"
     },
     "output_type": "display_data"
    },
    {
     "data": {
      "text/plain": [
       "[(1, 53),\n",
       " (24, 41),\n",
       " (66, 32),\n",
       " (47, 30),\n",
       " (112, 29),\n",
       " (4, 27),\n",
       " (13, 26),\n",
       " (36, 25),\n",
       " (0, 24),\n",
       " (15, 24)]"
      ]
     },
     "execution_count": 42,
     "metadata": {},
     "output_type": "execute_result"
    }
   ],
   "source": [
    "opt_params = dict()\n",
    "opt_params = solutions[0][0]\n",
    "\n",
    "num_reps = 1000\n",
    "params = cirq.ParamResolver(opt_params)\n",
    "print(params)\n",
    "measure_result = simulator.run(measure_qaoa, param_resolver=params, repetitions = num_reps)\n",
    "cirq.plot_state_histogram(measure_result, plt.subplot())\n",
    "plt.show()\n",
    "counts = measure_result.histogram(key='result')\n",
    "solution = counts.most_common(10)\n",
    "solution"
   ]
  },
  {
   "cell_type": "code",
   "execution_count": 43,
   "id": "39871528",
   "metadata": {},
   "outputs": [
    {
     "name": "stdout",
     "output_type": "stream",
     "text": [
      "Most frequent measurment:  1\n"
     ]
    },
    {
     "data": {
      "text/plain": [
       "[{'1', '2', '3'}]"
      ]
     },
     "execution_count": 43,
     "metadata": {},
     "output_type": "execute_result"
    }
   ],
   "source": [
    "most_common = solution[0][0]\n",
    "print(\"Most frequent measurment: \", most_common)\n",
    "decode(to_bin_array(most_common), coalition_values)"
   ]
  },
  {
   "cell_type": "code",
   "execution_count": 51,
   "id": "f14f6732",
   "metadata": {},
   "outputs": [
    {
     "name": "stdout",
     "output_type": "stream",
     "text": [
      "36 -1.0062893081761006\n"
     ]
    },
    {
     "data": {
      "text/plain": [
       "[<matplotlib.lines.Line2D at 0x2b4833fef40>]"
      ]
     },
     "execution_count": 51,
     "metadata": {},
     "output_type": "execute_result"
    },
    {
     "data": {
      "image/png": "[encoded data removed]",
      "text/plain": [
       "<Figure size 432x288 with 1 Axes>"
      ]
     },
     "metadata": {
      "needs_background": "light"
     },
     "output_type": "display_data"
    }
   ],
   "source": [
    "op = float('inf')\n",
    "vals = []\n",
    "for i in range(128):\n",
    "    bits = np.array(to_bin_array(i))\n",
    "    cost = bits @ Q @ bits\n",
    "    vals.append(cost)\n",
    "    if cost < op:\n",
    "        op = cost\n",
    "        index = i\n",
    "\n",
    "print(index, op)\n",
    "\n",
    "x = range(len(vals))\n",
    "plt.plot(x,vals)"
   ]
  },
  {
   "cell_type": "code",
   "execution_count": 61,
   "id": "0bd6fb0e",
   "metadata": {},
   "outputs": [
    {
     "name": "stdout",
     "output_type": "stream",
     "text": [
      "36 -1.0006626905235254\n"
     ]
    },
    {
     "data": {
      "text/plain": [
       "[<matplotlib.lines.Line2D at 0x2b4831ed940>]"
      ]
     },
     "execution_count": 61,
     "metadata": {},
     "output_type": "execute_result"
    },
    {
     "data": {
      "image/png": "[encoded data removed]",
      "text/plain": [
       "<Figure size 432x288 with 1 Axes>"
      ]
     },
     "metadata": {
      "needs_background": "light"
     },
     "output_type": "display_data"
    }
   ],
   "source": [
    "op = float('inf')\n",
    "vals = []\n",
    "for i in range(128):\n",
    "    bits = np.array(to_bin_array(i))\n",
    "    cost = bits @ Q @ bits\n",
    "    vals.append(cost)\n",
    "    if cost < op:\n",
    "        op = cost\n",
    "        index = i\n",
    "\n",
    "print(index, op)\n",
    "\n",
    "x = range(len(vals))\n",
    "plt.plot(x,vals)"
   ]
  },
  {
   "cell_type": "code",
   "execution_count": null,
   "id": "c537a1c2",
   "metadata": {},
   "outputs": [],
   "source": []
  }
 ],
 "metadata": {
  "kernelspec": {
   "display_name": "Python 3",
   "language": "python",
   "name": "python3"
  },
  "language_info": {
   "codemirror_mode": {
    "name": "ipython",
    "version": 3
   },
   "file_extension": ".py",
   "mimetype": "text/x-python",
   "name": "python",
   "nbconvert_exporter": "python",
   "pygments_lexer": "ipython3",
   "version": "3.8.8"
  }
 },
 "nbformat": 4,
 "nbformat_minor": 5
}
