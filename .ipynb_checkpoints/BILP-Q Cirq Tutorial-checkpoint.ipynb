{
 "cells": [
  {
   "cell_type": "markdown",
   "id": "f13843f6",
   "metadata": {},
   "source": [
    "# This notebook implements the BILP-Q tutorial in Cirq"
   ]
  },
  {
   "cell_type": "code",
   "execution_count": 1,
   "id": "6a011582",
   "metadata": {},
   "outputs": [],
   "source": [
    "try:\n",
    "    import cirq\n",
    "except ImportError:\n",
    "    print(\"installing cirq...\")\n",
    "    !pip install --quiet cirq\n",
    "    print(\"installed cirq.\")\n",
    "    import cirq\n",
    "\n"
   ]
  },
  {
   "cell_type": "code",
   "execution_count": 2,
   "id": "89dbabed",
   "metadata": {},
   "outputs": [],
   "source": [
    "import cirq_google\n",
    "from Utils_CSG import *\n",
    "import sympy \n",
    "import numpy as np\n",
    "from typing import Sequence, Tuple\n",
    "from cirq.circuits import InsertStrategy\n",
    "from cirq.contrib.svg import SVGCircuit"
   ]
  },
  {
   "cell_type": "markdown",
   "id": "4a3b4b38",
   "metadata": {},
   "source": [
    "## Starting with the a given CSG\n",
    "Using the same steps as in the BILP-Q Qiskit tutorial to generate the Q-matrix"
   ]
  },
  {
   "cell_type": "code",
   "execution_count": 3,
   "id": "6d74dd2b",
   "metadata": {},
   "outputs": [
    {
     "data": {
      "text/plain": [
       "{'1': 30, '2': 40, '3': 25, '1,2': 70, '1,3': 60, '2,3': 65, '1,2,3': 90}"
      ]
     },
     "execution_count": 3,
     "metadata": {},
     "output_type": "execute_result"
    }
   ],
   "source": [
    "coalition_values={\n",
    "    '1':30,\n",
    "    '2':40,\n",
    "    '3':25,\n",
    "    '1,2':70,\n",
    "    '1,3':60,\n",
    "    '2,3':65,\n",
    "    '1,2,3':90\n",
    "}\n",
    "coalition_values"
   ]
  },
  {
   "cell_type": "code",
   "execution_count": 4,
   "id": "2c2b4141",
   "metadata": {
    "scrolled": true
   },
   "outputs": [
    {
     "name": "stdout",
     "output_type": "stream",
     "text": [
      "c = [30, 40, 25, 70, 60, 65, 90]\n",
      "S = [[1, 0, 0, 1, 1, 0, 1], [0, 1, 0, 1, 0, 1, 1], [0, 0, 1, 0, 1, 1, 1]]\n",
      "b = [1, 1, 1]\n"
     ]
    }
   ],
   "source": [
    "c,S,b = convert_to_BILP(coalition_values)       # A function in Utils_CSG.py\n",
    "print(f'c = {c}\\nS = {S}\\nb = {b}')"
   ]
  },
  {
   "cell_type": "code",
   "execution_count": 5,
   "id": "f01cfd52",
   "metadata": {},
   "outputs": [
    {
     "name": "stdout",
     "output_type": "stream",
     "text": [
      "Linear Coefficients = {'x_6': -240.0, 'x_3': -170.0, 'x_4': -160.0, 'x_5': -165.0, 'x_0': -80.0, 'x_1': -90.0, 'x_2': -75.0} \n",
      " Quadratic Coefficients = {('x_3', 'x_6'): 200.0, ('x_4', 'x_6'): 200.0, ('x_5', 'x_6'): 200.0, ('x_0', 'x_3'): 100.0, ('x_0', 'x_4'): 100.0, ('x_0', 'x_6'): 100.0, ('x_1', 'x_3'): 100.0, ('x_1', 'x_5'): 100.0, ('x_1', 'x_6'): 100.0, ('x_2', 'x_4'): 100.0, ('x_2', 'x_5'): 100.0, ('x_2', 'x_6'): 100.0, ('x_3', 'x_4'): 100.0, ('x_3', 'x_5'): 100.0, ('x_4', 'x_5'): 100.0}\n"
     ]
    }
   ],
   "source": [
    "qubo_penalty = 50 * -1\n",
    "\n",
    "linear,quadratic = get_QUBO_coeffs(c,S,b,qubo_penalty)        # A function in Utils_CSG.py\n",
    "\n",
    "print(f\"Linear Coefficients = {linear} \\n Quadratic Coefficients = {quadratic}\")"
   ]
  },
  {
   "cell_type": "code",
   "execution_count": 6,
   "id": "9ef99dde",
   "metadata": {
    "scrolled": false
   },
   "outputs": [
    {
     "data": {
      "text/plain": [
       "array([[ -80.,    0.,    0.,   50.,   50.,    0.,   50.],\n",
       "       [   0.,  -90.,    0.,   50.,    0.,   50.,   50.],\n",
       "       [   0.,    0.,  -75.,    0.,   50.,   50.,   50.],\n",
       "       [  50.,   50.,    0., -170.,   50.,   50.,  100.],\n",
       "       [  50.,    0.,   50.,   50., -160.,   50.,  100.],\n",
       "       [   0.,   50.,   50.,   50.,   50., -165.,  100.],\n",
       "       [  50.,   50.,   50.,  100.,  100.,  100., -240.]])"
      ]
     },
     "execution_count": 6,
     "metadata": {},
     "output_type": "execute_result"
    }
   ],
   "source": [
    "Q = np.zeros([len(linear),len(linear)])\n",
    "\n",
    "#diagonal elements\n",
    "for key,value in linear.items():\n",
    "    Q[int(key.split('_')[1]),int(key.split('_')[1])] = value\n",
    "\n",
    "#non diagonal elements\n",
    "for key,value in quadratic.items():\n",
    "    Q[int(key[0].split('_')[1]),int(key[1].split('_')[1])] = value/2\n",
    "    Q[int(key[1].split('_')[1]),int(key[0].split('_')[1])] = value/2\n",
    "\n",
    "Q.round(1)"
   ]
  },
  {
   "cell_type": "markdown",
   "id": "05cdb565",
   "metadata": {},
   "source": [
    "## Initializing the circuit\n",
    "\n",
    "There are many other ways to create circuts. Worth mentioning is that cirq can also create grid-circuits and check, whether all two-qubits gates are only applied to adjacent qubits. This can be usefull when implementing for real quantum devices (D-Wave part)."
   ]
  },
  {
   "cell_type": "code",
   "execution_count": 34,
   "id": "f5f6dad8",
   "metadata": {},
   "outputs": [
    {
     "name": "stdout",
     "output_type": "stream",
     "text": [
      "0: ───H───\n",
      "\n",
      "1: ───H───\n",
      "\n",
      "2: ───H───\n",
      "\n",
      "3: ───H───\n",
      "\n",
      "4: ───H───\n",
      "\n",
      "5: ───H───\n",
      "\n",
      "6: ───H───\n"
     ]
    }
   ],
   "source": [
    "problem_size = len(c) # number of possible coalitions -1 = number of qubits needed\n",
    "\n",
    "qaoa = cirq.Circuit()\n",
    "qubits = cirq.LineQubit.range(problem_size)\n",
    "\n",
    "qaoa.append(cirq.H(q) for q in qubits)\n",
    "print(qaoa)\n",
    "\n"
   ]
  },
  {
   "cell_type": "markdown",
   "id": "2b7b1d94",
   "metadata": {},
   "source": [
    "## Setting the depth of QAOA and introducing parameters\n",
    "Cirq uses its own class of symbols as variables."
   ]
  },
  {
   "cell_type": "code",
   "execution_count": 35,
   "id": "3dc3961d",
   "metadata": {},
   "outputs": [
    {
     "name": "stdout",
     "output_type": "stream",
     "text": [
      "[β_0] [γ_0]\n"
     ]
    }
   ],
   "source": [
    "p = 1 # number of layers\n",
    "\n",
    "beta = [sympy.Symbol(\"β_\"+str(i)) for i in range(p)]\n",
    "gamma = [sympy.Symbol(\"γ_\"+str(i)) for i in range(p)]\n",
    "print(beta, gamma)\n",
    "    "
   ]
  },
  {
   "cell_type": "markdown",
   "id": "fc2a57d4",
   "metadata": {},
   "source": [
    "## Creating cost and mixer layers"
   ]
  },
  {
   "cell_type": "code",
   "execution_count": 36,
   "id": "f805a5da",
   "metadata": {},
   "outputs": [],
   "source": [
    "# the mixer layer should just be a list of X rotation gates with parameter beta on each qubit\n",
    "\n",
    "def mixer(circuit, beta_value: float):\n",
    "    \"\"\"Adds a mixer layer to curcuit with parameter beta_value\"\"\"\n",
    "    \n",
    "    n_qubits = len(circuit.get_independent_qubit_sets())\n",
    "    circuit\n",
    "    circuit.append([cirq.X(q) ** beta_value for q in qubits],  strategy=InsertStrategy.NEW_THEN_INLINE)\n",
    "    return circuit"
   ]
  },
  {
   "cell_type": "code",
   "execution_count": 37,
   "id": "3e539ec1",
   "metadata": {},
   "outputs": [],
   "source": [
    "def cost(circuit:cirq.circuits.circuit.Circuit, gamma_value:float, Q:np.ndarray) -> cirq.circuits.circuit.Circuit:\n",
    "    \"\"\"Adds the cost layer defined by QUBO matrix Q to circuit with the parameter gamma_value\"\"\"\n",
    "    \n",
    "    nrow = np. size(Q, 0)\n",
    "    ncol = np. size(Q, 1)\n",
    "    \n",
    "    for row in range(nrow):\n",
    "        for col in range(row, ncol):\n",
    "            \n",
    "            #for better readability the linear gates will be applied later\n",
    "            if row == col:\n",
    "                lin = Q[row,col]\n",
    "                continue \n",
    "            if Q[row,col] != 0:\n",
    "                circuit.append(cirq.ZZ(qubits[row],qubits[col]) ** (gamma_value * Q[row,col]))\n",
    "        # the single qubit z gate for linear terms after all quadratic interaction for this quibit    \n",
    "        if lin != 0:\n",
    "            circuit.append(cirq.Z(qubits[row]) ** (gamma_value * lin))\n",
    "                  \n",
    "    return circuit"
   ]
  },
  {
   "cell_type": "code",
   "execution_count": 38,
   "id": "0c6cb0d9",
   "metadata": {},
   "outputs": [],
   "source": [
    "# simple test cost layer, where only adjacent qubits are connected\n",
    "\n",
    "\n",
    "def cost_test(circuit, gamma_value:float):\n",
    "    \n",
    "    for i in range(problem_size - 1):\n",
    "        circuit.append(cirq.ZZ(qubits[i],qubits[i+1]) ** (gamma_value))\n",
    "    \n",
    "    return circuit"
   ]
  },
  {
   "cell_type": "markdown",
   "id": "a77432ae",
   "metadata": {},
   "source": [
    "## Creating the circuit\n",
    "Note: the functions still change the circuit in-place"
   ]
  },
  {
   "cell_type": "code",
   "execution_count": 39,
   "id": "0e601e07",
   "metadata": {},
   "outputs": [],
   "source": [
    "\n",
    "for i in range(1):\n",
    "    \n",
    "    cost(qaoa, gamma[i], Q)\n",
    "    \n",
    "    mixer(qaoa, beta[i])\n",
    "    \n"
   ]
  },
  {
   "cell_type": "code",
   "execution_count": 40,
   "id": "0f92f4e7",
   "metadata": {},
   "outputs": [],
   "source": [
    "qaoa.append(cirq.measure(qubits, key = 'result'))"
   ]
  },
  {
   "cell_type": "code",
   "execution_count": 41,
   "id": "0c870770",
   "metadata": {},
   "outputs": [
    {
     "data": {
      "image/svg+xml": [
       "<svg xmlns=\"http://www.w3.org/2000/svg\" width=\"2094.2419531250007\" height=\"390.0\"><line x1=\"30.0\" x2=\"2064.2419531250007\" y1=\"45.0\" y2=\"45.0\" stroke=\"#1967d2\" stroke-width=\"1\" /><line x1=\"30.0\" x2=\"2064.2419531250007\" y1=\"95.0\" y2=\"95.0\" stroke=\"#1967d2\" stroke-width=\"1\" /><line x1=\"30.0\" x2=\"2064.2419531250007\" y1=\"145.0\" y2=\"145.0\" stroke=\"#1967d2\" stroke-width=\"1\" /><line x1=\"30.0\" x2=\"2064.2419531250007\" y1=\"195.0\" y2=\"195.0\" stroke=\"#1967d2\" stroke-width=\"1\" /><line x1=\"30.0\" x2=\"2064.2419531250007\" y1=\"245.0\" y2=\"245.0\" stroke=\"#1967d2\" stroke-width=\"1\" /><line x1=\"30.0\" x2=\"2064.2419531250007\" y1=\"295.0\" y2=\"295.0\" stroke=\"#1967d2\" stroke-width=\"1\" /><line x1=\"30.0\" x2=\"2064.2419531250007\" y1=\"345.0\" y2=\"345.0\" stroke=\"#1967d2\" stroke-width=\"1\" /><line x1=\"1292.2774218750003\" x2=\"1505.0230859375004\" y1=\"5.0\" y2=\"5.0\" stroke=\"black\" stroke-width=\"1\" /><line x1=\"1292.2774218750003\" x2=\"1505.0230859375004\" y1=\"385.0\" y2=\"385.0\" stroke=\"black\" stroke-width=\"1\" /><line x1=\"1077.3178906250002\" x2=\"1282.2774218750003\" y1=\"5.0\" y2=\"5.0\" stroke=\"black\" stroke-width=\"1\" /><line x1=\"1077.3178906250002\" x2=\"1282.2774218750003\" y1=\"385.0\" y2=\"385.0\" stroke=\"black\" stroke-width=\"1\" /><line x1=\"764.8785937500002\" x2=\"1067.3178906250002\" y1=\"5.0\" y2=\"5.0\" stroke=\"black\" stroke-width=\"1\" /><line x1=\"764.8785937500002\" x2=\"1067.3178906250002\" y1=\"385.0\" y2=\"385.0\" stroke=\"black\" stroke-width=\"1\" /><line x1=\"452.4392968750001\" x2=\"754.8785937500002\" y1=\"5.0\" y2=\"5.0\" stroke=\"black\" stroke-width=\"1\" /><line x1=\"452.4392968750001\" x2=\"754.8785937500002\" y1=\"385.0\" y2=\"385.0\" stroke=\"black\" stroke-width=\"1\" /><line x1=\"237.47976562500003\" x2=\"442.4392968750001\" y1=\"5.0\" y2=\"5.0\" stroke=\"black\" stroke-width=\"1\" /><line x1=\"237.47976562500003\" x2=\"442.4392968750001\" y1=\"385.0\" y2=\"385.0\" stroke=\"black\" stroke-width=\"1\" /><line x1=\"178.7398828125\" x2=\"178.7398828125\" y1=\"45.0\" y2=\"195.0\" stroke=\"black\" stroke-width=\"3\" /><line x1=\"286.21964843750004\" x2=\"286.21964843750004\" y1=\"45.0\" y2=\"245.0\" stroke=\"black\" stroke-width=\"3\" /><line x1=\"383.69941406250007\" x2=\"383.69941406250007\" y1=\"95.0\" y2=\"195.0\" stroke=\"black\" stroke-width=\"3\" /><line x1=\"501.1791796875001\" x2=\"501.1791796875001\" y1=\"45.0\" y2=\"345.0\" stroke=\"black\" stroke-width=\"3\" /><line x1=\"598.6589453125001\" x2=\"598.6589453125001\" y1=\"95.0\" y2=\"295.0\" stroke=\"black\" stroke-width=\"3\" /><line x1=\"696.1387109375002\" x2=\"696.1387109375002\" y1=\"145.0\" y2=\"245.0\" stroke=\"black\" stroke-width=\"3\" /><line x1=\"813.6184765625002\" x2=\"813.6184765625002\" y1=\"95.0\" y2=\"345.0\" stroke=\"black\" stroke-width=\"3\" /><line x1=\"911.0982421875002\" x2=\"911.0982421875002\" y1=\"145.0\" y2=\"295.0\" stroke=\"black\" stroke-width=\"3\" /><line x1=\"1008.5780078125002\" x2=\"1008.5780078125002\" y1=\"195.0\" y2=\"245.0\" stroke=\"black\" stroke-width=\"3\" /><line x1=\"1126.0577734375001\" x2=\"1126.0577734375001\" y1=\"145.0\" y2=\"345.0\" stroke=\"black\" stroke-width=\"3\" /><line x1=\"1223.5375390625002\" x2=\"1223.5375390625002\" y1=\"195.0\" y2=\"295.0\" stroke=\"black\" stroke-width=\"3\" /><line x1=\"1344.9103710937502\" x2=\"1344.9103710937502\" y1=\"195.0\" y2=\"345.0\" stroke=\"black\" stroke-width=\"3\" /><line x1=\"1446.2832031250002\" x2=\"1446.2832031250002\" y1=\"245.0\" y2=\"295.0\" stroke=\"black\" stroke-width=\"3\" /><line x1=\"1577.6560351562503\" x2=\"1577.6560351562503\" y1=\"245.0\" y2=\"345.0\" stroke=\"black\" stroke-width=\"3\" /><line x1=\"1702.9219335937503\" x2=\"1702.9219335937503\" y1=\"295.0\" y2=\"345.0\" stroke=\"black\" stroke-width=\"3\" /><line x1=\"2009.7312109375005\" x2=\"2009.7312109375005\" y1=\"45.0\" y2=\"345.0\" stroke=\"black\" stroke-width=\"3\" /><line x1=\"1292.2774218750003\" x2=\"1292.2774218750003\" y1=\"5.0\" y2=\"15.0\" stroke=\"black\" stroke-width=\"3\" /><line x1=\"1505.0230859375004\" x2=\"1505.0230859375004\" y1=\"5.0\" y2=\"15.0\" stroke=\"black\" stroke-width=\"3\" /><line x1=\"1292.2774218750003\" x2=\"1292.2774218750003\" y1=\"375.0\" y2=\"385.0\" stroke=\"black\" stroke-width=\"3\" /><line x1=\"1505.0230859375004\" x2=\"1505.0230859375004\" y1=\"375.0\" y2=\"385.0\" stroke=\"black\" stroke-width=\"3\" /><line x1=\"1077.3178906250002\" x2=\"1077.3178906250002\" y1=\"5.0\" y2=\"15.0\" stroke=\"black\" stroke-width=\"3\" /><line x1=\"1282.2774218750003\" x2=\"1282.2774218750003\" y1=\"5.0\" y2=\"15.0\" stroke=\"black\" stroke-width=\"3\" /><line x1=\"1077.3178906250002\" x2=\"1077.3178906250002\" y1=\"375.0\" y2=\"385.0\" stroke=\"black\" stroke-width=\"3\" /><line x1=\"1282.2774218750003\" x2=\"1282.2774218750003\" y1=\"375.0\" y2=\"385.0\" stroke=\"black\" stroke-width=\"3\" /><line x1=\"764.8785937500002\" x2=\"764.8785937500002\" y1=\"5.0\" y2=\"15.0\" stroke=\"black\" stroke-width=\"3\" /><line x1=\"1067.3178906250002\" x2=\"1067.3178906250002\" y1=\"5.0\" y2=\"15.0\" stroke=\"black\" stroke-width=\"3\" /><line x1=\"764.8785937500002\" x2=\"764.8785937500002\" y1=\"375.0\" y2=\"385.0\" stroke=\"black\" stroke-width=\"3\" /><line x1=\"1067.3178906250002\" x2=\"1067.3178906250002\" y1=\"375.0\" y2=\"385.0\" stroke=\"black\" stroke-width=\"3\" /><line x1=\"452.4392968750001\" x2=\"452.4392968750001\" y1=\"5.0\" y2=\"15.0\" stroke=\"black\" stroke-width=\"3\" /><line x1=\"754.8785937500002\" x2=\"754.8785937500002\" y1=\"5.0\" y2=\"15.0\" stroke=\"black\" stroke-width=\"3\" /><line x1=\"452.4392968750001\" x2=\"452.4392968750001\" y1=\"375.0\" y2=\"385.0\" stroke=\"black\" stroke-width=\"3\" /><line x1=\"754.8785937500002\" x2=\"754.8785937500002\" y1=\"375.0\" y2=\"385.0\" stroke=\"black\" stroke-width=\"3\" /><line x1=\"237.47976562500003\" x2=\"237.47976562500003\" y1=\"5.0\" y2=\"15.0\" stroke=\"black\" stroke-width=\"3\" /><line x1=\"442.4392968750001\" x2=\"442.4392968750001\" y1=\"5.0\" y2=\"15.0\" stroke=\"black\" stroke-width=\"3\" /><line x1=\"237.47976562500003\" x2=\"237.47976562500003\" y1=\"375.0\" y2=\"385.0\" stroke=\"black\" stroke-width=\"3\" /><line x1=\"442.4392968750001\" x2=\"442.4392968750001\" y1=\"375.0\" y2=\"385.0\" stroke=\"black\" stroke-width=\"3\" /><rect x=\"10.0\" y=\"25.0\" width=\"40\" height=\"40\" stroke=\"black\" fill=\"white\" stroke-width=\"0\" /><text x=\"30.0\" y=\"45.0\" dominant-baseline=\"middle\" text-anchor=\"middle\" font-size=\"14px\" font-family=\"Arial\">0: </text><rect x=\"10.0\" y=\"75.0\" width=\"40\" height=\"40\" stroke=\"black\" fill=\"white\" stroke-width=\"0\" /><text x=\"30.0\" y=\"95.0\" dominant-baseline=\"middle\" text-anchor=\"middle\" font-size=\"14px\" font-family=\"Arial\">1: </text><rect x=\"10.0\" y=\"125.0\" width=\"40\" height=\"40\" stroke=\"black\" fill=\"white\" stroke-width=\"0\" /><text x=\"30.0\" y=\"145.0\" dominant-baseline=\"middle\" text-anchor=\"middle\" font-size=\"14px\" font-family=\"Arial\">2: </text><rect x=\"10.0\" y=\"175.0\" width=\"40\" height=\"40\" stroke=\"black\" fill=\"white\" stroke-width=\"0\" /><text x=\"30.0\" y=\"195.0\" dominant-baseline=\"middle\" text-anchor=\"middle\" font-size=\"14px\" font-family=\"Arial\">3: </text><rect x=\"10.0\" y=\"225.0\" width=\"40\" height=\"40\" stroke=\"black\" fill=\"white\" stroke-width=\"0\" /><text x=\"30.0\" y=\"245.0\" dominant-baseline=\"middle\" text-anchor=\"middle\" font-size=\"14px\" font-family=\"Arial\">4: </text><rect x=\"10.0\" y=\"275.0\" width=\"40\" height=\"40\" stroke=\"black\" fill=\"white\" stroke-width=\"0\" /><text x=\"30.0\" y=\"295.0\" dominant-baseline=\"middle\" text-anchor=\"middle\" font-size=\"14px\" font-family=\"Arial\">5: </text><rect x=\"10.0\" y=\"325.0\" width=\"40\" height=\"40\" stroke=\"black\" fill=\"white\" stroke-width=\"0\" /><text x=\"30.0\" y=\"345.0\" dominant-baseline=\"middle\" text-anchor=\"middle\" font-size=\"14px\" font-family=\"Arial\">6: </text><rect x=\"70.0\" y=\"25.0\" width=\"40\" height=\"40\" stroke=\"black\" fill=\"white\" stroke-width=\"1\" /><text x=\"90.0\" y=\"45.0\" dominant-baseline=\"middle\" text-anchor=\"middle\" font-size=\"18px\" font-family=\"Arial\">H</text><rect x=\"70.0\" y=\"75.0\" width=\"40\" height=\"40\" stroke=\"black\" fill=\"white\" stroke-width=\"1\" /><text x=\"90.0\" y=\"95.0\" dominant-baseline=\"middle\" text-anchor=\"middle\" font-size=\"18px\" font-family=\"Arial\">H</text><rect x=\"70.0\" y=\"125.0\" width=\"40\" height=\"40\" stroke=\"black\" fill=\"white\" stroke-width=\"1\" /><text x=\"90.0\" y=\"145.0\" dominant-baseline=\"middle\" text-anchor=\"middle\" font-size=\"18px\" font-family=\"Arial\">H</text><rect x=\"70.0\" y=\"175.0\" width=\"40\" height=\"40\" stroke=\"black\" fill=\"white\" stroke-width=\"1\" /><text x=\"90.0\" y=\"195.0\" dominant-baseline=\"middle\" text-anchor=\"middle\" font-size=\"18px\" font-family=\"Arial\">H</text><rect x=\"70.0\" y=\"225.0\" width=\"40\" height=\"40\" stroke=\"black\" fill=\"white\" stroke-width=\"1\" /><text x=\"90.0\" y=\"245.0\" dominant-baseline=\"middle\" text-anchor=\"middle\" font-size=\"18px\" font-family=\"Arial\">H</text><rect x=\"70.0\" y=\"275.0\" width=\"40\" height=\"40\" stroke=\"black\" fill=\"white\" stroke-width=\"1\" /><text x=\"90.0\" y=\"295.0\" dominant-baseline=\"middle\" text-anchor=\"middle\" font-size=\"18px\" font-family=\"Arial\">H</text><rect x=\"70.0\" y=\"325.0\" width=\"40\" height=\"40\" stroke=\"black\" fill=\"white\" stroke-width=\"1\" /><text x=\"90.0\" y=\"345.0\" dominant-baseline=\"middle\" text-anchor=\"middle\" font-size=\"18px\" font-family=\"Arial\">H</text><rect x=\"130.0\" y=\"25.0\" width=\"97.47976562500001\" height=\"40\" stroke=\"black\" fill=\"white\" stroke-width=\"1\" /><text x=\"178.7398828125\" y=\"45.0\" dominant-baseline=\"middle\" text-anchor=\"middle\" font-size=\"14px\" font-family=\"Arial\">ZZ</text><rect x=\"130.0\" y=\"175.0\" width=\"97.47976562500001\" height=\"40\" stroke=\"black\" fill=\"white\" stroke-width=\"1\" /><text x=\"178.7398828125\" y=\"195.0\" dominant-baseline=\"middle\" text-anchor=\"middle\" font-size=\"14px\" font-family=\"Arial\">ZZ^(50.0*γ_0)</text><rect x=\"237.47976562500003\" y=\"25.0\" width=\"97.47976562500001\" height=\"40\" stroke=\"black\" fill=\"white\" stroke-width=\"1\" /><text x=\"286.21964843750004\" y=\"45.0\" dominant-baseline=\"middle\" text-anchor=\"middle\" font-size=\"14px\" font-family=\"Arial\">ZZ</text><rect x=\"237.47976562500003\" y=\"225.0\" width=\"97.47976562500001\" height=\"40\" stroke=\"black\" fill=\"white\" stroke-width=\"1\" /><text x=\"286.21964843750004\" y=\"245.0\" dominant-baseline=\"middle\" text-anchor=\"middle\" font-size=\"14px\" font-family=\"Arial\">ZZ^(50.0*γ_0)</text><rect x=\"334.95953125000005\" y=\"75.0\" width=\"97.47976562500001\" height=\"40\" stroke=\"black\" fill=\"white\" stroke-width=\"1\" /><text x=\"383.69941406250007\" y=\"95.0\" dominant-baseline=\"middle\" text-anchor=\"middle\" font-size=\"14px\" font-family=\"Arial\">ZZ</text><rect x=\"334.95953125000005\" y=\"175.0\" width=\"97.47976562500001\" height=\"40\" stroke=\"black\" fill=\"white\" stroke-width=\"1\" /><text x=\"383.69941406250007\" y=\"195.0\" dominant-baseline=\"middle\" text-anchor=\"middle\" font-size=\"14px\" font-family=\"Arial\">ZZ^(50.0*γ_0)</text><rect x=\"452.4392968750001\" y=\"25.0\" width=\"97.47976562500001\" height=\"40\" stroke=\"black\" fill=\"white\" stroke-width=\"1\" /><text x=\"501.1791796875001\" y=\"45.0\" dominant-baseline=\"middle\" text-anchor=\"middle\" font-size=\"14px\" font-family=\"Arial\">ZZ</text><rect x=\"452.4392968750001\" y=\"325.0\" width=\"97.47976562500001\" height=\"40\" stroke=\"black\" fill=\"white\" stroke-width=\"1\" /><text x=\"501.1791796875001\" y=\"345.0\" dominant-baseline=\"middle\" text-anchor=\"middle\" font-size=\"14px\" font-family=\"Arial\">ZZ^(50.0*γ_0)</text><rect x=\"549.9190625000001\" y=\"75.0\" width=\"97.47976562500001\" height=\"40\" stroke=\"black\" fill=\"white\" stroke-width=\"1\" /><text x=\"598.6589453125001\" y=\"95.0\" dominant-baseline=\"middle\" text-anchor=\"middle\" font-size=\"14px\" font-family=\"Arial\">ZZ</text><rect x=\"549.9190625000001\" y=\"275.0\" width=\"97.47976562500001\" height=\"40\" stroke=\"black\" fill=\"white\" stroke-width=\"1\" /><text x=\"598.6589453125001\" y=\"295.0\" dominant-baseline=\"middle\" text-anchor=\"middle\" font-size=\"14px\" font-family=\"Arial\">ZZ^(50.0*γ_0)</text><rect x=\"647.3988281250001\" y=\"125.0\" width=\"97.47976562500001\" height=\"40\" stroke=\"black\" fill=\"white\" stroke-width=\"1\" /><text x=\"696.1387109375002\" y=\"145.0\" dominant-baseline=\"middle\" text-anchor=\"middle\" font-size=\"14px\" font-family=\"Arial\">ZZ</text><rect x=\"647.3988281250001\" y=\"225.0\" width=\"97.47976562500001\" height=\"40\" stroke=\"black\" fill=\"white\" stroke-width=\"1\" /><text x=\"696.1387109375002\" y=\"245.0\" dominant-baseline=\"middle\" text-anchor=\"middle\" font-size=\"14px\" font-family=\"Arial\">ZZ^(50.0*γ_0)</text><rect x=\"764.8785937500002\" y=\"25.0\" width=\"97.47976562500001\" height=\"40\" stroke=\"black\" fill=\"white\" stroke-width=\"1\" /><text x=\"813.6184765625002\" y=\"45.0\" dominant-baseline=\"middle\" text-anchor=\"middle\" font-size=\"14px\" font-family=\"Arial\">Z^(-80.0*γ_0)</text><rect x=\"764.8785937500002\" y=\"75.0\" width=\"97.47976562500001\" height=\"40\" stroke=\"black\" fill=\"white\" stroke-width=\"1\" /><text x=\"813.6184765625002\" y=\"95.0\" dominant-baseline=\"middle\" text-anchor=\"middle\" font-size=\"14px\" font-family=\"Arial\">ZZ</text><rect x=\"764.8785937500002\" y=\"325.0\" width=\"97.47976562500001\" height=\"40\" stroke=\"black\" fill=\"white\" stroke-width=\"1\" /><text x=\"813.6184765625002\" y=\"345.0\" dominant-baseline=\"middle\" text-anchor=\"middle\" font-size=\"14px\" font-family=\"Arial\">ZZ^(50.0*γ_0)</text><rect x=\"862.3583593750002\" y=\"125.0\" width=\"97.47976562500001\" height=\"40\" stroke=\"black\" fill=\"white\" stroke-width=\"1\" /><text x=\"911.0982421875002\" y=\"145.0\" dominant-baseline=\"middle\" text-anchor=\"middle\" font-size=\"14px\" font-family=\"Arial\">ZZ</text><rect x=\"862.3583593750002\" y=\"275.0\" width=\"97.47976562500001\" height=\"40\" stroke=\"black\" fill=\"white\" stroke-width=\"1\" /><text x=\"911.0982421875002\" y=\"295.0\" dominant-baseline=\"middle\" text-anchor=\"middle\" font-size=\"14px\" font-family=\"Arial\">ZZ^(50.0*γ_0)</text><rect x=\"959.8381250000002\" y=\"175.0\" width=\"97.47976562500001\" height=\"40\" stroke=\"black\" fill=\"white\" stroke-width=\"1\" /><text x=\"1008.5780078125002\" y=\"195.0\" dominant-baseline=\"middle\" text-anchor=\"middle\" font-size=\"14px\" font-family=\"Arial\">ZZ</text><rect x=\"959.8381250000002\" y=\"225.0\" width=\"97.47976562500001\" height=\"40\" stroke=\"black\" fill=\"white\" stroke-width=\"1\" /><text x=\"1008.5780078125002\" y=\"245.0\" dominant-baseline=\"middle\" text-anchor=\"middle\" font-size=\"14px\" font-family=\"Arial\">ZZ^(50.0*γ_0)</text><rect x=\"1077.3178906250002\" y=\"75.0\" width=\"97.47976562500001\" height=\"40\" stroke=\"black\" fill=\"white\" stroke-width=\"1\" /><text x=\"1126.0577734375001\" y=\"95.0\" dominant-baseline=\"middle\" text-anchor=\"middle\" font-size=\"14px\" font-family=\"Arial\">Z^(-90.0*γ_0)</text><rect x=\"1077.3178906250002\" y=\"125.0\" width=\"97.47976562500001\" height=\"40\" stroke=\"black\" fill=\"white\" stroke-width=\"1\" /><text x=\"1126.0577734375001\" y=\"145.0\" dominant-baseline=\"middle\" text-anchor=\"middle\" font-size=\"14px\" font-family=\"Arial\">ZZ</text><rect x=\"1077.3178906250002\" y=\"325.0\" width=\"97.47976562500001\" height=\"40\" stroke=\"black\" fill=\"white\" stroke-width=\"1\" /><text x=\"1126.0577734375001\" y=\"345.0\" dominant-baseline=\"middle\" text-anchor=\"middle\" font-size=\"14px\" font-family=\"Arial\">ZZ^(50.0*γ_0)</text><rect x=\"1174.7976562500003\" y=\"175.0\" width=\"97.47976562500001\" height=\"40\" stroke=\"black\" fill=\"white\" stroke-width=\"1\" /><text x=\"1223.5375390625002\" y=\"195.0\" dominant-baseline=\"middle\" text-anchor=\"middle\" font-size=\"14px\" font-family=\"Arial\">ZZ</text><rect x=\"1174.7976562500003\" y=\"275.0\" width=\"97.47976562500001\" height=\"40\" stroke=\"black\" fill=\"white\" stroke-width=\"1\" /><text x=\"1223.5375390625002\" y=\"295.0\" dominant-baseline=\"middle\" text-anchor=\"middle\" font-size=\"14px\" font-family=\"Arial\">ZZ^(50.0*γ_0)</text><rect x=\"1292.2774218750003\" y=\"125.0\" width=\"105.26589843750001\" height=\"40\" stroke=\"black\" fill=\"white\" stroke-width=\"1\" /><text x=\"1344.9103710937502\" y=\"145.0\" dominant-baseline=\"middle\" text-anchor=\"middle\" font-size=\"14px\" font-family=\"Arial\">Z^(-75.0*γ_0)</text><rect x=\"1292.2774218750003\" y=\"175.0\" width=\"105.26589843750001\" height=\"40\" stroke=\"black\" fill=\"white\" stroke-width=\"1\" /><text x=\"1344.9103710937502\" y=\"195.0\" dominant-baseline=\"middle\" text-anchor=\"middle\" font-size=\"14px\" font-family=\"Arial\">ZZ</text><rect x=\"1292.2774218750003\" y=\"325.0\" width=\"105.26589843750001\" height=\"40\" stroke=\"black\" fill=\"white\" stroke-width=\"1\" /><text x=\"1344.9103710937502\" y=\"345.0\" dominant-baseline=\"middle\" text-anchor=\"middle\" font-size=\"14px\" font-family=\"Arial\">ZZ^(100.0*γ_0)</text><rect x=\"1397.5433203125003\" y=\"225.0\" width=\"97.47976562500001\" height=\"40\" stroke=\"black\" fill=\"white\" stroke-width=\"1\" /><text x=\"1446.2832031250002\" y=\"245.0\" dominant-baseline=\"middle\" text-anchor=\"middle\" font-size=\"14px\" font-family=\"Arial\">ZZ</text><rect x=\"1397.5433203125003\" y=\"275.0\" width=\"97.47976562500001\" height=\"40\" stroke=\"black\" fill=\"white\" stroke-width=\"1\" /><text x=\"1446.2832031250002\" y=\"295.0\" dominant-baseline=\"middle\" text-anchor=\"middle\" font-size=\"14px\" font-family=\"Arial\">ZZ^(50.0*γ_0)</text><rect x=\"1525.0230859375004\" y=\"175.0\" width=\"105.26589843750001\" height=\"40\" stroke=\"black\" fill=\"white\" stroke-width=\"1\" /><text x=\"1577.6560351562503\" y=\"195.0\" dominant-baseline=\"middle\" text-anchor=\"middle\" font-size=\"14px\" font-family=\"Arial\">Z^(-170.0*γ_0)</text><rect x=\"1525.0230859375004\" y=\"225.0\" width=\"105.26589843750001\" height=\"40\" stroke=\"black\" fill=\"white\" stroke-width=\"1\" /><text x=\"1577.6560351562503\" y=\"245.0\" dominant-baseline=\"middle\" text-anchor=\"middle\" font-size=\"14px\" font-family=\"Arial\">ZZ</text><rect x=\"1525.0230859375004\" y=\"325.0\" width=\"105.26589843750001\" height=\"40\" stroke=\"black\" fill=\"white\" stroke-width=\"1\" /><text x=\"1577.6560351562503\" y=\"345.0\" dominant-baseline=\"middle\" text-anchor=\"middle\" font-size=\"14px\" font-family=\"Arial\">ZZ^(100.0*γ_0)</text><rect x=\"1650.2889843750004\" y=\"225.0\" width=\"105.26589843750001\" height=\"40\" stroke=\"black\" fill=\"white\" stroke-width=\"1\" /><text x=\"1702.9219335937503\" y=\"245.0\" dominant-baseline=\"middle\" text-anchor=\"middle\" font-size=\"14px\" font-family=\"Arial\">Z^(-160.0*γ_0)</text><rect x=\"1650.2889843750004\" y=\"275.0\" width=\"105.26589843750001\" height=\"40\" stroke=\"black\" fill=\"white\" stroke-width=\"1\" /><text x=\"1702.9219335937503\" y=\"295.0\" dominant-baseline=\"middle\" text-anchor=\"middle\" font-size=\"14px\" font-family=\"Arial\">ZZ</text><rect x=\"1650.2889843750004\" y=\"325.0\" width=\"105.26589843750001\" height=\"40\" stroke=\"black\" fill=\"white\" stroke-width=\"1\" /><text x=\"1702.9219335937503\" y=\"345.0\" dominant-baseline=\"middle\" text-anchor=\"middle\" font-size=\"14px\" font-family=\"Arial\">ZZ^(100.0*γ_0)</text><rect x=\"1775.5548828125004\" y=\"275.0\" width=\"101.37625000000001\" height=\"40\" stroke=\"black\" fill=\"white\" stroke-width=\"1\" /><text x=\"1826.2430078125003\" y=\"295.0\" dominant-baseline=\"middle\" text-anchor=\"middle\" font-size=\"14px\" font-family=\"Arial\">Z^(-165.0*γ_0)</text><rect x=\"1775.5548828125004\" y=\"325.0\" width=\"101.37625000000001\" height=\"40\" stroke=\"black\" fill=\"white\" stroke-width=\"1\" /><text x=\"1826.2430078125003\" y=\"345.0\" dominant-baseline=\"middle\" text-anchor=\"middle\" font-size=\"14px\" font-family=\"Arial\">Z^(-240.0*γ_0)</text><rect x=\"1896.9311328125004\" y=\"25.0\" width=\"58.2893359375\" height=\"40\" stroke=\"black\" fill=\"white\" stroke-width=\"1\" /><text x=\"1926.0758007812503\" y=\"45.0\" dominant-baseline=\"middle\" text-anchor=\"middle\" font-size=\"14px\" font-family=\"Arial\">X^(β_0)</text><rect x=\"1896.9311328125004\" y=\"75.0\" width=\"58.2893359375\" height=\"40\" stroke=\"black\" fill=\"white\" stroke-width=\"1\" /><text x=\"1926.0758007812503\" y=\"95.0\" dominant-baseline=\"middle\" text-anchor=\"middle\" font-size=\"14px\" font-family=\"Arial\">X^(β_0)</text><rect x=\"1896.9311328125004\" y=\"125.0\" width=\"58.2893359375\" height=\"40\" stroke=\"black\" fill=\"white\" stroke-width=\"1\" /><text x=\"1926.0758007812503\" y=\"145.0\" dominant-baseline=\"middle\" text-anchor=\"middle\" font-size=\"14px\" font-family=\"Arial\">X^(β_0)</text><rect x=\"1896.9311328125004\" y=\"175.0\" width=\"58.2893359375\" height=\"40\" stroke=\"black\" fill=\"white\" stroke-width=\"1\" /><text x=\"1926.0758007812503\" y=\"195.0\" dominant-baseline=\"middle\" text-anchor=\"middle\" font-size=\"14px\" font-family=\"Arial\">X^(β_0)</text><rect x=\"1896.9311328125004\" y=\"225.0\" width=\"58.2893359375\" height=\"40\" stroke=\"black\" fill=\"white\" stroke-width=\"1\" /><text x=\"1926.0758007812503\" y=\"245.0\" dominant-baseline=\"middle\" text-anchor=\"middle\" font-size=\"14px\" font-family=\"Arial\">X^(β_0)</text><rect x=\"1896.9311328125004\" y=\"275.0\" width=\"58.2893359375\" height=\"40\" stroke=\"black\" fill=\"white\" stroke-width=\"1\" /><text x=\"1926.0758007812503\" y=\"295.0\" dominant-baseline=\"middle\" text-anchor=\"middle\" font-size=\"14px\" font-family=\"Arial\">X^(β_0)</text><rect x=\"1896.9311328125004\" y=\"325.0\" width=\"58.2893359375\" height=\"40\" stroke=\"black\" fill=\"white\" stroke-width=\"1\" /><text x=\"1926.0758007812503\" y=\"345.0\" dominant-baseline=\"middle\" text-anchor=\"middle\" font-size=\"14px\" font-family=\"Arial\">X^(β_0)</text><rect x=\"1975.2204687500005\" y=\"25.0\" width=\"69.021484375\" height=\"40\" stroke=\"black\" fill=\"white\" stroke-width=\"1\" /><text x=\"2009.7312109375005\" y=\"45.0\" dominant-baseline=\"middle\" text-anchor=\"middle\" font-size=\"14px\" font-family=\"Arial\">M('result')</text><rect x=\"1975.2204687500005\" y=\"75.0\" width=\"69.021484375\" height=\"40\" stroke=\"black\" fill=\"white\" stroke-width=\"1\" /><text x=\"2009.7312109375005\" y=\"95.0\" dominant-baseline=\"middle\" text-anchor=\"middle\" font-size=\"18px\" font-family=\"Arial\">M</text><rect x=\"1975.2204687500005\" y=\"125.0\" width=\"69.021484375\" height=\"40\" stroke=\"black\" fill=\"white\" stroke-width=\"1\" /><text x=\"2009.7312109375005\" y=\"145.0\" dominant-baseline=\"middle\" text-anchor=\"middle\" font-size=\"18px\" font-family=\"Arial\">M</text><rect x=\"1975.2204687500005\" y=\"175.0\" width=\"69.021484375\" height=\"40\" stroke=\"black\" fill=\"white\" stroke-width=\"1\" /><text x=\"2009.7312109375005\" y=\"195.0\" dominant-baseline=\"middle\" text-anchor=\"middle\" font-size=\"18px\" font-family=\"Arial\">M</text><rect x=\"1975.2204687500005\" y=\"225.0\" width=\"69.021484375\" height=\"40\" stroke=\"black\" fill=\"white\" stroke-width=\"1\" /><text x=\"2009.7312109375005\" y=\"245.0\" dominant-baseline=\"middle\" text-anchor=\"middle\" font-size=\"18px\" font-family=\"Arial\">M</text><rect x=\"1975.2204687500005\" y=\"275.0\" width=\"69.021484375\" height=\"40\" stroke=\"black\" fill=\"white\" stroke-width=\"1\" /><text x=\"2009.7312109375005\" y=\"295.0\" dominant-baseline=\"middle\" text-anchor=\"middle\" font-size=\"18px\" font-family=\"Arial\">M</text><rect x=\"1975.2204687500005\" y=\"325.0\" width=\"69.021484375\" height=\"40\" stroke=\"black\" fill=\"white\" stroke-width=\"1\" /><text x=\"2009.7312109375005\" y=\"345.0\" dominant-baseline=\"middle\" text-anchor=\"middle\" font-size=\"18px\" font-family=\"Arial\">M</text></svg>"
      ],
      "text/plain": [
       "<cirq.contrib.svg.svg.SVGCircuit at 0x20e03b82820>"
      ]
     },
     "execution_count": 41,
     "metadata": {},
     "output_type": "execute_result"
    }
   ],
   "source": [
    "# better printing with SVG\n",
    "SVGCircuit(qaoa)"
   ]
  },
  {
   "cell_type": "code",
   "execution_count": null,
   "id": "5715b2ea",
   "metadata": {},
   "outputs": [],
   "source": []
  },
  {
   "cell_type": "code",
   "execution_count": null,
   "id": "bd30aa33",
   "metadata": {},
   "outputs": [],
   "source": [
    "grid_size = 50\n",
    "gamma_max = 2\n",
    "beta_max = 2\n",
    "\n",
    "# Do the grid search.\n",
    "values = np.zeros((grid_size, grid_size))\n",
    "for i in range(grid_size):\n",
    "    for j in range(grid_size):\n",
    "        energies[i, j] = energy_from_params(\n",
    "            i * gamma_max / grid_size, j * beta_max / grid_size, qaoa, h\n",
    "        )"
   ]
  }
 ],
 "metadata": {
  "kernelspec": {
   "display_name": "Python 3",
   "language": "python",
   "name": "python3"
  },
  "language_info": {
   "codemirror_mode": {
    "name": "ipython",
    "version": 3
   },
   "file_extension": ".py",
   "mimetype": "text/x-python",
   "name": "python",
   "nbconvert_exporter": "python",
   "pygments_lexer": "ipython3",
   "version": "3.8.8"
  }
 },
 "nbformat": 4,
 "nbformat_minor": 5
}
