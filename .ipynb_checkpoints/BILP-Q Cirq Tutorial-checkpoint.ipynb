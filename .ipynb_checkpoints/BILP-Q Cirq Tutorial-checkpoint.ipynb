{
 "cells": [
  {
   "cell_type": "markdown",
   "id": "f13843f6",
   "metadata": {},
   "source": [
    "# This notebook implements the BILP-Q tutorial in Cirq"
   ]
  },
  {
   "cell_type": "code",
   "execution_count": 1,
   "id": "89dbabed",
   "metadata": {},
   "outputs": [],
   "source": [
    "try:\n",
    "    import cirq\n",
    "except ImportError:\n",
    "    print(\"installing cirq...\")\n",
    "    !pip install --quiet cirq\n",
    "    print(\"installed cirq.\")\n",
    "    import cirq\n",
    "import cirq_google\n",
    "from Utils_CSG import *\n",
    "import sympy \n",
    "import numpy as np\n",
    "from typing import Sequence, Tuple\n",
    "from cirq.circuits import InsertStrategy\n",
    "from cirq.contrib.svg import SVGCircuit\n",
    "import matplotlib.pyplot as plt"
   ]
  },
  {
   "cell_type": "markdown",
   "id": "4a3b4b38",
   "metadata": {},
   "source": [
    "## Starting with the a given CSG\n",
    "Using the same steps as in the BILP-Q Qiskit tutorial to generate the Q-matrix"
   ]
  },
  {
   "cell_type": "code",
   "execution_count": 2,
   "id": "6d74dd2b",
   "metadata": {},
   "outputs": [
    {
     "data": {
      "text/plain": [
       "{'1': 30, '2': 40, '3': 25, '1,2': 70, '1,3': 60, '2,3': 65, '1,2,3': 90}"
      ]
     },
     "execution_count": 2,
     "metadata": {},
     "output_type": "execute_result"
    }
   ],
   "source": [
    "coalition_values={\n",
    "    '1':30,\n",
    "    '2':40,\n",
    "    '3':25,\n",
    "    '1,2':70,\n",
    "    '1,3':60,\n",
    "    '2,3':65,\n",
    "    '1,2,3':90\n",
    "}\n",
    "coalition_values\n",
    "\n"
   ]
  },
  {
   "cell_type": "code",
   "execution_count": 3,
   "id": "2c2b4141",
   "metadata": {
    "scrolled": true
   },
   "outputs": [
    {
     "name": "stdout",
     "output_type": "stream",
     "text": [
      "c = [30, 40, 25, 70, 60, 65, 90]\n",
      "S = [[1, 0, 0, 1, 1, 0, 1], [0, 1, 0, 1, 0, 1, 1], [0, 0, 1, 0, 1, 1, 1]]\n",
      "b = [1, 1, 1]\n"
     ]
    }
   ],
   "source": [
    "c,S,b = convert_to_BILP(coalition_values)       # A function in Utils_CSG.py\n",
    "print(f'c = {c}\\nS = {S}\\nb = {b}')"
   ]
  },
  {
   "cell_type": "code",
   "execution_count": 4,
   "id": "f01cfd52",
   "metadata": {},
   "outputs": [
    {
     "name": "stdout",
     "output_type": "stream",
     "text": [
      "Linear Coefficients = {'x_6': -240.0, 'x_3': -170.0, 'x_4': -160.0, 'x_5': -165.0, 'x_0': -80.0, 'x_1': -90.0, 'x_2': -75.0} \n",
      " Quadratic Coefficients = {('x_3', 'x_6'): 200.0, ('x_4', 'x_6'): 200.0, ('x_5', 'x_6'): 200.0, ('x_0', 'x_3'): 100.0, ('x_0', 'x_4'): 100.0, ('x_0', 'x_6'): 100.0, ('x_1', 'x_3'): 100.0, ('x_1', 'x_5'): 100.0, ('x_1', 'x_6'): 100.0, ('x_2', 'x_4'): 100.0, ('x_2', 'x_5'): 100.0, ('x_2', 'x_6'): 100.0, ('x_3', 'x_4'): 100.0, ('x_3', 'x_5'): 100.0, ('x_4', 'x_5'): 100.0}\n"
     ]
    }
   ],
   "source": [
    "qubo_penalty = 50 * -1\n",
    "\n",
    "linear,quadratic = get_QUBO_coeffs(c,S,b,qubo_penalty)        # A function in Utils_CSG.py\n",
    "\n",
    "print(f\"Linear Coefficients = {linear} \\n Quadratic Coefficients = {quadratic}\")"
   ]
  },
  {
   "cell_type": "code",
   "execution_count": 5,
   "id": "9ef99dde",
   "metadata": {
    "scrolled": false
   },
   "outputs": [
    {
     "data": {
      "text/plain": [
       "array([[-0.3,  0. ,  0. ,  0.2,  0.2,  0. ,  0.2],\n",
       "       [ 0. , -0.4,  0. ,  0.2,  0. ,  0.2,  0.2],\n",
       "       [ 0. ,  0. , -0.3,  0. ,  0.2,  0.2,  0.2],\n",
       "       [ 0.2,  0.2,  0. , -0.7,  0.2,  0.2,  0.4],\n",
       "       [ 0.2,  0. ,  0.2,  0.2, -0.7,  0.2,  0.4],\n",
       "       [ 0. ,  0.2,  0.2,  0.2,  0.2, -0.7,  0.4],\n",
       "       [ 0.2,  0.2,  0.2,  0.4,  0.4,  0.4, -1. ]])"
      ]
     },
     "execution_count": 5,
     "metadata": {},
     "output_type": "execute_result"
    }
   ],
   "source": [
    "Q = np.zeros([len(linear),len(linear)])\n",
    "Qmax = 0\n",
    "#diagonal elements\n",
    "for key,value in linear.items():\n",
    "    if Qmax < abs(value):\n",
    "        Qmax = abs(value)\n",
    "        \n",
    "    Q[int(key.split('_')[1]),int(key.split('_')[1])] = value\n",
    "\n",
    "#non diagonal elements\n",
    "for key,value in quadratic.items():\n",
    "    if Qmax < abs(value/2):\n",
    "        Qmax = abs(value/2)\n",
    "    Q[int(key[0].split('_')[1]),int(key[1].split('_')[1])] = value/2\n",
    "    Q[int(key[1].split('_')[1]),int(key[0].split('_')[1])] = value/2\n",
    "\n",
    "\n",
    "Q = Q/Qmax\n",
    "Q.round(1)\n"
   ]
  },
  {
   "cell_type": "markdown",
   "id": "05cdb565",
   "metadata": {},
   "source": [
    "## Initializing the circuit\n",
    "\n",
    "There are many other ways to create circuts. Worth mentioning is that cirq can also create grid-circuits and check, whether all two-qubits gates are only applied to adjacent qubits. This can be usefull when implementing for real quantum devices (D-Wave part)."
   ]
  },
  {
   "cell_type": "code",
   "execution_count": 6,
   "id": "f5f6dad8",
   "metadata": {},
   "outputs": [],
   "source": [
    "def cirq_init(n_prob):\n",
    "    \"\"\"Initializes a circuit of n_prob Line Qubits in equal superposition\n",
    "    Return: the circuit itself and the quibits used in it\"\"\"\n",
    "    circuit = cirq.Circuit() #initializing a circuit object\n",
    "    qubits = cirq.LineQubit.range(n_prob) # creating n_prob qubits\n",
    "    circuit.append(cirq.H(q) for q in qubits) # adding the just created qubits each with a H-Gate to the circuit\n",
    "    return circuit, qubits"
   ]
  },
  {
   "cell_type": "markdown",
   "id": "fc2a57d4",
   "metadata": {},
   "source": [
    "## Creating cost and mixer layers"
   ]
  },
  {
   "cell_type": "code",
   "execution_count": 7,
   "id": "f805a5da",
   "metadata": {},
   "outputs": [],
   "source": [
    "# the mixer layer should just be a list of X rotation gates with parameter beta on each qubit\n",
    "# that will be appended to the circuit\n",
    "\n",
    "def mixer(in_circuit, beta_value: float):\n",
    "    \"\"\"Adds a mixer layer to circuit with parameter beta_value\"\"\"\n",
    "    circuit = in_circuit.copy() \n",
    "    # without copy() circuit would still be the same instance of in_circuit\n",
    "    # and mixer() would in-place change in_circuit\n",
    "    \n",
    "    n_qubits = len(circuit.get_independent_qubit_sets())\n",
    "    circuit.append([cirq.X(q) ** beta_value for q in qubits],  strategy=InsertStrategy.NEW_THEN_INLINE)\n",
    "    # adding an X-gate to the power of beta_value to every qubit. Using an insert strategy to put them all in the same moment\n",
    "    # for better readability in the diagram later\n",
    "    return circuit"
   ]
  },
  {
   "cell_type": "code",
   "execution_count": 8,
   "id": "3e539ec1",
   "metadata": {},
   "outputs": [],
   "source": [
    "def cost(in_circuit:cirq.circuits.circuit.Circuit, gamma_value:float, Q:np.ndarray) -> cirq.circuits.circuit.Circuit:\n",
    "    \"\"\"Adds the cost layer defined by QUBO matrix Q to circuit with the parameter gamma_value\"\"\"\n",
    "    \n",
    "    \n",
    "    circuit = in_circuit.copy()\n",
    "    nrow = np. size(Q, 0)\n",
    "    ncol = np. size(Q, 1)\n",
    "    \n",
    "    # in the Q matrix, diagonal entries represent the coefficients for linear terms, while the of-diagonal non-zero elements\n",
    "    # are the coefficients for mixed terms. A linear term will be implemented as Z rotation gate on the resprective qubit,\n",
    "    # while a mixed term is implemented as ZZ rotational gate on the 2 resprective qubits.\n",
    "    # the rotations are parametrized by the gamma_value for this sprecific layer\n",
    "    \n",
    "    for row in range(nrow):\n",
    "        # we don't need to iterrate through the whole matrix, since it's symetrical. The upper right part and diagonal is enough\n",
    "        for col in range(row, ncol):\n",
    "            \n",
    "            if row == col:\n",
    "                lin = Q[row,col]\n",
    "                continue \n",
    "                # if the element is on the diagonal we will collect the coefficient to apply the single Z gate after all\n",
    "                # ZZ gates are done on this qubit\n",
    "            \n",
    "            elif Q[row,col] != 0:\n",
    "                # when we have a non-diagonal element that is not zero we append a gama_value\n",
    "                # parametrized ZZ rotation gate on the resprective 2 qubits\n",
    "                circuit.append(cirq.ZZ(qubits[row],qubits[col]) ** (gamma_value * Q[row,col]))\n",
    "        # the single qubit z gate for linear terms at the end of all ZZ gate for this qubit \n",
    "        if lin != 0:\n",
    "            circuit.append(cirq.Z(qubits[row]) ** (gamma_value * lin))\n",
    "                  \n",
    "    return circuit"
   ]
  },
  {
   "cell_type": "markdown",
   "id": "a77432ae",
   "metadata": {},
   "source": [
    "## Creating the circuit\n",
    "Note: the layer-functions still change the circuit in-place"
   ]
  },
  {
   "cell_type": "code",
   "execution_count": 9,
   "id": "69ff4ff8",
   "metadata": {},
   "outputs": [
    {
     "name": "stdout",
     "output_type": "stream",
     "text": [
      "[β_0] [γ_0]\n"
     ]
    }
   ],
   "source": [
    "p = 1 # number of layers\n",
    "\n",
    "# Parameters are introduced as 'symbols'. Symbols can be used like variables in a circuit but need to be 'resolved'\n",
    "# (get a value assigned to) when we want to simulate or run the circuit\n",
    "beta = [sympy.Symbol(\"β_\"+str(i)) for i in range(p)]\n",
    "gamma = [sympy.Symbol(\"γ_\"+str(i)) for i in range(p)]\n",
    "print(beta, gamma)"
   ]
  },
  {
   "cell_type": "code",
   "execution_count": 10,
   "id": "0e601e07",
   "metadata": {},
   "outputs": [
    {
     "data": {
      "text/plain": [
       "{γ_0: 1, β_0: 1}"
      ]
     },
     "execution_count": 10,
     "metadata": {},
     "output_type": "execute_result"
    }
   ],
   "source": [
    "problem_size = len(Q[0]) # defines how many qubits will be necessary to represent the problem \n",
    "\n",
    "qaoa, qubits = cirq_init(problem_size)\n",
    "\n",
    "param_dict = {} #used to store the parameters in a dictionary. For later use in the param resolver\n",
    "for i in range(p):\n",
    "    qaoa = cost(qaoa, gamma[i], Q)\n",
    "    qaoa = mixer(qaoa, beta[i])\n",
    "    param_dict[gamma[i]] = 1\n",
    "    param_dict[beta[i]] = 1\n",
    "    \n",
    "param_dict"
   ]
  },
  {
   "cell_type": "code",
   "execution_count": 11,
   "id": "0c870770",
   "metadata": {},
   "outputs": [
    {
     "data": {
      "image/svg+xml": [
       "<svg xmlns=\"http://www.w3.org/2000/svg\" width=\"3507.944101562501\" height=\"390.0\"><line x1=\"30.0\" x2=\"3477.944101562501\" y1=\"45.0\" y2=\"45.0\" stroke=\"#1967d2\" stroke-width=\"1\" /><line x1=\"30.0\" x2=\"3477.944101562501\" y1=\"95.0\" y2=\"95.0\" stroke=\"#1967d2\" stroke-width=\"1\" /><line x1=\"30.0\" x2=\"3477.944101562501\" y1=\"145.0\" y2=\"145.0\" stroke=\"#1967d2\" stroke-width=\"1\" /><line x1=\"30.0\" x2=\"3477.944101562501\" y1=\"195.0\" y2=\"195.0\" stroke=\"#1967d2\" stroke-width=\"1\" /><line x1=\"30.0\" x2=\"3477.944101562501\" y1=\"245.0\" y2=\"245.0\" stroke=\"#1967d2\" stroke-width=\"1\" /><line x1=\"30.0\" x2=\"3477.944101562501\" y1=\"295.0\" y2=\"295.0\" stroke=\"#1967d2\" stroke-width=\"1\" /><line x1=\"30.0\" x2=\"3477.944101562501\" y1=\"345.0\" y2=\"345.0\" stroke=\"#1967d2\" stroke-width=\"1\" /><line x1=\"2405.6944140625\" x2=\"2813.0933984375006\" y1=\"5.0\" y2=\"5.0\" stroke=\"black\" stroke-width=\"1\" /><line x1=\"2405.6944140625\" x2=\"2813.0933984375006\" y1=\"385.0\" y2=\"385.0\" stroke=\"black\" stroke-width=\"1\" /><line x1=\"1988.2954296875002\" x2=\"2395.6944140625\" y1=\"5.0\" y2=\"5.0\" stroke=\"black\" stroke-width=\"1\" /><line x1=\"1988.2954296875002\" x2=\"2395.6944140625\" y1=\"385.0\" y2=\"385.0\" stroke=\"black\" stroke-width=\"1\" /><line x1=\"1372.1969531250002\" x2=\"1978.2954296875002\" y1=\"5.0\" y2=\"5.0\" stroke=\"black\" stroke-width=\"1\" /><line x1=\"1372.1969531250002\" x2=\"1978.2954296875002\" y1=\"385.0\" y2=\"385.0\" stroke=\"black\" stroke-width=\"1\" /><line x1=\"756.0984765625001\" x2=\"1362.1969531250002\" y1=\"5.0\" y2=\"5.0\" stroke=\"black\" stroke-width=\"1\" /><line x1=\"756.0984765625001\" x2=\"1362.1969531250002\" y1=\"385.0\" y2=\"385.0\" stroke=\"black\" stroke-width=\"1\" /><line x1=\"338.6994921875\" x2=\"746.0984765625001\" y1=\"5.0\" y2=\"5.0\" stroke=\"black\" stroke-width=\"1\" /><line x1=\"338.6994921875\" x2=\"746.0984765625001\" y1=\"385.0\" y2=\"385.0\" stroke=\"black\" stroke-width=\"1\" /><line x1=\"229.34974609375\" x2=\"229.34974609375\" y1=\"45.0\" y2=\"195.0\" stroke=\"black\" stroke-width=\"3\" /><line x1=\"438.04923828125004\" x2=\"438.04923828125004\" y1=\"45.0\" y2=\"245.0\" stroke=\"black\" stroke-width=\"3\" /><line x1=\"636.7487304687501\" x2=\"636.7487304687501\" y1=\"95.0\" y2=\"195.0\" stroke=\"black\" stroke-width=\"3\" /><line x1=\"855.4482226562501\" x2=\"855.4482226562501\" y1=\"45.0\" y2=\"345.0\" stroke=\"black\" stroke-width=\"3\" /><line x1=\"1054.1477148437502\" x2=\"1054.1477148437502\" y1=\"95.0\" y2=\"295.0\" stroke=\"black\" stroke-width=\"3\" /><line x1=\"1252.84720703125\" x2=\"1252.84720703125\" y1=\"145.0\" y2=\"245.0\" stroke=\"black\" stroke-width=\"3\" /><line x1=\"1471.5466992187503\" x2=\"1471.5466992187503\" y1=\"95.0\" y2=\"345.0\" stroke=\"black\" stroke-width=\"3\" /><line x1=\"1670.24619140625\" x2=\"1670.24619140625\" y1=\"145.0\" y2=\"295.0\" stroke=\"black\" stroke-width=\"3\" /><line x1=\"1868.9456835937503\" x2=\"1868.9456835937503\" y1=\"195.0\" y2=\"245.0\" stroke=\"black\" stroke-width=\"3\" /><line x1=\"2087.64517578125\" x2=\"2087.64517578125\" y1=\"145.0\" y2=\"345.0\" stroke=\"black\" stroke-width=\"3\" /><line x1=\"2286.3446679687504\" x2=\"2286.3446679687504\" y1=\"195.0\" y2=\"295.0\" stroke=\"black\" stroke-width=\"3\" /><line x1=\"2505.04416015625\" x2=\"2505.04416015625\" y1=\"195.0\" y2=\"345.0\" stroke=\"black\" stroke-width=\"3\" /><line x1=\"2703.7436523437505\" x2=\"2703.7436523437505\" y1=\"245.0\" y2=\"295.0\" stroke=\"black\" stroke-width=\"3\" /><line x1=\"2932.4431445312507\" x2=\"2932.4431445312507\" y1=\"245.0\" y2=\"345.0\" stroke=\"black\" stroke-width=\"3\" /><line x1=\"3151.142636718751\" x2=\"3151.142636718751\" y1=\"295.0\" y2=\"345.0\" stroke=\"black\" stroke-width=\"3\" /><line x1=\"2405.6944140625\" x2=\"2405.6944140625\" y1=\"5.0\" y2=\"15.0\" stroke=\"black\" stroke-width=\"3\" /><line x1=\"2813.0933984375006\" x2=\"2813.0933984375006\" y1=\"5.0\" y2=\"15.0\" stroke=\"black\" stroke-width=\"3\" /><line x1=\"2405.6944140625\" x2=\"2405.6944140625\" y1=\"375.0\" y2=\"385.0\" stroke=\"black\" stroke-width=\"3\" /><line x1=\"2813.0933984375006\" x2=\"2813.0933984375006\" y1=\"375.0\" y2=\"385.0\" stroke=\"black\" stroke-width=\"3\" /><line x1=\"1988.2954296875002\" x2=\"1988.2954296875002\" y1=\"5.0\" y2=\"15.0\" stroke=\"black\" stroke-width=\"3\" /><line x1=\"2395.6944140625\" x2=\"2395.6944140625\" y1=\"5.0\" y2=\"15.0\" stroke=\"black\" stroke-width=\"3\" /><line x1=\"1988.2954296875002\" x2=\"1988.2954296875002\" y1=\"375.0\" y2=\"385.0\" stroke=\"black\" stroke-width=\"3\" /><line x1=\"2395.6944140625\" x2=\"2395.6944140625\" y1=\"375.0\" y2=\"385.0\" stroke=\"black\" stroke-width=\"3\" /><line x1=\"1372.1969531250002\" x2=\"1372.1969531250002\" y1=\"5.0\" y2=\"15.0\" stroke=\"black\" stroke-width=\"3\" /><line x1=\"1978.2954296875002\" x2=\"1978.2954296875002\" y1=\"5.0\" y2=\"15.0\" stroke=\"black\" stroke-width=\"3\" /><line x1=\"1372.1969531250002\" x2=\"1372.1969531250002\" y1=\"375.0\" y2=\"385.0\" stroke=\"black\" stroke-width=\"3\" /><line x1=\"1978.2954296875002\" x2=\"1978.2954296875002\" y1=\"375.0\" y2=\"385.0\" stroke=\"black\" stroke-width=\"3\" /><line x1=\"756.0984765625001\" x2=\"756.0984765625001\" y1=\"5.0\" y2=\"15.0\" stroke=\"black\" stroke-width=\"3\" /><line x1=\"1362.1969531250002\" x2=\"1362.1969531250002\" y1=\"5.0\" y2=\"15.0\" stroke=\"black\" stroke-width=\"3\" /><line x1=\"756.0984765625001\" x2=\"756.0984765625001\" y1=\"375.0\" y2=\"385.0\" stroke=\"black\" stroke-width=\"3\" /><line x1=\"1362.1969531250002\" x2=\"1362.1969531250002\" y1=\"375.0\" y2=\"385.0\" stroke=\"black\" stroke-width=\"3\" /><line x1=\"338.6994921875\" x2=\"338.6994921875\" y1=\"5.0\" y2=\"15.0\" stroke=\"black\" stroke-width=\"3\" /><line x1=\"746.0984765625001\" x2=\"746.0984765625001\" y1=\"5.0\" y2=\"15.0\" stroke=\"black\" stroke-width=\"3\" /><line x1=\"338.6994921875\" x2=\"338.6994921875\" y1=\"375.0\" y2=\"385.0\" stroke=\"black\" stroke-width=\"3\" /><line x1=\"746.0984765625001\" x2=\"746.0984765625001\" y1=\"375.0\" y2=\"385.0\" stroke=\"black\" stroke-width=\"3\" /><rect x=\"10.0\" y=\"25.0\" width=\"40\" height=\"40\" stroke=\"black\" fill=\"white\" stroke-width=\"0\" /><text x=\"30.0\" y=\"45.0\" dominant-baseline=\"middle\" text-anchor=\"middle\" font-size=\"14px\" font-family=\"Arial\">0: </text><rect x=\"10.0\" y=\"75.0\" width=\"40\" height=\"40\" stroke=\"black\" fill=\"white\" stroke-width=\"0\" /><text x=\"30.0\" y=\"95.0\" dominant-baseline=\"middle\" text-anchor=\"middle\" font-size=\"14px\" font-family=\"Arial\">1: </text><rect x=\"10.0\" y=\"125.0\" width=\"40\" height=\"40\" stroke=\"black\" fill=\"white\" stroke-width=\"0\" /><text x=\"30.0\" y=\"145.0\" dominant-baseline=\"middle\" text-anchor=\"middle\" font-size=\"14px\" font-family=\"Arial\">2: </text><rect x=\"10.0\" y=\"175.0\" width=\"40\" height=\"40\" stroke=\"black\" fill=\"white\" stroke-width=\"0\" /><text x=\"30.0\" y=\"195.0\" dominant-baseline=\"middle\" text-anchor=\"middle\" font-size=\"14px\" font-family=\"Arial\">3: </text><rect x=\"10.0\" y=\"225.0\" width=\"40\" height=\"40\" stroke=\"black\" fill=\"white\" stroke-width=\"0\" /><text x=\"30.0\" y=\"245.0\" dominant-baseline=\"middle\" text-anchor=\"middle\" font-size=\"14px\" font-family=\"Arial\">4: </text><rect x=\"10.0\" y=\"275.0\" width=\"40\" height=\"40\" stroke=\"black\" fill=\"white\" stroke-width=\"0\" /><text x=\"30.0\" y=\"295.0\" dominant-baseline=\"middle\" text-anchor=\"middle\" font-size=\"14px\" font-family=\"Arial\">5: </text><rect x=\"10.0\" y=\"325.0\" width=\"40\" height=\"40\" stroke=\"black\" fill=\"white\" stroke-width=\"0\" /><text x=\"30.0\" y=\"345.0\" dominant-baseline=\"middle\" text-anchor=\"middle\" font-size=\"14px\" font-family=\"Arial\">6: </text><rect x=\"70.0\" y=\"25.0\" width=\"40\" height=\"40\" stroke=\"black\" fill=\"white\" stroke-width=\"1\" /><text x=\"90.0\" y=\"45.0\" dominant-baseline=\"middle\" text-anchor=\"middle\" font-size=\"18px\" font-family=\"Arial\">H</text><rect x=\"70.0\" y=\"75.0\" width=\"40\" height=\"40\" stroke=\"black\" fill=\"white\" stroke-width=\"1\" /><text x=\"90.0\" y=\"95.0\" dominant-baseline=\"middle\" text-anchor=\"middle\" font-size=\"18px\" font-family=\"Arial\">H</text><rect x=\"70.0\" y=\"125.0\" width=\"40\" height=\"40\" stroke=\"black\" fill=\"white\" stroke-width=\"1\" /><text x=\"90.0\" y=\"145.0\" dominant-baseline=\"middle\" text-anchor=\"middle\" font-size=\"18px\" font-family=\"Arial\">H</text><rect x=\"70.0\" y=\"175.0\" width=\"40\" height=\"40\" stroke=\"black\" fill=\"white\" stroke-width=\"1\" /><text x=\"90.0\" y=\"195.0\" dominant-baseline=\"middle\" text-anchor=\"middle\" font-size=\"18px\" font-family=\"Arial\">H</text><rect x=\"70.0\" y=\"225.0\" width=\"40\" height=\"40\" stroke=\"black\" fill=\"white\" stroke-width=\"1\" /><text x=\"90.0\" y=\"245.0\" dominant-baseline=\"middle\" text-anchor=\"middle\" font-size=\"18px\" font-family=\"Arial\">H</text><rect x=\"70.0\" y=\"275.0\" width=\"40\" height=\"40\" stroke=\"black\" fill=\"white\" stroke-width=\"1\" /><text x=\"90.0\" y=\"295.0\" dominant-baseline=\"middle\" text-anchor=\"middle\" font-size=\"18px\" font-family=\"Arial\">H</text><rect x=\"70.0\" y=\"325.0\" width=\"40\" height=\"40\" stroke=\"black\" fill=\"white\" stroke-width=\"1\" /><text x=\"90.0\" y=\"345.0\" dominant-baseline=\"middle\" text-anchor=\"middle\" font-size=\"18px\" font-family=\"Arial\">H</text><rect x=\"130.0\" y=\"25.0\" width=\"198.69949218750003\" height=\"40\" stroke=\"black\" fill=\"white\" stroke-width=\"1\" /><text x=\"229.34974609375\" y=\"45.0\" dominant-baseline=\"middle\" text-anchor=\"middle\" font-size=\"14px\" font-family=\"Arial\">ZZ</text><rect x=\"130.0\" y=\"175.0\" width=\"198.69949218750003\" height=\"40\" stroke=\"black\" fill=\"white\" stroke-width=\"1\" /><text x=\"229.34974609375\" y=\"195.0\" dominant-baseline=\"middle\" text-anchor=\"middle\" font-size=\"14px\" font-family=\"Arial\">ZZ^(0.208333333333333*γ_0)</text><rect x=\"338.6994921875\" y=\"25.0\" width=\"198.69949218750003\" height=\"40\" stroke=\"black\" fill=\"white\" stroke-width=\"1\" /><text x=\"438.04923828125004\" y=\"45.0\" dominant-baseline=\"middle\" text-anchor=\"middle\" font-size=\"14px\" font-family=\"Arial\">ZZ</text><rect x=\"338.6994921875\" y=\"225.0\" width=\"198.69949218750003\" height=\"40\" stroke=\"black\" fill=\"white\" stroke-width=\"1\" /><text x=\"438.04923828125004\" y=\"245.0\" dominant-baseline=\"middle\" text-anchor=\"middle\" font-size=\"14px\" font-family=\"Arial\">ZZ^(0.208333333333333*γ_0)</text><rect x=\"537.398984375\" y=\"75.0\" width=\"198.69949218750003\" height=\"40\" stroke=\"black\" fill=\"white\" stroke-width=\"1\" /><text x=\"636.7487304687501\" y=\"95.0\" dominant-baseline=\"middle\" text-anchor=\"middle\" font-size=\"14px\" font-family=\"Arial\">ZZ</text><rect x=\"537.398984375\" y=\"175.0\" width=\"198.69949218750003\" height=\"40\" stroke=\"black\" fill=\"white\" stroke-width=\"1\" /><text x=\"636.7487304687501\" y=\"195.0\" dominant-baseline=\"middle\" text-anchor=\"middle\" font-size=\"14px\" font-family=\"Arial\">ZZ^(0.208333333333333*γ_0)</text><rect x=\"756.0984765625001\" y=\"25.0\" width=\"198.69949218750003\" height=\"40\" stroke=\"black\" fill=\"white\" stroke-width=\"1\" /><text x=\"855.4482226562501\" y=\"45.0\" dominant-baseline=\"middle\" text-anchor=\"middle\" font-size=\"14px\" font-family=\"Arial\">ZZ</text><rect x=\"756.0984765625001\" y=\"325.0\" width=\"198.69949218750003\" height=\"40\" stroke=\"black\" fill=\"white\" stroke-width=\"1\" /><text x=\"855.4482226562501\" y=\"345.0\" dominant-baseline=\"middle\" text-anchor=\"middle\" font-size=\"14px\" font-family=\"Arial\">ZZ^(0.208333333333333*γ_0)</text><rect x=\"954.7979687500002\" y=\"75.0\" width=\"198.69949218750003\" height=\"40\" stroke=\"black\" fill=\"white\" stroke-width=\"1\" /><text x=\"1054.1477148437502\" y=\"95.0\" dominant-baseline=\"middle\" text-anchor=\"middle\" font-size=\"14px\" font-family=\"Arial\">ZZ</text><rect x=\"954.7979687500002\" y=\"275.0\" width=\"198.69949218750003\" height=\"40\" stroke=\"black\" fill=\"white\" stroke-width=\"1\" /><text x=\"1054.1477148437502\" y=\"295.0\" dominant-baseline=\"middle\" text-anchor=\"middle\" font-size=\"14px\" font-family=\"Arial\">ZZ^(0.208333333333333*γ_0)</text><rect x=\"1153.4974609375\" y=\"125.0\" width=\"198.69949218750003\" height=\"40\" stroke=\"black\" fill=\"white\" stroke-width=\"1\" /><text x=\"1252.84720703125\" y=\"145.0\" dominant-baseline=\"middle\" text-anchor=\"middle\" font-size=\"14px\" font-family=\"Arial\">ZZ</text><rect x=\"1153.4974609375\" y=\"225.0\" width=\"198.69949218750003\" height=\"40\" stroke=\"black\" fill=\"white\" stroke-width=\"1\" /><text x=\"1252.84720703125\" y=\"245.0\" dominant-baseline=\"middle\" text-anchor=\"middle\" font-size=\"14px\" font-family=\"Arial\">ZZ^(0.208333333333333*γ_0)</text><rect x=\"1372.1969531250002\" y=\"25.0\" width=\"198.69949218750003\" height=\"40\" stroke=\"black\" fill=\"white\" stroke-width=\"1\" /><text x=\"1471.5466992187503\" y=\"45.0\" dominant-baseline=\"middle\" text-anchor=\"middle\" font-size=\"14px\" font-family=\"Arial\">Z^(-0.333333333333333*γ_0)</text><rect x=\"1372.1969531250002\" y=\"75.0\" width=\"198.69949218750003\" height=\"40\" stroke=\"black\" fill=\"white\" stroke-width=\"1\" /><text x=\"1471.5466992187503\" y=\"95.0\" dominant-baseline=\"middle\" text-anchor=\"middle\" font-size=\"14px\" font-family=\"Arial\">ZZ</text><rect x=\"1372.1969531250002\" y=\"325.0\" width=\"198.69949218750003\" height=\"40\" stroke=\"black\" fill=\"white\" stroke-width=\"1\" /><text x=\"1471.5466992187503\" y=\"345.0\" dominant-baseline=\"middle\" text-anchor=\"middle\" font-size=\"14px\" font-family=\"Arial\">ZZ^(0.208333333333333*γ_0)</text><rect x=\"1570.8964453125\" y=\"125.0\" width=\"198.69949218750003\" height=\"40\" stroke=\"black\" fill=\"white\" stroke-width=\"1\" /><text x=\"1670.24619140625\" y=\"145.0\" dominant-baseline=\"middle\" text-anchor=\"middle\" font-size=\"14px\" font-family=\"Arial\">ZZ</text><rect x=\"1570.8964453125\" y=\"275.0\" width=\"198.69949218750003\" height=\"40\" stroke=\"black\" fill=\"white\" stroke-width=\"1\" /><text x=\"1670.24619140625\" y=\"295.0\" dominant-baseline=\"middle\" text-anchor=\"middle\" font-size=\"14px\" font-family=\"Arial\">ZZ^(0.208333333333333*γ_0)</text><rect x=\"1769.5959375000002\" y=\"175.0\" width=\"198.69949218750003\" height=\"40\" stroke=\"black\" fill=\"white\" stroke-width=\"1\" /><text x=\"1868.9456835937503\" y=\"195.0\" dominant-baseline=\"middle\" text-anchor=\"middle\" font-size=\"14px\" font-family=\"Arial\">ZZ</text><rect x=\"1769.5959375000002\" y=\"225.0\" width=\"198.69949218750003\" height=\"40\" stroke=\"black\" fill=\"white\" stroke-width=\"1\" /><text x=\"1868.9456835937503\" y=\"245.0\" dominant-baseline=\"middle\" text-anchor=\"middle\" font-size=\"14px\" font-family=\"Arial\">ZZ^(0.208333333333333*γ_0)</text><rect x=\"1988.2954296875\" y=\"75.0\" width=\"198.69949218750003\" height=\"40\" stroke=\"black\" fill=\"white\" stroke-width=\"1\" /><text x=\"2087.64517578125\" y=\"95.0\" dominant-baseline=\"middle\" text-anchor=\"middle\" font-size=\"14px\" font-family=\"Arial\">Z^(-0.375*γ_0)</text><rect x=\"1988.2954296875\" y=\"125.0\" width=\"198.69949218750003\" height=\"40\" stroke=\"black\" fill=\"white\" stroke-width=\"1\" /><text x=\"2087.64517578125\" y=\"145.0\" dominant-baseline=\"middle\" text-anchor=\"middle\" font-size=\"14px\" font-family=\"Arial\">ZZ</text><rect x=\"1988.2954296875\" y=\"325.0\" width=\"198.69949218750003\" height=\"40\" stroke=\"black\" fill=\"white\" stroke-width=\"1\" /><text x=\"2087.64517578125\" y=\"345.0\" dominant-baseline=\"middle\" text-anchor=\"middle\" font-size=\"14px\" font-family=\"Arial\">ZZ^(0.208333333333333*γ_0)</text><rect x=\"2186.9949218750003\" y=\"175.0\" width=\"198.69949218750003\" height=\"40\" stroke=\"black\" fill=\"white\" stroke-width=\"1\" /><text x=\"2286.3446679687504\" y=\"195.0\" dominant-baseline=\"middle\" text-anchor=\"middle\" font-size=\"14px\" font-family=\"Arial\">ZZ</text><rect x=\"2186.9949218750003\" y=\"275.0\" width=\"198.69949218750003\" height=\"40\" stroke=\"black\" fill=\"white\" stroke-width=\"1\" /><text x=\"2286.3446679687504\" y=\"295.0\" dominant-baseline=\"middle\" text-anchor=\"middle\" font-size=\"14px\" font-family=\"Arial\">ZZ^(0.208333333333333*γ_0)</text><rect x=\"2405.6944140625\" y=\"125.0\" width=\"198.69949218750003\" height=\"40\" stroke=\"black\" fill=\"white\" stroke-width=\"1\" /><text x=\"2505.04416015625\" y=\"145.0\" dominant-baseline=\"middle\" text-anchor=\"middle\" font-size=\"14px\" font-family=\"Arial\">Z^(-0.3125*γ_0)</text><rect x=\"2405.6944140625\" y=\"175.0\" width=\"198.69949218750003\" height=\"40\" stroke=\"black\" fill=\"white\" stroke-width=\"1\" /><text x=\"2505.04416015625\" y=\"195.0\" dominant-baseline=\"middle\" text-anchor=\"middle\" font-size=\"14px\" font-family=\"Arial\">ZZ</text><rect x=\"2405.6944140625\" y=\"325.0\" width=\"198.69949218750003\" height=\"40\" stroke=\"black\" fill=\"white\" stroke-width=\"1\" /><text x=\"2505.04416015625\" y=\"345.0\" dominant-baseline=\"middle\" text-anchor=\"middle\" font-size=\"14px\" font-family=\"Arial\">ZZ^(0.416666666666667*γ_0)</text><rect x=\"2604.3939062500003\" y=\"225.0\" width=\"198.69949218750003\" height=\"40\" stroke=\"black\" fill=\"white\" stroke-width=\"1\" /><text x=\"2703.7436523437505\" y=\"245.0\" dominant-baseline=\"middle\" text-anchor=\"middle\" font-size=\"14px\" font-family=\"Arial\">ZZ</text><rect x=\"2604.3939062500003\" y=\"275.0\" width=\"198.69949218750003\" height=\"40\" stroke=\"black\" fill=\"white\" stroke-width=\"1\" /><text x=\"2703.7436523437505\" y=\"295.0\" dominant-baseline=\"middle\" text-anchor=\"middle\" font-size=\"14px\" font-family=\"Arial\">ZZ^(0.208333333333333*γ_0)</text><rect x=\"2833.0933984375006\" y=\"175.0\" width=\"198.69949218750003\" height=\"40\" stroke=\"black\" fill=\"white\" stroke-width=\"1\" /><text x=\"2932.4431445312507\" y=\"195.0\" dominant-baseline=\"middle\" text-anchor=\"middle\" font-size=\"14px\" font-family=\"Arial\">Z^(-0.708333333333333*γ_0)</text><rect x=\"2833.0933984375006\" y=\"225.0\" width=\"198.69949218750003\" height=\"40\" stroke=\"black\" fill=\"white\" stroke-width=\"1\" /><text x=\"2932.4431445312507\" y=\"245.0\" dominant-baseline=\"middle\" text-anchor=\"middle\" font-size=\"14px\" font-family=\"Arial\">ZZ</text><rect x=\"2833.0933984375006\" y=\"325.0\" width=\"198.69949218750003\" height=\"40\" stroke=\"black\" fill=\"white\" stroke-width=\"1\" /><text x=\"2932.4431445312507\" y=\"345.0\" dominant-baseline=\"middle\" text-anchor=\"middle\" font-size=\"14px\" font-family=\"Arial\">ZZ^(0.416666666666667*γ_0)</text><rect x=\"3051.792890625001\" y=\"225.0\" width=\"198.69949218750003\" height=\"40\" stroke=\"black\" fill=\"white\" stroke-width=\"1\" /><text x=\"3151.142636718751\" y=\"245.0\" dominant-baseline=\"middle\" text-anchor=\"middle\" font-size=\"14px\" font-family=\"Arial\">Z^(-0.666666666666667*γ_0)</text><rect x=\"3051.792890625001\" y=\"275.0\" width=\"198.69949218750003\" height=\"40\" stroke=\"black\" fill=\"white\" stroke-width=\"1\" /><text x=\"3151.142636718751\" y=\"295.0\" dominant-baseline=\"middle\" text-anchor=\"middle\" font-size=\"14px\" font-family=\"Arial\">ZZ</text><rect x=\"3051.792890625001\" y=\"325.0\" width=\"198.69949218750003\" height=\"40\" stroke=\"black\" fill=\"white\" stroke-width=\"1\" /><text x=\"3151.142636718751\" y=\"345.0\" dominant-baseline=\"middle\" text-anchor=\"middle\" font-size=\"14px\" font-family=\"Arial\">ZZ^(0.416666666666667*γ_0)</text><rect x=\"3270.492382812501\" y=\"275.0\" width=\"109.16238281250003\" height=\"40\" stroke=\"black\" fill=\"white\" stroke-width=\"1\" /><text x=\"3325.073574218751\" y=\"295.0\" dominant-baseline=\"middle\" text-anchor=\"middle\" font-size=\"14px\" font-family=\"Arial\">Z^(-0.6875*γ_0)</text><rect x=\"3270.492382812501\" y=\"325.0\" width=\"109.16238281250003\" height=\"40\" stroke=\"black\" fill=\"white\" stroke-width=\"1\" /><text x=\"3325.073574218751\" y=\"345.0\" dominant-baseline=\"middle\" text-anchor=\"middle\" font-size=\"14px\" font-family=\"Arial\">Z^(-1.0*γ_0)</text><rect x=\"3399.6547656250013\" y=\"25.0\" width=\"58.2893359375\" height=\"40\" stroke=\"black\" fill=\"white\" stroke-width=\"1\" /><text x=\"3428.7994335937515\" y=\"45.0\" dominant-baseline=\"middle\" text-anchor=\"middle\" font-size=\"14px\" font-family=\"Arial\">X^(β_0)</text><rect x=\"3399.6547656250013\" y=\"75.0\" width=\"58.2893359375\" height=\"40\" stroke=\"black\" fill=\"white\" stroke-width=\"1\" /><text x=\"3428.7994335937515\" y=\"95.0\" dominant-baseline=\"middle\" text-anchor=\"middle\" font-size=\"14px\" font-family=\"Arial\">X^(β_0)</text><rect x=\"3399.6547656250013\" y=\"125.0\" width=\"58.2893359375\" height=\"40\" stroke=\"black\" fill=\"white\" stroke-width=\"1\" /><text x=\"3428.7994335937515\" y=\"145.0\" dominant-baseline=\"middle\" text-anchor=\"middle\" font-size=\"14px\" font-family=\"Arial\">X^(β_0)</text><rect x=\"3399.6547656250013\" y=\"175.0\" width=\"58.2893359375\" height=\"40\" stroke=\"black\" fill=\"white\" stroke-width=\"1\" /><text x=\"3428.7994335937515\" y=\"195.0\" dominant-baseline=\"middle\" text-anchor=\"middle\" font-size=\"14px\" font-family=\"Arial\">X^(β_0)</text><rect x=\"3399.6547656250013\" y=\"225.0\" width=\"58.2893359375\" height=\"40\" stroke=\"black\" fill=\"white\" stroke-width=\"1\" /><text x=\"3428.7994335937515\" y=\"245.0\" dominant-baseline=\"middle\" text-anchor=\"middle\" font-size=\"14px\" font-family=\"Arial\">X^(β_0)</text><rect x=\"3399.6547656250013\" y=\"275.0\" width=\"58.2893359375\" height=\"40\" stroke=\"black\" fill=\"white\" stroke-width=\"1\" /><text x=\"3428.7994335937515\" y=\"295.0\" dominant-baseline=\"middle\" text-anchor=\"middle\" font-size=\"14px\" font-family=\"Arial\">X^(β_0)</text><rect x=\"3399.6547656250013\" y=\"325.0\" width=\"58.2893359375\" height=\"40\" stroke=\"black\" fill=\"white\" stroke-width=\"1\" /><text x=\"3428.7994335937515\" y=\"345.0\" dominant-baseline=\"middle\" text-anchor=\"middle\" font-size=\"14px\" font-family=\"Arial\">X^(β_0)</text></svg>"
      ],
      "text/plain": [
       "<cirq.contrib.svg.svg.SVGCircuit at 0x252df0299d0>"
      ]
     },
     "execution_count": 11,
     "metadata": {},
     "output_type": "execute_result"
    }
   ],
   "source": [
    "# better printing with SVG\n",
    "SVGCircuit(qaoa)"
   ]
  },
  {
   "cell_type": "code",
   "execution_count": 12,
   "id": "5715b2ea",
   "metadata": {},
   "outputs": [],
   "source": [
    "def state_vector_params(gamma, beta, circuit):\n",
    "    simulator = cirq.Simulator() # initializing the simulator object\n",
    "    params = cirq.ParamResolver({\"γ_0\": gamma, \"β_0\": beta}) \n",
    "    #the param resolver maps values from the function input to the respective variables in the circuit\n",
    "    \n",
    "    result = abs(simulator.simulate(circuit, param_resolver=params).final_state_vector)\n",
    "    # simulates the final state vector of the circuit with the input values for the parameters gamma and beta\n",
    "    # only take tha absolut values since the imaginary parts should only exist due to rounding errors\n",
    "    sum = 0\n",
    "    for elm in result:\n",
    "        sum += elm**2\n",
    "    if 1 != round(sum,3):\n",
    "        print(\"Warning: final state vector is normalized. Difference to 1 is more than .001\")\n",
    "    \n",
    "    return result\n",
    " \n"
   ]
  },
  {
   "cell_type": "markdown",
   "id": "16499670",
   "metadata": {},
   "source": [
    "# Numerical tests"
   ]
  },
  {
   "cell_type": "code",
   "execution_count": 13,
   "id": "84f9b278",
   "metadata": {},
   "outputs": [
    {
     "data": {
      "text/plain": [
       "array([[ 1.,  0.,  0.,  0.,  0.,  0.,  0.,  0.],\n",
       "       [ 0., -1.,  0., -0.,  0., -0.,  0., -0.],\n",
       "       [ 0.,  0., -1., -0.,  0.,  0., -0., -0.],\n",
       "       [ 0., -0., -0.,  1.,  0., -0., -0.,  0.],\n",
       "       [ 0.,  0.,  0.,  0., -1., -0., -0., -0.],\n",
       "       [ 0., -0.,  0., -0., -0.,  1., -0.,  0.],\n",
       "       [ 0.,  0., -0., -0., -0., -0.,  1.,  0.],\n",
       "       [ 0., -0., -0.,  0., -0.,  0.,  0., -1.]])"
      ]
     },
     "execution_count": 13,
     "metadata": {},
     "output_type": "execute_result"
    }
   ],
   "source": [
    "def M_z(dim):\n",
    "    \"\"\"For measurments in the computational basis this function can create a matrix corresponding to the \n",
    "    tensor produkt of number of dim Pauli-Z matrices. \n",
    "    dim: number of qubits in the circuit\"\"\"\n",
    "    mat_Z = np.eye(2)\n",
    "    mat_Z[1,1] = -1\n",
    "    M = [1]\n",
    "    for i in range(dim):\n",
    "        M = np.kron(M, mat_Z)\n",
    "    return M\n",
    "\n",
    "M_z(3)"
   ]
  },
  {
   "cell_type": "markdown",
   "id": "a9d978f3",
   "metadata": {},
   "source": [
    "Creating the measurement operator for the expectation calculation "
   ]
  },
  {
   "cell_type": "code",
   "execution_count": 14,
   "id": "f73f5913",
   "metadata": {},
   "outputs": [],
   "source": [
    "def ez_filter(n, dim):\n",
    "    '''\n",
    "    Creates matrices like Z_n (for n={1,...,#qubits}) , where we apply the Z gate to the n-th qubit\n",
    "    in a circuit of dim number of qubits\n",
    "    '''\n",
    "    # start with Pauli-Z matrix\n",
    "    ez_f = np.eye(2)\n",
    "    ez_f[1,1] = -1\n",
    "\n",
    "    if n == 1:\n",
    "        #with for Z_1 we need to do the tensor product of Pauli-Z with dim-1 unit matrices\n",
    "        ez_f = np.kron(ez_f, np.eye(2**(dim-1) ))\n",
    "        \n",
    "    else:\n",
    "        #for Z_n we need a tensor product of n-1 unit matrices then Pauli-Z and again unit matrices for all the other qubits\n",
    "        ez_f = np.kron(np.eye(2**(n-1)), ez_f)\n",
    "        ez_f = np.kron(ez_f, np.eye(2**(dim-n)))   \n",
    "\n",
    "    return ez_f\n",
    "\n",
    "def m_op(Q):\n",
    "    '''\n",
    "    A matrix corresponding to the problem hamiltonian H_c. To compute the expectation values in terms of cost for the qubo\n",
    "    '''\n",
    "    dim = len(Q[1])\n",
    "    \n",
    "    nrow = np. size(Q, 0)\n",
    "    \n",
    "    ncol = np. size(Q, 1)\n",
    "        \n",
    "    ez = np.zeros((2**nrow, 2**ncol))\n",
    "\n",
    "    for row in range(nrow):\n",
    "        \n",
    "        for col in range(row, ncol):\n",
    "            \n",
    "            if row == col:\n",
    "                lin = Q[row,col]\n",
    "               \n",
    "                continue \n",
    "\n",
    "\n",
    "            elif Q[row,col] != 0:\n",
    "               \n",
    "                ez += Q[row,col] * ez_filter(row+1, dim) @ ez_filter(col+1, dim)\n",
    "\n",
    "\n",
    "        if lin != 0:\n",
    "            ez += lin * ez_filter(row+1, dim)\n",
    "\n",
    "        \n",
    "    return ez\n",
    "\n"
   ]
  },
  {
   "cell_type": "code",
   "execution_count": 15,
   "id": "85260207",
   "metadata": {},
   "outputs": [
    {
     "data": {
      "text/plain": [
       "(128, 128)"
      ]
     },
     "execution_count": 15,
     "metadata": {},
     "output_type": "execute_result"
    }
   ],
   "source": [
    "# defining the measurement operator\n",
    "M = m_op(Q)\n",
    "M.shape\n"
   ]
  },
  {
   "cell_type": "code",
   "execution_count": 16,
   "id": "273e407e",
   "metadata": {},
   "outputs": [],
   "source": [
    "grid_size = 40\n",
    "gamma_max = 5\n",
    "beta_max = 2\n",
    "\n",
    "# Do the grid search.\n",
    "energies = np.zeros((grid_size, grid_size))\n",
    "for i in range(0,grid_size):\n",
    "    for j in range(0,grid_size):\n",
    "        vec = state_vector_params(i * gamma_max / grid_size, j * beta_max / grid_size, qaoa)\n",
    "        energies[i, j] = vec @ M @ vec\n",
    "        "
   ]
  },
  {
   "cell_type": "code",
   "execution_count": 17,
   "id": "b193e42b",
   "metadata": {},
   "outputs": [
    {
     "data": {
      "image/png": "[encoded data removed]",
      "text/plain": [
       "<Figure size 432x288 with 2 Axes>"
      ]
     },
     "metadata": {
      "needs_background": "light"
     },
     "output_type": "display_data"
    },
    {
     "name": "stdout",
     "output_type": "stream",
     "text": [
      "Numerically found parameters: Gamma = 4.875, Beta = 0.5\n",
      "Energy = -1.5246461156849718\n"
     ]
    }
   ],
   "source": [
    "\"\"\"Plot the energy as a function of the parameters 𝛄 and β found in the grid search.\"\"\"\n",
    "plt.ylabel(r\"$\\gamma$\")\n",
    "plt.xlabel(r\"$\\beta$\")\n",
    "plt.title(\"Energy as a function of parameters\")\n",
    "plt.imshow(energies, extent=(0, beta_max, gamma_max, 0))\n",
    "plt.colorbar()\n",
    "plt.show()\n",
    "ind = np.unravel_index(np.argmin(energies, axis=None), energies.shape) \n",
    "ind_gam, ind_bet = ind\n",
    "eng = energies[ind]\n",
    "opt_gam = ind_gam / grid_size * gamma_max\n",
    "opt_bet = ind_bet / grid_size * beta_max\n",
    "print(f\"Numerically found parameters: Gamma = {opt_gam}, Beta = {opt_bet}\\nEnergy = {eng}\")"
   ]
  },
  {
   "cell_type": "markdown",
   "id": "4d09a3e6",
   "metadata": {},
   "source": [
    "There seems to be a symetry for beta and gamma. \n",
    "beta (0,2] and gama (0,5] seem to include all possible values.\n",
    "For beta this seems obvious as it is only uses for rotational X-gates"
   ]
  },
  {
   "cell_type": "code",
   "execution_count": 18,
   "id": "8b66ca50",
   "metadata": {},
   "outputs": [],
   "source": [
    "# Adding a measurement layer\n",
    "measure_qoao = qaoa.copy()\n",
    "measure_qoao.append(cirq.measure(qubits, key = 'result'))"
   ]
  },
  {
   "cell_type": "code",
   "execution_count": 19,
   "id": "e3d316bb",
   "metadata": {},
   "outputs": [
    {
     "data": {
      "text/plain": [
       "[(112, 381),\n",
       " (113, 197),\n",
       " (80, 120),\n",
       " (116, 78),\n",
       " (81, 45),\n",
       " (114, 24),\n",
       " (117, 24),\n",
       " (84, 22),\n",
       " (48, 20),\n",
       " (49, 14)]"
      ]
     },
     "execution_count": 19,
     "metadata": {},
     "output_type": "execute_result"
    }
   ],
   "source": [
    "num_reps = 1000\n",
    "params = cirq.ParamResolver({'γ_0': opt_gam, 'β_0': opt_bet})\n",
    "simulator = cirq.Simulator()\n",
    "measure_result = simulator.run(measure_qoao, param_resolver=params, repetitions = num_reps)\n",
    "counts = measure_result.histogram(key='result')\n",
    "common_solution = counts.most_common(3)\n",
    "counts.most_common(10)"
   ]
  },
  {
   "cell_type": "markdown",
   "id": "17faa4fd",
   "metadata": {},
   "source": [
    "Not much of a clear winner in terms of probability. Still 127 is not the correct solution."
   ]
  },
  {
   "cell_type": "markdown",
   "id": "d8da9a21",
   "metadata": {},
   "source": [
    "# Analytical optimization"
   ]
  },
  {
   "cell_type": "code",
   "execution_count": 28,
   "id": "2dabd2f0",
   "metadata": {},
   "outputs": [],
   "source": [
    "# Basic gradient descent to find the best parameter for the lowest energy level\n",
    "def param_optimizer(param_dict, circuit, qubits, lr, epochs):\n",
    "    \"\"\"param_dict: dictionary with parameters {γ_0: 0, β_0: 0, .... }\n",
    "       returns one step optimimized parameter dictionary\n",
    "    \"\"\"\n",
    "    # Creating the meassurement operator\n",
    "    \n",
    "    \n",
    "    # setting up some utilities\n",
    "    opt_energy = float('inf')\n",
    "    opt_param_dict = {}\n",
    "    simulator = cirq.Simulator() # initializing the simulator object\n",
    "    params = cirq.ParamResolver(param_dict)\n",
    "    \n",
    "    random_restart = 0\n",
    "    \n",
    "    \n",
    "    \n",
    "    for step in range(epochs):\n",
    "        \n",
    "        # The final state vector and energy of the circuit with the parameter values given by param_dict\n",
    "        base_state = abs(simulator.simulate(circuit, param_resolver=params).final_state_vector)\n",
    "        base_energy = base_state @ M @ base_state\n",
    "        \n",
    "        # whenever the energy is lower than previously detected, the best value and it's parameter will be stored\n",
    "        if base_energy < opt_energy: \n",
    "            opt_energy = base_energy\n",
    "            opt_param_dict = param_dict\n",
    "        \n",
    "        # Calculating the gradient numerically    \n",
    "        grad = np.zeros(len(param_dict))\n",
    "        j = 0\n",
    "        for i in param_dict:\n",
    "\n",
    "            param_dict[i] += 0.001\n",
    "            params = cirq.ParamResolver(param_dict)\n",
    "            eps_state = abs(simulator.simulate(circuit, param_resolver=params).final_state_vector)\n",
    "            param_dict[i] -= 0.001\n",
    "            eps = base_energy - (eps_state @ M @ eps_state)\n",
    "            grad[j] = eps/0.001\n",
    "            j += 1\n",
    "\n",
    "        grad = grad * lr\n",
    "        \n",
    "        j = 0\n",
    "        for i in param_dict:\n",
    "            param_dict[i] += grad[j]\n",
    "            j +=1\n",
    "        \n",
    "        # the energy of the learned state = base state + gradient * learning rate\n",
    "        params = cirq.ParamResolver(param_dict) # new parameter after the gradient step \n",
    "        vec = abs(simulator.simulate(circuit, param_resolver=params).final_state_vector)\n",
    "        energy = vec @ M @ vec #energy after the gradient step\n",
    "        if energy < opt_energy:\n",
    "            opt_energy = energy\n",
    "            opt_param_dict = param_dict\n",
    "        else: \n",
    "            random_restart +=1\n",
    "        \n",
    "        if random_restart == 3:\n",
    "            \n",
    "            random_restart = 0\n",
    "            param_dict[gamma[0]] = random.uniform(0, 5)\n",
    "            param_dict[beta[0]] = random.uniform(0, 2)\n",
    "            print(\"random restart with:\",param_dict)\n",
    "        if not step % 25:    \n",
    "            print(f\"Epoch {step+1}, Energy: {opt_energy}\")\n",
    "    return opt_param_dict, opt_energy\n"
   ]
  },
  {
   "cell_type": "code",
   "execution_count": 29,
   "id": "4d471306",
   "metadata": {},
   "outputs": [
    {
     "name": "stdout",
     "output_type": "stream",
     "text": [
      "{γ_0: 4.875, β_0: 0.5}\n",
      "Epoch 1, Energy: -1.525418915683557\n",
      "Epoch 26, Energy: -1.5322514605150703\n",
      "Epoch 51, Energy: -1.5326275491613404\n",
      "random restart with: {γ_0: 1.2926534813504191, β_0: 0.7530892950333496}\n",
      "random restart with: {γ_0: 2.0973847774337226, β_0: 0.7787095514103111}\n",
      "random restart with: {γ_0: 1.781229974642592, β_0: 1.257093648675989}\n",
      "random restart with: {γ_0: 1.649073645185164, β_0: 0.1616168525158297}\n",
      "Epoch 76, Energy: -1.5326399657730165\n",
      "random restart with: {γ_0: 0.43793704126970145, β_0: 0.13305104840775472}\n",
      "random restart with: {γ_0: 1.1044980205324373, β_0: 0.6480030141822997}\n",
      "random restart with: {γ_0: 3.997143774275434, β_0: 0.15002665822822636}\n",
      "random restart with: {γ_0: 3.8149993441186574, β_0: 1.752920965613933}\n",
      "random restart with: {γ_0: 1.881774568083416, β_0: 1.5555400300860753}\n",
      "random restart with: {γ_0: 1.6446684823487023, β_0: 1.4969916027082504}\n",
      "random restart with: {γ_0: 0.0883535724927842, β_0: 0.409766761315995}\n",
      "random restart with: {γ_0: 4.145874264269935, β_0: 0.10659423307836158}\n",
      "Epoch 101, Energy: -1.5326399657730165\n",
      "random restart with: {γ_0: 1.7212256905478958, β_0: 1.19797962062651}\n",
      "random restart with: {γ_0: 2.7540234139688042, β_0: 1.0763100549026536}\n",
      "random restart with: {γ_0: 0.06244535637204007, β_0: 0.24710156129624705}\n",
      "random restart with: {γ_0: 1.7219938769897576, β_0: 0.6663571897215517}\n",
      "random restart with: {γ_0: 1.6274210579518555, β_0: 1.2407853178685473}\n",
      "random restart with: {γ_0: 3.229763990680943, β_0: 1.7418089107514414}\n",
      "random restart with: {γ_0: 2.9736644895924997, β_0: 0.17319181621664814}\n",
      "random restart with: {γ_0: 0.3086784417157701, β_0: 1.4287083035540842}\n",
      "Epoch 126, Energy: -1.5326399657730165\n",
      "random restart with: {γ_0: 4.474878924880135, β_0: 0.8278808395732982}\n",
      "random restart with: {γ_0: 1.7485981979450005, β_0: 0.7127937031353306}\n",
      "random restart with: {γ_0: 3.5790428893082886, β_0: 0.09880704826183995}\n",
      "random restart with: {γ_0: 3.0594996467880478, β_0: 0.1929626785663432}\n",
      "random restart with: {γ_0: 1.727761083583601, β_0: 1.7957415621806077}\n",
      "random restart with: {γ_0: 2.577804154047112, β_0: 1.8525797474187695}\n",
      "random restart with: {γ_0: 0.045398747117293414, β_0: 1.1919001626391943}\n",
      "random restart with: {γ_0: 0.5837935118328857, β_0: 1.5050232542221085}\n",
      "random restart with: {γ_0: 2.461225437962132, β_0: 1.3750799550684756}\n",
      "Epoch 151, Energy: -1.5326399657730165\n",
      "random restart with: {γ_0: 1.8640293926604783, β_0: 1.8810222570760795}\n",
      "random restart with: {γ_0: 4.6568697731721524, β_0: 0.9585094099837173}\n",
      "random restart with: {γ_0: 3.3982950441473503, β_0: 0.5660666807980306}\n",
      "random restart with: {γ_0: 3.931240278589674, β_0: 1.8072282521090588}\n",
      "random restart with: {γ_0: 4.224418654588908, β_0: 1.715570158849276}\n",
      "random restart with: {γ_0: 0.9091694834632302, β_0: 1.058920035957554}\n",
      "random restart with: {γ_0: 1.1141314614074886, β_0: 0.7894533303057154}\n",
      "random restart with: {γ_0: 2.37519855050342, β_0: 1.7140561381657016}\n",
      "Epoch 176, Energy: -1.5326399657730165\n",
      "random restart with: {γ_0: 1.6821948357388705, β_0: 0.2170634395157296}\n",
      "random restart with: {γ_0: 2.9136891642223612, β_0: 0.45797673196878197}\n",
      "random restart with: {γ_0: 0.15692872812659908, β_0: 0.6621409606034956}\n",
      "random restart with: {γ_0: 0.6851759940425078, β_0: 1.300116562706294}\n",
      "random restart with: {γ_0: 2.601229941148444, β_0: 0.23082269497869534}\n",
      "random restart with: {γ_0: 4.58721259844936, β_0: 0.2600217746328328}\n",
      "random restart with: {γ_0: 4.87794345484547, β_0: 0.36700606887140386}\n",
      "random restart with: {γ_0: 1.9362216670886006, β_0: 1.9851422500730678}\n",
      "Epoch 201, Energy: -1.5326399657730165\n",
      "random restart with: {γ_0: 3.299671246461839, β_0: 0.6241398237521585}\n",
      "random restart with: {γ_0: 4.222564766467531, β_0: 0.070968110138528}\n",
      "random restart with: {γ_0: 0.02230213029243422, β_0: 1.7108219897448416}\n",
      "random restart with: {γ_0: 1.772331781802844, β_0: 1.2631662079800887}\n",
      "random restart with: {γ_0: 4.170006252958977, β_0: 0.34778569839896156}\n",
      "random restart with: {γ_0: 3.2796088847505684, β_0: 1.3301967825749739}\n",
      "random restart with: {γ_0: 3.645493737740328, β_0: 0.22822055148883247}\n",
      "random restart with: {γ_0: 3.506832638569186, β_0: 1.8584087567337173}\n",
      "random restart with: {γ_0: 3.631121672928053, β_0: 0.8134205667375334}\n",
      "Epoch 226, Energy: -1.5326399657730165\n",
      "random restart with: {γ_0: 4.1826384303146344, β_0: 0.2264782475416922}\n",
      "random restart with: {γ_0: 0.41534201644292335, β_0: 0.44351799506182976}\n",
      "random restart with: {γ_0: 1.292334398263597, β_0: 0.5048309666902593}\n",
      "random restart with: {γ_0: 1.1876012391714363, β_0: 0.25339642649910843}\n",
      "random restart with: {γ_0: 3.030859006033597, β_0: 0.08917188885991267}\n",
      "random restart with: {γ_0: 4.23087643836905, β_0: 0.9175507897961408}\n",
      "random restart with: {γ_0: 0.10809699392894612, β_0: 0.5938210235991639}\n",
      "random restart with: {γ_0: 0.4679968421774755, β_0: 0.932752723878723}\n",
      "Epoch 251, Energy: -1.5326399657730165\n",
      "random restart with: {γ_0: 1.7902275228682796, β_0: 1.6859108715044588}\n",
      "random restart with: {γ_0: 4.4622119182339155, β_0: 1.014957110053643}\n",
      "random restart with: {γ_0: 0.08727378093959293, β_0: 0.636986031978868}\n",
      "random restart with: {γ_0: 2.9118196244762906, β_0: 1.7158795893987844}\n",
      "random restart with: {γ_0: 1.2914007127110678, β_0: 1.2863690924711635}\n",
      "random restart with: {γ_0: 4.079984239554527, β_0: 1.8330511002186287}\n",
      "random restart with: {γ_0: 0.3106545976056091, β_0: 0.7393472949926461}\n",
      "random restart with: {γ_0: 3.566003120530945, β_0: 1.1942805639887941}\n",
      "Epoch 276, Energy: -1.5326399657730165\n",
      "random restart with: {γ_0: 4.196327673694691, β_0: 0.32864443022836753}\n",
      "random restart with: {γ_0: 4.194287106146949, β_0: 1.603777594234304}\n",
      "random restart with: {γ_0: 3.54868547954992, β_0: 0.15184477863446788}\n",
      "random restart with: {γ_0: 2.0032296613197986, β_0: 0.11167488026548478}\n",
      "random restart with: {γ_0: 2.0569307174450895, β_0: 0.12487553458679712}\n",
      "random restart with: {γ_0: 1.2716468306688329, β_0: 1.0711377019919353}\n",
      "random restart with: {γ_0: 1.4981493424861743, β_0: 0.9111618503467003}\n",
      "random restart with: {γ_0: 2.9372976123715997, β_0: 1.116393607817838}\n"
     ]
    },
    {
     "data": {
      "text/plain": [
       "[({γ_0: 2.9403326002231704, β_0: 1.1243021803264917}, -1.5326399657730165)]"
      ]
     },
     "execution_count": 29,
     "metadata": {},
     "output_type": "execute_result"
    }
   ],
   "source": [
    "solutions = []\n",
    "param_dict[gamma[0]] = opt_gam\n",
    "param_dict[beta[0]] = opt_bet\n",
    "print(param_dict)\n",
    "\n",
    "solutions.append(param_optimizer(param_dict, qaoa, qubits, 0.01, 300))\n",
    "solutions"
   ]
  },
  {
   "cell_type": "code",
   "execution_count": 22,
   "id": "5a70b1a3",
   "metadata": {},
   "outputs": [
    {
     "data": {
      "text/plain": [
       "{γ_0: 1.156547963679341, β_0: 0.8239529346390116}"
      ]
     },
     "execution_count": 22,
     "metadata": {},
     "output_type": "execute_result"
    }
   ],
   "source": [
    "opt_params = dict()\n",
    "opt_params = solutions[0][0]\n",
    "\n",
    "opt_params"
   ]
  },
  {
   "cell_type": "code",
   "execution_count": 23,
   "id": "dc5f759e",
   "metadata": {},
   "outputs": [
    {
     "name": "stdout",
     "output_type": "stream",
     "text": [
      "cirq.ParamResolver({sympy.Symbol('γ_0'): 1.156547963679341, sympy.Symbol('β_0'): 0.8239529346390116})\n"
     ]
    },
    {
     "data": {
      "image/png": "[encoded data removed]",
      "text/plain": [
       "<Figure size 432x288 with 1 Axes>"
      ]
     },
     "metadata": {
      "needs_background": "light"
     },
     "output_type": "display_data"
    },
    {
     "data": {
      "text/plain": [
       "[(61, 44),\n",
       " (103, 41),\n",
       " (15, 36),\n",
       " (126, 34),\n",
       " (104, 33),\n",
       " (112, 30),\n",
       " (84, 29),\n",
       " (91, 26),\n",
       " (50, 22),\n",
       " (97, 19)]"
      ]
     },
     "execution_count": 23,
     "metadata": {},
     "output_type": "execute_result"
    }
   ],
   "source": [
    "num_reps = 1000\n",
    "params = cirq.ParamResolver(opt_params)\n",
    "print(params)\n",
    "measure_result = simulator.run(measure_qoao, param_resolver=params, repetitions = num_reps)\n",
    "cirq.plot_state_histogram(measure_result, plt.subplot())\n",
    "plt.show()\n",
    "counts = measure_result.histogram(key='result')\n",
    "solution = counts.most_common(10)\n",
    "solution"
   ]
  },
  {
   "cell_type": "code",
   "execution_count": 24,
   "id": "b4ed930c",
   "metadata": {},
   "outputs": [],
   "source": [
    "def to_bin_array(n):\n",
    "    ar = [0, 0, 0, 0, 0, 0, 0]\n",
    "    for i in str(bin(n))[2:]:\n",
    "        ar.append(int(i))\n",
    " \n",
    "\n",
    "    return ar[-7:]"
   ]
  },
  {
   "cell_type": "code",
   "execution_count": 25,
   "id": "0a51c89b",
   "metadata": {},
   "outputs": [
    {
     "name": "stdout",
     "output_type": "stream",
     "text": [
      "Most common measured:  61\n"
     ]
    },
    {
     "data": {
      "text/plain": [
       "[{'2'}, {'3'}, {'1', '2'}, {'1', '3'}, {'1', '2', '3'}]"
      ]
     },
     "execution_count": 25,
     "metadata": {},
     "output_type": "execute_result"
    }
   ],
   "source": [
    "most_common = solution[0][0]\n",
    "print(\"Most common measured: \", most_common)\n",
    "decode(to_bin_array(most_common), coalition_values)"
   ]
  },
  {
   "cell_type": "code",
   "execution_count": 26,
   "id": "e2fcb3f9",
   "metadata": {},
   "outputs": [
    {
     "data": {
      "text/plain": [
       "[{'1', '2'}, {'2', '3'}]"
      ]
     },
     "execution_count": 26,
     "metadata": {},
     "output_type": "execute_result"
    }
   ],
   "source": [
    "\n",
    "decode(to_bin_array(10), coalition_values)"
   ]
  }
 ],
 "metadata": {
  "kernelspec": {
   "display_name": "Python 3",
   "language": "python",
   "name": "python3"
  },
  "language_info": {
   "codemirror_mode": {
    "name": "ipython",
    "version": 3
   },
   "file_extension": ".py",
   "mimetype": "text/x-python",
   "name": "python",
   "nbconvert_exporter": "python",
   "pygments_lexer": "ipython3",
   "version": "3.8.8"
  }
 },
 "nbformat": 4,
 "nbformat_minor": 5
}
