{
 "cells": [
  {
   "cell_type": "code",
   "execution_count": 1,
   "id": "c434a3ad",
   "metadata": {},
   "outputs": [],
   "source": [
    "try:\n",
    "    import cirq\n",
    "except ImportError:\n",
    "    print(\"installing cirq...\")\n",
    "    !pip install --quiet cirq\n",
    "    print(\"installed cirq.\")\n",
    "    import cirq\n",
    "import sympy\n",
    "import random\n",
    "from importlib import reload\n",
    "import Utils_cirq\n",
    "reload(Utils_cirq)\n",
    "from Utils_cirq import *\n",
    "from cirq.contrib.svg import SVGCircuit\n"
   ]
  },
  {
   "cell_type": "code",
   "execution_count": 2,
   "id": "014885f3",
   "metadata": {},
   "outputs": [],
   "source": [
    "agents = 2\n",
    "p = 1"
   ]
  },
  {
   "cell_type": "code",
   "execution_count": 3,
   "id": "24539967",
   "metadata": {},
   "outputs": [
    {
     "data": {
      "text/plain": [
       "{'1': 30, '2': 40, '1,2': 75}"
      ]
     },
     "execution_count": 3,
     "metadata": {},
     "output_type": "execute_result"
    }
   ],
   "source": [
    "coalition_values = get_coalition(agents)\n",
    "coalition_values"
   ]
  },
  {
   "cell_type": "code",
   "execution_count": 4,
   "id": "9dbad4b4",
   "metadata": {},
   "outputs": [],
   "source": [
    "Q = get_Q(coalition_values, qubo_penalty = -50)"
   ]
  },
  {
   "cell_type": "markdown",
   "id": "3b283fcc",
   "metadata": {},
   "source": [
    "## Building the quantum circuit to solve the QUBO-Problem"
   ]
  },
  {
   "cell_type": "markdown",
   "id": "fbe6b365",
   "metadata": {},
   "source": [
    "In order to later plug in parameter values into the variational quantum circuit,\n",
    "we need a dictionary to store the values for each parameter.\n",
    "\n",
    "Following the naming convention from the paper we have β in the mixer layer and γ in the cost layer.\n",
    "\n",
    "In cirq parameters are realized via the sympy.Symbol function"
   ]
  },
  {
   "cell_type": "code",
   "execution_count": 5,
   "id": "25ef3eb6",
   "metadata": {},
   "outputs": [
    {
     "name": "stdout",
     "output_type": "stream",
     "text": [
      "The beta and gamma variables: [β_0] and [γ_0]\n"
     ]
    }
   ],
   "source": [
    "beta = [sympy.Symbol(\"β_\"+str(i)) for i in range(p)]\n",
    "gamma = [sympy.Symbol(\"γ_\"+str(i)) for i in range(p)]\n",
    "print(f\"The beta and gamma variables: {beta} and {gamma}\")"
   ]
  },
  {
   "cell_type": "markdown",
   "id": "f5f6d6c0",
   "metadata": {},
   "source": [
    "After random initialization a parameter dictionary looks like this:"
   ]
  },
  {
   "cell_type": "code",
   "execution_count": 6,
   "id": "54de4724",
   "metadata": {},
   "outputs": [
    {
     "data": {
      "text/plain": [
       "{γ_0: 1.0259881226444185, β_0: 1.4125962392239773}"
      ]
     },
     "execution_count": 6,
     "metadata": {},
     "output_type": "execute_result"
    }
   ],
   "source": [
    "param_dict = {}\n",
    "for i in range(p):\n",
    "    param_dict[gamma[i]] = random.uniform(-2, 2)\n",
    "    param_dict[beta[i]] = random.uniform(-2, 2)\n",
    "param_dict"
   ]
  },
  {
   "cell_type": "markdown",
   "id": "e44158c8",
   "metadata": {},
   "source": [
    "### Initializing the circuit\n",
    "Apply a hadamard gate on every qubit. The number of qubits is given by the size of the QUBO matrix"
   ]
  },
  {
   "cell_type": "code",
   "execution_count": 7,
   "id": "d1ec7901",
   "metadata": {},
   "outputs": [],
   "source": [
    "problem_size = len(Q)\n",
    "qaoa, qubits = cirq_init(problem_size)"
   ]
  },
  {
   "cell_type": "markdown",
   "id": "fe8f7d1b",
   "metadata": {},
   "source": [
    "Note: the function also returns the qubits that are used in the circuit in order to address them later indiviually"
   ]
  },
  {
   "cell_type": "markdown",
   "id": "f279c891",
   "metadata": {},
   "source": [
    "#### Adding cost and mixer layer alternately p times\n"
   ]
  },
  {
   "cell_type": "code",
   "execution_count": 8,
   "id": "f550d9c9",
   "metadata": {},
   "outputs": [],
   "source": [
    "for i in range(p):\n",
    "    qaoa = cost_layer(qaoa, qubits, gamma[i], Q)\n",
    "    qaoa = mixer_layer(qaoa, qubits, beta[i])"
   ]
  },
  {
   "cell_type": "markdown",
   "id": "b0b51b9e",
   "metadata": {},
   "source": [
    "Now the parameterized circuit looks like this:"
   ]
  },
  {
   "cell_type": "code",
   "execution_count": 9,
   "id": "4762081c",
   "metadata": {},
   "outputs": [],
   "source": [
    "# SVGCircuit(qaoa)"
   ]
  },
  {
   "cell_type": "markdown",
   "id": "21953a5a",
   "metadata": {},
   "source": [
    "#### Training the circuit\n",
    "\n",
    "To minimize the loss function  $L(\\gamma,\\beta) = \\langle\\gamma,\\beta |H_c| \\gamma,\\beta\\rangle$ for the training proccess , we construct $H_c$\n",
    "\n",
    "https://link.springer.com/book/10.1007/978-1-4842-6522-2 Quantum Machine Learning with Python\n",
    "\n",
    "https://youtu.be/YpLzSQPrgSc?t=836 Qiskit Global Summer School\n",
    "\n",
    "$H_c = \\sum_{i,j=1} ^{n}\\frac{1}{4}Q_{i,j}Z_i Z_j-\\sum_{i=1}^{n}c_iZ_i$\n",
    "with $c_i = \\sum_{j=1}^{n}Q_{i,j}$, beeing the sum of the entries from the i-th row\n",
    "\n",
    "Since Q is symetrical in the implementation only the upper diagonal matrix is considered for the mixed terms and then multiplied by 2 "
   ]
  },
  {
   "cell_type": "code",
   "execution_count": 10,
   "id": "8f831373",
   "metadata": {},
   "outputs": [],
   "source": [
    "H_c = m_op(Q)"
   ]
  },
  {
   "cell_type": "markdown",
   "id": "9af549a8",
   "metadata": {},
   "source": [
    "Alternatively the function m_z(dim) creates a generic measurement operator for dim number of qubits"
   ]
  },
  {
   "cell_type": "markdown",
   "id": "3dadca18",
   "metadata": {},
   "source": [
    "### Optimizing the parameters \n",
    "\n",
    "A simple SGD method is used to find the minimum for $L(\\gamma,\\beta)$, it tries to escape a local minimum by taking a random step.\n",
    "\n",
    "Other methods like a sampling distribution based loss and QUBO cost on generic measurement were also tried, but did not prove to be time effective"
   ]
  },
  {
   "cell_type": "code",
   "execution_count": 11,
   "id": "1f3db68f",
   "metadata": {},
   "outputs": [
    {
     "name": "stdout",
     "output_type": "stream",
     "text": [
      "Start at: {γ_0: 1.0259881226444185, β_0: 1.4125962392239773}\n",
      "Epoch 1, Energy: -0.15244122036425564\n",
      "Epoch 26, Energy: -0.33135150609122976\n",
      "Epoch 51, Energy: -0.35309434694637476\n",
      "Epoch 76, Energy: -0.35838838542427115\n",
      "Epoch 101, Energy: -0.35955288718133255\n",
      "Epoch 126, Energy: -0.35978716058748783\n",
      "Epoch 151, Energy: -0.3598310599706753\n",
      "Epoch 176, Energy: -0.35983857641368605\n",
      "possible local minimum -> random step\n",
      "possible local minimum -> random step\n",
      "possible local minimum -> random step\n",
      "possible local minimum -> random step\n",
      "possible local minimum -> random step\n",
      "possible local minimum -> random step\n",
      "possible local minimum -> random step\n",
      "possible local minimum -> random step\n",
      "Epoch 201, Energy: -0.4752982996613053\n",
      "Epoch 226, Energy: -0.5053998406405169\n",
      "Epoch 251, Energy: -0.5072472946444306\n",
      "Epoch 276, Energy: -0.5074201745045894\n",
      "Epoch 301, Energy: -0.5074539905031447\n",
      "Epoch 326, Energy: -0.5074643542257244\n",
      "Epoch 351, Energy: -0.5074683162450645\n",
      "possible local minimum -> random step\n",
      "possible local minimum -> random step\n",
      "possible local minimum -> random step\n",
      "possible local minimum -> random step\n",
      "Epoch 376, Energy: -0.5074695782645336\n",
      "possible local minimum -> random step\n",
      "possible local minimum -> random step\n",
      "possible local minimum -> random step\n",
      "possible local minimum -> random step\n",
      "possible local minimum -> random step\n",
      "possible local minimum -> random step\n",
      "possible local minimum -> random step\n",
      "possible local minimum -> random step\n",
      "possible local minimum -> random step\n",
      "possible local minimum -> random step\n",
      "possible local minimum -> random step\n",
      "possible local minimum -> random step\n",
      "Epoch 401, Energy: -0.5074695782645336\n",
      "possible local minimum -> random step\n",
      "possible local minimum -> random step\n",
      "possible local minimum -> random step\n",
      "possible local minimum -> random step\n",
      "possible local minimum -> random step\n",
      "possible local minimum -> random step\n",
      "possible local minimum -> random step\n",
      "possible local minimum -> random step\n",
      "possible local minimum -> random step\n",
      "possible local minimum -> random step\n",
      "possible local minimum -> random step\n",
      "possible local minimum -> random step\n",
      "possible local minimum -> random step\n",
      "Epoch 426, Energy: -0.5074695782645336\n",
      "possible local minimum -> random step\n",
      "possible local minimum -> random step\n",
      "possible local minimum -> random step\n",
      "possible local minimum -> random step\n",
      "possible local minimum -> random step\n",
      "possible local minimum -> random step\n",
      "possible local minimum -> random step\n",
      "possible local minimum -> random step\n",
      "possible local minimum -> random step\n",
      "possible local minimum -> random step\n",
      "possible local minimum -> random step\n",
      "possible local minimum -> random step\n",
      "Epoch 451, Energy: -0.5074695782645336\n",
      "possible local minimum -> random step\n",
      "possible local minimum -> random step\n",
      "possible local minimum -> random step\n",
      "possible local minimum -> random step\n",
      "possible local minimum -> random step\n",
      "possible local minimum -> random step\n",
      "possible local minimum -> random step\n",
      "possible local minimum -> random step\n",
      "possible local minimum -> random step\n",
      "possible local minimum -> random step\n",
      "possible local minimum -> random step\n",
      "possible local minimum -> random step\n",
      "possible local minimum -> random step\n",
      "Epoch 476, Energy: -0.5074695782645336\n",
      "possible local minimum -> random step\n",
      "possible local minimum -> random step\n",
      "possible local minimum -> random step\n",
      "possible local minimum -> random step\n",
      "possible local minimum -> random step\n",
      "possible local minimum -> random step\n",
      "possible local minimum -> random step\n",
      "possible local minimum -> random step\n",
      "possible local minimum -> random step\n",
      "possible local minimum -> random step\n",
      "possible local minimum -> random step\n",
      "possible local minimum -> random step\n",
      "Epoch 501, Energy: -0.5074695782645336\n",
      "possible local minimum -> random step\n",
      "possible local minimum -> random step\n",
      "possible local minimum -> random step\n",
      "possible local minimum -> random step\n",
      "possible local minimum -> random step\n",
      "possible local minimum -> random step\n",
      "possible local minimum -> random step\n",
      "possible local minimum -> random step\n",
      "possible local minimum -> random step\n",
      "possible local minimum -> random step\n",
      "possible local minimum -> random step\n",
      "possible local minimum -> random step\n",
      "possible local minimum -> random step\n",
      "Epoch 526, Energy: -0.5074695782645336\n",
      "possible local minimum -> random step\n",
      "possible local minimum -> random step\n",
      "possible local minimum -> random step\n",
      "possible local minimum -> random step\n",
      "possible local minimum -> random step\n",
      "possible local minimum -> random step\n",
      "possible local minimum -> random step\n",
      "possible local minimum -> random step\n",
      "possible local minimum -> random step\n",
      "possible local minimum -> random step\n",
      "possible local minimum -> random step\n",
      "possible local minimum -> random step\n",
      "Epoch 551, Energy: -0.5074695782645336\n",
      "possible local minimum -> random step\n",
      "possible local minimum -> random step\n",
      "possible local minimum -> random step\n",
      "possible local minimum -> random step\n",
      "possible local minimum -> random step\n",
      "possible local minimum -> random step\n",
      "possible local minimum -> random step\n",
      "possible local minimum -> random step\n",
      "possible local minimum -> random step\n",
      "possible local minimum -> random step\n",
      "possible local minimum -> random step\n",
      "possible local minimum -> random step\n",
      "possible local minimum -> random step\n",
      "Epoch 576, Energy: -0.5074695782645336\n",
      "possible local minimum -> random step\n",
      "possible local minimum -> random step\n",
      "possible local minimum -> random step\n",
      "possible local minimum -> random step\n",
      "possible local minimum -> random step\n",
      "possible local minimum -> random step\n",
      "possible local minimum -> random step\n",
      "possible local minimum -> random step\n",
      "possible local minimum -> random step\n",
      "possible local minimum -> random step\n",
      "possible local minimum -> random step\n",
      "possible local minimum -> random step\n"
     ]
    },
    {
     "data": {
      "image/png": "[encoded data removed]",
      "text/plain": [
       "<Figure size 640x480 with 1 Axes>"
      ]
     },
     "metadata": {},
     "output_type": "display_data"
    },
    {
     "name": "stdout",
     "output_type": "stream",
     "text": [
      "{γ_0: 3.4491467879231914, β_0: 0.4926071482931058} -0.5074695782645336\n"
     ]
    }
   ],
   "source": [
    "print(f\"Start at: {param_dict}\")\n",
    "opt_params, opt_energy = exp_optim(param_dict.copy(), qaoa, lr=20, epochs=600, M=H_c, prt=True)\n",
    "print(opt_params, opt_energy)"
   ]
  },
  {
   "cell_type": "markdown",
   "id": "4dd8838b",
   "metadata": {},
   "source": [
    "To obtain a solution a measurments are performed. For that we need to add a measurement layer to the QAOA circuit"
   ]
  },
  {
   "cell_type": "code",
   "execution_count": 12,
   "id": "f09d8f83",
   "metadata": {},
   "outputs": [],
   "source": [
    "measure_qaoa = qaoa.copy()\n",
    "measure_qaoa.append(cirq.measure(qubits, key = 'result'))"
   ]
  },
  {
   "cell_type": "markdown",
   "id": "e3e47cbb",
   "metadata": {},
   "source": [
    "We can now perform measurements to see what results are most probable"
   ]
  },
  {
   "cell_type": "code",
   "execution_count": 13,
   "id": "f836f992",
   "metadata": {
    "scrolled": true
   },
   "outputs": [
    {
     "data": {
      "image/png": "[encoded data removed]",
      "text/plain": [
       "<Figure size 640x480 with 1 Axes>"
      ]
     },
     "metadata": {},
     "output_type": "display_data"
    },
    {
     "name": "stdout",
     "output_type": "stream",
     "text": [
      "[(7, 783), (5, 196), (3, 14), (1, 6), (6, 1)]\n"
     ]
    }
   ],
   "source": [
    "simulator = cirq.Simulator()\n",
    "num_reps = 1000\n",
    "params = cirq.ParamResolver(opt_params)\n",
    "measure_result = simulator.run(measure_qaoa, param_resolver=params, repetitions = num_reps)\n",
    "\n",
    "cirq.plot_state_histogram(measure_result, plt.subplot())\n",
    "plt.show()\n",
    "counts = measure_result.histogram(key='result')\n",
    "solution = counts.most_common(10)\n",
    "print(solution)"
   ]
  },
  {
   "cell_type": "markdown",
   "id": "122f4a77",
   "metadata": {},
   "source": [
    "The results need to be decoded to be interpretable"
   ]
  },
  {
   "cell_type": "code",
   "execution_count": 14,
   "id": "c934bb3a",
   "metadata": {},
   "outputs": [
    {
     "name": "stdout",
     "output_type": "stream",
     "text": [
      "Best coalition: [{'2', '1'}]\n",
      "Probabilty: 0.006\n"
     ]
    },
    {
     "data": {
      "text/plain": [
       "1"
      ]
     },
     "execution_count": 14,
     "metadata": {},
     "output_type": "execute_result"
    }
   ],
   "source": [
    "sol, num, prob = find_sol(counts, coalition_values)\n",
    "print(f\"Best coalition: {sol}\\nProbabilty: {prob}\")\n",
    "num"
   ]
  },
  {
   "cell_type": "code",
   "execution_count": 15,
   "id": "5eb1f39c",
   "metadata": {},
   "outputs": [
    {
     "name": "stdout",
     "output_type": "stream",
     "text": [
      "Most frequent measurment:  [{'1'}, {'2'}, {'2', '1'}]\n"
     ]
    }
   ],
   "source": [
    "most_common = solution[0][0]\n",
    "moco = decode(to_bin_array(most_common, agents), coalition_values)\n",
    "print(\"Most frequent measurment: \", moco)\n"
   ]
  },
  {
   "cell_type": "markdown",
   "id": "b8db9acf",
   "metadata": {},
   "source": [
    "### To visualize the parameter space we can use a grid search when we only have 2 parameter"
   ]
  },
  {
   "cell_type": "code",
   "execution_count": 16,
   "id": "75053556",
   "metadata": {},
   "outputs": [
    {
     "data": {
      "image/png": "[encoded data removed]",
      "text/plain": [
       "<Figure size 640x480 with 2 Axes>"
      ]
     },
     "metadata": {},
     "output_type": "display_data"
    },
    {
     "name": "stdout",
     "output_type": "stream",
     "text": [
      "Numerically found parameters: Gamma = -3.4, Beta = -0.3999999999999999\n",
      "Energy = -0.4945090821118487\n"
     ]
    }
   ],
   "source": [
    "if p ==1:\n",
    "    gamma_max = 4\n",
    "    beta_max = 2 # ranges of the parameter\n",
    "    res = 5 # granularity of the image\n",
    "    \n",
    "    \n",
    "    g_size = int(gamma_max * res)\n",
    "    b_size = int(beta_max * res)\n",
    "    energies = np.zeros((2 * g_size, 2 * b_size))\n",
    "    for g in range(-g_size, g_size):\n",
    "        for b in range(-b_size, b_size):\n",
    "            vec = state_vector_params(g/g_size*gamma_max, b/b_size*beta_max, qaoa)\n",
    "            energies[g+g_size, b+b_size] = vec @ H_c @ vec\n",
    "\n",
    "    \"\"\"Plot the energy as a function of the parameters 𝛄 and β found in the grid search.\"\"\"\n",
    "    plt.ylabel(r\"$\\gamma$\")\n",
    "    plt.xlabel(r\"$\\beta$\")\n",
    "    plt.title(\"Energy as a function of parameters\")\n",
    "    plt.imshow(energies, extent=(-beta_max, beta_max, gamma_max, -gamma_max))\n",
    "    plt.colorbar()\n",
    "    plt.show()\n",
    "    \n",
    "    ind = np.unravel_index(np.argmin(energies, axis=None), energies.shape)\n",
    "    ind_gam, ind_bet = ind\n",
    "    eng = energies[ind]\n",
    "    opt_gam = -gamma_max + ind_gam / res\n",
    "    opt_bet = -beta_max + ind_bet / res\n",
    "    print(f\"Numerically found parameters: Gamma = {opt_gam}, Beta = {opt_bet}\\nEnergy = {eng}\")"
   ]
  },
  {
   "cell_type": "code",
   "execution_count": 17,
   "id": "0e622c37",
   "metadata": {},
   "outputs": [
    {
     "name": "stdout",
     "output_type": "stream",
     "text": [
      "Grid energy: -0.4945090821118487, Optimizer energy:-0.5074695782645336\n",
      "Grid energy >= Optimizer energy: True\n"
     ]
    }
   ],
   "source": [
    "if p == 1:\n",
    "    ga = opt_gam\n",
    "    be = opt_bet\n",
    "    vec = state_vector_params(ga, be, qaoa)\n",
    "    im_en = vec @ H_c @ vec\n",
    "    ga = opt_params[gamma[0]]\n",
    "    be = opt_params[beta[0]]\n",
    "    vec = state_vector_params(ga, be, qaoa)\n",
    "    op_en = vec @ H_c @ vec\n",
    "\n",
    "    print(f\"Grid energy: {im_en}, Optimizer energy:{op_en}\")\n",
    "    print(f\"Grid energy >= Optimizer energy: {im_en >= op_en}\")"
   ]
  }
 ],
 "metadata": {
  "kernelspec": {
   "display_name": "Python 3 (ipykernel)",
   "language": "python",
   "name": "python3"
  },
  "language_info": {
   "codemirror_mode": {
    "name": "ipython",
    "version": 3
   },
   "file_extension": ".py",
   "mimetype": "text/x-python",
   "name": "python",
   "nbconvert_exporter": "python",
   "pygments_lexer": "ipython3",
   "version": "3.9.13"
  }
 },
 "nbformat": 4,
 "nbformat_minor": 5
}
