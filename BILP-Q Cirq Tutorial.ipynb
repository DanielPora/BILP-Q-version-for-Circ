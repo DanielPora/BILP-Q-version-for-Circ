{
 "cells": [
  {
   "cell_type": "markdown",
   "id": "f13843f6",
   "metadata": {},
   "source": [
    "# This notebook implements the BILP-Q tutorial in Cirq"
   ]
  },
  {
   "cell_type": "code",
   "execution_count": 1,
   "id": "6a011582",
   "metadata": {},
   "outputs": [],
   "source": [
    "try:\n",
    "    import cirq\n",
    "except ImportError:\n",
    "    print(\"installing cirq...\")\n",
    "    !pip install --quiet cirq\n",
    "    print(\"installed cirq.\")\n",
    "    import cirq\n",
    "\n"
   ]
  },
  {
   "cell_type": "code",
   "execution_count": 2,
   "id": "89dbabed",
   "metadata": {},
   "outputs": [],
   "source": [
    "import cirq_google\n",
    "from Utils_CSG import *\n",
    "import sympy \n",
    "import numpy as np\n",
    "from typing import Sequence, Tuple\n",
    "from cirq.circuits import InsertStrategy\n",
    "from cirq.contrib.svg import SVGCircuit\n",
    "import matplotlib.pyplot as plt"
   ]
  },
  {
   "cell_type": "markdown",
   "id": "4a3b4b38",
   "metadata": {},
   "source": [
    "## Starting with the a given CSG\n",
    "Using the same steps as in the BILP-Q Qiskit tutorial to generate the Q-matrix"
   ]
  },
  {
   "cell_type": "code",
   "execution_count": 3,
   "id": "6d74dd2b",
   "metadata": {},
   "outputs": [
    {
     "data": {
      "text/plain": [
       "{'1': 30, '2': 40, '3': 25, '1,2': 70, '1,3': 60, '2,3': 65, '1,2,3': 90}"
      ]
     },
     "execution_count": 3,
     "metadata": {},
     "output_type": "execute_result"
    }
   ],
   "source": [
    "coalition_values={\n",
    "    '1':30,\n",
    "    '2':40,\n",
    "    '3':25,\n",
    "    '1,2':70,\n",
    "    '1,3':60,\n",
    "    '2,3':65,\n",
    "    '1,2,3':90\n",
    "}\n",
    "coalition_values"
   ]
  },
  {
   "cell_type": "code",
   "execution_count": 4,
   "id": "2c2b4141",
   "metadata": {
    "scrolled": true
   },
   "outputs": [
    {
     "name": "stdout",
     "output_type": "stream",
     "text": [
      "c = [30, 40, 25, 70, 60, 65, 90]\n",
      "S = [[1, 0, 0, 1, 1, 0, 1], [0, 1, 0, 1, 0, 1, 1], [0, 0, 1, 0, 1, 1, 1]]\n",
      "b = [1, 1, 1]\n"
     ]
    }
   ],
   "source": [
    "c,S,b = convert_to_BILP(coalition_values)       # A function in Utils_CSG.py\n",
    "print(f'c = {c}\\nS = {S}\\nb = {b}')"
   ]
  },
  {
   "cell_type": "code",
   "execution_count": 5,
   "id": "f01cfd52",
   "metadata": {},
   "outputs": [
    {
     "name": "stdout",
     "output_type": "stream",
     "text": [
      "Linear Coefficients = {'x_6': -240.0, 'x_3': -170.0, 'x_4': -160.0, 'x_5': -165.0, 'x_0': -80.0, 'x_1': -90.0, 'x_2': -75.0} \n",
      " Quadratic Coefficients = {('x_3', 'x_6'): 200.0, ('x_4', 'x_6'): 200.0, ('x_5', 'x_6'): 200.0, ('x_0', 'x_3'): 100.0, ('x_0', 'x_4'): 100.0, ('x_0', 'x_6'): 100.0, ('x_1', 'x_3'): 100.0, ('x_1', 'x_5'): 100.0, ('x_1', 'x_6'): 100.0, ('x_2', 'x_4'): 100.0, ('x_2', 'x_5'): 100.0, ('x_2', 'x_6'): 100.0, ('x_3', 'x_4'): 100.0, ('x_3', 'x_5'): 100.0, ('x_4', 'x_5'): 100.0}\n"
     ]
    }
   ],
   "source": [
    "qubo_penalty = 50 * -1\n",
    "\n",
    "linear,quadratic = get_QUBO_coeffs(c,S,b,qubo_penalty)        # A function in Utils_CSG.py\n",
    "\n",
    "print(f\"Linear Coefficients = {linear} \\n Quadratic Coefficients = {quadratic}\")"
   ]
  },
  {
   "cell_type": "code",
   "execution_count": 164,
   "id": "9ef99dde",
   "metadata": {
    "scrolled": false
   },
   "outputs": [
    {
     "data": {
      "text/plain": [
       "array([[-0.3333,  0.    ,  0.    ,  0.2083,  0.2083,  0.    ,  0.2083],\n",
       "       [ 0.    , -0.375 ,  0.    ,  0.2083,  0.    ,  0.2083,  0.2083],\n",
       "       [ 0.    ,  0.    , -0.3125,  0.    ,  0.2083,  0.2083,  0.2083],\n",
       "       [ 0.2083,  0.2083,  0.    , -0.7083,  0.2083,  0.2083,  0.4167],\n",
       "       [ 0.2083,  0.    ,  0.2083,  0.2083, -0.6667,  0.2083,  0.4167],\n",
       "       [ 0.    ,  0.2083,  0.2083,  0.2083,  0.2083, -0.6875,  0.4167],\n",
       "       [ 0.2083,  0.2083,  0.2083,  0.4167,  0.4167,  0.4167, -1.    ]])"
      ]
     },
     "execution_count": 164,
     "metadata": {},
     "output_type": "execute_result"
    }
   ],
   "source": [
    "Q = np.zeros([len(linear),len(linear)])\n",
    "\n",
    "#diagonal elements\n",
    "for key,value in linear.items():\n",
    "    Q[int(key.split('_')[1]),int(key.split('_')[1])] = value\n",
    "\n",
    "#non diagonal elements\n",
    "for key,value in quadratic.items():\n",
    "    Q[int(key[0].split('_')[1]),int(key[1].split('_')[1])] = value/2\n",
    "    Q[int(key[1].split('_')[1]),int(key[0].split('_')[1])] = value/2\n",
    "\n",
    "Q = Q/240\n",
    "Q.round(4)\n",
    "#I with \"non normalized\" values, the circuit will end up in just equal superpositions of a set of qubits\""
   ]
  },
  {
   "cell_type": "markdown",
   "id": "05cdb565",
   "metadata": {},
   "source": [
    "## Initializing the circuit\n",
    "\n",
    "There are many other ways to create circuts. Worth mentioning is that cirq can also create grid-circuits and check, whether all two-qubits gates are only applied to adjacent qubits. This can be usefull when implementing for real quantum devices (D-Wave part)."
   ]
  },
  {
   "cell_type": "code",
   "execution_count": 154,
   "id": "f5f6dad8",
   "metadata": {},
   "outputs": [
    {
     "name": "stdout",
     "output_type": "stream",
     "text": [
      "0: ───H───\n",
      "\n",
      "1: ───H───\n",
      "\n",
      "2: ───H───\n",
      "\n",
      "3: ───H───\n",
      "\n",
      "4: ───H───\n",
      "\n",
      "5: ───H───\n",
      "\n",
      "6: ───H───\n"
     ]
    }
   ],
   "source": [
    "problem_size = len(c) # number of possible coalitions -1 = number of qubits needed\n",
    "\n",
    "qaoa = cirq.Circuit()\n",
    "qubits = cirq.LineQubit.range(problem_size)\n",
    "\n",
    "qaoa.append(cirq.H(q) for q in qubits)\n",
    "print(qaoa)\n",
    "\n"
   ]
  },
  {
   "cell_type": "markdown",
   "id": "2b7b1d94",
   "metadata": {},
   "source": [
    "## Setting the depth of QAOA and introducing parameters\n",
    "Cirq uses its own class of symbols as variables."
   ]
  },
  {
   "cell_type": "code",
   "execution_count": 155,
   "id": "3dc3961d",
   "metadata": {},
   "outputs": [
    {
     "name": "stdout",
     "output_type": "stream",
     "text": [
      "[β_0] [γ_0]\n"
     ]
    }
   ],
   "source": [
    "p = 1 # number of layers\n",
    "\n",
    "beta = [sympy.Symbol(\"β_\"+str(i)) for i in range(p)]\n",
    "gamma = [sympy.Symbol(\"γ_\"+str(i)) for i in range(p)]\n",
    "print(beta, gamma)\n",
    "    "
   ]
  },
  {
   "cell_type": "markdown",
   "id": "fc2a57d4",
   "metadata": {},
   "source": [
    "## Creating cost and mixer layers"
   ]
  },
  {
   "cell_type": "code",
   "execution_count": 156,
   "id": "f805a5da",
   "metadata": {},
   "outputs": [],
   "source": [
    "# the mixer layer should just be a list of X rotation gates with parameter beta on each qubit\n",
    "\n",
    "def mixer(circuit, beta_value: float):\n",
    "    \"\"\"Adds a mixer layer to curcuit with parameter beta_value\"\"\"\n",
    "    \n",
    "    n_qubits = len(circuit.get_independent_qubit_sets())\n",
    "    circuit\n",
    "    circuit.append([cirq.X(q) ** beta_value for q in qubits],  strategy=InsertStrategy.NEW_THEN_INLINE)\n",
    "    return circuit"
   ]
  },
  {
   "cell_type": "code",
   "execution_count": 157,
   "id": "3e539ec1",
   "metadata": {},
   "outputs": [],
   "source": [
    "def cost(circuit:cirq.circuits.circuit.Circuit, gamma_value:float, Q:np.ndarray) -> cirq.circuits.circuit.Circuit:\n",
    "    \"\"\"Adds the cost layer defined by QUBO matrix Q to circuit with the parameter gamma_value\"\"\"\n",
    "    \n",
    "    nrow = np. size(Q, 0)\n",
    "    ncol = np. size(Q, 1)\n",
    "    \n",
    "    for row in range(nrow):\n",
    "        for col in range(row, ncol):\n",
    "            \n",
    "            #for better readability the linear gates will be applied later\n",
    "            if row == col:\n",
    "                lin = Q[row,col]\n",
    "                continue \n",
    "            if Q[row,col] != 0:\n",
    "                circuit.append(cirq.ZZ(qubits[row],qubits[col]) ** (gamma_value * Q[row,col]))\n",
    "        # the single qubit z gate for linear terms after all quadratic interaction for this quibit    \n",
    "        if lin != 0:\n",
    "            circuit.append(cirq.Z(qubits[row]) ** (gamma_value * lin))\n",
    "                  \n",
    "    return circuit"
   ]
  },
  {
   "cell_type": "code",
   "execution_count": 158,
   "id": "0c6cb0d9",
   "metadata": {},
   "outputs": [],
   "source": [
    "# simple test cost layer, where only adjacent qubits are connected\n",
    "def cost_test(circuit, gamma_value:float):\n",
    "    \n",
    "    for i in range(problem_size - 1):\n",
    "        circuit.append(cirq.ZZ(qubits[i],qubits[i+1]) ** (gamma_value))\n",
    "    \n",
    "    return circuit"
   ]
  },
  {
   "cell_type": "markdown",
   "id": "a77432ae",
   "metadata": {},
   "source": [
    "## Creating the circuit\n",
    "Note: the layer-functions still change the circuit in-place"
   ]
  },
  {
   "cell_type": "code",
   "execution_count": 159,
   "id": "0e601e07",
   "metadata": {},
   "outputs": [],
   "source": [
    "for i in range(1):\n",
    "    \n",
    "    cost(qaoa, gamma[i], Q)\n",
    "    \n",
    "    mixer(qaoa, beta[i])"
   ]
  },
  {
   "cell_type": "code",
   "execution_count": 160,
   "id": "0c870770",
   "metadata": {},
   "outputs": [
    {
     "data": {
      "image/svg+xml": [
       "<svg xmlns=\"http://www.w3.org/2000/svg\" width=\"2005.2204687500005\" height=\"390.0\"><line x1=\"30.0\" x2=\"1975.2204687500005\" y1=\"45.0\" y2=\"45.0\" stroke=\"#1967d2\" stroke-width=\"1\" /><line x1=\"30.0\" x2=\"1975.2204687500005\" y1=\"95.0\" y2=\"95.0\" stroke=\"#1967d2\" stroke-width=\"1\" /><line x1=\"30.0\" x2=\"1975.2204687500005\" y1=\"145.0\" y2=\"145.0\" stroke=\"#1967d2\" stroke-width=\"1\" /><line x1=\"30.0\" x2=\"1975.2204687500005\" y1=\"195.0\" y2=\"195.0\" stroke=\"#1967d2\" stroke-width=\"1\" /><line x1=\"30.0\" x2=\"1975.2204687500005\" y1=\"245.0\" y2=\"245.0\" stroke=\"#1967d2\" stroke-width=\"1\" /><line x1=\"30.0\" x2=\"1975.2204687500005\" y1=\"295.0\" y2=\"295.0\" stroke=\"#1967d2\" stroke-width=\"1\" /><line x1=\"30.0\" x2=\"1975.2204687500005\" y1=\"345.0\" y2=\"345.0\" stroke=\"#1967d2\" stroke-width=\"1\" /><line x1=\"1292.2774218750003\" x2=\"1505.0230859375004\" y1=\"5.0\" y2=\"5.0\" stroke=\"black\" stroke-width=\"1\" /><line x1=\"1292.2774218750003\" x2=\"1505.0230859375004\" y1=\"385.0\" y2=\"385.0\" stroke=\"black\" stroke-width=\"1\" /><line x1=\"1077.3178906250002\" x2=\"1282.2774218750003\" y1=\"5.0\" y2=\"5.0\" stroke=\"black\" stroke-width=\"1\" /><line x1=\"1077.3178906250002\" x2=\"1282.2774218750003\" y1=\"385.0\" y2=\"385.0\" stroke=\"black\" stroke-width=\"1\" /><line x1=\"764.8785937500002\" x2=\"1067.3178906250002\" y1=\"5.0\" y2=\"5.0\" stroke=\"black\" stroke-width=\"1\" /><line x1=\"764.8785937500002\" x2=\"1067.3178906250002\" y1=\"385.0\" y2=\"385.0\" stroke=\"black\" stroke-width=\"1\" /><line x1=\"452.4392968750001\" x2=\"754.8785937500002\" y1=\"5.0\" y2=\"5.0\" stroke=\"black\" stroke-width=\"1\" /><line x1=\"452.4392968750001\" x2=\"754.8785937500002\" y1=\"385.0\" y2=\"385.0\" stroke=\"black\" stroke-width=\"1\" /><line x1=\"237.47976562500003\" x2=\"442.4392968750001\" y1=\"5.0\" y2=\"5.0\" stroke=\"black\" stroke-width=\"1\" /><line x1=\"237.47976562500003\" x2=\"442.4392968750001\" y1=\"385.0\" y2=\"385.0\" stroke=\"black\" stroke-width=\"1\" /><line x1=\"178.7398828125\" x2=\"178.7398828125\" y1=\"45.0\" y2=\"195.0\" stroke=\"black\" stroke-width=\"3\" /><line x1=\"286.21964843750004\" x2=\"286.21964843750004\" y1=\"45.0\" y2=\"245.0\" stroke=\"black\" stroke-width=\"3\" /><line x1=\"383.69941406250007\" x2=\"383.69941406250007\" y1=\"95.0\" y2=\"195.0\" stroke=\"black\" stroke-width=\"3\" /><line x1=\"501.1791796875001\" x2=\"501.1791796875001\" y1=\"45.0\" y2=\"345.0\" stroke=\"black\" stroke-width=\"3\" /><line x1=\"598.6589453125001\" x2=\"598.6589453125001\" y1=\"95.0\" y2=\"295.0\" stroke=\"black\" stroke-width=\"3\" /><line x1=\"696.1387109375002\" x2=\"696.1387109375002\" y1=\"145.0\" y2=\"245.0\" stroke=\"black\" stroke-width=\"3\" /><line x1=\"813.6184765625002\" x2=\"813.6184765625002\" y1=\"95.0\" y2=\"345.0\" stroke=\"black\" stroke-width=\"3\" /><line x1=\"911.0982421875002\" x2=\"911.0982421875002\" y1=\"145.0\" y2=\"295.0\" stroke=\"black\" stroke-width=\"3\" /><line x1=\"1008.5780078125002\" x2=\"1008.5780078125002\" y1=\"195.0\" y2=\"245.0\" stroke=\"black\" stroke-width=\"3\" /><line x1=\"1126.0577734375001\" x2=\"1126.0577734375001\" y1=\"145.0\" y2=\"345.0\" stroke=\"black\" stroke-width=\"3\" /><line x1=\"1223.5375390625002\" x2=\"1223.5375390625002\" y1=\"195.0\" y2=\"295.0\" stroke=\"black\" stroke-width=\"3\" /><line x1=\"1344.9103710937502\" x2=\"1344.9103710937502\" y1=\"195.0\" y2=\"345.0\" stroke=\"black\" stroke-width=\"3\" /><line x1=\"1446.2832031250002\" x2=\"1446.2832031250002\" y1=\"245.0\" y2=\"295.0\" stroke=\"black\" stroke-width=\"3\" /><line x1=\"1577.6560351562503\" x2=\"1577.6560351562503\" y1=\"245.0\" y2=\"345.0\" stroke=\"black\" stroke-width=\"3\" /><line x1=\"1702.9219335937503\" x2=\"1702.9219335937503\" y1=\"295.0\" y2=\"345.0\" stroke=\"black\" stroke-width=\"3\" /><line x1=\"1292.2774218750003\" x2=\"1292.2774218750003\" y1=\"5.0\" y2=\"15.0\" stroke=\"black\" stroke-width=\"3\" /><line x1=\"1505.0230859375004\" x2=\"1505.0230859375004\" y1=\"5.0\" y2=\"15.0\" stroke=\"black\" stroke-width=\"3\" /><line x1=\"1292.2774218750003\" x2=\"1292.2774218750003\" y1=\"375.0\" y2=\"385.0\" stroke=\"black\" stroke-width=\"3\" /><line x1=\"1505.0230859375004\" x2=\"1505.0230859375004\" y1=\"375.0\" y2=\"385.0\" stroke=\"black\" stroke-width=\"3\" /><line x1=\"1077.3178906250002\" x2=\"1077.3178906250002\" y1=\"5.0\" y2=\"15.0\" stroke=\"black\" stroke-width=\"3\" /><line x1=\"1282.2774218750003\" x2=\"1282.2774218750003\" y1=\"5.0\" y2=\"15.0\" stroke=\"black\" stroke-width=\"3\" /><line x1=\"1077.3178906250002\" x2=\"1077.3178906250002\" y1=\"375.0\" y2=\"385.0\" stroke=\"black\" stroke-width=\"3\" /><line x1=\"1282.2774218750003\" x2=\"1282.2774218750003\" y1=\"375.0\" y2=\"385.0\" stroke=\"black\" stroke-width=\"3\" /><line x1=\"764.8785937500002\" x2=\"764.8785937500002\" y1=\"5.0\" y2=\"15.0\" stroke=\"black\" stroke-width=\"3\" /><line x1=\"1067.3178906250002\" x2=\"1067.3178906250002\" y1=\"5.0\" y2=\"15.0\" stroke=\"black\" stroke-width=\"3\" /><line x1=\"764.8785937500002\" x2=\"764.8785937500002\" y1=\"375.0\" y2=\"385.0\" stroke=\"black\" stroke-width=\"3\" /><line x1=\"1067.3178906250002\" x2=\"1067.3178906250002\" y1=\"375.0\" y2=\"385.0\" stroke=\"black\" stroke-width=\"3\" /><line x1=\"452.4392968750001\" x2=\"452.4392968750001\" y1=\"5.0\" y2=\"15.0\" stroke=\"black\" stroke-width=\"3\" /><line x1=\"754.8785937500002\" x2=\"754.8785937500002\" y1=\"5.0\" y2=\"15.0\" stroke=\"black\" stroke-width=\"3\" /><line x1=\"452.4392968750001\" x2=\"452.4392968750001\" y1=\"375.0\" y2=\"385.0\" stroke=\"black\" stroke-width=\"3\" /><line x1=\"754.8785937500002\" x2=\"754.8785937500002\" y1=\"375.0\" y2=\"385.0\" stroke=\"black\" stroke-width=\"3\" /><line x1=\"237.47976562500003\" x2=\"237.47976562500003\" y1=\"5.0\" y2=\"15.0\" stroke=\"black\" stroke-width=\"3\" /><line x1=\"442.4392968750001\" x2=\"442.4392968750001\" y1=\"5.0\" y2=\"15.0\" stroke=\"black\" stroke-width=\"3\" /><line x1=\"237.47976562500003\" x2=\"237.47976562500003\" y1=\"375.0\" y2=\"385.0\" stroke=\"black\" stroke-width=\"3\" /><line x1=\"442.4392968750001\" x2=\"442.4392968750001\" y1=\"375.0\" y2=\"385.0\" stroke=\"black\" stroke-width=\"3\" /><rect x=\"10.0\" y=\"25.0\" width=\"40\" height=\"40\" stroke=\"black\" fill=\"white\" stroke-width=\"0\" /><text x=\"30.0\" y=\"45.0\" dominant-baseline=\"middle\" text-anchor=\"middle\" font-size=\"14px\" font-family=\"Arial\">0: </text><rect x=\"10.0\" y=\"75.0\" width=\"40\" height=\"40\" stroke=\"black\" fill=\"white\" stroke-width=\"0\" /><text x=\"30.0\" y=\"95.0\" dominant-baseline=\"middle\" text-anchor=\"middle\" font-size=\"14px\" font-family=\"Arial\">1: </text><rect x=\"10.0\" y=\"125.0\" width=\"40\" height=\"40\" stroke=\"black\" fill=\"white\" stroke-width=\"0\" /><text x=\"30.0\" y=\"145.0\" dominant-baseline=\"middle\" text-anchor=\"middle\" font-size=\"14px\" font-family=\"Arial\">2: </text><rect x=\"10.0\" y=\"175.0\" width=\"40\" height=\"40\" stroke=\"black\" fill=\"white\" stroke-width=\"0\" /><text x=\"30.0\" y=\"195.0\" dominant-baseline=\"middle\" text-anchor=\"middle\" font-size=\"14px\" font-family=\"Arial\">3: </text><rect x=\"10.0\" y=\"225.0\" width=\"40\" height=\"40\" stroke=\"black\" fill=\"white\" stroke-width=\"0\" /><text x=\"30.0\" y=\"245.0\" dominant-baseline=\"middle\" text-anchor=\"middle\" font-size=\"14px\" font-family=\"Arial\">4: </text><rect x=\"10.0\" y=\"275.0\" width=\"40\" height=\"40\" stroke=\"black\" fill=\"white\" stroke-width=\"0\" /><text x=\"30.0\" y=\"295.0\" dominant-baseline=\"middle\" text-anchor=\"middle\" font-size=\"14px\" font-family=\"Arial\">5: </text><rect x=\"10.0\" y=\"325.0\" width=\"40\" height=\"40\" stroke=\"black\" fill=\"white\" stroke-width=\"0\" /><text x=\"30.0\" y=\"345.0\" dominant-baseline=\"middle\" text-anchor=\"middle\" font-size=\"14px\" font-family=\"Arial\">6: </text><rect x=\"70.0\" y=\"25.0\" width=\"40\" height=\"40\" stroke=\"black\" fill=\"white\" stroke-width=\"1\" /><text x=\"90.0\" y=\"45.0\" dominant-baseline=\"middle\" text-anchor=\"middle\" font-size=\"18px\" font-family=\"Arial\">H</text><rect x=\"70.0\" y=\"75.0\" width=\"40\" height=\"40\" stroke=\"black\" fill=\"white\" stroke-width=\"1\" /><text x=\"90.0\" y=\"95.0\" dominant-baseline=\"middle\" text-anchor=\"middle\" font-size=\"18px\" font-family=\"Arial\">H</text><rect x=\"70.0\" y=\"125.0\" width=\"40\" height=\"40\" stroke=\"black\" fill=\"white\" stroke-width=\"1\" /><text x=\"90.0\" y=\"145.0\" dominant-baseline=\"middle\" text-anchor=\"middle\" font-size=\"18px\" font-family=\"Arial\">H</text><rect x=\"70.0\" y=\"175.0\" width=\"40\" height=\"40\" stroke=\"black\" fill=\"white\" stroke-width=\"1\" /><text x=\"90.0\" y=\"195.0\" dominant-baseline=\"middle\" text-anchor=\"middle\" font-size=\"18px\" font-family=\"Arial\">H</text><rect x=\"70.0\" y=\"225.0\" width=\"40\" height=\"40\" stroke=\"black\" fill=\"white\" stroke-width=\"1\" /><text x=\"90.0\" y=\"245.0\" dominant-baseline=\"middle\" text-anchor=\"middle\" font-size=\"18px\" font-family=\"Arial\">H</text><rect x=\"70.0\" y=\"275.0\" width=\"40\" height=\"40\" stroke=\"black\" fill=\"white\" stroke-width=\"1\" /><text x=\"90.0\" y=\"295.0\" dominant-baseline=\"middle\" text-anchor=\"middle\" font-size=\"18px\" font-family=\"Arial\">H</text><rect x=\"70.0\" y=\"325.0\" width=\"40\" height=\"40\" stroke=\"black\" fill=\"white\" stroke-width=\"1\" /><text x=\"90.0\" y=\"345.0\" dominant-baseline=\"middle\" text-anchor=\"middle\" font-size=\"18px\" font-family=\"Arial\">H</text><rect x=\"130.0\" y=\"25.0\" width=\"97.47976562500001\" height=\"40\" stroke=\"black\" fill=\"white\" stroke-width=\"1\" /><text x=\"178.7398828125\" y=\"45.0\" dominant-baseline=\"middle\" text-anchor=\"middle\" font-size=\"14px\" font-family=\"Arial\">ZZ</text><rect x=\"130.0\" y=\"175.0\" width=\"97.47976562500001\" height=\"40\" stroke=\"black\" fill=\"white\" stroke-width=\"1\" /><text x=\"178.7398828125\" y=\"195.0\" dominant-baseline=\"middle\" text-anchor=\"middle\" font-size=\"14px\" font-family=\"Arial\">ZZ^(50.0*γ_0)</text><rect x=\"237.47976562500003\" y=\"25.0\" width=\"97.47976562500001\" height=\"40\" stroke=\"black\" fill=\"white\" stroke-width=\"1\" /><text x=\"286.21964843750004\" y=\"45.0\" dominant-baseline=\"middle\" text-anchor=\"middle\" font-size=\"14px\" font-family=\"Arial\">ZZ</text><rect x=\"237.47976562500003\" y=\"225.0\" width=\"97.47976562500001\" height=\"40\" stroke=\"black\" fill=\"white\" stroke-width=\"1\" /><text x=\"286.21964843750004\" y=\"245.0\" dominant-baseline=\"middle\" text-anchor=\"middle\" font-size=\"14px\" font-family=\"Arial\">ZZ^(50.0*γ_0)</text><rect x=\"334.95953125000005\" y=\"75.0\" width=\"97.47976562500001\" height=\"40\" stroke=\"black\" fill=\"white\" stroke-width=\"1\" /><text x=\"383.69941406250007\" y=\"95.0\" dominant-baseline=\"middle\" text-anchor=\"middle\" font-size=\"14px\" font-family=\"Arial\">ZZ</text><rect x=\"334.95953125000005\" y=\"175.0\" width=\"97.47976562500001\" height=\"40\" stroke=\"black\" fill=\"white\" stroke-width=\"1\" /><text x=\"383.69941406250007\" y=\"195.0\" dominant-baseline=\"middle\" text-anchor=\"middle\" font-size=\"14px\" font-family=\"Arial\">ZZ^(50.0*γ_0)</text><rect x=\"452.4392968750001\" y=\"25.0\" width=\"97.47976562500001\" height=\"40\" stroke=\"black\" fill=\"white\" stroke-width=\"1\" /><text x=\"501.1791796875001\" y=\"45.0\" dominant-baseline=\"middle\" text-anchor=\"middle\" font-size=\"14px\" font-family=\"Arial\">ZZ</text><rect x=\"452.4392968750001\" y=\"325.0\" width=\"97.47976562500001\" height=\"40\" stroke=\"black\" fill=\"white\" stroke-width=\"1\" /><text x=\"501.1791796875001\" y=\"345.0\" dominant-baseline=\"middle\" text-anchor=\"middle\" font-size=\"14px\" font-family=\"Arial\">ZZ^(50.0*γ_0)</text><rect x=\"549.9190625000001\" y=\"75.0\" width=\"97.47976562500001\" height=\"40\" stroke=\"black\" fill=\"white\" stroke-width=\"1\" /><text x=\"598.6589453125001\" y=\"95.0\" dominant-baseline=\"middle\" text-anchor=\"middle\" font-size=\"14px\" font-family=\"Arial\">ZZ</text><rect x=\"549.9190625000001\" y=\"275.0\" width=\"97.47976562500001\" height=\"40\" stroke=\"black\" fill=\"white\" stroke-width=\"1\" /><text x=\"598.6589453125001\" y=\"295.0\" dominant-baseline=\"middle\" text-anchor=\"middle\" font-size=\"14px\" font-family=\"Arial\">ZZ^(50.0*γ_0)</text><rect x=\"647.3988281250001\" y=\"125.0\" width=\"97.47976562500001\" height=\"40\" stroke=\"black\" fill=\"white\" stroke-width=\"1\" /><text x=\"696.1387109375002\" y=\"145.0\" dominant-baseline=\"middle\" text-anchor=\"middle\" font-size=\"14px\" font-family=\"Arial\">ZZ</text><rect x=\"647.3988281250001\" y=\"225.0\" width=\"97.47976562500001\" height=\"40\" stroke=\"black\" fill=\"white\" stroke-width=\"1\" /><text x=\"696.1387109375002\" y=\"245.0\" dominant-baseline=\"middle\" text-anchor=\"middle\" font-size=\"14px\" font-family=\"Arial\">ZZ^(50.0*γ_0)</text><rect x=\"764.8785937500002\" y=\"25.0\" width=\"97.47976562500001\" height=\"40\" stroke=\"black\" fill=\"white\" stroke-width=\"1\" /><text x=\"813.6184765625002\" y=\"45.0\" dominant-baseline=\"middle\" text-anchor=\"middle\" font-size=\"14px\" font-family=\"Arial\">Z^(-80.0*γ_0)</text><rect x=\"764.8785937500002\" y=\"75.0\" width=\"97.47976562500001\" height=\"40\" stroke=\"black\" fill=\"white\" stroke-width=\"1\" /><text x=\"813.6184765625002\" y=\"95.0\" dominant-baseline=\"middle\" text-anchor=\"middle\" font-size=\"14px\" font-family=\"Arial\">ZZ</text><rect x=\"764.8785937500002\" y=\"325.0\" width=\"97.47976562500001\" height=\"40\" stroke=\"black\" fill=\"white\" stroke-width=\"1\" /><text x=\"813.6184765625002\" y=\"345.0\" dominant-baseline=\"middle\" text-anchor=\"middle\" font-size=\"14px\" font-family=\"Arial\">ZZ^(50.0*γ_0)</text><rect x=\"862.3583593750002\" y=\"125.0\" width=\"97.47976562500001\" height=\"40\" stroke=\"black\" fill=\"white\" stroke-width=\"1\" /><text x=\"911.0982421875002\" y=\"145.0\" dominant-baseline=\"middle\" text-anchor=\"middle\" font-size=\"14px\" font-family=\"Arial\">ZZ</text><rect x=\"862.3583593750002\" y=\"275.0\" width=\"97.47976562500001\" height=\"40\" stroke=\"black\" fill=\"white\" stroke-width=\"1\" /><text x=\"911.0982421875002\" y=\"295.0\" dominant-baseline=\"middle\" text-anchor=\"middle\" font-size=\"14px\" font-family=\"Arial\">ZZ^(50.0*γ_0)</text><rect x=\"959.8381250000002\" y=\"175.0\" width=\"97.47976562500001\" height=\"40\" stroke=\"black\" fill=\"white\" stroke-width=\"1\" /><text x=\"1008.5780078125002\" y=\"195.0\" dominant-baseline=\"middle\" text-anchor=\"middle\" font-size=\"14px\" font-family=\"Arial\">ZZ</text><rect x=\"959.8381250000002\" y=\"225.0\" width=\"97.47976562500001\" height=\"40\" stroke=\"black\" fill=\"white\" stroke-width=\"1\" /><text x=\"1008.5780078125002\" y=\"245.0\" dominant-baseline=\"middle\" text-anchor=\"middle\" font-size=\"14px\" font-family=\"Arial\">ZZ^(50.0*γ_0)</text><rect x=\"1077.3178906250002\" y=\"75.0\" width=\"97.47976562500001\" height=\"40\" stroke=\"black\" fill=\"white\" stroke-width=\"1\" /><text x=\"1126.0577734375001\" y=\"95.0\" dominant-baseline=\"middle\" text-anchor=\"middle\" font-size=\"14px\" font-family=\"Arial\">Z^(-90.0*γ_0)</text><rect x=\"1077.3178906250002\" y=\"125.0\" width=\"97.47976562500001\" height=\"40\" stroke=\"black\" fill=\"white\" stroke-width=\"1\" /><text x=\"1126.0577734375001\" y=\"145.0\" dominant-baseline=\"middle\" text-anchor=\"middle\" font-size=\"14px\" font-family=\"Arial\">ZZ</text><rect x=\"1077.3178906250002\" y=\"325.0\" width=\"97.47976562500001\" height=\"40\" stroke=\"black\" fill=\"white\" stroke-width=\"1\" /><text x=\"1126.0577734375001\" y=\"345.0\" dominant-baseline=\"middle\" text-anchor=\"middle\" font-size=\"14px\" font-family=\"Arial\">ZZ^(50.0*γ_0)</text><rect x=\"1174.7976562500003\" y=\"175.0\" width=\"97.47976562500001\" height=\"40\" stroke=\"black\" fill=\"white\" stroke-width=\"1\" /><text x=\"1223.5375390625002\" y=\"195.0\" dominant-baseline=\"middle\" text-anchor=\"middle\" font-size=\"14px\" font-family=\"Arial\">ZZ</text><rect x=\"1174.7976562500003\" y=\"275.0\" width=\"97.47976562500001\" height=\"40\" stroke=\"black\" fill=\"white\" stroke-width=\"1\" /><text x=\"1223.5375390625002\" y=\"295.0\" dominant-baseline=\"middle\" text-anchor=\"middle\" font-size=\"14px\" font-family=\"Arial\">ZZ^(50.0*γ_0)</text><rect x=\"1292.2774218750003\" y=\"125.0\" width=\"105.26589843750001\" height=\"40\" stroke=\"black\" fill=\"white\" stroke-width=\"1\" /><text x=\"1344.9103710937502\" y=\"145.0\" dominant-baseline=\"middle\" text-anchor=\"middle\" font-size=\"14px\" font-family=\"Arial\">Z^(-75.0*γ_0)</text><rect x=\"1292.2774218750003\" y=\"175.0\" width=\"105.26589843750001\" height=\"40\" stroke=\"black\" fill=\"white\" stroke-width=\"1\" /><text x=\"1344.9103710937502\" y=\"195.0\" dominant-baseline=\"middle\" text-anchor=\"middle\" font-size=\"14px\" font-family=\"Arial\">ZZ</text><rect x=\"1292.2774218750003\" y=\"325.0\" width=\"105.26589843750001\" height=\"40\" stroke=\"black\" fill=\"white\" stroke-width=\"1\" /><text x=\"1344.9103710937502\" y=\"345.0\" dominant-baseline=\"middle\" text-anchor=\"middle\" font-size=\"14px\" font-family=\"Arial\">ZZ^(100.0*γ_0)</text><rect x=\"1397.5433203125003\" y=\"225.0\" width=\"97.47976562500001\" height=\"40\" stroke=\"black\" fill=\"white\" stroke-width=\"1\" /><text x=\"1446.2832031250002\" y=\"245.0\" dominant-baseline=\"middle\" text-anchor=\"middle\" font-size=\"14px\" font-family=\"Arial\">ZZ</text><rect x=\"1397.5433203125003\" y=\"275.0\" width=\"97.47976562500001\" height=\"40\" stroke=\"black\" fill=\"white\" stroke-width=\"1\" /><text x=\"1446.2832031250002\" y=\"295.0\" dominant-baseline=\"middle\" text-anchor=\"middle\" font-size=\"14px\" font-family=\"Arial\">ZZ^(50.0*γ_0)</text><rect x=\"1525.0230859375004\" y=\"175.0\" width=\"105.26589843750001\" height=\"40\" stroke=\"black\" fill=\"white\" stroke-width=\"1\" /><text x=\"1577.6560351562503\" y=\"195.0\" dominant-baseline=\"middle\" text-anchor=\"middle\" font-size=\"14px\" font-family=\"Arial\">Z^(-170.0*γ_0)</text><rect x=\"1525.0230859375004\" y=\"225.0\" width=\"105.26589843750001\" height=\"40\" stroke=\"black\" fill=\"white\" stroke-width=\"1\" /><text x=\"1577.6560351562503\" y=\"245.0\" dominant-baseline=\"middle\" text-anchor=\"middle\" font-size=\"14px\" font-family=\"Arial\">ZZ</text><rect x=\"1525.0230859375004\" y=\"325.0\" width=\"105.26589843750001\" height=\"40\" stroke=\"black\" fill=\"white\" stroke-width=\"1\" /><text x=\"1577.6560351562503\" y=\"345.0\" dominant-baseline=\"middle\" text-anchor=\"middle\" font-size=\"14px\" font-family=\"Arial\">ZZ^(100.0*γ_0)</text><rect x=\"1650.2889843750004\" y=\"225.0\" width=\"105.26589843750001\" height=\"40\" stroke=\"black\" fill=\"white\" stroke-width=\"1\" /><text x=\"1702.9219335937503\" y=\"245.0\" dominant-baseline=\"middle\" text-anchor=\"middle\" font-size=\"14px\" font-family=\"Arial\">Z^(-160.0*γ_0)</text><rect x=\"1650.2889843750004\" y=\"275.0\" width=\"105.26589843750001\" height=\"40\" stroke=\"black\" fill=\"white\" stroke-width=\"1\" /><text x=\"1702.9219335937503\" y=\"295.0\" dominant-baseline=\"middle\" text-anchor=\"middle\" font-size=\"14px\" font-family=\"Arial\">ZZ</text><rect x=\"1650.2889843750004\" y=\"325.0\" width=\"105.26589843750001\" height=\"40\" stroke=\"black\" fill=\"white\" stroke-width=\"1\" /><text x=\"1702.9219335937503\" y=\"345.0\" dominant-baseline=\"middle\" text-anchor=\"middle\" font-size=\"14px\" font-family=\"Arial\">ZZ^(100.0*γ_0)</text><rect x=\"1775.5548828125004\" y=\"275.0\" width=\"101.37625000000001\" height=\"40\" stroke=\"black\" fill=\"white\" stroke-width=\"1\" /><text x=\"1826.2430078125003\" y=\"295.0\" dominant-baseline=\"middle\" text-anchor=\"middle\" font-size=\"14px\" font-family=\"Arial\">Z^(-165.0*γ_0)</text><rect x=\"1775.5548828125004\" y=\"325.0\" width=\"101.37625000000001\" height=\"40\" stroke=\"black\" fill=\"white\" stroke-width=\"1\" /><text x=\"1826.2430078125003\" y=\"345.0\" dominant-baseline=\"middle\" text-anchor=\"middle\" font-size=\"14px\" font-family=\"Arial\">Z^(-240.0*γ_0)</text><rect x=\"1896.9311328125004\" y=\"25.0\" width=\"58.2893359375\" height=\"40\" stroke=\"black\" fill=\"white\" stroke-width=\"1\" /><text x=\"1926.0758007812503\" y=\"45.0\" dominant-baseline=\"middle\" text-anchor=\"middle\" font-size=\"14px\" font-family=\"Arial\">X^(β_0)</text><rect x=\"1896.9311328125004\" y=\"75.0\" width=\"58.2893359375\" height=\"40\" stroke=\"black\" fill=\"white\" stroke-width=\"1\" /><text x=\"1926.0758007812503\" y=\"95.0\" dominant-baseline=\"middle\" text-anchor=\"middle\" font-size=\"14px\" font-family=\"Arial\">X^(β_0)</text><rect x=\"1896.9311328125004\" y=\"125.0\" width=\"58.2893359375\" height=\"40\" stroke=\"black\" fill=\"white\" stroke-width=\"1\" /><text x=\"1926.0758007812503\" y=\"145.0\" dominant-baseline=\"middle\" text-anchor=\"middle\" font-size=\"14px\" font-family=\"Arial\">X^(β_0)</text><rect x=\"1896.9311328125004\" y=\"175.0\" width=\"58.2893359375\" height=\"40\" stroke=\"black\" fill=\"white\" stroke-width=\"1\" /><text x=\"1926.0758007812503\" y=\"195.0\" dominant-baseline=\"middle\" text-anchor=\"middle\" font-size=\"14px\" font-family=\"Arial\">X^(β_0)</text><rect x=\"1896.9311328125004\" y=\"225.0\" width=\"58.2893359375\" height=\"40\" stroke=\"black\" fill=\"white\" stroke-width=\"1\" /><text x=\"1926.0758007812503\" y=\"245.0\" dominant-baseline=\"middle\" text-anchor=\"middle\" font-size=\"14px\" font-family=\"Arial\">X^(β_0)</text><rect x=\"1896.9311328125004\" y=\"275.0\" width=\"58.2893359375\" height=\"40\" stroke=\"black\" fill=\"white\" stroke-width=\"1\" /><text x=\"1926.0758007812503\" y=\"295.0\" dominant-baseline=\"middle\" text-anchor=\"middle\" font-size=\"14px\" font-family=\"Arial\">X^(β_0)</text><rect x=\"1896.9311328125004\" y=\"325.0\" width=\"58.2893359375\" height=\"40\" stroke=\"black\" fill=\"white\" stroke-width=\"1\" /><text x=\"1926.0758007812503\" y=\"345.0\" dominant-baseline=\"middle\" text-anchor=\"middle\" font-size=\"14px\" font-family=\"Arial\">X^(β_0)</text></svg>"
      ],
      "text/plain": [
       "<cirq.contrib.svg.svg.SVGCircuit at 0x1d238411820>"
      ]
     },
     "execution_count": 160,
     "metadata": {},
     "output_type": "execute_result"
    }
   ],
   "source": [
    "# better printing with SVG\n",
    "SVGCircuit(qaoa)"
   ]
  },
  {
   "cell_type": "code",
   "execution_count": 148,
   "id": "5715b2ea",
   "metadata": {},
   "outputs": [],
   "source": [
    "def f_params(gamma, beta, circuit):\n",
    "    simulator = cirq.Simulator()\n",
    "    params = cirq.ParamResolver({\"γ_0\": gamma, \"β_0\": beta})\n",
    "    result = simulator.simulate(circuit, param_resolver=params).final_state_vector\n",
    "    return cirq.inverse(result) @ np.array([[1,0],[0,-1]]) @ result\n",
    " \n",
    "\n",
    "#energy for these parameters?"
   ]
  },
  {
   "cell_type": "code",
   "execution_count": 144,
   "id": "b81081f7",
   "metadata": {},
   "outputs": [
    {
     "data": {
      "text/plain": [
       "array([0.24829431, 0.2598409 , 0.19695954, 0.02798445, 0.19374515,\n",
       "       0.0281924 , 0.05228798, 0.04972458, 0.19944829, 0.02769398,\n",
       "       0.05341419, 0.04973387, 0.05269067, 0.04952716, 0.03322382,\n",
       "       0.04056416, 0.19553907, 0.13284555, 0.13746484, 0.06344684,\n",
       "       0.13683528, 0.06475646, 0.0877848 , 0.08751667, 0.10785784,\n",
       "       0.01889781, 0.04143078, 0.04499561, 0.04204051, 0.0450269 ,\n",
       "       0.03590188, 0.07434941, 0.1918486 , 0.12540579, 0.13000198,\n",
       "       0.061402  , 0.10183844, 0.02063151, 0.03918939, 0.04375733,\n",
       "       0.13002406, 0.05980889, 0.08280346, 0.08123972, 0.03832516,\n",
       "       0.04333277, 0.03439279, 0.07057536, 0.12316817, 0.05941253,\n",
       "       0.10727008, 0.07860016, 0.06177879, 0.03925319, 0.06069974,\n",
       "       0.08288459, 0.06022229, 0.03865474, 0.06002556, 0.08035436,\n",
       "       0.03055371, 0.03874352, 0.03623766, 0.11436408, 0.19444725,\n",
       "       0.13043027, 0.10541242, 0.02003678, 0.13446337, 0.06417578,\n",
       "       0.04141438, 0.0450315 , 0.13511826, 0.06123577, 0.03993459,\n",
       "       0.04455927, 0.08577625, 0.08494696, 0.03545469, 0.07317705,\n",
       "       0.1252486 , 0.06216903, 0.06340714, 0.03991201, 0.11150388,\n",
       "       0.082018  , 0.062952  , 0.08549764, 0.06281573, 0.03937656,\n",
       "       0.03123768, 0.03942164, 0.06242026, 0.08399087, 0.03721168,\n",
       "       0.11858495, 0.12234382, 0.05826322, 0.05970498, 0.03898788,\n",
       "       0.06066136, 0.03907209, 0.03065418, 0.03911564, 0.10464477,\n",
       "       0.07629871, 0.05894442, 0.07929413, 0.05909131, 0.0803539 ,\n",
       "       0.03588197, 0.11249515, 0.06589431, 0.03507222, 0.04552872,\n",
       "       0.04375715, 0.04616654, 0.04402528, 0.03914147, 0.06968793,\n",
       "       0.0448561 , 0.0431376 , 0.03858541, 0.06687358, 0.03872216,\n",
       "       0.06807214, 0.02834731, 0.16679291], dtype=float32)"
      ]
     },
     "execution_count": 144,
     "metadata": {},
     "output_type": "execute_result"
    }
   ],
   "source": [
    "def f_params2(gamma, beta, circuit, qubo):\n",
    "    simulator = cirq.Simulator()\n",
    "    params = cirq.ParamResolver({\"γ_0\": gamma, \"β_0\": beta})\n",
    "    result = simulator.simulate(circuit, param_resolver=params).final_state_vector\n",
    "    return result\n",
    "\n",
    "abs(f_params2(0.5, 1.2, qaoa, Q))"
   ]
  },
  {
   "cell_type": "code",
   "execution_count": 149,
   "id": "fe5e623a",
   "metadata": {
    "scrolled": true
   },
   "outputs": [
    {
     "ename": "ValueError",
     "evalue": "matmul: Input operand 1 has a mismatch in its core dimension 0, with gufunc signature (n?,k),(k,m?)->(n?,m?) (size 2 is different from 128)",
     "output_type": "error",
     "traceback": [
      "\u001b[1;31m---------------------------------------------------------------------------\u001b[0m",
      "\u001b[1;31mValueError\u001b[0m                                Traceback (most recent call last)",
      "\u001b[1;32m<ipython-input-149-022902646cfc>\u001b[0m in \u001b[0;36m<module>\u001b[1;34m\u001b[0m\n\u001b[0;32m      1\u001b[0m \u001b[1;32mfor\u001b[0m \u001b[0mi\u001b[0m \u001b[1;32min\u001b[0m \u001b[0mrange\u001b[0m\u001b[1;33m(\u001b[0m\u001b[1;36m0\u001b[0m\u001b[1;33m,\u001b[0m \u001b[1;36m20\u001b[0m\u001b[1;33m,\u001b[0m \u001b[1;36m1\u001b[0m\u001b[1;33m)\u001b[0m\u001b[1;33m:\u001b[0m\u001b[1;33m\u001b[0m\u001b[1;33m\u001b[0m\u001b[0m\n\u001b[0;32m      2\u001b[0m     \u001b[1;32mfor\u001b[0m \u001b[0mj\u001b[0m \u001b[1;32min\u001b[0m \u001b[0mrange\u001b[0m\u001b[1;33m(\u001b[0m\u001b[1;36m0\u001b[0m\u001b[1;33m,\u001b[0m \u001b[1;36m20\u001b[0m\u001b[1;33m,\u001b[0m \u001b[1;36m1\u001b[0m\u001b[1;33m)\u001b[0m\u001b[1;33m:\u001b[0m\u001b[1;33m\u001b[0m\u001b[1;33m\u001b[0m\u001b[0m\n\u001b[1;32m----> 3\u001b[1;33m         \u001b[0mprint\u001b[0m\u001b[1;33m(\u001b[0m\u001b[0mf_params\u001b[0m\u001b[1;33m(\u001b[0m\u001b[0mi\u001b[0m\u001b[1;33m/\u001b[0m\u001b[1;36m10\u001b[0m\u001b[1;33m,\u001b[0m\u001b[0mj\u001b[0m\u001b[1;33m/\u001b[0m\u001b[1;36m10\u001b[0m\u001b[1;33m,\u001b[0m\u001b[0mqaoa\u001b[0m\u001b[1;33m)\u001b[0m\u001b[1;33m)\u001b[0m\u001b[1;33m\u001b[0m\u001b[1;33m\u001b[0m\u001b[0m\n\u001b[0m\u001b[0;32m      4\u001b[0m \u001b[1;33m\u001b[0m\u001b[0m\n\u001b[0;32m      5\u001b[0m \u001b[1;31m#parameters don't influence energy :(\u001b[0m\u001b[1;33m\u001b[0m\u001b[1;33m\u001b[0m\u001b[1;33m\u001b[0m\u001b[0m\n",
      "\u001b[1;32m<ipython-input-148-89f242257eb5>\u001b[0m in \u001b[0;36mf_params\u001b[1;34m(gamma, beta, circuit)\u001b[0m\n\u001b[0;32m      3\u001b[0m     \u001b[0mparams\u001b[0m \u001b[1;33m=\u001b[0m \u001b[0mcirq\u001b[0m\u001b[1;33m.\u001b[0m\u001b[0mParamResolver\u001b[0m\u001b[1;33m(\u001b[0m\u001b[1;33m{\u001b[0m\u001b[1;34m\"γ_0\"\u001b[0m\u001b[1;33m:\u001b[0m \u001b[0mgamma\u001b[0m\u001b[1;33m,\u001b[0m \u001b[1;34m\"β_0\"\u001b[0m\u001b[1;33m:\u001b[0m \u001b[0mbeta\u001b[0m\u001b[1;33m}\u001b[0m\u001b[1;33m)\u001b[0m\u001b[1;33m\u001b[0m\u001b[1;33m\u001b[0m\u001b[0m\n\u001b[0;32m      4\u001b[0m     \u001b[0mresult\u001b[0m \u001b[1;33m=\u001b[0m \u001b[0msimulator\u001b[0m\u001b[1;33m.\u001b[0m\u001b[0msimulate\u001b[0m\u001b[1;33m(\u001b[0m\u001b[0mcircuit\u001b[0m\u001b[1;33m,\u001b[0m \u001b[0mparam_resolver\u001b[0m\u001b[1;33m=\u001b[0m\u001b[0mparams\u001b[0m\u001b[1;33m)\u001b[0m\u001b[1;33m.\u001b[0m\u001b[0mfinal_state_vector\u001b[0m\u001b[1;33m\u001b[0m\u001b[1;33m\u001b[0m\u001b[0m\n\u001b[1;32m----> 5\u001b[1;33m     \u001b[1;32mreturn\u001b[0m \u001b[0mcirq\u001b[0m\u001b[1;33m.\u001b[0m\u001b[0minverse\u001b[0m\u001b[1;33m(\u001b[0m\u001b[0mresult\u001b[0m\u001b[1;33m)\u001b[0m \u001b[1;33m@\u001b[0m \u001b[0mnp\u001b[0m\u001b[1;33m.\u001b[0m\u001b[0marray\u001b[0m\u001b[1;33m(\u001b[0m\u001b[1;33m[\u001b[0m\u001b[1;33m[\u001b[0m\u001b[1;36m1\u001b[0m\u001b[1;33m,\u001b[0m\u001b[1;36m0\u001b[0m\u001b[1;33m]\u001b[0m\u001b[1;33m,\u001b[0m\u001b[1;33m[\u001b[0m\u001b[1;36m0\u001b[0m\u001b[1;33m,\u001b[0m\u001b[1;33m-\u001b[0m\u001b[1;36m1\u001b[0m\u001b[1;33m]\u001b[0m\u001b[1;33m]\u001b[0m\u001b[1;33m)\u001b[0m \u001b[1;33m@\u001b[0m \u001b[0mresult\u001b[0m\u001b[1;33m\u001b[0m\u001b[1;33m\u001b[0m\u001b[0m\n\u001b[0m\u001b[0;32m      6\u001b[0m \u001b[1;33m\u001b[0m\u001b[0m\n\u001b[0;32m      7\u001b[0m \u001b[1;33m\u001b[0m\u001b[0m\n",
      "\u001b[1;31mValueError\u001b[0m: matmul: Input operand 1 has a mismatch in its core dimension 0, with gufunc signature (n?,k),(k,m?)->(n?,m?) (size 2 is different from 128)"
     ]
    }
   ],
   "source": [
    "for i in range(0, 20, 1):\n",
    "    for j in range(0, 20, 1):\n",
    "        print(f_params(i/10,j/10,qaoa))\n",
    "        \n",
    "#parameters don't influence energy :("
   ]
  },
  {
   "cell_type": "code",
   "execution_count": 161,
   "id": "8b66ca50",
   "metadata": {},
   "outputs": [],
   "source": [
    "# Adding a measurement layer\n",
    "measure_qoao = qaoa.copy()\n",
    "measure_qoao.append(cirq.measure(qubits, key = 'result'))"
   ]
  },
  {
   "cell_type": "code",
   "execution_count": 163,
   "id": "8fe761e9",
   "metadata": {},
   "outputs": [
    {
     "data": {
      "image/png": "[encoded data removed]",
      "text/plain": [
       "<Figure size 432x288 with 1 Axes>"
      ]
     },
     "metadata": {
      "needs_background": "light"
     },
     "output_type": "display_data"
    }
   ],
   "source": [
    "num_reps = 1000\n",
    "#single instance of parameters\n",
    "gamma_value, beta_value = 0.5, 0.5 \n",
    "\n",
    "params = cirq.ParamResolver({\"γ_0\": gamma_value, \"β_0\": beta_value})\n",
    "measure_result = simulator.run(measure_qoao, param_resolver=params, repetitions = num_reps)\n",
    "  \n",
    "cirq.plot_state_histogram(measure_result, plt.subplot())\n",
    "plt.show()\n"
   ]
  },
  {
   "cell_type": "code",
   "execution_count": null,
   "id": "9ed3f219",
   "metadata": {},
   "outputs": [],
   "source": []
  }
 ],
 "metadata": {
  "kernelspec": {
   "display_name": "Python 3",
   "language": "python",
   "name": "python3"
  },
  "language_info": {
   "codemirror_mode": {
    "name": "ipython",
    "version": 3
   },
   "file_extension": ".py",
   "mimetype": "text/x-python",
   "name": "python",
   "nbconvert_exporter": "python",
   "pygments_lexer": "ipython3",
   "version": "3.8.8"
  }
 },
 "nbformat": 4,
 "nbformat_minor": 5
}
