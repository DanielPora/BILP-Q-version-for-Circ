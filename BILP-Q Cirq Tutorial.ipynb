{
 "cells": [
  {
   "cell_type": "markdown",
   "id": "f13843f6",
   "metadata": {},
   "source": [
    "# This notebook implements the BILP-Q tutorial in Cirq"
   ]
  },
  {
   "cell_type": "code",
   "execution_count": 1,
   "id": "89dbabed",
   "metadata": {},
   "outputs": [],
   "source": [
    "try:\n",
    "    import cirq\n",
    "except ImportError:\n",
    "    print(\"installing cirq...\")\n",
    "    !pip install --quiet cirq\n",
    "    print(\"installed cirq.\")\n",
    "    import cirq\n",
    "import cirq_google\n",
    "from Utils_CSG import *\n",
    "import sympy \n",
    "import numpy as np\n",
    "from typing import Sequence, Tuple\n",
    "from cirq.circuits import InsertStrategy\n",
    "from cirq.contrib.svg import SVGCircuit\n",
    "import matplotlib.pyplot as plt\n",
    "import time"
   ]
  },
  {
   "cell_type": "markdown",
   "id": "4a3b4b38",
   "metadata": {},
   "source": [
    "## Starting with the a given CSG\n",
    "Using the same steps as in the BILP-Q Qiskit tutorial to generate the Q-matrix"
   ]
  },
  {
   "cell_type": "code",
   "execution_count": 2,
   "id": "6d74dd2b",
   "metadata": {},
   "outputs": [
    {
     "data": {
      "text/plain": [
       "{'1': 30, '2': 40, '3': 25, '1,2': 70, '1,3': 60, '2,3': 65, '1,2,3': 90}"
      ]
     },
     "execution_count": 2,
     "metadata": {},
     "output_type": "execute_result"
    }
   ],
   "source": [
    "agents = 3\n",
    "coalition_values={\n",
    "    '1':30,\n",
    "    '2':40,\n",
    "    '3':25,\n",
    "    '1,2':70,\n",
    "    '1,3':60,\n",
    "    '2,3':65,\n",
    "    '1,2,3':90\n",
    "}\n",
    "coalition_values\n",
    "\n"
   ]
  },
  {
   "cell_type": "code",
   "execution_count": 3,
   "id": "7895f695",
   "metadata": {},
   "outputs": [],
   "source": [
    "# agents = 2\n",
    "# coalition_values={\n",
    "#     '1':30,\n",
    "#     '2':40,\n",
    "#     '1,2':75\n",
    "\n",
    "# }\n",
    "# print(coalition_values)\n",
    "# c,S,b = convert_to_BILP(coalition_values)       # A function in Utils_CSG.py\n",
    "# print(f'c = {c}\\nS = {S}\\nb = {b}')"
   ]
  },
  {
   "cell_type": "code",
   "execution_count": 4,
   "id": "2c2b4141",
   "metadata": {
    "scrolled": true
   },
   "outputs": [
    {
     "name": "stdout",
     "output_type": "stream",
     "text": [
      "c = [30, 40, 25, 70, 60, 65, 90]\n",
      "S = [[1, 0, 0, 1, 1, 0, 1], [0, 1, 0, 1, 0, 1, 1], [0, 0, 1, 0, 1, 1, 1]]\n",
      "b = [1, 1, 1]\n"
     ]
    }
   ],
   "source": [
    "c,S,b = convert_to_BILP(coalition_values)       # A function in Utils_CSG.py\n",
    "print(f'c = {c}\\nS = {S}\\nb = {b}')"
   ]
  },
  {
   "cell_type": "code",
   "execution_count": 5,
   "id": "f01cfd52",
   "metadata": {},
   "outputs": [],
   "source": [
    "qubo_penalty = 50 * -1\n",
    "\n",
    "linear,quadratic = get_QUBO_coeffs(c,S,b,qubo_penalty)        # A function in Utils_CSG.py\n",
    "\n"
   ]
  },
  {
   "cell_type": "code",
   "execution_count": 6,
   "id": "9ef99dde",
   "metadata": {
    "scrolled": false
   },
   "outputs": [
    {
     "name": "stdout",
     "output_type": "stream",
     "text": [
      "[-0.29166667 -0.25       -0.3125     -0.54166667 -0.58333333 -0.5625\n",
      " -0.875     ]\n"
     ]
    },
    {
     "data": {
      "text/plain": [
       "array([[-0.3,  0. ,  0. ,  0.2,  0.2,  0. ,  0.2],\n",
       "       [ 0. , -0.4,  0. ,  0.2,  0. ,  0.2,  0.2],\n",
       "       [ 0. ,  0. , -0.3,  0. ,  0.2,  0.2,  0.2],\n",
       "       [ 0.2,  0.2,  0. , -0.7,  0.2,  0.2,  0.4],\n",
       "       [ 0.2,  0. ,  0.2,  0.2, -0.7,  0.2,  0.4],\n",
       "       [ 0. ,  0.2,  0.2,  0.2,  0.2, -0.7,  0.4],\n",
       "       [ 0.2,  0.2,  0.2,  0.4,  0.4,  0.4, -1. ]])"
      ]
     },
     "execution_count": 6,
     "metadata": {},
     "output_type": "execute_result"
    }
   ],
   "source": [
    "Q = np.zeros([len(linear),len(linear)])\n",
    "Qmax = 0\n",
    "#diagonal elements\n",
    "for key,value in linear.items():\n",
    "    if Qmax < abs(value):\n",
    "        Qmax = abs(value)\n",
    "        \n",
    "    Q[int(key.split('_')[1]),int(key.split('_')[1])] = value\n",
    "\n",
    "#non diagonal elements\n",
    "for key,value in quadratic.items():\n",
    "    if Qmax < abs(value/2):\n",
    "        Qmax = abs(value/2)\n",
    "    Q[int(key[0].split('_')[1]),int(key[1].split('_')[1])] = value/2\n",
    "    Q[int(key[1].split('_')[1]),int(key[0].split('_')[1])] = value/2\n",
    "\n",
    "\n",
    "Q = Q/Qmax\n",
    "\n",
    "w = np.zeros(len(Q[0]))\n",
    "w = -Q.sum(axis = 1)\n",
    "print(w)\n",
    "Q.round(1)\n",
    "\n"
   ]
  },
  {
   "cell_type": "markdown",
   "id": "05cdb565",
   "metadata": {},
   "source": [
    "## Initializing the circuit\n",
    "\n",
    "There are many other ways to create circuts. Worth mentioning is that cirq can also create grid-circuits and check, whether all two-qubits gates are only applied to adjacent qubits. This can be usefull when implementing for real quantum devices (D-Wave part)."
   ]
  },
  {
   "cell_type": "code",
   "execution_count": 7,
   "id": "f5f6dad8",
   "metadata": {},
   "outputs": [],
   "source": [
    "def cirq_init(n_prob):\n",
    "    \"\"\"Initializes a circuit of n_prob Line Qubits in equal superposition\n",
    "    Return: the circuit itself and the quibits used in it\"\"\"\n",
    "    circuit = cirq.Circuit() #initializing a circuit object\n",
    "    qubits = cirq.LineQubit.range(n_prob) # creating n_prob qubits\n",
    "    circuit.append(cirq.H(q) for q in qubits) # adding the just created qubits each with a H-Gate to the circuit\n",
    "    return circuit, qubits"
   ]
  },
  {
   "cell_type": "markdown",
   "id": "fc2a57d4",
   "metadata": {},
   "source": [
    "## Creating cost and mixer layers"
   ]
  },
  {
   "cell_type": "code",
   "execution_count": 8,
   "id": "f805a5da",
   "metadata": {},
   "outputs": [],
   "source": [
    "# the mixer layer should just be a list of X rotation gates with parameter beta on each qubit\n",
    "# that will be appended to the circuit\n",
    "\n",
    "def mixer_layer(in_circuit, beta_value: float):\n",
    "    \"\"\"Adds a mixer layer to circuit with parameter beta_value\"\"\"\n",
    "    circuit = in_circuit.copy() \n",
    "    # without copy() circuit would still be the same instance of in_circuit\n",
    "    # and mixer() would in-place change in_circuit\n",
    "    \n",
    "    n_qubits = len(circuit.get_independent_qubit_sets())\n",
    "    circuit.append([cirq.X(q) ** (beta_value* (-2.43981781636574)) for q in qubits],  strategy=InsertStrategy.NEW_THEN_INLINE)\n",
    "    # adding an X-gate to the power of beta_value to every qubit. Using an insert strategy to put them all in the same moment\n",
    "    # for better readability in the diagram later\n",
    "    return circuit"
   ]
  },
  {
   "cell_type": "code",
   "execution_count": 9,
   "id": "3e539ec1",
   "metadata": {},
   "outputs": [],
   "source": [
    "def cost_layer(in_circuit:cirq.circuits.circuit.Circuit, gamma_value:float, Q:np.ndarray) -> cirq.circuits.circuit.Circuit:\n",
    "    \"\"\"Adds the cost layer defined by QUBO matrix Q to circuit with the parameter gamma_value\"\"\"\n",
    "    \n",
    "    \n",
    "    circuit = in_circuit.copy()\n",
    "    nrow = np. size(Q, 0)\n",
    "    ncol = np. size(Q, 1)\n",
    "    \n",
    "    # in the Q matrix, diagonal entries represent the coefficients for linear terms, while the of-diagonal non-zero elements\n",
    "    # are the coefficients for mixed terms. A linear term will be implemented as Z rotation gate on the resprective qubit,\n",
    "    # while a mixed term is implemented as ZZ rotational gate on the 2 resprective qubits.\n",
    "    # the rotations are parametrized by the gamma_value for this sprecific layer\n",
    "    \n",
    "    for row in range(nrow):\n",
    "        # we don't need to iterrate through the whole matrix, since it's symetrical. The upper right part and diagonal is enough\n",
    "        for col in range(row, ncol):\n",
    "            \n",
    "            if row == col:\n",
    "                lin = Q[row,col]\n",
    "                continue \n",
    "                # if the element is on the diagonal we will collect the coefficient to apply the single Z gate after all\n",
    "                # ZZ gates are done on this qubit\n",
    "            \n",
    "            elif Q[row,col] != 0:\n",
    "                # when we have a non-diagonal element that is not zero we append a gama_value\n",
    "                # parametrized ZZ rotation gate on the resprective 2 qubits\n",
    "                circuit.append(cirq.ZZ(qubits[row],qubits[col]) ** (gamma_value* 131.3328043  * Q[row,col]))\n",
    "        # the single qubit z gate for linear terms at the end of all ZZ gate for this qubit \n",
    "        if lin != 0:\n",
    "            circuit.append(cirq.Z(qubits[row]) ** (gamma_value  * 131.3328043 *  w[row]))\n",
    "                  \n",
    "    return circuit"
   ]
  },
  {
   "cell_type": "markdown",
   "id": "a77432ae",
   "metadata": {},
   "source": [
    "## Creating the circuit\n",
    "Note: the layer-functions still change the circuit in-place"
   ]
  },
  {
   "cell_type": "code",
   "execution_count": 10,
   "id": "69ff4ff8",
   "metadata": {},
   "outputs": [
    {
     "name": "stdout",
     "output_type": "stream",
     "text": [
      "[β_0] [γ_0]\n"
     ]
    }
   ],
   "source": [
    "p = 1 # number of layers\n",
    "\n",
    "# Parameters are introduced as 'symbols'. Symbols can be used like variables in a circuit but need to be 'resolved'\n",
    "# (get a value assigned to) when we want to simulate or run the circuit\n",
    "beta = [sympy.Symbol(\"β_\"+str(i)) for i in range(p)]\n",
    "gamma = [sympy.Symbol(\"γ_\"+str(i)) for i in range(p)]\n",
    "print(beta, gamma)"
   ]
  },
  {
   "cell_type": "code",
   "execution_count": 11,
   "id": "0e601e07",
   "metadata": {},
   "outputs": [
    {
     "data": {
      "text/plain": [
       "{γ_0: 1, β_0: 1}"
      ]
     },
     "execution_count": 11,
     "metadata": {},
     "output_type": "execute_result"
    }
   ],
   "source": [
    "problem_size = len(Q[0]) # defines how many qubits will be necessary to represent the problem \n",
    "\n",
    "qaoa, qubits = cirq_init(problem_size)\n",
    "\n",
    "param_dict = {} #used to store the parameters in a dictionary. For later use in the param resolver\n",
    "for i in range(p):\n",
    "    qaoa = cost_layer(qaoa, gamma[i], Q)\n",
    "    qaoa = mixer_layer(qaoa, beta[i])\n",
    "    param_dict[gamma[i]] = 1\n",
    "    param_dict[beta[i]] = 1\n",
    "    \n",
    "param_dict"
   ]
  },
  {
   "cell_type": "code",
   "execution_count": 12,
   "id": "0c870770",
   "metadata": {},
   "outputs": [
    {
     "data": {
      "image/svg+xml": [
       "<svg xmlns=\"http://www.w3.org/2000/svg\" width=\"3584.2331640625016\" height=\"390.0\"><line x1=\"30.0\" x2=\"3554.2331640625016\" y1=\"45.0\" y2=\"45.0\" stroke=\"#1967d2\" stroke-width=\"1\" /><line x1=\"30.0\" x2=\"3554.2331640625016\" y1=\"95.0\" y2=\"95.0\" stroke=\"#1967d2\" stroke-width=\"1\" /><line x1=\"30.0\" x2=\"3554.2331640625016\" y1=\"145.0\" y2=\"145.0\" stroke=\"#1967d2\" stroke-width=\"1\" /><line x1=\"30.0\" x2=\"3554.2331640625016\" y1=\"195.0\" y2=\"195.0\" stroke=\"#1967d2\" stroke-width=\"1\" /><line x1=\"30.0\" x2=\"3554.2331640625016\" y1=\"245.0\" y2=\"245.0\" stroke=\"#1967d2\" stroke-width=\"1\" /><line x1=\"30.0\" x2=\"3554.2331640625016\" y1=\"295.0\" y2=\"295.0\" stroke=\"#1967d2\" stroke-width=\"1\" /><line x1=\"30.0\" x2=\"3554.2331640625016\" y1=\"345.0\" y2=\"345.0\" stroke=\"#1967d2\" stroke-width=\"1\" /><line x1=\"2320.046953125\" x2=\"2711.8736718750006\" y1=\"5.0\" y2=\"5.0\" stroke=\"black\" stroke-width=\"1\" /><line x1=\"2320.046953125\" x2=\"2711.8736718750006\" y1=\"385.0\" y2=\"385.0\" stroke=\"black\" stroke-width=\"1\" /><line x1=\"1918.2202343750002\" x2=\"2310.046953125\" y1=\"5.0\" y2=\"5.0\" stroke=\"black\" stroke-width=\"1\" /><line x1=\"1918.2202343750002\" x2=\"2310.046953125\" y1=\"385.0\" y2=\"385.0\" stroke=\"black\" stroke-width=\"1\" /><line x1=\"1325.4801562500002\" x2=\"1908.2202343750002\" y1=\"5.0\" y2=\"5.0\" stroke=\"black\" stroke-width=\"1\" /><line x1=\"1325.4801562500002\" x2=\"1908.2202343750002\" y1=\"385.0\" y2=\"385.0\" stroke=\"black\" stroke-width=\"1\" /><line x1=\"732.7400781250001\" x2=\"1315.4801562500002\" y1=\"5.0\" y2=\"5.0\" stroke=\"black\" stroke-width=\"1\" /><line x1=\"732.7400781250001\" x2=\"1315.4801562500002\" y1=\"385.0\" y2=\"385.0\" stroke=\"black\" stroke-width=\"1\" /><line x1=\"330.913359375\" x2=\"722.7400781250001\" y1=\"5.0\" y2=\"5.0\" stroke=\"black\" stroke-width=\"1\" /><line x1=\"330.913359375\" x2=\"722.7400781250001\" y1=\"385.0\" y2=\"385.0\" stroke=\"black\" stroke-width=\"1\" /><line x1=\"225.4566796875\" x2=\"225.4566796875\" y1=\"45.0\" y2=\"195.0\" stroke=\"black\" stroke-width=\"3\" /><line x1=\"426.37003906250004\" x2=\"426.37003906250004\" y1=\"45.0\" y2=\"245.0\" stroke=\"black\" stroke-width=\"3\" /><line x1=\"617.2833984375001\" x2=\"617.2833984375001\" y1=\"95.0\" y2=\"195.0\" stroke=\"black\" stroke-width=\"3\" /><line x1=\"828.1967578125001\" x2=\"828.1967578125001\" y1=\"45.0\" y2=\"345.0\" stroke=\"black\" stroke-width=\"3\" /><line x1=\"1019.1101171875001\" x2=\"1019.1101171875001\" y1=\"95.0\" y2=\"295.0\" stroke=\"black\" stroke-width=\"3\" /><line x1=\"1210.0234765625\" x2=\"1210.0234765625\" y1=\"145.0\" y2=\"245.0\" stroke=\"black\" stroke-width=\"3\" /><line x1=\"1420.9368359375003\" x2=\"1420.9368359375003\" y1=\"95.0\" y2=\"345.0\" stroke=\"black\" stroke-width=\"3\" /><line x1=\"1611.8501953125\" x2=\"1611.8501953125\" y1=\"145.0\" y2=\"295.0\" stroke=\"black\" stroke-width=\"3\" /><line x1=\"1802.7635546875003\" x2=\"1802.7635546875003\" y1=\"195.0\" y2=\"245.0\" stroke=\"black\" stroke-width=\"3\" /><line x1=\"2013.6769140625001\" x2=\"2013.6769140625001\" y1=\"145.0\" y2=\"345.0\" stroke=\"black\" stroke-width=\"3\" /><line x1=\"2204.5902734375004\" x2=\"2204.5902734375004\" y1=\"195.0\" y2=\"295.0\" stroke=\"black\" stroke-width=\"3\" /><line x1=\"2415.5036328125\" x2=\"2415.5036328125\" y1=\"195.0\" y2=\"345.0\" stroke=\"black\" stroke-width=\"3\" /><line x1=\"2606.4169921875005\" x2=\"2606.4169921875005\" y1=\"245.0\" y2=\"295.0\" stroke=\"black\" stroke-width=\"3\" /><line x1=\"2827.3303515625007\" x2=\"2827.3303515625007\" y1=\"245.0\" y2=\"345.0\" stroke=\"black\" stroke-width=\"3\" /><line x1=\"3038.243710937501\" x2=\"3038.243710937501\" y1=\"295.0\" y2=\"345.0\" stroke=\"black\" stroke-width=\"3\" /><line x1=\"2320.046953125\" x2=\"2320.046953125\" y1=\"5.0\" y2=\"15.0\" stroke=\"black\" stroke-width=\"3\" /><line x1=\"2711.8736718750006\" x2=\"2711.8736718750006\" y1=\"5.0\" y2=\"15.0\" stroke=\"black\" stroke-width=\"3\" /><line x1=\"2320.046953125\" x2=\"2320.046953125\" y1=\"375.0\" y2=\"385.0\" stroke=\"black\" stroke-width=\"3\" /><line x1=\"2711.8736718750006\" x2=\"2711.8736718750006\" y1=\"375.0\" y2=\"385.0\" stroke=\"black\" stroke-width=\"3\" /><line x1=\"1918.2202343750002\" x2=\"1918.2202343750002\" y1=\"5.0\" y2=\"15.0\" stroke=\"black\" stroke-width=\"3\" /><line x1=\"2310.046953125\" x2=\"2310.046953125\" y1=\"5.0\" y2=\"15.0\" stroke=\"black\" stroke-width=\"3\" /><line x1=\"1918.2202343750002\" x2=\"1918.2202343750002\" y1=\"375.0\" y2=\"385.0\" stroke=\"black\" stroke-width=\"3\" /><line x1=\"2310.046953125\" x2=\"2310.046953125\" y1=\"375.0\" y2=\"385.0\" stroke=\"black\" stroke-width=\"3\" /><line x1=\"1325.4801562500002\" x2=\"1325.4801562500002\" y1=\"5.0\" y2=\"15.0\" stroke=\"black\" stroke-width=\"3\" /><line x1=\"1908.2202343750002\" x2=\"1908.2202343750002\" y1=\"5.0\" y2=\"15.0\" stroke=\"black\" stroke-width=\"3\" /><line x1=\"1325.4801562500002\" x2=\"1325.4801562500002\" y1=\"375.0\" y2=\"385.0\" stroke=\"black\" stroke-width=\"3\" /><line x1=\"1908.2202343750002\" x2=\"1908.2202343750002\" y1=\"375.0\" y2=\"385.0\" stroke=\"black\" stroke-width=\"3\" /><line x1=\"732.7400781250001\" x2=\"732.7400781250001\" y1=\"5.0\" y2=\"15.0\" stroke=\"black\" stroke-width=\"3\" /><line x1=\"1315.4801562500002\" x2=\"1315.4801562500002\" y1=\"5.0\" y2=\"15.0\" stroke=\"black\" stroke-width=\"3\" /><line x1=\"732.7400781250001\" x2=\"732.7400781250001\" y1=\"375.0\" y2=\"385.0\" stroke=\"black\" stroke-width=\"3\" /><line x1=\"1315.4801562500002\" x2=\"1315.4801562500002\" y1=\"375.0\" y2=\"385.0\" stroke=\"black\" stroke-width=\"3\" /><line x1=\"330.913359375\" x2=\"330.913359375\" y1=\"5.0\" y2=\"15.0\" stroke=\"black\" stroke-width=\"3\" /><line x1=\"722.7400781250001\" x2=\"722.7400781250001\" y1=\"5.0\" y2=\"15.0\" stroke=\"black\" stroke-width=\"3\" /><line x1=\"330.913359375\" x2=\"330.913359375\" y1=\"375.0\" y2=\"385.0\" stroke=\"black\" stroke-width=\"3\" /><line x1=\"722.7400781250001\" x2=\"722.7400781250001\" y1=\"375.0\" y2=\"385.0\" stroke=\"black\" stroke-width=\"3\" /><rect x=\"10.0\" y=\"25.0\" width=\"40\" height=\"40\" stroke=\"black\" fill=\"white\" stroke-width=\"0\" /><text x=\"30.0\" y=\"45.0\" dominant-baseline=\"middle\" text-anchor=\"middle\" font-size=\"14px\" font-family=\"Arial\">0: </text><rect x=\"10.0\" y=\"75.0\" width=\"40\" height=\"40\" stroke=\"black\" fill=\"white\" stroke-width=\"0\" /><text x=\"30.0\" y=\"95.0\" dominant-baseline=\"middle\" text-anchor=\"middle\" font-size=\"14px\" font-family=\"Arial\">1: </text><rect x=\"10.0\" y=\"125.0\" width=\"40\" height=\"40\" stroke=\"black\" fill=\"white\" stroke-width=\"0\" /><text x=\"30.0\" y=\"145.0\" dominant-baseline=\"middle\" text-anchor=\"middle\" font-size=\"14px\" font-family=\"Arial\">2: </text><rect x=\"10.0\" y=\"175.0\" width=\"40\" height=\"40\" stroke=\"black\" fill=\"white\" stroke-width=\"0\" /><text x=\"30.0\" y=\"195.0\" dominant-baseline=\"middle\" text-anchor=\"middle\" font-size=\"14px\" font-family=\"Arial\">3: </text><rect x=\"10.0\" y=\"225.0\" width=\"40\" height=\"40\" stroke=\"black\" fill=\"white\" stroke-width=\"0\" /><text x=\"30.0\" y=\"245.0\" dominant-baseline=\"middle\" text-anchor=\"middle\" font-size=\"14px\" font-family=\"Arial\">4: </text><rect x=\"10.0\" y=\"275.0\" width=\"40\" height=\"40\" stroke=\"black\" fill=\"white\" stroke-width=\"0\" /><text x=\"30.0\" y=\"295.0\" dominant-baseline=\"middle\" text-anchor=\"middle\" font-size=\"14px\" font-family=\"Arial\">5: </text><rect x=\"10.0\" y=\"325.0\" width=\"40\" height=\"40\" stroke=\"black\" fill=\"white\" stroke-width=\"0\" /><text x=\"30.0\" y=\"345.0\" dominant-baseline=\"middle\" text-anchor=\"middle\" font-size=\"14px\" font-family=\"Arial\">6: </text><rect x=\"70.0\" y=\"25.0\" width=\"40\" height=\"40\" stroke=\"black\" fill=\"white\" stroke-width=\"1\" /><text x=\"90.0\" y=\"45.0\" dominant-baseline=\"middle\" text-anchor=\"middle\" font-size=\"18px\" font-family=\"Arial\">H</text><rect x=\"70.0\" y=\"75.0\" width=\"40\" height=\"40\" stroke=\"black\" fill=\"white\" stroke-width=\"1\" /><text x=\"90.0\" y=\"95.0\" dominant-baseline=\"middle\" text-anchor=\"middle\" font-size=\"18px\" font-family=\"Arial\">H</text><rect x=\"70.0\" y=\"125.0\" width=\"40\" height=\"40\" stroke=\"black\" fill=\"white\" stroke-width=\"1\" /><text x=\"90.0\" y=\"145.0\" dominant-baseline=\"middle\" text-anchor=\"middle\" font-size=\"18px\" font-family=\"Arial\">H</text><rect x=\"70.0\" y=\"175.0\" width=\"40\" height=\"40\" stroke=\"black\" fill=\"white\" stroke-width=\"1\" /><text x=\"90.0\" y=\"195.0\" dominant-baseline=\"middle\" text-anchor=\"middle\" font-size=\"18px\" font-family=\"Arial\">H</text><rect x=\"70.0\" y=\"225.0\" width=\"40\" height=\"40\" stroke=\"black\" fill=\"white\" stroke-width=\"1\" /><text x=\"90.0\" y=\"245.0\" dominant-baseline=\"middle\" text-anchor=\"middle\" font-size=\"18px\" font-family=\"Arial\">H</text><rect x=\"70.0\" y=\"275.0\" width=\"40\" height=\"40\" stroke=\"black\" fill=\"white\" stroke-width=\"1\" /><text x=\"90.0\" y=\"295.0\" dominant-baseline=\"middle\" text-anchor=\"middle\" font-size=\"18px\" font-family=\"Arial\">H</text><rect x=\"70.0\" y=\"325.0\" width=\"40\" height=\"40\" stroke=\"black\" fill=\"white\" stroke-width=\"1\" /><text x=\"90.0\" y=\"345.0\" dominant-baseline=\"middle\" text-anchor=\"middle\" font-size=\"18px\" font-family=\"Arial\">H</text><rect x=\"130.0\" y=\"25.0\" width=\"190.91335937500003\" height=\"40\" stroke=\"black\" fill=\"white\" stroke-width=\"1\" /><text x=\"225.4566796875\" y=\"45.0\" dominant-baseline=\"middle\" text-anchor=\"middle\" font-size=\"14px\" font-family=\"Arial\">ZZ</text><rect x=\"130.0\" y=\"175.0\" width=\"190.91335937500003\" height=\"40\" stroke=\"black\" fill=\"white\" stroke-width=\"1\" /><text x=\"225.4566796875\" y=\"195.0\" dominant-baseline=\"middle\" text-anchor=\"middle\" font-size=\"14px\" font-family=\"Arial\">ZZ^(27.3610008958333*γ_0)</text><rect x=\"330.913359375\" y=\"25.0\" width=\"190.91335937500003\" height=\"40\" stroke=\"black\" fill=\"white\" stroke-width=\"1\" /><text x=\"426.37003906250004\" y=\"45.0\" dominant-baseline=\"middle\" text-anchor=\"middle\" font-size=\"14px\" font-family=\"Arial\">ZZ</text><rect x=\"330.913359375\" y=\"225.0\" width=\"190.91335937500003\" height=\"40\" stroke=\"black\" fill=\"white\" stroke-width=\"1\" /><text x=\"426.37003906250004\" y=\"245.0\" dominant-baseline=\"middle\" text-anchor=\"middle\" font-size=\"14px\" font-family=\"Arial\">ZZ^(27.3610008958333*γ_0)</text><rect x=\"521.82671875\" y=\"75.0\" width=\"190.91335937500003\" height=\"40\" stroke=\"black\" fill=\"white\" stroke-width=\"1\" /><text x=\"617.2833984375001\" y=\"95.0\" dominant-baseline=\"middle\" text-anchor=\"middle\" font-size=\"14px\" font-family=\"Arial\">ZZ</text><rect x=\"521.82671875\" y=\"175.0\" width=\"190.91335937500003\" height=\"40\" stroke=\"black\" fill=\"white\" stroke-width=\"1\" /><text x=\"617.2833984375001\" y=\"195.0\" dominant-baseline=\"middle\" text-anchor=\"middle\" font-size=\"14px\" font-family=\"Arial\">ZZ^(27.3610008958333*γ_0)</text><rect x=\"732.7400781250001\" y=\"25.0\" width=\"190.91335937500003\" height=\"40\" stroke=\"black\" fill=\"white\" stroke-width=\"1\" /><text x=\"828.1967578125001\" y=\"45.0\" dominant-baseline=\"middle\" text-anchor=\"middle\" font-size=\"14px\" font-family=\"Arial\">ZZ</text><rect x=\"732.7400781250001\" y=\"325.0\" width=\"190.91335937500003\" height=\"40\" stroke=\"black\" fill=\"white\" stroke-width=\"1\" /><text x=\"828.1967578125001\" y=\"345.0\" dominant-baseline=\"middle\" text-anchor=\"middle\" font-size=\"14px\" font-family=\"Arial\">ZZ^(27.3610008958333*γ_0)</text><rect x=\"923.6534375000001\" y=\"75.0\" width=\"190.91335937500003\" height=\"40\" stroke=\"black\" fill=\"white\" stroke-width=\"1\" /><text x=\"1019.1101171875001\" y=\"95.0\" dominant-baseline=\"middle\" text-anchor=\"middle\" font-size=\"14px\" font-family=\"Arial\">ZZ</text><rect x=\"923.6534375000001\" y=\"275.0\" width=\"190.91335937500003\" height=\"40\" stroke=\"black\" fill=\"white\" stroke-width=\"1\" /><text x=\"1019.1101171875001\" y=\"295.0\" dominant-baseline=\"middle\" text-anchor=\"middle\" font-size=\"14px\" font-family=\"Arial\">ZZ^(27.3610008958333*γ_0)</text><rect x=\"1114.566796875\" y=\"125.0\" width=\"190.91335937500003\" height=\"40\" stroke=\"black\" fill=\"white\" stroke-width=\"1\" /><text x=\"1210.0234765625\" y=\"145.0\" dominant-baseline=\"middle\" text-anchor=\"middle\" font-size=\"14px\" font-family=\"Arial\">ZZ</text><rect x=\"1114.566796875\" y=\"225.0\" width=\"190.91335937500003\" height=\"40\" stroke=\"black\" fill=\"white\" stroke-width=\"1\" /><text x=\"1210.0234765625\" y=\"245.0\" dominant-baseline=\"middle\" text-anchor=\"middle\" font-size=\"14px\" font-family=\"Arial\">ZZ^(27.3610008958333*γ_0)</text><rect x=\"1325.4801562500002\" y=\"25.0\" width=\"190.91335937500003\" height=\"40\" stroke=\"black\" fill=\"white\" stroke-width=\"1\" /><text x=\"1420.9368359375003\" y=\"45.0\" dominant-baseline=\"middle\" text-anchor=\"middle\" font-size=\"14px\" font-family=\"Arial\">Z^(-38.3054012541667*γ_0)</text><rect x=\"1325.4801562500002\" y=\"75.0\" width=\"190.91335937500003\" height=\"40\" stroke=\"black\" fill=\"white\" stroke-width=\"1\" /><text x=\"1420.9368359375003\" y=\"95.0\" dominant-baseline=\"middle\" text-anchor=\"middle\" font-size=\"14px\" font-family=\"Arial\">ZZ</text><rect x=\"1325.4801562500002\" y=\"325.0\" width=\"190.91335937500003\" height=\"40\" stroke=\"black\" fill=\"white\" stroke-width=\"1\" /><text x=\"1420.9368359375003\" y=\"345.0\" dominant-baseline=\"middle\" text-anchor=\"middle\" font-size=\"14px\" font-family=\"Arial\">ZZ^(27.3610008958333*γ_0)</text><rect x=\"1516.393515625\" y=\"125.0\" width=\"190.91335937500003\" height=\"40\" stroke=\"black\" fill=\"white\" stroke-width=\"1\" /><text x=\"1611.8501953125\" y=\"145.0\" dominant-baseline=\"middle\" text-anchor=\"middle\" font-size=\"14px\" font-family=\"Arial\">ZZ</text><rect x=\"1516.393515625\" y=\"275.0\" width=\"190.91335937500003\" height=\"40\" stroke=\"black\" fill=\"white\" stroke-width=\"1\" /><text x=\"1611.8501953125\" y=\"295.0\" dominant-baseline=\"middle\" text-anchor=\"middle\" font-size=\"14px\" font-family=\"Arial\">ZZ^(27.3610008958333*γ_0)</text><rect x=\"1707.3068750000002\" y=\"175.0\" width=\"190.91335937500003\" height=\"40\" stroke=\"black\" fill=\"white\" stroke-width=\"1\" /><text x=\"1802.7635546875003\" y=\"195.0\" dominant-baseline=\"middle\" text-anchor=\"middle\" font-size=\"14px\" font-family=\"Arial\">ZZ</text><rect x=\"1707.3068750000002\" y=\"225.0\" width=\"190.91335937500003\" height=\"40\" stroke=\"black\" fill=\"white\" stroke-width=\"1\" /><text x=\"1802.7635546875003\" y=\"245.0\" dominant-baseline=\"middle\" text-anchor=\"middle\" font-size=\"14px\" font-family=\"Arial\">ZZ^(27.3610008958333*γ_0)</text><rect x=\"1918.220234375\" y=\"75.0\" width=\"190.91335937500003\" height=\"40\" stroke=\"black\" fill=\"white\" stroke-width=\"1\" /><text x=\"2013.6769140625001\" y=\"95.0\" dominant-baseline=\"middle\" text-anchor=\"middle\" font-size=\"14px\" font-family=\"Arial\">Z^(-32.833201075*γ_0)</text><rect x=\"1918.220234375\" y=\"125.0\" width=\"190.91335937500003\" height=\"40\" stroke=\"black\" fill=\"white\" stroke-width=\"1\" /><text x=\"2013.6769140625001\" y=\"145.0\" dominant-baseline=\"middle\" text-anchor=\"middle\" font-size=\"14px\" font-family=\"Arial\">ZZ</text><rect x=\"1918.220234375\" y=\"325.0\" width=\"190.91335937500003\" height=\"40\" stroke=\"black\" fill=\"white\" stroke-width=\"1\" /><text x=\"2013.6769140625001\" y=\"345.0\" dominant-baseline=\"middle\" text-anchor=\"middle\" font-size=\"14px\" font-family=\"Arial\">ZZ^(27.3610008958333*γ_0)</text><rect x=\"2109.1335937500003\" y=\"175.0\" width=\"190.91335937500003\" height=\"40\" stroke=\"black\" fill=\"white\" stroke-width=\"1\" /><text x=\"2204.5902734375004\" y=\"195.0\" dominant-baseline=\"middle\" text-anchor=\"middle\" font-size=\"14px\" font-family=\"Arial\">ZZ</text><rect x=\"2109.1335937500003\" y=\"275.0\" width=\"190.91335937500003\" height=\"40\" stroke=\"black\" fill=\"white\" stroke-width=\"1\" /><text x=\"2204.5902734375004\" y=\"295.0\" dominant-baseline=\"middle\" text-anchor=\"middle\" font-size=\"14px\" font-family=\"Arial\">ZZ^(27.3610008958333*γ_0)</text><rect x=\"2320.046953125\" y=\"125.0\" width=\"190.91335937500003\" height=\"40\" stroke=\"black\" fill=\"white\" stroke-width=\"1\" /><text x=\"2415.5036328125\" y=\"145.0\" dominant-baseline=\"middle\" text-anchor=\"middle\" font-size=\"14px\" font-family=\"Arial\">Z^(-41.04150134375*γ_0)</text><rect x=\"2320.046953125\" y=\"175.0\" width=\"190.91335937500003\" height=\"40\" stroke=\"black\" fill=\"white\" stroke-width=\"1\" /><text x=\"2415.5036328125\" y=\"195.0\" dominant-baseline=\"middle\" text-anchor=\"middle\" font-size=\"14px\" font-family=\"Arial\">ZZ</text><rect x=\"2320.046953125\" y=\"325.0\" width=\"190.91335937500003\" height=\"40\" stroke=\"black\" fill=\"white\" stroke-width=\"1\" /><text x=\"2415.5036328125\" y=\"345.0\" dominant-baseline=\"middle\" text-anchor=\"middle\" font-size=\"14px\" font-family=\"Arial\">ZZ^(54.7220017916667*γ_0)</text><rect x=\"2510.9603125000003\" y=\"225.0\" width=\"190.91335937500003\" height=\"40\" stroke=\"black\" fill=\"white\" stroke-width=\"1\" /><text x=\"2606.4169921875005\" y=\"245.0\" dominant-baseline=\"middle\" text-anchor=\"middle\" font-size=\"14px\" font-family=\"Arial\">ZZ</text><rect x=\"2510.9603125000003\" y=\"275.0\" width=\"190.91335937500003\" height=\"40\" stroke=\"black\" fill=\"white\" stroke-width=\"1\" /><text x=\"2606.4169921875005\" y=\"295.0\" dominant-baseline=\"middle\" text-anchor=\"middle\" font-size=\"14px\" font-family=\"Arial\">ZZ^(27.3610008958333*γ_0)</text><rect x=\"2731.8736718750006\" y=\"175.0\" width=\"190.91335937500003\" height=\"40\" stroke=\"black\" fill=\"white\" stroke-width=\"1\" /><text x=\"2827.3303515625007\" y=\"195.0\" dominant-baseline=\"middle\" text-anchor=\"middle\" font-size=\"14px\" font-family=\"Arial\">Z^(-71.1386023291667*γ_0)</text><rect x=\"2731.8736718750006\" y=\"225.0\" width=\"190.91335937500003\" height=\"40\" stroke=\"black\" fill=\"white\" stroke-width=\"1\" /><text x=\"2827.3303515625007\" y=\"245.0\" dominant-baseline=\"middle\" text-anchor=\"middle\" font-size=\"14px\" font-family=\"Arial\">ZZ</text><rect x=\"2731.8736718750006\" y=\"325.0\" width=\"190.91335937500003\" height=\"40\" stroke=\"black\" fill=\"white\" stroke-width=\"1\" /><text x=\"2827.3303515625007\" y=\"345.0\" dominant-baseline=\"middle\" text-anchor=\"middle\" font-size=\"14px\" font-family=\"Arial\">ZZ^(54.7220017916667*γ_0)</text><rect x=\"2942.787031250001\" y=\"225.0\" width=\"190.91335937500003\" height=\"40\" stroke=\"black\" fill=\"white\" stroke-width=\"1\" /><text x=\"3038.243710937501\" y=\"245.0\" dominant-baseline=\"middle\" text-anchor=\"middle\" font-size=\"14px\" font-family=\"Arial\">Z^(-76.6108025083333*γ_0)</text><rect x=\"2942.787031250001\" y=\"275.0\" width=\"190.91335937500003\" height=\"40\" stroke=\"black\" fill=\"white\" stroke-width=\"1\" /><text x=\"3038.243710937501\" y=\"295.0\" dominant-baseline=\"middle\" text-anchor=\"middle\" font-size=\"14px\" font-family=\"Arial\">ZZ</text><rect x=\"2942.787031250001\" y=\"325.0\" width=\"190.91335937500003\" height=\"40\" stroke=\"black\" fill=\"white\" stroke-width=\"1\" /><text x=\"3038.243710937501\" y=\"345.0\" dominant-baseline=\"middle\" text-anchor=\"middle\" font-size=\"14px\" font-family=\"Arial\">ZZ^(54.7220017916667*γ_0)</text><rect x=\"3153.700390625001\" y=\"275.0\" width=\"171.45144531250003\" height=\"40\" stroke=\"black\" fill=\"white\" stroke-width=\"1\" /><text x=\"3239.426113281251\" y=\"295.0\" dominant-baseline=\"middle\" text-anchor=\"middle\" font-size=\"14px\" font-family=\"Arial\">Z^(-73.87470241875*γ_0)</text><rect x=\"3153.700390625001\" y=\"325.0\" width=\"171.45144531250003\" height=\"40\" stroke=\"black\" fill=\"white\" stroke-width=\"1\" /><text x=\"3239.426113281251\" y=\"345.0\" dominant-baseline=\"middle\" text-anchor=\"middle\" font-size=\"14px\" font-family=\"Arial\">Z^(-114.9162037625*γ_0)</text><rect x=\"3345.1518359375013\" y=\"25.0\" width=\"189.08132812500003\" height=\"40\" stroke=\"black\" fill=\"white\" stroke-width=\"1\" /><text x=\"3439.6925000000015\" y=\"45.0\" dominant-baseline=\"middle\" text-anchor=\"middle\" font-size=\"14px\" font-family=\"Arial\">X^(-2.43981781636574*β_0)</text><rect x=\"3345.1518359375013\" y=\"75.0\" width=\"189.08132812500003\" height=\"40\" stroke=\"black\" fill=\"white\" stroke-width=\"1\" /><text x=\"3439.6925000000015\" y=\"95.0\" dominant-baseline=\"middle\" text-anchor=\"middle\" font-size=\"14px\" font-family=\"Arial\">X^(-2.43981781636574*β_0)</text><rect x=\"3345.1518359375013\" y=\"125.0\" width=\"189.08132812500003\" height=\"40\" stroke=\"black\" fill=\"white\" stroke-width=\"1\" /><text x=\"3439.6925000000015\" y=\"145.0\" dominant-baseline=\"middle\" text-anchor=\"middle\" font-size=\"14px\" font-family=\"Arial\">X^(-2.43981781636574*β_0)</text><rect x=\"3345.1518359375013\" y=\"175.0\" width=\"189.08132812500003\" height=\"40\" stroke=\"black\" fill=\"white\" stroke-width=\"1\" /><text x=\"3439.6925000000015\" y=\"195.0\" dominant-baseline=\"middle\" text-anchor=\"middle\" font-size=\"14px\" font-family=\"Arial\">X^(-2.43981781636574*β_0)</text><rect x=\"3345.1518359375013\" y=\"225.0\" width=\"189.08132812500003\" height=\"40\" stroke=\"black\" fill=\"white\" stroke-width=\"1\" /><text x=\"3439.6925000000015\" y=\"245.0\" dominant-baseline=\"middle\" text-anchor=\"middle\" font-size=\"14px\" font-family=\"Arial\">X^(-2.43981781636574*β_0)</text><rect x=\"3345.1518359375013\" y=\"275.0\" width=\"189.08132812500003\" height=\"40\" stroke=\"black\" fill=\"white\" stroke-width=\"1\" /><text x=\"3439.6925000000015\" y=\"295.0\" dominant-baseline=\"middle\" text-anchor=\"middle\" font-size=\"14px\" font-family=\"Arial\">X^(-2.43981781636574*β_0)</text><rect x=\"3345.1518359375013\" y=\"325.0\" width=\"189.08132812500003\" height=\"40\" stroke=\"black\" fill=\"white\" stroke-width=\"1\" /><text x=\"3439.6925000000015\" y=\"345.0\" dominant-baseline=\"middle\" text-anchor=\"middle\" font-size=\"14px\" font-family=\"Arial\">X^(-2.43981781636574*β_0)</text></svg>"
      ],
      "text/plain": [
       "<cirq.contrib.svg.svg.SVGCircuit at 0x1adbd13f040>"
      ]
     },
     "execution_count": 12,
     "metadata": {},
     "output_type": "execute_result"
    }
   ],
   "source": [
    "# better printing with SVG\n",
    "SVGCircuit(qaoa)"
   ]
  },
  {
   "cell_type": "code",
   "execution_count": 13,
   "id": "5715b2ea",
   "metadata": {},
   "outputs": [],
   "source": [
    "def state_vector_params(gamma, beta, circuit):\n",
    "    simulator = cirq.Simulator() # initializing the simulator object\n",
    "    params = cirq.ParamResolver({\"γ_0\": gamma, \"β_0\": beta}) \n",
    "    #the param resolver maps values from the function input to the respective variables in the circuit\n",
    "    \n",
    "    result = abs(simulator.simulate(circuit, param_resolver=params).final_state_vector)\n",
    "    # simulates the final state vector of the circuit with the input values for the parameters gamma and beta\n",
    "    # only take tha absolut values since the imaginary parts should only exist due to rounding errors\n",
    "    sum = 0\n",
    "    for elm in result:\n",
    "        sum += elm**2\n",
    "    if 1 != round(sum,3):\n",
    "        print(\"Warning: final state vector is normalized. Difference to 1 is more than .001\")\n",
    "    \n",
    "    return result\n",
    " \n"
   ]
  },
  {
   "cell_type": "markdown",
   "id": "a9d978f3",
   "metadata": {},
   "source": [
    "# Utilities"
   ]
  },
  {
   "cell_type": "code",
   "execution_count": 14,
   "id": "f73f5913",
   "metadata": {},
   "outputs": [],
   "source": [
    "def M_z(dim):\n",
    "    \"\"\"For measurments in the computational basis this function can create a matrix corresponding to the \n",
    "    tensor produkt of number of dim Pauli-Z matrices. \n",
    "    dim: number of qubits in the circuit\"\"\"\n",
    "    mat_Z = np.eye(2)\n",
    "    mat_Z[1,1] = -1\n",
    "    M = [1]\n",
    "    for i in range(dim):\n",
    "        M = np.kron(M, mat_Z)\n",
    "    return M\n",
    "\n",
    "def ez_filter(n, dim):\n",
    "    '''\n",
    "    Creates matrices like Z_n (for n={1,...,#qubits}) , where we apply the Z gate to the n-th qubit\n",
    "    in a circuit of dim number of qubits\n",
    "    '''\n",
    "    # start with Pauli-Z matrix\n",
    "    ez_f = np.eye(2)\n",
    "    ez_f[1,1] = -1\n",
    "\n",
    "    if n == 1:\n",
    "        #with for Z_1 we need to do the tensor product of Pauli-Z with dim-1 unit matrices\n",
    "        ez_f = np.kron(ez_f, np.eye(2**(dim-1) ))\n",
    "        \n",
    "    else:\n",
    "        #for Z_n we need a tensor product of n-1 unit matrices then Pauli-Z and again unit matrices for all the other qubits\n",
    "        ez_f = np.kron(np.eye(2**(n-1)), ez_f)\n",
    "        ez_f = np.kron(ez_f, np.eye(2**(dim-n)))   \n",
    "\n",
    "    return ez_f\n",
    "\n",
    "def m_op(Q):\n",
    "    '''\n",
    "    A matrix corresponding to the problem hamiltonian H_c. To compute the expectation values in terms of cost for the qubo\n",
    "    '''\n",
    "    dim = len(Q[1])\n",
    "    \n",
    "    nrow = np. size(Q, 0)\n",
    "    \n",
    "    ncol = np. size(Q, 1)\n",
    "        \n",
    "    ez = np.zeros((2**nrow, 2**ncol))\n",
    "\n",
    "    for row in range(nrow):\n",
    "        \n",
    "        for col in range(row, ncol):\n",
    "            \n",
    "            if row == col:\n",
    "                lin = Q[row,col]\n",
    "               \n",
    "                continue \n",
    "\n",
    "\n",
    "            elif Q[row,col] != 0:\n",
    "               \n",
    "                ez += Q[row,col] * ez_filter(row+1, dim) @ ez_filter(col+1, dim)\n",
    "\n",
    "\n",
    "        if lin != 0:\n",
    "            ez += w[row] * ez_filter(row+1, dim)\n",
    "\n",
    "        \n",
    "    return ez\n",
    "\n",
    "\n",
    "def to_bin_array(n):\n",
    "    ar = np.zeros(2**agents - 1)\n",
    "    for i in str(bin(n))[2:]:\n",
    "        ar = np.append(ar, int(i))\n",
    " \n",
    "\n",
    "    return ar[-(2**agents-1):]"
   ]
  },
  {
   "cell_type": "code",
   "execution_count": 15,
   "id": "85260207",
   "metadata": {},
   "outputs": [
    {
     "data": {
      "text/plain": [
       "(128, 128)"
      ]
     },
     "execution_count": 15,
     "metadata": {},
     "output_type": "execute_result"
    }
   ],
   "source": [
    "# defining the measurement operator\n",
    "M = m_op(Q)\n",
    "#M = M_z(problem_size)\n",
    "M.shape\n"
   ]
  },
  {
   "cell_type": "code",
   "execution_count": 16,
   "id": "273e407e",
   "metadata": {},
   "outputs": [
    {
     "data": {
      "image/png": "[encoded data removed]",
      "text/plain": [
       "<Figure size 640x480 with 2 Axes>"
      ]
     },
     "metadata": {},
     "output_type": "display_data"
    },
    {
     "name": "stdout",
     "output_type": "stream",
     "text": [
      "Numerically found parameters: Gamma = 1.5, Beta = 0.25\n",
      "Energy = -1.2328811795349672\n"
     ]
    }
   ],
   "source": [
    "if p ==1:\n",
    "    grid_size = 40\n",
    "    gamma_max = 2\n",
    "    beta_max = 2\n",
    "\n",
    "    # Do the grid search.\n",
    "    energies = np.zeros((grid_size, grid_size))\n",
    "    for i in range(0,grid_size):\n",
    "        for j in range(0,grid_size):\n",
    "            vec = state_vector_params(i * gamma_max / grid_size, j * beta_max / grid_size, qaoa)\n",
    "            energies[i, j] = vec @ M @ vec\n",
    "\n",
    "    \"\"\"Plot the energy as a function of the parameters 𝛄 and β found in the grid search.\"\"\"\n",
    "    plt.ylabel(r\"$\\gamma$\")\n",
    "    plt.xlabel(r\"$\\beta$\")\n",
    "    plt.title(\"Energy as a function of parameters\")\n",
    "    plt.imshow(energies, extent=(0, beta_max, gamma_max, 0))\n",
    "    plt.colorbar()\n",
    "    plt.show()\n",
    "    ind = np.unravel_index(np.argmin(energies, axis=None), energies.shape) \n",
    "    ind_gam, ind_bet = ind\n",
    "    eng = energies[ind]\n",
    "    opt_gam = ind_gam / grid_size * gamma_max\n",
    "    opt_bet = ind_bet / grid_size * beta_max\n",
    "    print(f\"Numerically found parameters: Gamma = {opt_gam}, Beta = {opt_bet}\\nEnergy = {eng}\")"
   ]
  },
  {
   "cell_type": "code",
   "execution_count": 17,
   "id": "8b66ca50",
   "metadata": {},
   "outputs": [],
   "source": [
    "# Adding a measurement layer\n",
    "measure_qaoa = qaoa.copy()\n",
    "measure_qaoa.append(cirq.measure(qubits, key = 'result'))\n",
    "simulator = cirq.Simulator()"
   ]
  },
  {
   "cell_type": "code",
   "execution_count": 18,
   "id": "e3d316bb",
   "metadata": {},
   "outputs": [],
   "source": [
    "if p == 1:\n",
    "    num_reps = 1000\n",
    "    params = cirq.ParamResolver({'γ_0': 54.722, 'β_0': -2.439})\n",
    "\n",
    "    measure_result = simulator.run(measure_qaoa, param_resolver=params, repetitions = num_reps)\n",
    "    counts = measure_result.histogram(key='result')\n",
    "    common_solution = counts.most_common(3)\n",
    "    counts.most_common(10)"
   ]
  },
  {
   "cell_type": "markdown",
   "id": "d8da9a21",
   "metadata": {},
   "source": [
    "# Optimization with expectation"
   ]
  },
  {
   "cell_type": "code",
   "execution_count": 40,
   "id": "2dabd2f0",
   "metadata": {},
   "outputs": [],
   "source": [
    "# Basic gradient descent to find the best parameter for the lowest energy level\n",
    "def param_optimizer(param_dict, circuit, qubits, lr, epochs):\n",
    "    \"\"\"param_dict: dictionary with parameters {γ_0: 0, β_0: 0, .... }\n",
    "       returns one step optimimized parameter dictionary\n",
    "    \"\"\"\n",
    "    # Creating the meassurement operator\n",
    "    \n",
    "    \n",
    "    # setting up some utilities\n",
    "    opt_energy = float('inf')\n",
    "    opt_param_dict = {}\n",
    "    simulator = cirq.Simulator() # initializing the simulator object\n",
    "    params = cirq.ParamResolver(param_dict)\n",
    "    \n",
    "    random_restart = 0\n",
    "    vals = []\n",
    "    \n",
    "    \n",
    "    for step in range(epochs):\n",
    "        \n",
    "        # The final state vector and energy of the circuit with the parameter values given by param_dict\n",
    "        base_state = abs(simulator.simulate(circuit, param_resolver=params).final_state_vector)\n",
    "        base_energy = base_state @ M @ base_state\n",
    "        vals.append(base_energy)\n",
    "        # whenever the energy is lower than previously detected, the best value and it's parameter will be stored\n",
    "        if base_energy < opt_energy: \n",
    "            opt_energy = base_energy\n",
    "            opt_param_dict = param_dict\n",
    "        \n",
    "        # Calculating the gradient numerically    \n",
    "        grad = np.zeros(len(param_dict))\n",
    "        j = 0\n",
    "        for i in param_dict:\n",
    "\n",
    "            param_dict[i] += 0.001\n",
    "            params = cirq.ParamResolver(param_dict)\n",
    "            eps_state = abs(simulator.simulate(circuit, param_resolver=params).final_state_vector)\n",
    "            param_dict[i] -= 0.001\n",
    "            eps = base_energy - (eps_state @ M @ eps_state)\n",
    "            grad[j] = eps\n",
    "            j += 1\n",
    "\n",
    "        grad = grad * lr\n",
    "        \n",
    "        j = 0\n",
    "        for i in param_dict:\n",
    "            param_dict[i] += grad[j]\n",
    "            j +=1\n",
    "        \n",
    "        # the energy of the learned state = base state + gradient * learning rate\n",
    "        params = cirq.ParamResolver(param_dict) # new parameter after the gradient step \n",
    "        vec = abs(simulator.simulate(circuit, param_resolver=params).final_state_vector)\n",
    "        energy = vec @ M @ vec #energy after the gradient step\n",
    "        if energy < opt_energy:\n",
    "            opt_energy = energy\n",
    "            opt_param_dict = param_dict\n",
    "        else: \n",
    "            random_restart +=1\n",
    "        \n",
    "        if random_restart == 3:\n",
    "            \n",
    "            random_restart = 0\n",
    "            param_dict[gamma[0]] += random.uniform(-2, 2)\n",
    "            param_dict[beta[0]] += random.uniform(-2, 2)\n",
    "            \n",
    "        if not step % 25:    \n",
    "            print(f\"Epoch {step+1}, Energy: {opt_energy}\")\n",
    "    x = (range(len(vals)))\n",
    "    plt.plot(x,vals)\n",
    "    plt.show()\n",
    "    return opt_param_dict, opt_energy\n"
   ]
  },
  {
   "cell_type": "code",
   "execution_count": 41,
   "id": "3e8fed19",
   "metadata": {},
   "outputs": [],
   "source": [
    "# Basic gradient descent to find the best parameter for the lowest energy level\n",
    "def q_cost(X):\n",
    "    val = 0\n",
    "    i = 0\n",
    "    for prob in X:\n",
    "        bits = np.array(to_bin_array(i))\n",
    "        val += prob**2 * bits @ Q @ bits\n",
    "        i += 1\n",
    "    return val\n",
    "\n",
    "def Q_optim(param_dict, circuit, qubits, lr, epochs):\n",
    "    \"\"\"param_dict: dictionary with parameters {γ_0: 0, β_0: 0, .... }\n",
    "       returns one step optimimized parameter dictionary\n",
    "    \"\"\"\n",
    "    t_start = time.time()\n",
    "    \n",
    "    \n",
    "    # setting up some utilities\n",
    "    opt_cost = float('inf')\n",
    "    opt_param_dict = {}\n",
    "    simulator = cirq.Simulator() # initializing the simulator object\n",
    "    params = cirq.ParamResolver(param_dict)\n",
    "    \n",
    "    random_restart = 0\n",
    "    vals = []\n",
    "    \n",
    "    \n",
    "    for step in range(epochs):\n",
    "        \n",
    "        # The final state vector and energy of the circuit with the parameter values given by param_dict\n",
    "        base_state = abs(simulator.simulate(circuit, param_resolver=params).final_state_vector)\n",
    "        base_cost = q_cost(base_state)\n",
    "        vals.append(base_cost)\n",
    "        # whenever the energy is lower than previously detected, the best value and it's parameter will be stored\n",
    "        if base_cost < opt_cost: \n",
    "            opt_cost = base_cost\n",
    "            opt_param_dict = param_dict\n",
    "        \n",
    "        # Calculating the gradient numerically    \n",
    "        grad = np.zeros(len(param_dict))\n",
    "        j = 0\n",
    "        for i in param_dict:\n",
    "\n",
    "            param_dict[i] += 0.001\n",
    "            params = cirq.ParamResolver(param_dict)\n",
    "            eps_cost = q_cost(abs(simulator.simulate(circuit, param_resolver=params).final_state_vector))\n",
    "            param_dict[i] -= 0.001\n",
    "            eps = base_cost - eps_cost\n",
    "            grad[j] = eps\n",
    "            j += 1\n",
    "\n",
    "        grad = grad * lr\n",
    "        \n",
    "        j = 0\n",
    "        for i in param_dict:\n",
    "            param_dict[i] += grad[j]\n",
    "            j +=1\n",
    "        \n",
    "        # the energy of the learned state = base state + gradient * learning rate\n",
    "        params = cirq.ParamResolver(param_dict) # new parameter after the gradient step \n",
    "        vec = abs(simulator.simulate(circuit, param_resolver=params).final_state_vector)\n",
    "        grad_cost = q_cost(vec) #energy after the gradient step\n",
    "        if grad_cost < opt_cost:\n",
    "            opt_cost = grad_cost\n",
    "            opt_param_dict = param_dict\n",
    "        \n",
    "        if grad_cost >= base_cost: \n",
    "            random_restart +=1\n",
    "        elif abs(base_cost - grad_cost) < 0.00001:\n",
    "            print(\"Grad vanished\")\n",
    "            random_restart = epochs//20\n",
    "        \n",
    "        \n",
    "        if random_restart >= epochs//20:\n",
    "            print(\"Restart\")\n",
    "            random_restart = 0\n",
    "            for par in param_dict:\n",
    "                param_dict[par] += random.uniform(-2, 2)\n",
    "            \n",
    "        if not step % 25:    \n",
    "            print(f\"Epoch {step+1}, Energy: {opt_cost}\")\n",
    "        t_end = time.time()\n",
    "        last_epoch = step\n",
    "        \n",
    "        if t_end - t_start > 600:\n",
    "            print(\"More than 600s runtime\")\n",
    "            break\n",
    "        \n",
    "    x = (range(len(vals)))\n",
    "    plt.plot(x,vals)\n",
    "    plt.show()\n",
    "    \n",
    "    print(f\"Time elapsed: {round(t_end - t_start,2)}s\")\n",
    "    print(f\"Time per epoch: {round((t_end - t_start)/last_epoch,4)}s\")\n",
    "    return opt_param_dict, opt_cost"
   ]
  },
  {
   "cell_type": "code",
   "execution_count": 43,
   "id": "eefd48b9",
   "metadata": {},
   "outputs": [
    {
     "name": "stdout",
     "output_type": "stream",
     "text": [
      "{γ_0: 14.741560061052205, β_0: -10.98607107272505}\n",
      "Epoch 1, Energy: -0.19765150116188684\n",
      "Grad vanished\n",
      "Restart\n",
      "Epoch 26, Energy: -0.4512464444841351\n",
      "Grad vanished\n",
      "Restart\n",
      "Epoch 51, Energy: -0.4892404510488001\n",
      "Epoch 76, Energy: -0.4892404510488001\n",
      "Restart\n",
      "Grad vanished\n",
      "Restart\n",
      "Grad vanished\n",
      "Restart\n",
      "Epoch 101, Energy: -0.4892404510488001\n",
      "Grad vanished\n",
      "Restart\n",
      "Epoch 126, Energy: -0.520526945383379\n",
      "Restart\n",
      "Epoch 151, Energy: -0.520526945383379\n",
      "Epoch 176, Energy: -0.520526945383379\n",
      "Restart\n",
      "Epoch 201, Energy: -0.520526945383379\n",
      "Restart\n",
      "Epoch 226, Energy: -0.520526945383379\n",
      "Epoch 251, Energy: -0.520526945383379\n",
      "Restart\n",
      "Grad vanished\n",
      "Restart\n",
      "Epoch 276, Energy: -0.520526945383379\n",
      "Epoch 301, Energy: -0.520526945383379\n",
      "Restart\n",
      "Epoch 326, Energy: -0.520526945383379\n",
      "Epoch 351, Energy: -0.520526945383379\n",
      "Grad vanished\n",
      "Restart\n",
      "Epoch 376, Energy: -0.520526945383379\n"
     ]
    },
    {
     "data": {
      "image/png": "[encoded data removed]",
      "text/plain": [
       "<Figure size 640x480 with 1 Axes>"
      ]
     },
     "metadata": {},
     "output_type": "display_data"
    },
    {
     "name": "stdout",
     "output_type": "stream",
     "text": [
      "Time elapsed: 50.84s\n",
      "Time per epoch: 0.1274s\n"
     ]
    },
    {
     "data": {
      "text/plain": [
       "[({γ_0: 17.354043302218734, β_0: -8.740463838194087}, -0.520526945383379)]"
      ]
     },
     "execution_count": 43,
     "metadata": {},
     "output_type": "execute_result"
    }
   ],
   "source": [
    "solutions = []\n",
    "\n",
    "print(param_dict)\n",
    "\n",
    "solutions.append(Q_optim(param_dict, qaoa, qubits, 1, 400))\n",
    "solutions"
   ]
  },
  {
   "cell_type": "code",
   "execution_count": 22,
   "id": "eaa9cdb3",
   "metadata": {},
   "outputs": [
    {
     "data": {
      "text/plain": [
       "array([0.06246979, 0.09297218, 0.05978791, 0.04144866, 0.15038763,\n",
       "       0.07838809, 0.04109818, 0.09743252, 0.06884933, 0.08922397,\n",
       "       0.07476052, 0.15384708, 0.11709207, 0.03497215, 0.07330094,\n",
       "       0.04890605, 0.1202077 , 0.05238062, 0.01814527, 0.1130063 ,\n",
       "       0.08181102, 0.06989674, 0.09055688, 0.08724087, 0.09834054,\n",
       "       0.07701316, 0.08158221, 0.111839  , 0.06290497, 0.07264226,\n",
       "       0.07505082, 0.11582202, 0.03239955, 0.10558442, 0.11678246,\n",
       "       0.08492818, 0.12586428, 0.05935606, 0.04141931, 0.12648186,\n",
       "       0.16384965, 0.08891885, 0.05701314, 0.04774306, 0.04070649,\n",
       "       0.09742976, 0.11480981, 0.06196693, 0.01274014, 0.10405316,\n",
       "       0.06271514, 0.1130736 , 0.0101778 , 0.11542632, 0.15792601,\n",
       "       0.04370014, 0.05952526, 0.12311254, 0.11612602, 0.07057352,\n",
       "       0.12378297, 0.0530213 , 0.09432983, 0.06277037, 0.09173054,\n",
       "       0.10029583, 0.13414997, 0.03840316, 0.11448523, 0.02277498,\n",
       "       0.03461488, 0.1089152 , 0.08768034, 0.08128797, 0.11046089,\n",
       "       0.05250723, 0.05298514, 0.10032537, 0.03106426, 0.10362522,\n",
       "       0.10262371, 0.0524804 , 0.06425222, 0.07461797, 0.10534212,\n",
       "       0.05193828, 0.08511635, 0.10377524, 0.10059644, 0.06400096,\n",
       "       0.06781945, 0.09142815, 0.03224967, 0.14673978, 0.08001055,\n",
       "       0.0996796 , 0.10038136, 0.1093648 , 0.12731881, 0.09747672,\n",
       "       0.05629266, 0.07326983, 0.07850945, 0.02672596, 0.03503397,\n",
       "       0.13022818, 0.07221024, 0.04611923, 0.12284214, 0.02343143,\n",
       "       0.10386045, 0.08816855, 0.10873767, 0.05554581, 0.05580561,\n",
       "       0.09870683, 0.03044012, 0.13244219, 0.09252317, 0.09974754,\n",
       "       0.08303886, 0.03245278, 0.07392694, 0.0729021 , 0.05728438,\n",
       "       0.10693727, 0.11354315, 0.09389139], dtype=float32)"
      ]
     },
     "execution_count": 22,
     "metadata": {},
     "output_type": "execute_result"
    }
   ],
   "source": [
    "vec = abs(simulator.simulate(qaoa, param_resolver=param_dict).final_state_vector)\n",
    "vec"
   ]
  },
  {
   "cell_type": "code",
   "execution_count": 23,
   "id": "5a70b1a3",
   "metadata": {},
   "outputs": [
    {
     "data": {
      "text/plain": [
       "{γ_0: -2.3624283240931665, β_0: -13.590674545734965}"
      ]
     },
     "execution_count": 23,
     "metadata": {},
     "output_type": "execute_result"
    }
   ],
   "source": [
    "opt_params = dict()\n",
    "opt_params = solutions[0][0]\n",
    "\n",
    "opt_params"
   ]
  },
  {
   "cell_type": "code",
   "execution_count": 24,
   "id": "dc5f759e",
   "metadata": {},
   "outputs": [
    {
     "name": "stdout",
     "output_type": "stream",
     "text": [
      "cirq.ParamResolver({sympy.Symbol('γ_0'): -2.3624283240931665, sympy.Symbol('β_0'): -13.590674545734965})\n"
     ]
    },
    {
     "data": {
      "image/png": "[encoded data removed]",
      "text/plain": [
       "<Figure size 640x480 with 1 Axes>"
      ]
     },
     "metadata": {},
     "output_type": "display_data"
    },
    {
     "data": {
      "text/plain": [
       "[(40, 39),\n",
       " (54, 28),\n",
       " (4, 27),\n",
       " (93, 24),\n",
       " (117, 23),\n",
       " (39, 21),\n",
       " (11, 19),\n",
       " (33, 18),\n",
       " (108, 18),\n",
       " (16, 18)]"
      ]
     },
     "execution_count": 24,
     "metadata": {},
     "output_type": "execute_result"
    }
   ],
   "source": [
    "num_reps = 1000\n",
    "params = cirq.ParamResolver(opt_params)\n",
    "print(params)\n",
    "measure_result = simulator.run(measure_qaoa, param_resolver=params, repetitions = num_reps)\n",
    "cirq.plot_state_histogram(measure_result, plt.subplot())\n",
    "plt.show()\n",
    "counts = measure_result.histogram(key='result')\n",
    "solution = counts.most_common(10)\n",
    "solution"
   ]
  },
  {
   "cell_type": "code",
   "execution_count": 25,
   "id": "7d50486e",
   "metadata": {},
   "outputs": [],
   "source": [
    "def find_sol(sol_counter):\n",
    "    min_cost = float(\"inf\")\n",
    "    tot = 0\n",
    "    for k in sol_counter:\n",
    "        v = sol_counter[k]\n",
    "        tot += v\n",
    "        bits = np.array(to_bin_array(k))\n",
    "        cost_sol =  bits @ Q @ bits\n",
    "        if cost_sol < min_cost:\n",
    "            min_cost = cost_sol\n",
    "            sol = k\n",
    "        \n",
    "  \n",
    "    prob = sol_counter[sol]/tot\n",
    "    sol_coalition = decode(np.array(to_bin_array(sol)), coalition_values)\n",
    "    return sol_coalition, sol, prob\n",
    "        "
   ]
  },
  {
   "cell_type": "code",
   "execution_count": 26,
   "id": "0a51c89b",
   "metadata": {},
   "outputs": [
    {
     "name": "stdout",
     "output_type": "stream",
     "text": [
      "Most frequent measurment:  40\n"
     ]
    },
    {
     "data": {
      "text/plain": [
       "[{'2'}, {'1', '2'}]"
      ]
     },
     "execution_count": 26,
     "metadata": {},
     "output_type": "execute_result"
    }
   ],
   "source": [
    "most_common = solution[0][0]\n",
    "print(\"Most frequent measurment: \", most_common)\n",
    "decode(to_bin_array(most_common), coalition_values)"
   ]
  },
  {
   "cell_type": "markdown",
   "id": "d9e128a0",
   "metadata": {},
   "source": [
    "## Solution"
   ]
  },
  {
   "cell_type": "code",
   "execution_count": 27,
   "id": "e2fcb3f9",
   "metadata": {},
   "outputs": [
    {
     "name": "stdout",
     "output_type": "stream",
     "text": [
      "Best coalition: [{'2'}, {'1', '3'}]\n",
      "Probabilty: 0.013\n"
     ]
    },
    {
     "data": {
      "text/plain": [
       "36"
      ]
     },
     "execution_count": 27,
     "metadata": {},
     "output_type": "execute_result"
    }
   ],
   "source": [
    "sol, num, prob = find_sol(counts)\n",
    "print(f\"Best coalition: {sol}\\nProbabilty: {prob}\")\n",
    "num"
   ]
  },
  {
   "cell_type": "markdown",
   "id": "c1dd28c3",
   "metadata": {},
   "source": [
    "# Sampling approach"
   ]
  },
  {
   "cell_type": "code",
   "execution_count": 28,
   "id": "c6fdc850",
   "metadata": {},
   "outputs": [],
   "source": [
    "simulator = cirq.Simulator()\n",
    "batch_size = 100\n",
    "params = cirq.ParamResolver(opt_params)\n",
    "\n",
    "sample_results = simulator.run(measure_qaoa, param_resolver=params, repetitions = num_reps)\n",
    "sample_results = sample_results.histogram(key='result')\n",
    "#sample_results"
   ]
  },
  {
   "cell_type": "code",
   "execution_count": 29,
   "id": "a20c387f",
   "metadata": {},
   "outputs": [
    {
     "data": {
      "text/plain": [
       "-1.0416666666666665"
      ]
     },
     "execution_count": 29,
     "metadata": {},
     "output_type": "execute_result"
    }
   ],
   "source": [
    "def cost(sample_results):\n",
    "    '''calculates the accumulated cost xQx for all x in samples_results'''\n",
    "    cost = 0\n",
    "    num = 0\n",
    "    for k in sample_results:\n",
    "        bits = np.array(to_bin_array(k))\n",
    "        num += sample_results[k]\n",
    "        cost += sample_results[k] * bits @ Q @ bits\n",
    "        \n",
    "    return cost/num\n",
    "    \n",
    "cost(sample_results)\n",
    "\n",
    "bit = np.array(to_bin_array(36))\n",
    "bit @ Q @ bit\n",
    "\n"
   ]
  },
  {
   "cell_type": "code",
   "execution_count": 30,
   "id": "29997ea2",
   "metadata": {},
   "outputs": [
    {
     "data": {
      "text/plain": [
       "array([0., 0., 1., 1., 1., 0., 0.])"
      ]
     },
     "execution_count": 30,
     "metadata": {},
     "output_type": "execute_result"
    }
   ],
   "source": [
    "np.array(to_bin_array(28))\n"
   ]
  },
  {
   "cell_type": "code",
   "execution_count": 31,
   "id": "ac2ff469",
   "metadata": {},
   "outputs": [],
   "source": [
    "def sample_optimizer(param_dict, circuit, qubits, lr, batch_size = 1000, epochs = 300):\n",
    "    \"\"\"param_dict: dictionary with parameters {γ_0: 0, β_0: 0, .... }\n",
    "       returns one step optimimized parameter dictionary\n",
    "    \"\"\"\n",
    "    # Creating the meassurement operator\n",
    "    \n",
    "    vals = []\n",
    "    # setting up some utilities\n",
    "    opt_cost = float('inf')\n",
    "    opt_param_dict = {}\n",
    "    simulator = cirq.Simulator() # initializing the simulator object\n",
    "    params = cirq.ParamResolver(param_dict)\n",
    "    \n",
    "    random_restart = 0\n",
    "    \n",
    "    \n",
    "    \n",
    "    for step in range(epochs):\n",
    "        \n",
    "        # get cost from samples\n",
    "        sample_results = simulator.run(circuit, param_resolver=param_dict, repetitions = batch_size)\n",
    "        sample_results = sample_results.histogram(key='result')\n",
    "        \n",
    "        base_cost = cost(sample_results)\n",
    "        vals.append(base_cost)\n",
    "        # whenever the energy is lower than previously detected, the best value and it's parameter will be stored\n",
    "        if base_cost < opt_cost: \n",
    "            opt_cost = base_cost\n",
    "            opt_param_dict = param_dict\n",
    "        \n",
    "        # Calculating the gradient numerically    \n",
    "        grad = np.zeros(len(param_dict))\n",
    "        j = 0\n",
    "        for i in param_dict:\n",
    "\n",
    "            param_dict[i] += 0.1\n",
    "            params = cirq.ParamResolver(param_dict)\n",
    "            eps_results = simulator.run(circuit, param_resolver=param_dict, repetitions = batch_size)\n",
    "            eps_results = eps_results.histogram(key='result')\n",
    "            param_dict[i] -= 0.1\n",
    "            eps = base_cost - cost(eps_results)\n",
    "            grad[j] = eps\n",
    "            j += 1\n",
    "\n",
    "        grad = grad * lr\n",
    "        \n",
    "        j = 0\n",
    "        for i in param_dict:\n",
    "            param_dict[i] += grad[j]\n",
    "            j +=1\n",
    "        \n",
    "        # the energy of the learned state = base state + gradient * learning rate\n",
    "        params = cirq.ParamResolver(param_dict) # new parameter after the gradient step \n",
    "        grad_results = simulator.run(circuit, param_resolver=param_dict, repetitions = batch_size)\n",
    "        grad_results = grad_results.histogram(key='result')\n",
    "        \n",
    "        # cost after grad step\n",
    "        grad_cost = cost(grad_results)\n",
    "        if grad_cost > base_cost:\n",
    "            random_restart += 1\n",
    "               \n",
    "        if grad_cost < opt_cost:\n",
    "            opt_cost = grad_cost\n",
    "            opt_param_dict = param_dict\n",
    "        \n",
    "            \n",
    "        \n",
    "        if random_restart > 10:\n",
    "            print(f\"restart at {step}\")\n",
    "            random_restart = 0\n",
    "            param_dict[gamma[0]] += random.uniform(-2, 2)\n",
    "            param_dict[beta[0]] += random.uniform(-2, 2)\n",
    "            \n",
    "        if not step % 50:    \n",
    "            print(f\"Epoch {step+1}, Cost: {grad_cost}, Grad: {grad}\")\n",
    "        \n",
    "    x = (range(len(vals)))\n",
    "    plt.plot(x,vals)\n",
    "    plt.show()    \n",
    "    return opt_param_dict, opt_cost\n"
   ]
  },
  {
   "cell_type": "code",
   "execution_count": 32,
   "id": "261db8e1",
   "metadata": {},
   "outputs": [
    {
     "name": "stdout",
     "output_type": "stream",
     "text": [
      "Epoch 1, Cost: -0.1287708333333332, Grad: [1.75208333e-04 3.70000000e-05]\n",
      "restart at 19\n",
      "restart at 40\n",
      "Epoch 51, Cost: -0.1318541666666666, Grad: [ 2.82916667e-05 -2.96250000e-05]\n",
      "restart at 63\n",
      "restart at 81\n",
      "Epoch 101, Cost: -0.1464791666666665, Grad: [-8.99375e-05 -5.50000e-06]\n",
      "restart at 102\n",
      "restart at 128\n",
      "restart at 148\n",
      "Epoch 151, Cost: -0.2688958333333334, Grad: [-0.00012912 -0.00018487]\n",
      "restart at 165\n",
      "restart at 186\n",
      "Epoch 201, Cost: -0.1647499999999999, Grad: [-5.46458333e-05 -3.40208333e-05]\n",
      "restart at 209\n",
      "restart at 228\n",
      "restart at 246\n",
      "Epoch 251, Cost: -0.40962499999999985, Grad: [-2.61354167e-04 -3.40208333e-05]\n",
      "restart at 264\n",
      "restart at 281\n",
      "Epoch 301, Cost: -0.2542291666666666, Grad: [ 0.00044654 -0.00011573]\n",
      "restart at 310\n",
      "restart at 331\n",
      "restart at 347\n",
      "Epoch 351, Cost: -0.14258333333333328, Grad: [3.06041667e-05 5.51458333e-05]\n",
      "restart at 366\n",
      "restart at 392\n",
      "Epoch 401, Cost: 0.047687500000000146, Grad: [4.15000000e-05 1.70041667e-04]\n",
      "restart at 417\n",
      "restart at 433\n",
      "Epoch 451, Cost: -0.1389374999999998, Grad: [-1.12166667e-04 -9.67083333e-05]\n",
      "restart at 458\n",
      "restart at 483\n",
      "restart at 499\n"
     ]
    },
    {
     "data": {
      "image/png": "[encoded data removed]",
      "text/plain": [
       "<Figure size 640x480 with 1 Axes>"
      ]
     },
     "metadata": {},
     "output_type": "display_data"
    },
    {
     "data": {
      "text/plain": [
       "[({γ_0: 13.140644923693783, β_0: -4.837432169469887}, -0.5966875)]"
      ]
     },
     "execution_count": 32,
     "metadata": {},
     "output_type": "execute_result"
    }
   ],
   "source": [
    "samples_sol = []\n",
    "samples_sol.append(sample_optimizer(param_dict, measure_qaoa, qubits, lr = 1* 10**(-3),  batch_size =1000, epochs = 500))\n",
    "samples_sol"
   ]
  },
  {
   "cell_type": "code",
   "execution_count": 45,
   "id": "7d72a73d",
   "metadata": {},
   "outputs": [
    {
     "name": "stdout",
     "output_type": "stream",
     "text": [
      "cirq.ParamResolver({sympy.Symbol('γ_0'): 1, sympy.Symbol('β_0'): 1})\n"
     ]
    },
    {
     "data": {
      "image/png": "[encoded data removed]",
      "text/plain": [
       "<Figure size 640x480 with 1 Axes>"
      ]
     },
     "metadata": {},
     "output_type": "display_data"
    },
    {
     "data": {
      "text/plain": [
       "[(99, 26),\n",
       " (50, 24),\n",
       " (123, 23),\n",
       " (38, 20),\n",
       " (2, 20),\n",
       " (57, 19),\n",
       " (102, 18),\n",
       " (107, 18),\n",
       " (104, 18),\n",
       " (23, 17)]"
      ]
     },
     "execution_count": 45,
     "metadata": {},
     "output_type": "execute_result"
    }
   ],
   "source": [
    "opt_params = dict()\n",
    "opt_params = samples_sol[0][0]\n",
    "\n",
    "for i in range(p):\n",
    "    param_dict[gamma[i]] = 1\n",
    "    param_dict[beta[i]] = 1\n",
    "\n",
    "num_reps = 1000\n",
    "params = cirq.ParamResolver(param_dict)\n",
    "print(params)\n",
    "measure_result = simulator.run(measure_qaoa, param_resolver=params, repetitions = num_reps)\n",
    "cirq.plot_state_histogram(measure_result, plt.subplot())\n",
    "plt.show()\n",
    "counts = measure_result.histogram(key='result')\n",
    "solution = counts.most_common(10)\n",
    "solution\n"
   ]
  },
  {
   "cell_type": "markdown",
   "id": "b3e203b7",
   "metadata": {},
   "source": [
    "# Solution"
   ]
  },
  {
   "cell_type": "code",
   "execution_count": 46,
   "id": "493e9382",
   "metadata": {},
   "outputs": [
    {
     "name": "stdout",
     "output_type": "stream",
     "text": [
      "Best coalition: [{'2'}, {'1', '3'}]\n",
      "Probabilty: 0.007\n"
     ]
    },
    {
     "data": {
      "text/plain": [
       "36"
      ]
     },
     "execution_count": 46,
     "metadata": {},
     "output_type": "execute_result"
    }
   ],
   "source": [
    "sol, num, prob = find_sol(counts)\n",
    "print(f\"Best coalition: {sol}\\nProbabilty: {prob}\")\n",
    "num"
   ]
  },
  {
   "cell_type": "code",
   "execution_count": 47,
   "id": "f14f6732",
   "metadata": {},
   "outputs": [
    {
     "name": "stdout",
     "output_type": "stream",
     "text": [
      "36 -1.0416666666666665\n"
     ]
    },
    {
     "data": {
      "image/png": "[encoded data removed]",
      "text/plain": [
       "<Figure size 640x480 with 1 Axes>"
      ]
     },
     "metadata": {},
     "output_type": "display_data"
    }
   ],
   "source": [
    "def show_cost():\n",
    "    op = float('inf')\n",
    "    vals = []\n",
    "    for i in range(128):\n",
    "        bits = np.array(to_bin_array(i))\n",
    "        co = bits @ Q @ bits\n",
    "        vals.append(co)\n",
    "        if co < op:\n",
    "            op = co\n",
    "            index = i\n",
    "\n",
    "    print(index, op)\n",
    "\n",
    "    x = range(len(vals))\n",
    "    plt.plot(x,vals)\n",
    "    return vals\n",
    "\n",
    "v = show_cost()"
   ]
  },
  {
   "cell_type": "markdown",
   "id": "54cc3ead",
   "metadata": {},
   "source": [
    "revise optimization\n",
    "simulator to non noise\n",
    "2 agents"
   ]
  },
  {
   "cell_type": "code",
   "execution_count": 36,
   "id": "c6021ca8",
   "metadata": {},
   "outputs": [
    {
     "data": {
      "text/plain": [
       "[0.0,\n",
       " -1.0,\n",
       " -0.6875,\n",
       " -0.8541666666666665,\n",
       " -0.6666666666666666,\n",
       " -0.8333333333333333,\n",
       " -0.9374999999999999,\n",
       " -0.27083333333333315,\n",
       " -0.7083333333333334,\n",
       " -0.875,\n",
       " -0.9791666666666666,\n",
       " -0.3124999999999999,\n",
       " -0.9583333333333333,\n",
       " -0.2916666666666665,\n",
       " -0.8124999999999999,\n",
       " 0.6875000000000002,\n",
       " -0.3125,\n",
       " -0.8958333333333333,\n",
       " -0.5833333333333333,\n",
       " -0.33333333333333326,\n",
       " -0.5624999999999999,\n",
       " -0.3124999999999999,\n",
       " -0.4166666666666665,\n",
       " 0.6666666666666669,\n",
       " -1.0208333333333335,\n",
       " -0.7708333333333334,\n",
       " -0.8749999999999999,\n",
       " 0.20833333333333348,\n",
       " -0.8541666666666666,\n",
       " 0.22916666666666685,\n",
       " -0.2916666666666665,\n",
       " 1.6250000000000004,\n",
       " -0.375,\n",
       " -0.9583333333333333,\n",
       " -0.6458333333333333,\n",
       " -0.39583333333333326,\n",
       " -1.0416666666666665,\n",
       " -0.7916666666666666,\n",
       " -0.8958333333333333,\n",
       " 0.18750000000000022,\n",
       " -0.6666666666666666,\n",
       " -0.41666666666666663,\n",
       " -0.5208333333333333,\n",
       " 0.5625000000000002,\n",
       " -0.9166666666666665,\n",
       " 0.1666666666666669,\n",
       " -0.3541666666666665,\n",
       " 1.5625000000000002,\n",
       " -0.6875,\n",
       " -0.8541666666666665,\n",
       " -0.5416666666666666,\n",
       " 0.1250000000000001,\n",
       " -0.9374999999999999,\n",
       " -0.27083333333333315,\n",
       " -0.3749999999999999,\n",
       " 1.125,\n",
       " -0.9791666666666666,\n",
       " -0.3124999999999999,\n",
       " -0.41666666666666663,\n",
       " 1.0833333333333335,\n",
       " -0.8124999999999999,\n",
       " 0.6875000000000002,\n",
       " 0.16666666666666685,\n",
       " 2.5,\n",
       " -0.3333333333333333,\n",
       " -0.9166666666666666,\n",
       " -1.0208333333333333,\n",
       " -0.7708333333333333,\n",
       " -0.5833333333333333,\n",
       " -0.3333333333333332,\n",
       " -0.8541666666666665,\n",
       " 0.2291666666666669,\n",
       " -0.625,\n",
       " -0.37499999999999994,\n",
       " -0.8958333333333333,\n",
       " 0.18750000000000022,\n",
       " -0.4583333333333332,\n",
       " 0.6250000000000002,\n",
       " -0.3124999999999999,\n",
       " 1.604166666666667,\n",
       " -0.6458333333333333,\n",
       " -0.8124999999999999,\n",
       " -0.9166666666666666,\n",
       " -0.24999999999999986,\n",
       " -0.4791666666666666,\n",
       " 0.18750000000000017,\n",
       " -0.3333333333333332,\n",
       " 1.166666666666667,\n",
       " -0.9375,\n",
       " -0.27083333333333326,\n",
       " -0.7916666666666666,\n",
       " 0.7083333333333335,\n",
       " -0.3541666666666665,\n",
       " 1.1458333333333335,\n",
       " 0.20833333333333345,\n",
       " 2.541666666666667,\n",
       " -0.7083333333333333,\n",
       " -0.8749999999999999,\n",
       " -0.9791666666666665,\n",
       " -0.3124999999999999,\n",
       " -0.9583333333333333,\n",
       " -0.2916666666666665,\n",
       " -0.8124999999999999,\n",
       " 0.6875000000000002,\n",
       " -0.5833333333333334,\n",
       " 0.08333333333333343,\n",
       " -0.4375,\n",
       " 1.0625,\n",
       " -0.4166666666666666,\n",
       " 1.0833333333333335,\n",
       " 0.14583333333333345,\n",
       " 2.479166666666667,\n",
       " -1.0208333333333333,\n",
       " -0.7708333333333333,\n",
       " -0.875,\n",
       " 0.2083333333333335,\n",
       " -0.8541666666666665,\n",
       " 0.22916666666666688,\n",
       " -0.2916666666666665,\n",
       " 1.6250000000000004,\n",
       " -0.8958333333333334,\n",
       " 0.18750000000000014,\n",
       " -0.33333333333333326,\n",
       " 1.5833333333333335,\n",
       " -0.3124999999999999,\n",
       " 1.604166666666667,\n",
       " 0.6666666666666667,\n",
       " 3.416666666666667]"
      ]
     },
     "execution_count": 36,
     "metadata": {},
     "output_type": "execute_result"
    }
   ],
   "source": [
    "v"
   ]
  },
  {
   "cell_type": "code",
   "execution_count": 37,
   "id": "483ae4dc",
   "metadata": {},
   "outputs": [],
   "source": [
    "w = sorted(v)[::-1]"
   ]
  },
  {
   "cell_type": "code",
   "execution_count": 38,
   "id": "8acd297f",
   "metadata": {},
   "outputs": [
    {
     "data": {
      "text/plain": [
       "[3.416666666666667,\n",
       " 2.541666666666667,\n",
       " 2.5,\n",
       " 2.479166666666667,\n",
       " 1.6250000000000004,\n",
       " 1.6250000000000004,\n",
       " 1.604166666666667,\n",
       " 1.604166666666667,\n",
       " 1.5833333333333335,\n",
       " 1.5625000000000002,\n",
       " 1.166666666666667,\n",
       " 1.1458333333333335,\n",
       " 1.125,\n",
       " 1.0833333333333335,\n",
       " 1.0833333333333335,\n",
       " 1.0625,\n",
       " 0.7083333333333335,\n",
       " 0.6875000000000002,\n",
       " 0.6875000000000002,\n",
       " 0.6875000000000002,\n",
       " 0.6666666666666669,\n",
       " 0.6666666666666667,\n",
       " 0.6250000000000002,\n",
       " 0.5625000000000002,\n",
       " 0.2291666666666669,\n",
       " 0.22916666666666688,\n",
       " 0.22916666666666685,\n",
       " 0.2083333333333335,\n",
       " 0.20833333333333348,\n",
       " 0.20833333333333345,\n",
       " 0.18750000000000022,\n",
       " 0.18750000000000022,\n",
       " 0.18750000000000017,\n",
       " 0.18750000000000014,\n",
       " 0.1666666666666669,\n",
       " 0.16666666666666685,\n",
       " 0.14583333333333345,\n",
       " 0.1250000000000001,\n",
       " 0.08333333333333343,\n",
       " 0.0,\n",
       " -0.24999999999999986,\n",
       " -0.27083333333333315,\n",
       " -0.27083333333333315,\n",
       " -0.27083333333333326,\n",
       " -0.2916666666666665,\n",
       " -0.2916666666666665,\n",
       " -0.2916666666666665,\n",
       " -0.2916666666666665,\n",
       " -0.3124999999999999,\n",
       " -0.3124999999999999,\n",
       " -0.3124999999999999,\n",
       " -0.3124999999999999,\n",
       " -0.3124999999999999,\n",
       " -0.3124999999999999,\n",
       " -0.3125,\n",
       " -0.3333333333333332,\n",
       " -0.3333333333333332,\n",
       " -0.33333333333333326,\n",
       " -0.33333333333333326,\n",
       " -0.3333333333333333,\n",
       " -0.3541666666666665,\n",
       " -0.3541666666666665,\n",
       " -0.3749999999999999,\n",
       " -0.37499999999999994,\n",
       " -0.375,\n",
       " -0.39583333333333326,\n",
       " -0.4166666666666665,\n",
       " -0.4166666666666666,\n",
       " -0.41666666666666663,\n",
       " -0.41666666666666663,\n",
       " -0.4375,\n",
       " -0.4583333333333332,\n",
       " -0.4791666666666666,\n",
       " -0.5208333333333333,\n",
       " -0.5416666666666666,\n",
       " -0.5624999999999999,\n",
       " -0.5833333333333333,\n",
       " -0.5833333333333333,\n",
       " -0.5833333333333334,\n",
       " -0.625,\n",
       " -0.6458333333333333,\n",
       " -0.6458333333333333,\n",
       " -0.6666666666666666,\n",
       " -0.6666666666666666,\n",
       " -0.6875,\n",
       " -0.6875,\n",
       " -0.7083333333333333,\n",
       " -0.7083333333333334,\n",
       " -0.7708333333333333,\n",
       " -0.7708333333333333,\n",
       " -0.7708333333333334,\n",
       " -0.7916666666666666,\n",
       " -0.7916666666666666,\n",
       " -0.8124999999999999,\n",
       " -0.8124999999999999,\n",
       " -0.8124999999999999,\n",
       " -0.8124999999999999,\n",
       " -0.8333333333333333,\n",
       " -0.8541666666666665,\n",
       " -0.8541666666666665,\n",
       " -0.8541666666666665,\n",
       " -0.8541666666666665,\n",
       " -0.8541666666666666,\n",
       " -0.8749999999999999,\n",
       " -0.8749999999999999,\n",
       " -0.875,\n",
       " -0.875,\n",
       " -0.8958333333333333,\n",
       " -0.8958333333333333,\n",
       " -0.8958333333333333,\n",
       " -0.8958333333333334,\n",
       " -0.9166666666666665,\n",
       " -0.9166666666666666,\n",
       " -0.9166666666666666,\n",
       " -0.9374999999999999,\n",
       " -0.9374999999999999,\n",
       " -0.9375,\n",
       " -0.9583333333333333,\n",
       " -0.9583333333333333,\n",
       " -0.9583333333333333,\n",
       " -0.9791666666666665,\n",
       " -0.9791666666666666,\n",
       " -0.9791666666666666,\n",
       " -1.0,\n",
       " -1.0208333333333333,\n",
       " -1.0208333333333333,\n",
       " -1.0208333333333335,\n",
       " -1.0416666666666665]"
      ]
     },
     "execution_count": 38,
     "metadata": {},
     "output_type": "execute_result"
    }
   ],
   "source": [
    "w"
   ]
  },
  {
   "cell_type": "code",
   "execution_count": 39,
   "id": "e4881a84",
   "metadata": {},
   "outputs": [
    {
     "data": {
      "text/plain": [
       "1"
      ]
     },
     "execution_count": 39,
     "metadata": {},
     "output_type": "execute_result"
    }
   ],
   "source": [
    "v.index(-1.0)"
   ]
  }
 ],
 "metadata": {
  "kernelspec": {
   "display_name": "Python 3 (ipykernel)",
   "language": "python",
   "name": "python3"
  },
  "language_info": {
   "codemirror_mode": {
    "name": "ipython",
    "version": 3
   },
   "file_extension": ".py",
   "mimetype": "text/x-python",
   "name": "python",
   "nbconvert_exporter": "python",
   "pygments_lexer": "ipython3",
   "version": "3.9.13"
  }
 },
 "nbformat": 4,
 "nbformat_minor": 5
}
