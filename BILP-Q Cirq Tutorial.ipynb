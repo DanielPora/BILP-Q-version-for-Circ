{
 "cells": [
  {
   "cell_type": "markdown",
   "id": "f13843f6",
   "metadata": {},
   "source": [
    "# This notebook implements the BILP-Q tutorial in Cirq"
   ]
  },
  {
   "cell_type": "code",
   "execution_count": 1,
   "id": "89dbabed",
   "metadata": {},
   "outputs": [],
   "source": [
    "try:\n",
    "    import cirq\n",
    "except ImportError:\n",
    "    print(\"installing cirq...\")\n",
    "    !pip install --quiet cirq\n",
    "    print(\"installed cirq.\")\n",
    "    import cirq\n",
    "import cirq_google\n",
    "from Utils_CSG import *\n",
    "import sympy \n",
    "import numpy as np\n",
    "from typing import Sequence, Tuple\n",
    "from cirq.circuits import InsertStrategy\n",
    "from cirq.contrib.svg import SVGCircuit\n",
    "import matplotlib.pyplot as plt"
   ]
  },
  {
   "cell_type": "markdown",
   "id": "4a3b4b38",
   "metadata": {},
   "source": [
    "## Starting with the a given CSG\n",
    "Using the same steps as in the BILP-Q Qiskit tutorial to generate the Q-matrix"
   ]
  },
  {
   "cell_type": "code",
   "execution_count": 2,
   "id": "6d74dd2b",
   "metadata": {},
   "outputs": [
    {
     "data": {
      "text/plain": [
       "{'1': 30, '2': 40, '3': 25, '1,2': 70, '1,3': 60, '2,3': 65, '1,2,3': 90}"
      ]
     },
     "execution_count": 2,
     "metadata": {},
     "output_type": "execute_result"
    }
   ],
   "source": [
    "coalition_values={\n",
    "    '1':30,\n",
    "    '2':40,\n",
    "    '3':25,\n",
    "    '1,2':70,\n",
    "    '1,3':60,\n",
    "    '2,3':65,\n",
    "    '1,2,3':90\n",
    "}\n",
    "coalition_values"
   ]
  },
  {
   "cell_type": "code",
   "execution_count": 3,
   "id": "2c2b4141",
   "metadata": {
    "scrolled": true
   },
   "outputs": [
    {
     "name": "stdout",
     "output_type": "stream",
     "text": [
      "c = [30, 40, 25, 70, 60, 65, 90]\n",
      "S = [[1, 0, 0, 1, 1, 0, 1], [0, 1, 0, 1, 0, 1, 1], [0, 0, 1, 0, 1, 1, 1]]\n",
      "b = [1, 1, 1]\n"
     ]
    }
   ],
   "source": [
    "c,S,b = convert_to_BILP(coalition_values)       # A function in Utils_CSG.py\n",
    "print(f'c = {c}\\nS = {S}\\nb = {b}')"
   ]
  },
  {
   "cell_type": "code",
   "execution_count": 4,
   "id": "f01cfd52",
   "metadata": {},
   "outputs": [
    {
     "name": "stdout",
     "output_type": "stream",
     "text": [
      "Linear Coefficients = {'x_6': -240.0, 'x_3': -170.0, 'x_4': -160.0, 'x_5': -165.0, 'x_0': -80.0, 'x_1': -90.0, 'x_2': -75.0} \n",
      " Quadratic Coefficients = {('x_3', 'x_6'): 200.0, ('x_4', 'x_6'): 200.0, ('x_5', 'x_6'): 200.0, ('x_0', 'x_3'): 100.0, ('x_0', 'x_4'): 100.0, ('x_0', 'x_6'): 100.0, ('x_1', 'x_3'): 100.0, ('x_1', 'x_5'): 100.0, ('x_1', 'x_6'): 100.0, ('x_2', 'x_4'): 100.0, ('x_2', 'x_5'): 100.0, ('x_2', 'x_6'): 100.0, ('x_3', 'x_4'): 100.0, ('x_3', 'x_5'): 100.0, ('x_4', 'x_5'): 100.0}\n"
     ]
    }
   ],
   "source": [
    "qubo_penalty = 50 * -1\n",
    "\n",
    "linear,quadratic = get_QUBO_coeffs(c,S,b,qubo_penalty)        # A function in Utils_CSG.py\n",
    "\n",
    "print(f\"Linear Coefficients = {linear} \\n Quadratic Coefficients = {quadratic}\")"
   ]
  },
  {
   "cell_type": "code",
   "execution_count": 60,
   "id": "9ef99dde",
   "metadata": {
    "scrolled": false
   },
   "outputs": [
    {
     "data": {
      "text/plain": [
       "7"
      ]
     },
     "execution_count": 60,
     "metadata": {},
     "output_type": "execute_result"
    }
   ],
   "source": [
    "Q = np.zeros([len(linear),len(linear)])\n",
    "\n",
    "#diagonal elements\n",
    "for key,value in linear.items():\n",
    "    Q[int(key.split('_')[1]),int(key.split('_')[1])] = value\n",
    "\n",
    "#non diagonal elements\n",
    "for key,value in quadratic.items():\n",
    "    Q[int(key[0].split('_')[1]),int(key[1].split('_')[1])] = value/2\n",
    "    Q[int(key[1].split('_')[1]),int(key[0].split('_')[1])] = value/2\n",
    "\n",
    "Q = Q/240\n",
    "Q.round(4)\n",
    "#I with \"non normalized\" values, the circuit will end up in just equal superpositions of a set of qubits\""
   ]
  },
  {
   "cell_type": "markdown",
   "id": "05cdb565",
   "metadata": {},
   "source": [
    "## Initializing the circuit\n",
    "\n",
    "There are many other ways to create circuts. Worth mentioning is that cirq can also create grid-circuits and check, whether all two-qubits gates are only applied to adjacent qubits. This can be usefull when implementing for real quantum devices (D-Wave part)."
   ]
  },
  {
   "cell_type": "code",
   "execution_count": 56,
   "id": "f5f6dad8",
   "metadata": {},
   "outputs": [],
   "source": [
    "def cirq_init(n_prob):\n",
    "    \"\"\"Initializes a circuit of n_prob Line Qubits in equal superposition\"\"\"\n",
    "    circuit = cirq.Circuit() #initializing a circuit object\n",
    "    qubits = cirq.LineQubit.range(n_prob) # creating n_prob qubits\n",
    "    circuit.append(cirq.H(q) for q in qubits) # adding the just created qubits each with a H-Gate to the circuit\n",
    "    return circuit"
   ]
  },
  {
   "cell_type": "markdown",
   "id": "fc2a57d4",
   "metadata": {},
   "source": [
    "## Creating cost and mixer layers"
   ]
  },
  {
   "cell_type": "code",
   "execution_count": 49,
   "id": "f805a5da",
   "metadata": {},
   "outputs": [],
   "source": [
    "# the mixer layer should just be a list of X rotation gates with parameter beta on each qubit\n",
    "# that will be appended to the circuit\n",
    "\n",
    "def mixer(in_circuit, beta_value: float):\n",
    "    \"\"\"Adds a mixer layer to circuit with parameter beta_value\"\"\"\n",
    "    circuit = in_circuit.copy() \n",
    "    # without copy() circuit would still be the same instance of in_circuit\n",
    "    # and mixer() would in-place change in_circuit\n",
    "    \n",
    "    n_qubits = len(circuit.get_independent_qubit_sets())\n",
    "    circuit.append([cirq.X(q) ** beta_value for q in qubits],  strategy=InsertStrategy.NEW_THEN_INLINE)\n",
    "    # adding an X-gate to the power of beta_value to every qubit. Using an insert strategy to put them all in the same moment\n",
    "    # for better readability in the diagram later\n",
    "    return circuit"
   ]
  },
  {
   "cell_type": "code",
   "execution_count": 57,
   "id": "3e539ec1",
   "metadata": {},
   "outputs": [],
   "source": [
    "def cost(in_circuit:cirq.circuits.circuit.Circuit, gamma_value:float, Q:np.ndarray) -> cirq.circuits.circuit.Circuit:\n",
    "    \"\"\"Adds the cost layer defined by QUBO matrix Q to circuit with the parameter gamma_value\"\"\"\n",
    "    \n",
    "    \n",
    "    circuit = in_circuit.copy()\n",
    "    nrow = np. size(Q, 0)\n",
    "    ncol = np. size(Q, 1)\n",
    "    \n",
    "    # in the Q matrix, diagonal entries represent the coefficients for linear terms, while the of-diagonal non-zero elements\n",
    "    # are the coefficients for mixed terms. A linear term will be implemented as Z rotation gate on the resprective qubit,\n",
    "    # while a mixed term is implemented as ZZ rotational gate on the 2 resprective qubits.\n",
    "    # the rotations are parametrized by the gamma_value for this sprecific layer\n",
    "    \n",
    "    for row in range(nrow):\n",
    "        # we don't need to iterrate through the whole matrix, since it's symetrical. The upper right part and diagonal is enough\n",
    "        for col in range(row, ncol):\n",
    "            \n",
    "            if row == col:\n",
    "                lin = Q[row,col]\n",
    "                continue \n",
    "                # if the element is on the diagonal we will collect the coefficient to apply the single Z gate after all\n",
    "                # ZZ gates are done on this qubit\n",
    "            \n",
    "            elif Q[row,col] != 0:\n",
    "                # when we have a non-diagonal element that is not zero we append a gama_value\n",
    "                # parametrized ZZ rotation gate on the resprective 2 qubits\n",
    "                circuit.append(cirq.ZZ(qubits[row],qubits[col]) ** (gamma_value * Q[row,col]))\n",
    "        # the single qubit z gate for linear terms at the end of all ZZ gate for this qubit \n",
    "        if lin != 0:\n",
    "            circuit.append(cirq.Z(qubits[row]) ** (gamma_value * lin))\n",
    "                  \n",
    "    return circuit"
   ]
  },
  {
   "cell_type": "markdown",
   "id": "a77432ae",
   "metadata": {},
   "source": [
    "## Creating the circuit\n",
    "Note: the layer-functions still change the circuit in-place"
   ]
  },
  {
   "cell_type": "code",
   "execution_count": 67,
   "id": "69ff4ff8",
   "metadata": {},
   "outputs": [
    {
     "name": "stdout",
     "output_type": "stream",
     "text": [
      "[β_0, β_1] [γ_0, γ_1]\n"
     ]
    }
   ],
   "source": [
    "p = 1 # number of layers\n",
    "\n",
    "# Parameters are introduced as 'symbols'. Symbols can be used like variables in a circuit but need to be 'resolved'\n",
    "# (get a value assigned to) when we want to simulate or run the circuit\n",
    "beta = [sympy.Symbol(\"β_\"+str(i)) for i in range(p)]\n",
    "gamma = [sympy.Symbol(\"γ_\"+str(i)) for i in range(p)]\n",
    "print(beta, gamma)"
   ]
  },
  {
   "cell_type": "code",
   "execution_count": 68,
   "id": "0e601e07",
   "metadata": {},
   "outputs": [],
   "source": [
    "problem_size = len(Q[0])\n",
    "qaoa = cirq_init(problem_size)\n",
    "for i in range(p):\n",
    "    \n",
    "    qaoa = cost(qaoa, gamma[i], Q)\n",
    "    \n",
    "    qaoa = mixer(qaoa, beta[i])"
   ]
  },
  {
   "cell_type": "code",
   "execution_count": 69,
   "id": "0c870770",
   "metadata": {},
   "outputs": [
    {
     "data": {
      "image/svg+xml": [
       "<svg xmlns=\"http://www.w3.org/2000/svg\" width=\"6855.888203125005\" height=\"390.0\"><line x1=\"30.0\" x2=\"6825.888203125005\" y1=\"45.0\" y2=\"45.0\" stroke=\"#1967d2\" stroke-width=\"1\" /><line x1=\"30.0\" x2=\"6825.888203125005\" y1=\"95.0\" y2=\"95.0\" stroke=\"#1967d2\" stroke-width=\"1\" /><line x1=\"30.0\" x2=\"6825.888203125005\" y1=\"145.0\" y2=\"145.0\" stroke=\"#1967d2\" stroke-width=\"1\" /><line x1=\"30.0\" x2=\"6825.888203125005\" y1=\"195.0\" y2=\"195.0\" stroke=\"#1967d2\" stroke-width=\"1\" /><line x1=\"30.0\" x2=\"6825.888203125005\" y1=\"245.0\" y2=\"245.0\" stroke=\"#1967d2\" stroke-width=\"1\" /><line x1=\"30.0\" x2=\"6825.888203125005\" y1=\"295.0\" y2=\"295.0\" stroke=\"#1967d2\" stroke-width=\"1\" /><line x1=\"30.0\" x2=\"6825.888203125005\" y1=\"345.0\" y2=\"345.0\" stroke=\"#1967d2\" stroke-width=\"1\" /><line x1=\"5753.6385156250035\" x2=\"6161.037500000004\" y1=\"5.0\" y2=\"5.0\" stroke=\"black\" stroke-width=\"1\" /><line x1=\"5753.6385156250035\" x2=\"6161.037500000004\" y1=\"385.0\" y2=\"385.0\" stroke=\"black\" stroke-width=\"1\" /><line x1=\"5336.239531250003\" x2=\"5743.6385156250035\" y1=\"5.0\" y2=\"5.0\" stroke=\"black\" stroke-width=\"1\" /><line x1=\"5336.239531250003\" x2=\"5743.6385156250035\" y1=\"385.0\" y2=\"385.0\" stroke=\"black\" stroke-width=\"1\" /><line x1=\"4720.141054687502\" x2=\"5326.239531250003\" y1=\"5.0\" y2=\"5.0\" stroke=\"black\" stroke-width=\"1\" /><line x1=\"4720.141054687502\" x2=\"5326.239531250003\" y1=\"385.0\" y2=\"385.0\" stroke=\"black\" stroke-width=\"1\" /><line x1=\"4104.0425781250015\" x2=\"4710.141054687502\" y1=\"5.0\" y2=\"5.0\" stroke=\"black\" stroke-width=\"1\" /><line x1=\"4104.0425781250015\" x2=\"4710.141054687502\" y1=\"385.0\" y2=\"385.0\" stroke=\"black\" stroke-width=\"1\" /><line x1=\"3686.643593750001\" x2=\"4094.0425781250015\" y1=\"5.0\" y2=\"5.0\" stroke=\"black\" stroke-width=\"1\" /><line x1=\"3686.643593750001\" x2=\"4094.0425781250015\" y1=\"385.0\" y2=\"385.0\" stroke=\"black\" stroke-width=\"1\" /><line x1=\"2405.6944140625\" x2=\"2813.0933984375006\" y1=\"5.0\" y2=\"5.0\" stroke=\"black\" stroke-width=\"1\" /><line x1=\"2405.6944140625\" x2=\"2813.0933984375006\" y1=\"385.0\" y2=\"385.0\" stroke=\"black\" stroke-width=\"1\" /><line x1=\"1988.2954296875002\" x2=\"2395.6944140625\" y1=\"5.0\" y2=\"5.0\" stroke=\"black\" stroke-width=\"1\" /><line x1=\"1988.2954296875002\" x2=\"2395.6944140625\" y1=\"385.0\" y2=\"385.0\" stroke=\"black\" stroke-width=\"1\" /><line x1=\"1372.1969531250002\" x2=\"1978.2954296875002\" y1=\"5.0\" y2=\"5.0\" stroke=\"black\" stroke-width=\"1\" /><line x1=\"1372.1969531250002\" x2=\"1978.2954296875002\" y1=\"385.0\" y2=\"385.0\" stroke=\"black\" stroke-width=\"1\" /><line x1=\"756.0984765625001\" x2=\"1362.1969531250002\" y1=\"5.0\" y2=\"5.0\" stroke=\"black\" stroke-width=\"1\" /><line x1=\"756.0984765625001\" x2=\"1362.1969531250002\" y1=\"385.0\" y2=\"385.0\" stroke=\"black\" stroke-width=\"1\" /><line x1=\"338.6994921875\" x2=\"746.0984765625001\" y1=\"5.0\" y2=\"5.0\" stroke=\"black\" stroke-width=\"1\" /><line x1=\"338.6994921875\" x2=\"746.0984765625001\" y1=\"385.0\" y2=\"385.0\" stroke=\"black\" stroke-width=\"1\" /><line x1=\"229.34974609375\" x2=\"229.34974609375\" y1=\"45.0\" y2=\"195.0\" stroke=\"black\" stroke-width=\"3\" /><line x1=\"438.04923828125004\" x2=\"438.04923828125004\" y1=\"45.0\" y2=\"245.0\" stroke=\"black\" stroke-width=\"3\" /><line x1=\"636.7487304687501\" x2=\"636.7487304687501\" y1=\"95.0\" y2=\"195.0\" stroke=\"black\" stroke-width=\"3\" /><line x1=\"855.4482226562501\" x2=\"855.4482226562501\" y1=\"45.0\" y2=\"345.0\" stroke=\"black\" stroke-width=\"3\" /><line x1=\"1054.1477148437502\" x2=\"1054.1477148437502\" y1=\"95.0\" y2=\"295.0\" stroke=\"black\" stroke-width=\"3\" /><line x1=\"1252.84720703125\" x2=\"1252.84720703125\" y1=\"145.0\" y2=\"245.0\" stroke=\"black\" stroke-width=\"3\" /><line x1=\"1471.5466992187503\" x2=\"1471.5466992187503\" y1=\"95.0\" y2=\"345.0\" stroke=\"black\" stroke-width=\"3\" /><line x1=\"1670.24619140625\" x2=\"1670.24619140625\" y1=\"145.0\" y2=\"295.0\" stroke=\"black\" stroke-width=\"3\" /><line x1=\"1868.9456835937503\" x2=\"1868.9456835937503\" y1=\"195.0\" y2=\"245.0\" stroke=\"black\" stroke-width=\"3\" /><line x1=\"2087.64517578125\" x2=\"2087.64517578125\" y1=\"145.0\" y2=\"345.0\" stroke=\"black\" stroke-width=\"3\" /><line x1=\"2286.3446679687504\" x2=\"2286.3446679687504\" y1=\"195.0\" y2=\"295.0\" stroke=\"black\" stroke-width=\"3\" /><line x1=\"2505.04416015625\" x2=\"2505.04416015625\" y1=\"195.0\" y2=\"345.0\" stroke=\"black\" stroke-width=\"3\" /><line x1=\"2703.7436523437505\" x2=\"2703.7436523437505\" y1=\"245.0\" y2=\"295.0\" stroke=\"black\" stroke-width=\"3\" /><line x1=\"2932.4431445312507\" x2=\"2932.4431445312507\" y1=\"245.0\" y2=\"345.0\" stroke=\"black\" stroke-width=\"3\" /><line x1=\"3151.142636718751\" x2=\"3151.142636718751\" y1=\"295.0\" y2=\"345.0\" stroke=\"black\" stroke-width=\"3\" /><line x1=\"3577.2938476562513\" x2=\"3577.2938476562513\" y1=\"45.0\" y2=\"195.0\" stroke=\"black\" stroke-width=\"3\" /><line x1=\"3785.993339843751\" x2=\"3785.993339843751\" y1=\"45.0\" y2=\"245.0\" stroke=\"black\" stroke-width=\"3\" /><line x1=\"3984.6928320312513\" x2=\"3984.6928320312513\" y1=\"95.0\" y2=\"195.0\" stroke=\"black\" stroke-width=\"3\" /><line x1=\"4203.392324218751\" x2=\"4203.392324218751\" y1=\"45.0\" y2=\"345.0\" stroke=\"black\" stroke-width=\"3\" /><line x1=\"4402.091816406251\" x2=\"4402.091816406251\" y1=\"95.0\" y2=\"295.0\" stroke=\"black\" stroke-width=\"3\" /><line x1=\"4600.791308593752\" x2=\"4600.791308593752\" y1=\"145.0\" y2=\"245.0\" stroke=\"black\" stroke-width=\"3\" /><line x1=\"4819.490800781252\" x2=\"4819.490800781252\" y1=\"95.0\" y2=\"345.0\" stroke=\"black\" stroke-width=\"3\" /><line x1=\"5018.190292968752\" x2=\"5018.190292968752\" y1=\"145.0\" y2=\"295.0\" stroke=\"black\" stroke-width=\"3\" /><line x1=\"5216.889785156252\" x2=\"5216.889785156252\" y1=\"195.0\" y2=\"245.0\" stroke=\"black\" stroke-width=\"3\" /><line x1=\"5435.589277343753\" x2=\"5435.589277343753\" y1=\"145.0\" y2=\"345.0\" stroke=\"black\" stroke-width=\"3\" /><line x1=\"5634.288769531253\" x2=\"5634.288769531253\" y1=\"195.0\" y2=\"295.0\" stroke=\"black\" stroke-width=\"3\" /><line x1=\"5852.988261718753\" x2=\"5852.988261718753\" y1=\"195.0\" y2=\"345.0\" stroke=\"black\" stroke-width=\"3\" /><line x1=\"6051.687753906253\" x2=\"6051.687753906253\" y1=\"245.0\" y2=\"295.0\" stroke=\"black\" stroke-width=\"3\" /><line x1=\"6280.387246093754\" x2=\"6280.387246093754\" y1=\"245.0\" y2=\"345.0\" stroke=\"black\" stroke-width=\"3\" /><line x1=\"6499.086738281254\" x2=\"6499.086738281254\" y1=\"295.0\" y2=\"345.0\" stroke=\"black\" stroke-width=\"3\" /><line x1=\"5753.6385156250035\" x2=\"5753.6385156250035\" y1=\"5.0\" y2=\"15.0\" stroke=\"black\" stroke-width=\"3\" /><line x1=\"6161.037500000004\" x2=\"6161.037500000004\" y1=\"5.0\" y2=\"15.0\" stroke=\"black\" stroke-width=\"3\" /><line x1=\"5753.6385156250035\" x2=\"5753.6385156250035\" y1=\"375.0\" y2=\"385.0\" stroke=\"black\" stroke-width=\"3\" /><line x1=\"6161.037500000004\" x2=\"6161.037500000004\" y1=\"375.0\" y2=\"385.0\" stroke=\"black\" stroke-width=\"3\" /><line x1=\"5336.239531250003\" x2=\"5336.239531250003\" y1=\"5.0\" y2=\"15.0\" stroke=\"black\" stroke-width=\"3\" /><line x1=\"5743.6385156250035\" x2=\"5743.6385156250035\" y1=\"5.0\" y2=\"15.0\" stroke=\"black\" stroke-width=\"3\" /><line x1=\"5336.239531250003\" x2=\"5336.239531250003\" y1=\"375.0\" y2=\"385.0\" stroke=\"black\" stroke-width=\"3\" /><line x1=\"5743.6385156250035\" x2=\"5743.6385156250035\" y1=\"375.0\" y2=\"385.0\" stroke=\"black\" stroke-width=\"3\" /><line x1=\"4720.141054687502\" x2=\"4720.141054687502\" y1=\"5.0\" y2=\"15.0\" stroke=\"black\" stroke-width=\"3\" /><line x1=\"5326.239531250003\" x2=\"5326.239531250003\" y1=\"5.0\" y2=\"15.0\" stroke=\"black\" stroke-width=\"3\" /><line x1=\"4720.141054687502\" x2=\"4720.141054687502\" y1=\"375.0\" y2=\"385.0\" stroke=\"black\" stroke-width=\"3\" /><line x1=\"5326.239531250003\" x2=\"5326.239531250003\" y1=\"375.0\" y2=\"385.0\" stroke=\"black\" stroke-width=\"3\" /><line x1=\"4104.0425781250015\" x2=\"4104.0425781250015\" y1=\"5.0\" y2=\"15.0\" stroke=\"black\" stroke-width=\"3\" /><line x1=\"4710.141054687502\" x2=\"4710.141054687502\" y1=\"5.0\" y2=\"15.0\" stroke=\"black\" stroke-width=\"3\" /><line x1=\"4104.0425781250015\" x2=\"4104.0425781250015\" y1=\"375.0\" y2=\"385.0\" stroke=\"black\" stroke-width=\"3\" /><line x1=\"4710.141054687502\" x2=\"4710.141054687502\" y1=\"375.0\" y2=\"385.0\" stroke=\"black\" stroke-width=\"3\" /><line x1=\"3686.643593750001\" x2=\"3686.643593750001\" y1=\"5.0\" y2=\"15.0\" stroke=\"black\" stroke-width=\"3\" /><line x1=\"4094.0425781250015\" x2=\"4094.0425781250015\" y1=\"5.0\" y2=\"15.0\" stroke=\"black\" stroke-width=\"3\" /><line x1=\"3686.643593750001\" x2=\"3686.643593750001\" y1=\"375.0\" y2=\"385.0\" stroke=\"black\" stroke-width=\"3\" /><line x1=\"4094.0425781250015\" x2=\"4094.0425781250015\" y1=\"375.0\" y2=\"385.0\" stroke=\"black\" stroke-width=\"3\" /><line x1=\"2405.6944140625\" x2=\"2405.6944140625\" y1=\"5.0\" y2=\"15.0\" stroke=\"black\" stroke-width=\"3\" /><line x1=\"2813.0933984375006\" x2=\"2813.0933984375006\" y1=\"5.0\" y2=\"15.0\" stroke=\"black\" stroke-width=\"3\" /><line x1=\"2405.6944140625\" x2=\"2405.6944140625\" y1=\"375.0\" y2=\"385.0\" stroke=\"black\" stroke-width=\"3\" /><line x1=\"2813.0933984375006\" x2=\"2813.0933984375006\" y1=\"375.0\" y2=\"385.0\" stroke=\"black\" stroke-width=\"3\" /><line x1=\"1988.2954296875002\" x2=\"1988.2954296875002\" y1=\"5.0\" y2=\"15.0\" stroke=\"black\" stroke-width=\"3\" /><line x1=\"2395.6944140625\" x2=\"2395.6944140625\" y1=\"5.0\" y2=\"15.0\" stroke=\"black\" stroke-width=\"3\" /><line x1=\"1988.2954296875002\" x2=\"1988.2954296875002\" y1=\"375.0\" y2=\"385.0\" stroke=\"black\" stroke-width=\"3\" /><line x1=\"2395.6944140625\" x2=\"2395.6944140625\" y1=\"375.0\" y2=\"385.0\" stroke=\"black\" stroke-width=\"3\" /><line x1=\"1372.1969531250002\" x2=\"1372.1969531250002\" y1=\"5.0\" y2=\"15.0\" stroke=\"black\" stroke-width=\"3\" /><line x1=\"1978.2954296875002\" x2=\"1978.2954296875002\" y1=\"5.0\" y2=\"15.0\" stroke=\"black\" stroke-width=\"3\" /><line x1=\"1372.1969531250002\" x2=\"1372.1969531250002\" y1=\"375.0\" y2=\"385.0\" stroke=\"black\" stroke-width=\"3\" /><line x1=\"1978.2954296875002\" x2=\"1978.2954296875002\" y1=\"375.0\" y2=\"385.0\" stroke=\"black\" stroke-width=\"3\" /><line x1=\"756.0984765625001\" x2=\"756.0984765625001\" y1=\"5.0\" y2=\"15.0\" stroke=\"black\" stroke-width=\"3\" /><line x1=\"1362.1969531250002\" x2=\"1362.1969531250002\" y1=\"5.0\" y2=\"15.0\" stroke=\"black\" stroke-width=\"3\" /><line x1=\"756.0984765625001\" x2=\"756.0984765625001\" y1=\"375.0\" y2=\"385.0\" stroke=\"black\" stroke-width=\"3\" /><line x1=\"1362.1969531250002\" x2=\"1362.1969531250002\" y1=\"375.0\" y2=\"385.0\" stroke=\"black\" stroke-width=\"3\" /><line x1=\"338.6994921875\" x2=\"338.6994921875\" y1=\"5.0\" y2=\"15.0\" stroke=\"black\" stroke-width=\"3\" /><line x1=\"746.0984765625001\" x2=\"746.0984765625001\" y1=\"5.0\" y2=\"15.0\" stroke=\"black\" stroke-width=\"3\" /><line x1=\"338.6994921875\" x2=\"338.6994921875\" y1=\"375.0\" y2=\"385.0\" stroke=\"black\" stroke-width=\"3\" /><line x1=\"746.0984765625001\" x2=\"746.0984765625001\" y1=\"375.0\" y2=\"385.0\" stroke=\"black\" stroke-width=\"3\" /><rect x=\"10.0\" y=\"25.0\" width=\"40\" height=\"40\" stroke=\"black\" fill=\"white\" stroke-width=\"0\" /><text x=\"30.0\" y=\"45.0\" dominant-baseline=\"middle\" text-anchor=\"middle\" font-size=\"14px\" font-family=\"Arial\">0: </text><rect x=\"10.0\" y=\"75.0\" width=\"40\" height=\"40\" stroke=\"black\" fill=\"white\" stroke-width=\"0\" /><text x=\"30.0\" y=\"95.0\" dominant-baseline=\"middle\" text-anchor=\"middle\" font-size=\"14px\" font-family=\"Arial\">1: </text><rect x=\"10.0\" y=\"125.0\" width=\"40\" height=\"40\" stroke=\"black\" fill=\"white\" stroke-width=\"0\" /><text x=\"30.0\" y=\"145.0\" dominant-baseline=\"middle\" text-anchor=\"middle\" font-size=\"14px\" font-family=\"Arial\">2: </text><rect x=\"10.0\" y=\"175.0\" width=\"40\" height=\"40\" stroke=\"black\" fill=\"white\" stroke-width=\"0\" /><text x=\"30.0\" y=\"195.0\" dominant-baseline=\"middle\" text-anchor=\"middle\" font-size=\"14px\" font-family=\"Arial\">3: </text><rect x=\"10.0\" y=\"225.0\" width=\"40\" height=\"40\" stroke=\"black\" fill=\"white\" stroke-width=\"0\" /><text x=\"30.0\" y=\"245.0\" dominant-baseline=\"middle\" text-anchor=\"middle\" font-size=\"14px\" font-family=\"Arial\">4: </text><rect x=\"10.0\" y=\"275.0\" width=\"40\" height=\"40\" stroke=\"black\" fill=\"white\" stroke-width=\"0\" /><text x=\"30.0\" y=\"295.0\" dominant-baseline=\"middle\" text-anchor=\"middle\" font-size=\"14px\" font-family=\"Arial\">5: </text><rect x=\"10.0\" y=\"325.0\" width=\"40\" height=\"40\" stroke=\"black\" fill=\"white\" stroke-width=\"0\" /><text x=\"30.0\" y=\"345.0\" dominant-baseline=\"middle\" text-anchor=\"middle\" font-size=\"14px\" font-family=\"Arial\">6: </text><rect x=\"70.0\" y=\"25.0\" width=\"40\" height=\"40\" stroke=\"black\" fill=\"white\" stroke-width=\"1\" /><text x=\"90.0\" y=\"45.0\" dominant-baseline=\"middle\" text-anchor=\"middle\" font-size=\"18px\" font-family=\"Arial\">H</text><rect x=\"70.0\" y=\"75.0\" width=\"40\" height=\"40\" stroke=\"black\" fill=\"white\" stroke-width=\"1\" /><text x=\"90.0\" y=\"95.0\" dominant-baseline=\"middle\" text-anchor=\"middle\" font-size=\"18px\" font-family=\"Arial\">H</text><rect x=\"70.0\" y=\"125.0\" width=\"40\" height=\"40\" stroke=\"black\" fill=\"white\" stroke-width=\"1\" /><text x=\"90.0\" y=\"145.0\" dominant-baseline=\"middle\" text-anchor=\"middle\" font-size=\"18px\" font-family=\"Arial\">H</text><rect x=\"70.0\" y=\"175.0\" width=\"40\" height=\"40\" stroke=\"black\" fill=\"white\" stroke-width=\"1\" /><text x=\"90.0\" y=\"195.0\" dominant-baseline=\"middle\" text-anchor=\"middle\" font-size=\"18px\" font-family=\"Arial\">H</text><rect x=\"70.0\" y=\"225.0\" width=\"40\" height=\"40\" stroke=\"black\" fill=\"white\" stroke-width=\"1\" /><text x=\"90.0\" y=\"245.0\" dominant-baseline=\"middle\" text-anchor=\"middle\" font-size=\"18px\" font-family=\"Arial\">H</text><rect x=\"70.0\" y=\"275.0\" width=\"40\" height=\"40\" stroke=\"black\" fill=\"white\" stroke-width=\"1\" /><text x=\"90.0\" y=\"295.0\" dominant-baseline=\"middle\" text-anchor=\"middle\" font-size=\"18px\" font-family=\"Arial\">H</text><rect x=\"70.0\" y=\"325.0\" width=\"40\" height=\"40\" stroke=\"black\" fill=\"white\" stroke-width=\"1\" /><text x=\"90.0\" y=\"345.0\" dominant-baseline=\"middle\" text-anchor=\"middle\" font-size=\"18px\" font-family=\"Arial\">H</text><rect x=\"130.0\" y=\"25.0\" width=\"198.69949218750003\" height=\"40\" stroke=\"black\" fill=\"white\" stroke-width=\"1\" /><text x=\"229.34974609375\" y=\"45.0\" dominant-baseline=\"middle\" text-anchor=\"middle\" font-size=\"14px\" font-family=\"Arial\">ZZ</text><rect x=\"130.0\" y=\"175.0\" width=\"198.69949218750003\" height=\"40\" stroke=\"black\" fill=\"white\" stroke-width=\"1\" /><text x=\"229.34974609375\" y=\"195.0\" dominant-baseline=\"middle\" text-anchor=\"middle\" font-size=\"14px\" font-family=\"Arial\">ZZ^(0.208333333333333*γ_0)</text><rect x=\"338.6994921875\" y=\"25.0\" width=\"198.69949218750003\" height=\"40\" stroke=\"black\" fill=\"white\" stroke-width=\"1\" /><text x=\"438.04923828125004\" y=\"45.0\" dominant-baseline=\"middle\" text-anchor=\"middle\" font-size=\"14px\" font-family=\"Arial\">ZZ</text><rect x=\"338.6994921875\" y=\"225.0\" width=\"198.69949218750003\" height=\"40\" stroke=\"black\" fill=\"white\" stroke-width=\"1\" /><text x=\"438.04923828125004\" y=\"245.0\" dominant-baseline=\"middle\" text-anchor=\"middle\" font-size=\"14px\" font-family=\"Arial\">ZZ^(0.208333333333333*γ_0)</text><rect x=\"537.398984375\" y=\"75.0\" width=\"198.69949218750003\" height=\"40\" stroke=\"black\" fill=\"white\" stroke-width=\"1\" /><text x=\"636.7487304687501\" y=\"95.0\" dominant-baseline=\"middle\" text-anchor=\"middle\" font-size=\"14px\" font-family=\"Arial\">ZZ</text><rect x=\"537.398984375\" y=\"175.0\" width=\"198.69949218750003\" height=\"40\" stroke=\"black\" fill=\"white\" stroke-width=\"1\" /><text x=\"636.7487304687501\" y=\"195.0\" dominant-baseline=\"middle\" text-anchor=\"middle\" font-size=\"14px\" font-family=\"Arial\">ZZ^(0.208333333333333*γ_0)</text><rect x=\"756.0984765625001\" y=\"25.0\" width=\"198.69949218750003\" height=\"40\" stroke=\"black\" fill=\"white\" stroke-width=\"1\" /><text x=\"855.4482226562501\" y=\"45.0\" dominant-baseline=\"middle\" text-anchor=\"middle\" font-size=\"14px\" font-family=\"Arial\">ZZ</text><rect x=\"756.0984765625001\" y=\"325.0\" width=\"198.69949218750003\" height=\"40\" stroke=\"black\" fill=\"white\" stroke-width=\"1\" /><text x=\"855.4482226562501\" y=\"345.0\" dominant-baseline=\"middle\" text-anchor=\"middle\" font-size=\"14px\" font-family=\"Arial\">ZZ^(0.208333333333333*γ_0)</text><rect x=\"954.7979687500002\" y=\"75.0\" width=\"198.69949218750003\" height=\"40\" stroke=\"black\" fill=\"white\" stroke-width=\"1\" /><text x=\"1054.1477148437502\" y=\"95.0\" dominant-baseline=\"middle\" text-anchor=\"middle\" font-size=\"14px\" font-family=\"Arial\">ZZ</text><rect x=\"954.7979687500002\" y=\"275.0\" width=\"198.69949218750003\" height=\"40\" stroke=\"black\" fill=\"white\" stroke-width=\"1\" /><text x=\"1054.1477148437502\" y=\"295.0\" dominant-baseline=\"middle\" text-anchor=\"middle\" font-size=\"14px\" font-family=\"Arial\">ZZ^(0.208333333333333*γ_0)</text><rect x=\"1153.4974609375\" y=\"125.0\" width=\"198.69949218750003\" height=\"40\" stroke=\"black\" fill=\"white\" stroke-width=\"1\" /><text x=\"1252.84720703125\" y=\"145.0\" dominant-baseline=\"middle\" text-anchor=\"middle\" font-size=\"14px\" font-family=\"Arial\">ZZ</text><rect x=\"1153.4974609375\" y=\"225.0\" width=\"198.69949218750003\" height=\"40\" stroke=\"black\" fill=\"white\" stroke-width=\"1\" /><text x=\"1252.84720703125\" y=\"245.0\" dominant-baseline=\"middle\" text-anchor=\"middle\" font-size=\"14px\" font-family=\"Arial\">ZZ^(0.208333333333333*γ_0)</text><rect x=\"1372.1969531250002\" y=\"25.0\" width=\"198.69949218750003\" height=\"40\" stroke=\"black\" fill=\"white\" stroke-width=\"1\" /><text x=\"1471.5466992187503\" y=\"45.0\" dominant-baseline=\"middle\" text-anchor=\"middle\" font-size=\"14px\" font-family=\"Arial\">Z^(-0.333333333333333*γ_0)</text><rect x=\"1372.1969531250002\" y=\"75.0\" width=\"198.69949218750003\" height=\"40\" stroke=\"black\" fill=\"white\" stroke-width=\"1\" /><text x=\"1471.5466992187503\" y=\"95.0\" dominant-baseline=\"middle\" text-anchor=\"middle\" font-size=\"14px\" font-family=\"Arial\">ZZ</text><rect x=\"1372.1969531250002\" y=\"325.0\" width=\"198.69949218750003\" height=\"40\" stroke=\"black\" fill=\"white\" stroke-width=\"1\" /><text x=\"1471.5466992187503\" y=\"345.0\" dominant-baseline=\"middle\" text-anchor=\"middle\" font-size=\"14px\" font-family=\"Arial\">ZZ^(0.208333333333333*γ_0)</text><rect x=\"1570.8964453125\" y=\"125.0\" width=\"198.69949218750003\" height=\"40\" stroke=\"black\" fill=\"white\" stroke-width=\"1\" /><text x=\"1670.24619140625\" y=\"145.0\" dominant-baseline=\"middle\" text-anchor=\"middle\" font-size=\"14px\" font-family=\"Arial\">ZZ</text><rect x=\"1570.8964453125\" y=\"275.0\" width=\"198.69949218750003\" height=\"40\" stroke=\"black\" fill=\"white\" stroke-width=\"1\" /><text x=\"1670.24619140625\" y=\"295.0\" dominant-baseline=\"middle\" text-anchor=\"middle\" font-size=\"14px\" font-family=\"Arial\">ZZ^(0.208333333333333*γ_0)</text><rect x=\"1769.5959375000002\" y=\"175.0\" width=\"198.69949218750003\" height=\"40\" stroke=\"black\" fill=\"white\" stroke-width=\"1\" /><text x=\"1868.9456835937503\" y=\"195.0\" dominant-baseline=\"middle\" text-anchor=\"middle\" font-size=\"14px\" font-family=\"Arial\">ZZ</text><rect x=\"1769.5959375000002\" y=\"225.0\" width=\"198.69949218750003\" height=\"40\" stroke=\"black\" fill=\"white\" stroke-width=\"1\" /><text x=\"1868.9456835937503\" y=\"245.0\" dominant-baseline=\"middle\" text-anchor=\"middle\" font-size=\"14px\" font-family=\"Arial\">ZZ^(0.208333333333333*γ_0)</text><rect x=\"1988.2954296875\" y=\"75.0\" width=\"198.69949218750003\" height=\"40\" stroke=\"black\" fill=\"white\" stroke-width=\"1\" /><text x=\"2087.64517578125\" y=\"95.0\" dominant-baseline=\"middle\" text-anchor=\"middle\" font-size=\"14px\" font-family=\"Arial\">Z^(-0.375*γ_0)</text><rect x=\"1988.2954296875\" y=\"125.0\" width=\"198.69949218750003\" height=\"40\" stroke=\"black\" fill=\"white\" stroke-width=\"1\" /><text x=\"2087.64517578125\" y=\"145.0\" dominant-baseline=\"middle\" text-anchor=\"middle\" font-size=\"14px\" font-family=\"Arial\">ZZ</text><rect x=\"1988.2954296875\" y=\"325.0\" width=\"198.69949218750003\" height=\"40\" stroke=\"black\" fill=\"white\" stroke-width=\"1\" /><text x=\"2087.64517578125\" y=\"345.0\" dominant-baseline=\"middle\" text-anchor=\"middle\" font-size=\"14px\" font-family=\"Arial\">ZZ^(0.208333333333333*γ_0)</text><rect x=\"2186.9949218750003\" y=\"175.0\" width=\"198.69949218750003\" height=\"40\" stroke=\"black\" fill=\"white\" stroke-width=\"1\" /><text x=\"2286.3446679687504\" y=\"195.0\" dominant-baseline=\"middle\" text-anchor=\"middle\" font-size=\"14px\" font-family=\"Arial\">ZZ</text><rect x=\"2186.9949218750003\" y=\"275.0\" width=\"198.69949218750003\" height=\"40\" stroke=\"black\" fill=\"white\" stroke-width=\"1\" /><text x=\"2286.3446679687504\" y=\"295.0\" dominant-baseline=\"middle\" text-anchor=\"middle\" font-size=\"14px\" font-family=\"Arial\">ZZ^(0.208333333333333*γ_0)</text><rect x=\"2405.6944140625\" y=\"125.0\" width=\"198.69949218750003\" height=\"40\" stroke=\"black\" fill=\"white\" stroke-width=\"1\" /><text x=\"2505.04416015625\" y=\"145.0\" dominant-baseline=\"middle\" text-anchor=\"middle\" font-size=\"14px\" font-family=\"Arial\">Z^(-0.3125*γ_0)</text><rect x=\"2405.6944140625\" y=\"175.0\" width=\"198.69949218750003\" height=\"40\" stroke=\"black\" fill=\"white\" stroke-width=\"1\" /><text x=\"2505.04416015625\" y=\"195.0\" dominant-baseline=\"middle\" text-anchor=\"middle\" font-size=\"14px\" font-family=\"Arial\">ZZ</text><rect x=\"2405.6944140625\" y=\"325.0\" width=\"198.69949218750003\" height=\"40\" stroke=\"black\" fill=\"white\" stroke-width=\"1\" /><text x=\"2505.04416015625\" y=\"345.0\" dominant-baseline=\"middle\" text-anchor=\"middle\" font-size=\"14px\" font-family=\"Arial\">ZZ^(0.416666666666667*γ_0)</text><rect x=\"2604.3939062500003\" y=\"225.0\" width=\"198.69949218750003\" height=\"40\" stroke=\"black\" fill=\"white\" stroke-width=\"1\" /><text x=\"2703.7436523437505\" y=\"245.0\" dominant-baseline=\"middle\" text-anchor=\"middle\" font-size=\"14px\" font-family=\"Arial\">ZZ</text><rect x=\"2604.3939062500003\" y=\"275.0\" width=\"198.69949218750003\" height=\"40\" stroke=\"black\" fill=\"white\" stroke-width=\"1\" /><text x=\"2703.7436523437505\" y=\"295.0\" dominant-baseline=\"middle\" text-anchor=\"middle\" font-size=\"14px\" font-family=\"Arial\">ZZ^(0.208333333333333*γ_0)</text><rect x=\"2833.0933984375006\" y=\"175.0\" width=\"198.69949218750003\" height=\"40\" stroke=\"black\" fill=\"white\" stroke-width=\"1\" /><text x=\"2932.4431445312507\" y=\"195.0\" dominant-baseline=\"middle\" text-anchor=\"middle\" font-size=\"14px\" font-family=\"Arial\">Z^(-0.708333333333333*γ_0)</text><rect x=\"2833.0933984375006\" y=\"225.0\" width=\"198.69949218750003\" height=\"40\" stroke=\"black\" fill=\"white\" stroke-width=\"1\" /><text x=\"2932.4431445312507\" y=\"245.0\" dominant-baseline=\"middle\" text-anchor=\"middle\" font-size=\"14px\" font-family=\"Arial\">ZZ</text><rect x=\"2833.0933984375006\" y=\"325.0\" width=\"198.69949218750003\" height=\"40\" stroke=\"black\" fill=\"white\" stroke-width=\"1\" /><text x=\"2932.4431445312507\" y=\"345.0\" dominant-baseline=\"middle\" text-anchor=\"middle\" font-size=\"14px\" font-family=\"Arial\">ZZ^(0.416666666666667*γ_0)</text><rect x=\"3051.792890625001\" y=\"225.0\" width=\"198.69949218750003\" height=\"40\" stroke=\"black\" fill=\"white\" stroke-width=\"1\" /><text x=\"3151.142636718751\" y=\"245.0\" dominant-baseline=\"middle\" text-anchor=\"middle\" font-size=\"14px\" font-family=\"Arial\">Z^(-0.666666666666667*γ_0)</text><rect x=\"3051.792890625001\" y=\"275.0\" width=\"198.69949218750003\" height=\"40\" stroke=\"black\" fill=\"white\" stroke-width=\"1\" /><text x=\"3151.142636718751\" y=\"295.0\" dominant-baseline=\"middle\" text-anchor=\"middle\" font-size=\"14px\" font-family=\"Arial\">ZZ</text><rect x=\"3051.792890625001\" y=\"325.0\" width=\"198.69949218750003\" height=\"40\" stroke=\"black\" fill=\"white\" stroke-width=\"1\" /><text x=\"3151.142636718751\" y=\"345.0\" dominant-baseline=\"middle\" text-anchor=\"middle\" font-size=\"14px\" font-family=\"Arial\">ZZ^(0.416666666666667*γ_0)</text><rect x=\"3270.492382812501\" y=\"275.0\" width=\"109.16238281250003\" height=\"40\" stroke=\"black\" fill=\"white\" stroke-width=\"1\" /><text x=\"3325.073574218751\" y=\"295.0\" dominant-baseline=\"middle\" text-anchor=\"middle\" font-size=\"14px\" font-family=\"Arial\">Z^(-0.6875*γ_0)</text><rect x=\"3270.492382812501\" y=\"325.0\" width=\"109.16238281250003\" height=\"40\" stroke=\"black\" fill=\"white\" stroke-width=\"1\" /><text x=\"3325.073574218751\" y=\"345.0\" dominant-baseline=\"middle\" text-anchor=\"middle\" font-size=\"14px\" font-family=\"Arial\">Z^(-1.0*γ_0)</text><rect x=\"3399.6547656250013\" y=\"25.0\" width=\"58.2893359375\" height=\"40\" stroke=\"black\" fill=\"white\" stroke-width=\"1\" /><text x=\"3428.7994335937515\" y=\"45.0\" dominant-baseline=\"middle\" text-anchor=\"middle\" font-size=\"14px\" font-family=\"Arial\">X^(β_0)</text><rect x=\"3399.6547656250013\" y=\"75.0\" width=\"58.2893359375\" height=\"40\" stroke=\"black\" fill=\"white\" stroke-width=\"1\" /><text x=\"3428.7994335937515\" y=\"95.0\" dominant-baseline=\"middle\" text-anchor=\"middle\" font-size=\"14px\" font-family=\"Arial\">X^(β_0)</text><rect x=\"3399.6547656250013\" y=\"125.0\" width=\"58.2893359375\" height=\"40\" stroke=\"black\" fill=\"white\" stroke-width=\"1\" /><text x=\"3428.7994335937515\" y=\"145.0\" dominant-baseline=\"middle\" text-anchor=\"middle\" font-size=\"14px\" font-family=\"Arial\">X^(β_0)</text><rect x=\"3399.6547656250013\" y=\"175.0\" width=\"58.2893359375\" height=\"40\" stroke=\"black\" fill=\"white\" stroke-width=\"1\" /><text x=\"3428.7994335937515\" y=\"195.0\" dominant-baseline=\"middle\" text-anchor=\"middle\" font-size=\"14px\" font-family=\"Arial\">X^(β_0)</text><rect x=\"3399.6547656250013\" y=\"225.0\" width=\"58.2893359375\" height=\"40\" stroke=\"black\" fill=\"white\" stroke-width=\"1\" /><text x=\"3428.7994335937515\" y=\"245.0\" dominant-baseline=\"middle\" text-anchor=\"middle\" font-size=\"14px\" font-family=\"Arial\">X^(β_0)</text><rect x=\"3399.6547656250013\" y=\"275.0\" width=\"58.2893359375\" height=\"40\" stroke=\"black\" fill=\"white\" stroke-width=\"1\" /><text x=\"3428.7994335937515\" y=\"295.0\" dominant-baseline=\"middle\" text-anchor=\"middle\" font-size=\"14px\" font-family=\"Arial\">X^(β_0)</text><rect x=\"3399.6547656250013\" y=\"325.0\" width=\"58.2893359375\" height=\"40\" stroke=\"black\" fill=\"white\" stroke-width=\"1\" /><text x=\"3428.7994335937515\" y=\"345.0\" dominant-baseline=\"middle\" text-anchor=\"middle\" font-size=\"14px\" font-family=\"Arial\">X^(β_0)</text><rect x=\"3477.944101562501\" y=\"25.0\" width=\"198.69949218750003\" height=\"40\" stroke=\"black\" fill=\"white\" stroke-width=\"1\" /><text x=\"3577.2938476562513\" y=\"45.0\" dominant-baseline=\"middle\" text-anchor=\"middle\" font-size=\"14px\" font-family=\"Arial\">ZZ</text><rect x=\"3477.944101562501\" y=\"175.0\" width=\"198.69949218750003\" height=\"40\" stroke=\"black\" fill=\"white\" stroke-width=\"1\" /><text x=\"3577.2938476562513\" y=\"195.0\" dominant-baseline=\"middle\" text-anchor=\"middle\" font-size=\"14px\" font-family=\"Arial\">ZZ^(0.208333333333333*γ_1)</text><rect x=\"3686.643593750001\" y=\"25.0\" width=\"198.69949218750003\" height=\"40\" stroke=\"black\" fill=\"white\" stroke-width=\"1\" /><text x=\"3785.993339843751\" y=\"45.0\" dominant-baseline=\"middle\" text-anchor=\"middle\" font-size=\"14px\" font-family=\"Arial\">ZZ</text><rect x=\"3686.643593750001\" y=\"225.0\" width=\"198.69949218750003\" height=\"40\" stroke=\"black\" fill=\"white\" stroke-width=\"1\" /><text x=\"3785.993339843751\" y=\"245.0\" dominant-baseline=\"middle\" text-anchor=\"middle\" font-size=\"14px\" font-family=\"Arial\">ZZ^(0.208333333333333*γ_1)</text><rect x=\"3885.343085937501\" y=\"75.0\" width=\"198.69949218750003\" height=\"40\" stroke=\"black\" fill=\"white\" stroke-width=\"1\" /><text x=\"3984.6928320312513\" y=\"95.0\" dominant-baseline=\"middle\" text-anchor=\"middle\" font-size=\"14px\" font-family=\"Arial\">ZZ</text><rect x=\"3885.343085937501\" y=\"175.0\" width=\"198.69949218750003\" height=\"40\" stroke=\"black\" fill=\"white\" stroke-width=\"1\" /><text x=\"3984.6928320312513\" y=\"195.0\" dominant-baseline=\"middle\" text-anchor=\"middle\" font-size=\"14px\" font-family=\"Arial\">ZZ^(0.208333333333333*γ_1)</text><rect x=\"4104.0425781250015\" y=\"25.0\" width=\"198.69949218750003\" height=\"40\" stroke=\"black\" fill=\"white\" stroke-width=\"1\" /><text x=\"4203.392324218751\" y=\"45.0\" dominant-baseline=\"middle\" text-anchor=\"middle\" font-size=\"14px\" font-family=\"Arial\">ZZ</text><rect x=\"4104.0425781250015\" y=\"325.0\" width=\"198.69949218750003\" height=\"40\" stroke=\"black\" fill=\"white\" stroke-width=\"1\" /><text x=\"4203.392324218751\" y=\"345.0\" dominant-baseline=\"middle\" text-anchor=\"middle\" font-size=\"14px\" font-family=\"Arial\">ZZ^(0.208333333333333*γ_1)</text><rect x=\"4302.742070312502\" y=\"75.0\" width=\"198.69949218750003\" height=\"40\" stroke=\"black\" fill=\"white\" stroke-width=\"1\" /><text x=\"4402.091816406251\" y=\"95.0\" dominant-baseline=\"middle\" text-anchor=\"middle\" font-size=\"14px\" font-family=\"Arial\">ZZ</text><rect x=\"4302.742070312502\" y=\"275.0\" width=\"198.69949218750003\" height=\"40\" stroke=\"black\" fill=\"white\" stroke-width=\"1\" /><text x=\"4402.091816406251\" y=\"295.0\" dominant-baseline=\"middle\" text-anchor=\"middle\" font-size=\"14px\" font-family=\"Arial\">ZZ^(0.208333333333333*γ_1)</text><rect x=\"4501.441562500002\" y=\"125.0\" width=\"198.69949218750003\" height=\"40\" stroke=\"black\" fill=\"white\" stroke-width=\"1\" /><text x=\"4600.791308593752\" y=\"145.0\" dominant-baseline=\"middle\" text-anchor=\"middle\" font-size=\"14px\" font-family=\"Arial\">ZZ</text><rect x=\"4501.441562500002\" y=\"225.0\" width=\"198.69949218750003\" height=\"40\" stroke=\"black\" fill=\"white\" stroke-width=\"1\" /><text x=\"4600.791308593752\" y=\"245.0\" dominant-baseline=\"middle\" text-anchor=\"middle\" font-size=\"14px\" font-family=\"Arial\">ZZ^(0.208333333333333*γ_1)</text><rect x=\"4720.141054687502\" y=\"25.0\" width=\"198.69949218750003\" height=\"40\" stroke=\"black\" fill=\"white\" stroke-width=\"1\" /><text x=\"4819.490800781252\" y=\"45.0\" dominant-baseline=\"middle\" text-anchor=\"middle\" font-size=\"14px\" font-family=\"Arial\">Z^(-0.333333333333333*γ_1)</text><rect x=\"4720.141054687502\" y=\"75.0\" width=\"198.69949218750003\" height=\"40\" stroke=\"black\" fill=\"white\" stroke-width=\"1\" /><text x=\"4819.490800781252\" y=\"95.0\" dominant-baseline=\"middle\" text-anchor=\"middle\" font-size=\"14px\" font-family=\"Arial\">ZZ</text><rect x=\"4720.141054687502\" y=\"325.0\" width=\"198.69949218750003\" height=\"40\" stroke=\"black\" fill=\"white\" stroke-width=\"1\" /><text x=\"4819.490800781252\" y=\"345.0\" dominant-baseline=\"middle\" text-anchor=\"middle\" font-size=\"14px\" font-family=\"Arial\">ZZ^(0.208333333333333*γ_1)</text><rect x=\"4918.8405468750025\" y=\"125.0\" width=\"198.69949218750003\" height=\"40\" stroke=\"black\" fill=\"white\" stroke-width=\"1\" /><text x=\"5018.190292968752\" y=\"145.0\" dominant-baseline=\"middle\" text-anchor=\"middle\" font-size=\"14px\" font-family=\"Arial\">ZZ</text><rect x=\"4918.8405468750025\" y=\"275.0\" width=\"198.69949218750003\" height=\"40\" stroke=\"black\" fill=\"white\" stroke-width=\"1\" /><text x=\"5018.190292968752\" y=\"295.0\" dominant-baseline=\"middle\" text-anchor=\"middle\" font-size=\"14px\" font-family=\"Arial\">ZZ^(0.208333333333333*γ_1)</text><rect x=\"5117.540039062503\" y=\"175.0\" width=\"198.69949218750003\" height=\"40\" stroke=\"black\" fill=\"white\" stroke-width=\"1\" /><text x=\"5216.889785156252\" y=\"195.0\" dominant-baseline=\"middle\" text-anchor=\"middle\" font-size=\"14px\" font-family=\"Arial\">ZZ</text><rect x=\"5117.540039062503\" y=\"225.0\" width=\"198.69949218750003\" height=\"40\" stroke=\"black\" fill=\"white\" stroke-width=\"1\" /><text x=\"5216.889785156252\" y=\"245.0\" dominant-baseline=\"middle\" text-anchor=\"middle\" font-size=\"14px\" font-family=\"Arial\">ZZ^(0.208333333333333*γ_1)</text><rect x=\"5336.239531250003\" y=\"75.0\" width=\"198.69949218750003\" height=\"40\" stroke=\"black\" fill=\"white\" stroke-width=\"1\" /><text x=\"5435.589277343753\" y=\"95.0\" dominant-baseline=\"middle\" text-anchor=\"middle\" font-size=\"14px\" font-family=\"Arial\">Z^(-0.375*γ_1)</text><rect x=\"5336.239531250003\" y=\"125.0\" width=\"198.69949218750003\" height=\"40\" stroke=\"black\" fill=\"white\" stroke-width=\"1\" /><text x=\"5435.589277343753\" y=\"145.0\" dominant-baseline=\"middle\" text-anchor=\"middle\" font-size=\"14px\" font-family=\"Arial\">ZZ</text><rect x=\"5336.239531250003\" y=\"325.0\" width=\"198.69949218750003\" height=\"40\" stroke=\"black\" fill=\"white\" stroke-width=\"1\" /><text x=\"5435.589277343753\" y=\"345.0\" dominant-baseline=\"middle\" text-anchor=\"middle\" font-size=\"14px\" font-family=\"Arial\">ZZ^(0.208333333333333*γ_1)</text><rect x=\"5534.939023437503\" y=\"175.0\" width=\"198.69949218750003\" height=\"40\" stroke=\"black\" fill=\"white\" stroke-width=\"1\" /><text x=\"5634.288769531253\" y=\"195.0\" dominant-baseline=\"middle\" text-anchor=\"middle\" font-size=\"14px\" font-family=\"Arial\">ZZ</text><rect x=\"5534.939023437503\" y=\"275.0\" width=\"198.69949218750003\" height=\"40\" stroke=\"black\" fill=\"white\" stroke-width=\"1\" /><text x=\"5634.288769531253\" y=\"295.0\" dominant-baseline=\"middle\" text-anchor=\"middle\" font-size=\"14px\" font-family=\"Arial\">ZZ^(0.208333333333333*γ_1)</text><rect x=\"5753.6385156250035\" y=\"125.0\" width=\"198.69949218750003\" height=\"40\" stroke=\"black\" fill=\"white\" stroke-width=\"1\" /><text x=\"5852.988261718753\" y=\"145.0\" dominant-baseline=\"middle\" text-anchor=\"middle\" font-size=\"14px\" font-family=\"Arial\">Z^(-0.3125*γ_1)</text><rect x=\"5753.6385156250035\" y=\"175.0\" width=\"198.69949218750003\" height=\"40\" stroke=\"black\" fill=\"white\" stroke-width=\"1\" /><text x=\"5852.988261718753\" y=\"195.0\" dominant-baseline=\"middle\" text-anchor=\"middle\" font-size=\"14px\" font-family=\"Arial\">ZZ</text><rect x=\"5753.6385156250035\" y=\"325.0\" width=\"198.69949218750003\" height=\"40\" stroke=\"black\" fill=\"white\" stroke-width=\"1\" /><text x=\"5852.988261718753\" y=\"345.0\" dominant-baseline=\"middle\" text-anchor=\"middle\" font-size=\"14px\" font-family=\"Arial\">ZZ^(0.416666666666667*γ_1)</text><rect x=\"5952.338007812504\" y=\"225.0\" width=\"198.69949218750003\" height=\"40\" stroke=\"black\" fill=\"white\" stroke-width=\"1\" /><text x=\"6051.687753906253\" y=\"245.0\" dominant-baseline=\"middle\" text-anchor=\"middle\" font-size=\"14px\" font-family=\"Arial\">ZZ</text><rect x=\"5952.338007812504\" y=\"275.0\" width=\"198.69949218750003\" height=\"40\" stroke=\"black\" fill=\"white\" stroke-width=\"1\" /><text x=\"6051.687753906253\" y=\"295.0\" dominant-baseline=\"middle\" text-anchor=\"middle\" font-size=\"14px\" font-family=\"Arial\">ZZ^(0.208333333333333*γ_1)</text><rect x=\"6181.037500000004\" y=\"175.0\" width=\"198.69949218750003\" height=\"40\" stroke=\"black\" fill=\"white\" stroke-width=\"1\" /><text x=\"6280.387246093754\" y=\"195.0\" dominant-baseline=\"middle\" text-anchor=\"middle\" font-size=\"14px\" font-family=\"Arial\">Z^(-0.708333333333333*γ_1)</text><rect x=\"6181.037500000004\" y=\"225.0\" width=\"198.69949218750003\" height=\"40\" stroke=\"black\" fill=\"white\" stroke-width=\"1\" /><text x=\"6280.387246093754\" y=\"245.0\" dominant-baseline=\"middle\" text-anchor=\"middle\" font-size=\"14px\" font-family=\"Arial\">ZZ</text><rect x=\"6181.037500000004\" y=\"325.0\" width=\"198.69949218750003\" height=\"40\" stroke=\"black\" fill=\"white\" stroke-width=\"1\" /><text x=\"6280.387246093754\" y=\"345.0\" dominant-baseline=\"middle\" text-anchor=\"middle\" font-size=\"14px\" font-family=\"Arial\">ZZ^(0.416666666666667*γ_1)</text><rect x=\"6399.736992187504\" y=\"225.0\" width=\"198.69949218750003\" height=\"40\" stroke=\"black\" fill=\"white\" stroke-width=\"1\" /><text x=\"6499.086738281254\" y=\"245.0\" dominant-baseline=\"middle\" text-anchor=\"middle\" font-size=\"14px\" font-family=\"Arial\">Z^(-0.666666666666667*γ_1)</text><rect x=\"6399.736992187504\" y=\"275.0\" width=\"198.69949218750003\" height=\"40\" stroke=\"black\" fill=\"white\" stroke-width=\"1\" /><text x=\"6499.086738281254\" y=\"295.0\" dominant-baseline=\"middle\" text-anchor=\"middle\" font-size=\"14px\" font-family=\"Arial\">ZZ</text><rect x=\"6399.736992187504\" y=\"325.0\" width=\"198.69949218750003\" height=\"40\" stroke=\"black\" fill=\"white\" stroke-width=\"1\" /><text x=\"6499.086738281254\" y=\"345.0\" dominant-baseline=\"middle\" text-anchor=\"middle\" font-size=\"14px\" font-family=\"Arial\">ZZ^(0.416666666666667*γ_1)</text><rect x=\"6618.4364843750045\" y=\"275.0\" width=\"109.16238281250003\" height=\"40\" stroke=\"black\" fill=\"white\" stroke-width=\"1\" /><text x=\"6673.017675781254\" y=\"295.0\" dominant-baseline=\"middle\" text-anchor=\"middle\" font-size=\"14px\" font-family=\"Arial\">Z^(-0.6875*γ_1)</text><rect x=\"6618.4364843750045\" y=\"325.0\" width=\"109.16238281250003\" height=\"40\" stroke=\"black\" fill=\"white\" stroke-width=\"1\" /><text x=\"6673.017675781254\" y=\"345.0\" dominant-baseline=\"middle\" text-anchor=\"middle\" font-size=\"14px\" font-family=\"Arial\">Z^(-1.0*γ_1)</text><rect x=\"6747.598867187505\" y=\"25.0\" width=\"58.2893359375\" height=\"40\" stroke=\"black\" fill=\"white\" stroke-width=\"1\" /><text x=\"6776.743535156254\" y=\"45.0\" dominant-baseline=\"middle\" text-anchor=\"middle\" font-size=\"14px\" font-family=\"Arial\">X^(β_1)</text><rect x=\"6747.598867187505\" y=\"75.0\" width=\"58.2893359375\" height=\"40\" stroke=\"black\" fill=\"white\" stroke-width=\"1\" /><text x=\"6776.743535156254\" y=\"95.0\" dominant-baseline=\"middle\" text-anchor=\"middle\" font-size=\"14px\" font-family=\"Arial\">X^(β_1)</text><rect x=\"6747.598867187505\" y=\"125.0\" width=\"58.2893359375\" height=\"40\" stroke=\"black\" fill=\"white\" stroke-width=\"1\" /><text x=\"6776.743535156254\" y=\"145.0\" dominant-baseline=\"middle\" text-anchor=\"middle\" font-size=\"14px\" font-family=\"Arial\">X^(β_1)</text><rect x=\"6747.598867187505\" y=\"175.0\" width=\"58.2893359375\" height=\"40\" stroke=\"black\" fill=\"white\" stroke-width=\"1\" /><text x=\"6776.743535156254\" y=\"195.0\" dominant-baseline=\"middle\" text-anchor=\"middle\" font-size=\"14px\" font-family=\"Arial\">X^(β_1)</text><rect x=\"6747.598867187505\" y=\"225.0\" width=\"58.2893359375\" height=\"40\" stroke=\"black\" fill=\"white\" stroke-width=\"1\" /><text x=\"6776.743535156254\" y=\"245.0\" dominant-baseline=\"middle\" text-anchor=\"middle\" font-size=\"14px\" font-family=\"Arial\">X^(β_1)</text><rect x=\"6747.598867187505\" y=\"275.0\" width=\"58.2893359375\" height=\"40\" stroke=\"black\" fill=\"white\" stroke-width=\"1\" /><text x=\"6776.743535156254\" y=\"295.0\" dominant-baseline=\"middle\" text-anchor=\"middle\" font-size=\"14px\" font-family=\"Arial\">X^(β_1)</text><rect x=\"6747.598867187505\" y=\"325.0\" width=\"58.2893359375\" height=\"40\" stroke=\"black\" fill=\"white\" stroke-width=\"1\" /><text x=\"6776.743535156254\" y=\"345.0\" dominant-baseline=\"middle\" text-anchor=\"middle\" font-size=\"14px\" font-family=\"Arial\">X^(β_1)</text></svg>"
      ],
      "text/plain": [
       "<cirq.contrib.svg.svg.SVGCircuit at 0x2359cb37370>"
      ]
     },
     "execution_count": 69,
     "metadata": {},
     "output_type": "execute_result"
    }
   ],
   "source": [
    "# better printing with SVG\n",
    "SVGCircuit(qaoa)"
   ]
  },
  {
   "cell_type": "code",
   "execution_count": 45,
   "id": "5715b2ea",
   "metadata": {},
   "outputs": [],
   "source": [
    "def f_params(gamma, beta, circuit):\n",
    "    simulator = cirq.Simulator()\n",
    "    params = cirq.ParamResolver({\"γ_0\": gamma, \"β_0\": beta})\n",
    "    result = simulator.simulate(circuit, param_resolver=params).final_state_vector\n",
    "    psum = [cirq.X(q) for q in cirq.LineQubit(range(circuit.get_independent_qubit_sets()))]\n",
    "    return NULL\n",
    " \n",
    "\n",
    "#energy for these parameters?"
   ]
  },
  {
   "cell_type": "code",
   "execution_count": 70,
   "id": "e2eea607",
   "metadata": {},
   "outputs": [
    {
     "data": {
      "text/plain": [
       "1"
      ]
     },
     "execution_count": 70,
     "metadata": {},
     "output_type": "execute_result"
    }
   ],
   "source": [
    "cK = qaoa.copy()\n",
    "psum = [q for q in cirq.LineQubit.range(len(cK.get_independent_qubit_sets()))]\n",
    "psum\n",
    "len(cK.get_independent_qubit_sets())"
   ]
  },
  {
   "cell_type": "code",
   "execution_count": 14,
   "id": "b81081f7",
   "metadata": {},
   "outputs": [
    {
     "data": {
      "text/plain": [
       "array([0.24829431, 0.2598409 , 0.19695954, 0.02798445, 0.19374515,\n",
       "       0.0281924 , 0.05228798, 0.04972458, 0.19944829, 0.02769398,\n",
       "       0.05341419, 0.04973387, 0.05269067, 0.04952716, 0.03322382,\n",
       "       0.04056416, 0.19553907, 0.13284555, 0.13746484, 0.06344684,\n",
       "       0.13683528, 0.06475646, 0.0877848 , 0.08751667, 0.10785784,\n",
       "       0.01889781, 0.04143078, 0.04499561, 0.04204051, 0.0450269 ,\n",
       "       0.03590188, 0.07434941, 0.1918486 , 0.12540579, 0.13000198,\n",
       "       0.061402  , 0.10183844, 0.02063151, 0.03918939, 0.04375733,\n",
       "       0.13002406, 0.05980889, 0.08280346, 0.08123972, 0.03832516,\n",
       "       0.04333277, 0.03439279, 0.07057536, 0.12316817, 0.05941253,\n",
       "       0.10727008, 0.07860016, 0.06177879, 0.03925319, 0.06069974,\n",
       "       0.08288459, 0.06022229, 0.03865474, 0.06002556, 0.08035436,\n",
       "       0.03055371, 0.03874352, 0.03623766, 0.11436408, 0.19444725,\n",
       "       0.13043027, 0.10541242, 0.02003678, 0.13446337, 0.06417578,\n",
       "       0.04141438, 0.0450315 , 0.13511826, 0.06123577, 0.03993459,\n",
       "       0.04455927, 0.08577625, 0.08494696, 0.03545469, 0.07317705,\n",
       "       0.1252486 , 0.06216903, 0.06340714, 0.03991201, 0.11150388,\n",
       "       0.082018  , 0.062952  , 0.08549764, 0.06281573, 0.03937656,\n",
       "       0.03123768, 0.03942164, 0.06242026, 0.08399087, 0.03721168,\n",
       "       0.11858495, 0.12234382, 0.05826322, 0.05970498, 0.03898788,\n",
       "       0.06066136, 0.03907209, 0.03065418, 0.03911564, 0.10464477,\n",
       "       0.07629871, 0.05894442, 0.07929413, 0.05909131, 0.0803539 ,\n",
       "       0.03588197, 0.11249515, 0.06589431, 0.03507222, 0.04552872,\n",
       "       0.04375715, 0.04616654, 0.04402528, 0.03914147, 0.06968793,\n",
       "       0.0448561 , 0.0431376 , 0.03858541, 0.06687358, 0.03872216,\n",
       "       0.06807214, 0.02834731, 0.16679291], dtype=float32)"
      ]
     },
     "execution_count": 14,
     "metadata": {},
     "output_type": "execute_result"
    }
   ],
   "source": [
    "def f_params2(gamma, beta, circuit, qubo):\n",
    "    simulator = cirq.Simulator()\n",
    "    params = cirq.ParamResolver({\"γ_0\": gamma, \"β_0\": beta})\n",
    "    result = simulator.simulate(circuit, param_resolver=params).final_state_vector\n",
    "    return result\n",
    "\n",
    "abs(f_params2(0.5, 1.2, qaoa, Q))"
   ]
  },
  {
   "cell_type": "code",
   "execution_count": 15,
   "id": "fe5e623a",
   "metadata": {
    "scrolled": true
   },
   "outputs": [
    {
     "ename": "ValueError",
     "evalue": "matmul: Input operand 1 has a mismatch in its core dimension 0, with gufunc signature (n?,k),(k,m?)->(n?,m?) (size 2 is different from 128)",
     "output_type": "error",
     "traceback": [
      "\u001b[1;31m---------------------------------------------------------------------------\u001b[0m",
      "\u001b[1;31mValueError\u001b[0m                                Traceback (most recent call last)",
      "\u001b[1;32m~\\AppData\\Local\\Temp\\ipykernel_2836\\1919946390.py\u001b[0m in \u001b[0;36m<module>\u001b[1;34m\u001b[0m\n\u001b[0;32m      1\u001b[0m \u001b[1;32mfor\u001b[0m \u001b[0mi\u001b[0m \u001b[1;32min\u001b[0m \u001b[0mrange\u001b[0m\u001b[1;33m(\u001b[0m\u001b[1;36m0\u001b[0m\u001b[1;33m,\u001b[0m \u001b[1;36m20\u001b[0m\u001b[1;33m,\u001b[0m \u001b[1;36m1\u001b[0m\u001b[1;33m)\u001b[0m\u001b[1;33m:\u001b[0m\u001b[1;33m\u001b[0m\u001b[1;33m\u001b[0m\u001b[0m\n\u001b[0;32m      2\u001b[0m     \u001b[1;32mfor\u001b[0m \u001b[0mj\u001b[0m \u001b[1;32min\u001b[0m \u001b[0mrange\u001b[0m\u001b[1;33m(\u001b[0m\u001b[1;36m0\u001b[0m\u001b[1;33m,\u001b[0m \u001b[1;36m20\u001b[0m\u001b[1;33m,\u001b[0m \u001b[1;36m1\u001b[0m\u001b[1;33m)\u001b[0m\u001b[1;33m:\u001b[0m\u001b[1;33m\u001b[0m\u001b[1;33m\u001b[0m\u001b[0m\n\u001b[1;32m----> 3\u001b[1;33m         \u001b[0mprint\u001b[0m\u001b[1;33m(\u001b[0m\u001b[0mf_params\u001b[0m\u001b[1;33m(\u001b[0m\u001b[0mi\u001b[0m\u001b[1;33m/\u001b[0m\u001b[1;36m10\u001b[0m\u001b[1;33m,\u001b[0m\u001b[0mj\u001b[0m\u001b[1;33m/\u001b[0m\u001b[1;36m10\u001b[0m\u001b[1;33m,\u001b[0m\u001b[0mqaoa\u001b[0m\u001b[1;33m)\u001b[0m\u001b[1;33m)\u001b[0m\u001b[1;33m\u001b[0m\u001b[1;33m\u001b[0m\u001b[0m\n\u001b[0m\u001b[0;32m      4\u001b[0m \u001b[1;33m\u001b[0m\u001b[0m\n\u001b[0;32m      5\u001b[0m \u001b[1;31m#parameters don't influence energy :(\u001b[0m\u001b[1;33m\u001b[0m\u001b[1;33m\u001b[0m\u001b[0m\n",
      "\u001b[1;32m~\\AppData\\Local\\Temp\\ipykernel_2836\\290351802.py\u001b[0m in \u001b[0;36mf_params\u001b[1;34m(gamma, beta, circuit)\u001b[0m\n\u001b[0;32m      3\u001b[0m     \u001b[0mparams\u001b[0m \u001b[1;33m=\u001b[0m \u001b[0mcirq\u001b[0m\u001b[1;33m.\u001b[0m\u001b[0mParamResolver\u001b[0m\u001b[1;33m(\u001b[0m\u001b[1;33m{\u001b[0m\u001b[1;34m\"γ_0\"\u001b[0m\u001b[1;33m:\u001b[0m \u001b[0mgamma\u001b[0m\u001b[1;33m,\u001b[0m \u001b[1;34m\"β_0\"\u001b[0m\u001b[1;33m:\u001b[0m \u001b[0mbeta\u001b[0m\u001b[1;33m}\u001b[0m\u001b[1;33m)\u001b[0m\u001b[1;33m\u001b[0m\u001b[1;33m\u001b[0m\u001b[0m\n\u001b[0;32m      4\u001b[0m     \u001b[0mresult\u001b[0m \u001b[1;33m=\u001b[0m \u001b[0msimulator\u001b[0m\u001b[1;33m.\u001b[0m\u001b[0msimulate\u001b[0m\u001b[1;33m(\u001b[0m\u001b[0mcircuit\u001b[0m\u001b[1;33m,\u001b[0m \u001b[0mparam_resolver\u001b[0m\u001b[1;33m=\u001b[0m\u001b[0mparams\u001b[0m\u001b[1;33m)\u001b[0m\u001b[1;33m.\u001b[0m\u001b[0mfinal_state_vector\u001b[0m\u001b[1;33m\u001b[0m\u001b[1;33m\u001b[0m\u001b[0m\n\u001b[1;32m----> 5\u001b[1;33m     \u001b[1;32mreturn\u001b[0m \u001b[0mcirq\u001b[0m\u001b[1;33m.\u001b[0m\u001b[0minverse\u001b[0m\u001b[1;33m(\u001b[0m\u001b[0mresult\u001b[0m\u001b[1;33m)\u001b[0m \u001b[1;33m@\u001b[0m \u001b[0mnp\u001b[0m\u001b[1;33m.\u001b[0m\u001b[0marray\u001b[0m\u001b[1;33m(\u001b[0m\u001b[1;33m[\u001b[0m\u001b[1;33m[\u001b[0m\u001b[1;36m1\u001b[0m\u001b[1;33m,\u001b[0m\u001b[1;36m0\u001b[0m\u001b[1;33m]\u001b[0m\u001b[1;33m,\u001b[0m\u001b[1;33m[\u001b[0m\u001b[1;36m0\u001b[0m\u001b[1;33m,\u001b[0m\u001b[1;33m-\u001b[0m\u001b[1;36m1\u001b[0m\u001b[1;33m]\u001b[0m\u001b[1;33m]\u001b[0m\u001b[1;33m)\u001b[0m \u001b[1;33m@\u001b[0m \u001b[0mresult\u001b[0m\u001b[1;33m\u001b[0m\u001b[1;33m\u001b[0m\u001b[0m\n\u001b[0m\u001b[0;32m      6\u001b[0m \u001b[1;33m\u001b[0m\u001b[0m\n\u001b[0;32m      7\u001b[0m \u001b[1;33m\u001b[0m\u001b[0m\n",
      "\u001b[1;31mValueError\u001b[0m: matmul: Input operand 1 has a mismatch in its core dimension 0, with gufunc signature (n?,k),(k,m?)->(n?,m?) (size 2 is different from 128)"
     ]
    }
   ],
   "source": [
    "for i in range(0, 20, 1):\n",
    "    for j in range(0, 20, 1):\n",
    "        print(f_params(i/10,j/10,qaoa))\n",
    "        \n",
    "#parameters don't influence energy :("
   ]
  },
  {
   "cell_type": "code",
   "execution_count": null,
   "id": "8b66ca50",
   "metadata": {},
   "outputs": [],
   "source": [
    "# Adding a measurement layer\n",
    "measure_qoao = qaoa.copy()\n",
    "measure_qoao.append(cirq.measure(qubits, key = 'result'))"
   ]
  },
  {
   "cell_type": "code",
   "execution_count": null,
   "id": "8fe761e9",
   "metadata": {},
   "outputs": [],
   "source": [
    "num_reps = 1000\n",
    "#single instance of parameters\n",
    "gamma_value, beta_value = 1, 1 \n",
    "simulator = cirq.Simulator()\n",
    "params = cirq.ParamResolver({\"γ_0\": gamma_value, \"β_0\": beta_value})\n",
    "measure_result = simulator.run(measure_qoao, param_resolver=params, repetitions = num_reps)\n",
    "  \n",
    "cirq.plot_state_histogram(measure_result, plt.subplot())\n",
    "plt.show()\n"
   ]
  },
  {
   "cell_type": "code",
   "execution_count": null,
   "id": "9ed3f219",
   "metadata": {},
   "outputs": [],
   "source": []
  }
 ],
 "metadata": {
  "kernelspec": {
   "display_name": "Python 3 (ipykernel)",
   "language": "python",
   "name": "python3"
  },
  "language_info": {
   "codemirror_mode": {
    "name": "ipython",
    "version": 3
   },
   "file_extension": ".py",
   "mimetype": "text/x-python",
   "name": "python",
   "nbconvert_exporter": "python",
   "pygments_lexer": "ipython3",
   "version": "3.9.13"
  }
 },
 "nbformat": 4,
 "nbformat_minor": 5
}
