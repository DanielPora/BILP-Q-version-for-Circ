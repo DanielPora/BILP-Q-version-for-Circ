{
 "cells": [
  {
   "cell_type": "code",
   "execution_count": 1,
   "id": "c434a3ad",
   "metadata": {},
   "outputs": [],
   "source": [
    "try:\n",
    "    import cirq\n",
    "except ImportError:\n",
    "    print(\"installing cirq...\")\n",
    "    !pip install --quiet cirq\n",
    "    print(\"installed cirq.\")\n",
    "    import cirq\n",
    "import sympy\n",
    "import random\n",
    "from importlib import reload\n",
    "import Utils_cirq\n",
    "reload(Utils_cirq)\n",
    "from Utils_cirq import *\n",
    "from cirq.contrib.svg import SVGCircuit\n",
    "import scipy"
   ]
  },
  {
   "cell_type": "code",
   "execution_count": 2,
   "id": "014885f3",
   "metadata": {},
   "outputs": [],
   "source": [
    "agents = 2\n",
    "p = 1"
   ]
  },
  {
   "cell_type": "code",
   "execution_count": 3,
   "id": "24539967",
   "metadata": {},
   "outputs": [
    {
     "data": {
      "text/plain": [
       "{'1': 30, '2': 40, '1,2': 75}"
      ]
     },
     "execution_count": 3,
     "metadata": {},
     "output_type": "execute_result"
    }
   ],
   "source": [
    "coalition_values = get_coalition(agents)\n",
    "coalition_values"
   ]
  },
  {
   "cell_type": "code",
   "execution_count": 4,
   "id": "9dbad4b4",
   "metadata": {},
   "outputs": [],
   "source": [
    "Q = get_Q(coalition_values, qubo_penalty = -50)"
   ]
  },
  {
   "cell_type": "markdown",
   "id": "3b283fcc",
   "metadata": {},
   "source": [
    "## Building the quantum circuit to solve the QUBO-Problem"
   ]
  },
  {
   "cell_type": "markdown",
   "id": "fbe6b365",
   "metadata": {},
   "source": [
    "In order to later plug in parameter values into the variational quantum circuit,\n",
    "we need a dictionary to store the values for each parameter.\n",
    "\n",
    "Following the naming convention from the paper we have β in the mixer layer and γ in the cost layer.\n",
    "\n",
    "In cirq parameters are realized via the sympy.Symbol function"
   ]
  },
  {
   "cell_type": "code",
   "execution_count": 5,
   "id": "25ef3eb6",
   "metadata": {},
   "outputs": [
    {
     "name": "stdout",
     "output_type": "stream",
     "text": [
      "The beta and gamma variables: [β_0] and [γ_0]\n"
     ]
    }
   ],
   "source": [
    "beta = [sympy.Symbol(\"β_\"+str(i)) for i in range(p)]\n",
    "gamma = [sympy.Symbol(\"γ_\"+str(i)) for i in range(p)]\n",
    "print(f\"The beta and gamma variables: {beta} and {gamma}\")"
   ]
  },
  {
   "cell_type": "markdown",
   "id": "f5f6d6c0",
   "metadata": {},
   "source": [
    "After random initialization a parameter dictionary looks like this:"
   ]
  },
  {
   "cell_type": "code",
   "execution_count": 6,
   "id": "54de4724",
   "metadata": {},
   "outputs": [
    {
     "data": {
      "text/plain": [
       "{γ_0: 0.25137838912458843, β_0: -0.5436655478544123}"
      ]
     },
     "execution_count": 6,
     "metadata": {},
     "output_type": "execute_result"
    }
   ],
   "source": [
    "param_dict = {}\n",
    "for i in range(p):\n",
    "    param_dict[gamma[i]] = random.uniform(-2, 2)\n",
    "    param_dict[beta[i]] = random.uniform(-2, 2)\n",
    "param_dict"
   ]
  },
  {
   "cell_type": "markdown",
   "id": "e44158c8",
   "metadata": {},
   "source": [
    "### Initializing the circuit\n",
    "Apply a hadamard gate on every qubit. The number of qubits is given by the size of the QUBO matrix"
   ]
  },
  {
   "cell_type": "code",
   "execution_count": 7,
   "id": "d1ec7901",
   "metadata": {},
   "outputs": [],
   "source": [
    "problem_size = len(Q)\n",
    "qaoa, qubits = cirq_init(problem_size)"
   ]
  },
  {
   "cell_type": "markdown",
   "id": "fe8f7d1b",
   "metadata": {},
   "source": [
    "Note: the function also returns the qubits that are used in the circuit in order to address them later indiviually"
   ]
  },
  {
   "cell_type": "markdown",
   "id": "f279c891",
   "metadata": {},
   "source": [
    "#### Adding cost and mixer layer alternately p times\n"
   ]
  },
  {
   "cell_type": "code",
   "execution_count": 8,
   "id": "f550d9c9",
   "metadata": {},
   "outputs": [],
   "source": [
    "for i in range(p):\n",
    "    qaoa = cost_layer(qaoa, qubits, gamma[i], Q)\n",
    "    qaoa = mixer_layer(qaoa, qubits, beta[i])"
   ]
  },
  {
   "cell_type": "markdown",
   "id": "b0b51b9e",
   "metadata": {},
   "source": [
    "Now the parameterized circuit looks like this:"
   ]
  },
  {
   "cell_type": "code",
   "execution_count": 9,
   "id": "4762081c",
   "metadata": {},
   "outputs": [],
   "source": [
    "# SVGCircuit(qaoa)"
   ]
  },
  {
   "cell_type": "markdown",
   "id": "21953a5a",
   "metadata": {},
   "source": [
    "#### Training the circuit\n",
    "\n",
    "To minimize the loss function  $L(\\gamma,\\beta) = \\langle\\gamma,\\beta |H_c| \\gamma,\\beta\\rangle$ for the training proccess , we construct $H_c$\n",
    "\n",
    "https://link.springer.com/book/10.1007/978-1-4842-6522-2 Quantum Machine Learning with Python\n",
    "\n",
    "https://youtu.be/YpLzSQPrgSc?t=836 Qiskit Global Summer School\n",
    "\n",
    "$H_c = \\sum_{i,j=1} ^{n}\\frac{1}{4}Q_{i,j}Z_i Z_j-\\sum_{i=1}^{n}c_iZ_i$\n",
    "with $c_i = \\sum_{j=1}^{n}Q_{i,j}$, the sum of the entries from the i-th row\n",
    "\n"
   ]
  },
  {
   "cell_type": "code",
   "execution_count": 10,
   "id": "8f831373",
   "metadata": {},
   "outputs": [],
   "source": [
    "H_c = m_op(Q)"
   ]
  },
  {
   "cell_type": "markdown",
   "id": "9af549a8",
   "metadata": {},
   "source": [
    "Alternatively the function m_z(dim) creates a generic measurement operator for dim number of qubits"
   ]
  },
  {
   "cell_type": "markdown",
   "id": "89b7cbc5",
   "metadata": {},
   "source": [
    "### Optimizing the parameters \n",
    "\n",
    "A simple SGD method is used to find the minimum for $L(\\gamma,\\beta)$, it tries to escape a local minimum by taking a random step.\n",
    "\n",
    "Other methods like a sampling distribution based loss and QUBO cost on generic measurement were also tried, but did not prove to be time effective"
   ]
  },
  {
   "cell_type": "code",
   "execution_count": 11,
   "id": "1f3db68f",
   "metadata": {},
   "outputs": [
    {
     "name": "stdout",
     "output_type": "stream",
     "text": [
      "Start at: {γ_0: 0.25137838912458843, β_0: -0.5436655478544123}\n",
      "Epoch 1, Energy: -0.18846617358178536\n",
      "Epoch 51, Energy: -0.40501623166024187\n",
      "Epoch 101, Energy: -0.4201565806092764\n",
      "Epoch 151, Energy: -0.4201565806092764\n",
      "Epoch 201, Energy: -0.4201565806092764\n",
      "Epoch 251, Energy: -0.42528850673414004\n",
      "Epoch 301, Energy: -0.42893542461902595\n",
      "Epoch 351, Energy: -0.4322303861915519\n",
      "Epoch 401, Energy: -0.4322303861915519\n",
      "Epoch 451, Energy: -0.4322303861915519\n",
      "Epoch 501, Energy: -0.4322660583852633\n",
      "Epoch 551, Energy: -0.4322660583852633\n"
     ]
    },
    {
     "data": {
      "image/png": "[encoded data removed]",
      "text/plain": [
       "<Figure size 640x480 with 1 Axes>"
      ]
     },
     "metadata": {},
     "output_type": "display_data"
    },
    {
     "name": "stdout",
     "output_type": "stream",
     "text": [
      "{γ_0: 0.955547240231731, β_0: 1.5968455187412949} -0.4322660583852633\n"
     ]
    }
   ],
   "source": [
    "print(f\"Start at: {param_dict}\")\n",
    "# use prt = True so enable printouts and display the graph loss function value by epoch \n",
    "opt_params, opt_energy = exp_optim(param_dict.copy(), qaoa, lr=20, epochs=600, M=H_c, prt=True)\n",
    "print(opt_params, opt_energy)"
   ]
  },
  {
   "cell_type": "markdown",
   "id": "4dd8838b",
   "metadata": {},
   "source": [
    "To obtain a solution a measurments are performed. For that we need to add a measurement layer to the QAOA circuit"
   ]
  },
  {
   "cell_type": "code",
   "execution_count": 12,
   "id": "f09d8f83",
   "metadata": {},
   "outputs": [],
   "source": [
    "measure_qaoa = qaoa.copy()\n",
    "measure_qaoa.append(cirq.measure(qubits, key = 'result'))"
   ]
  },
  {
   "cell_type": "markdown",
   "id": "e3e47cbb",
   "metadata": {},
   "source": [
    "We can now perform measurements to see what results are most probable"
   ]
  },
  {
   "cell_type": "code",
   "execution_count": 13,
   "id": "f836f992",
   "metadata": {
    "scrolled": true
   },
   "outputs": [
    {
     "name": "stdout",
     "output_type": "stream",
     "text": [
      "cirq.ParamResolver({sympy.Symbol('γ_0'): 0.955547240231731, sympy.Symbol('β_0'): 1.5968455187412949})\n"
     ]
    },
    {
     "data": {
      "image/png": "[encoded data removed]",
      "text/plain": [
       "<Figure size 640x480 with 1 Axes>"
      ]
     },
     "metadata": {},
     "output_type": "display_data"
    },
    {
     "name": "stdout",
     "output_type": "stream",
     "text": [
      "[(7, 482), (3, 178), (5, 148), (6, 99), (1, 74), (0, 16), (2, 2), (4, 1)]\n"
     ]
    }
   ],
   "source": [
    "simulator = cirq.Simulator()\n",
    "num_reps = 1000\n",
    "params = cirq.ParamResolver(opt_params)\n",
    "print(params)\n",
    "measure_result = simulator.run(measure_qaoa, param_resolver=params, repetitions = num_reps)\n",
    "\n",
    "cirq.plot_state_histogram(measure_result, plt.subplot())\n",
    "plt.show()\n",
    "counts = measure_result.histogram(key='result')\n",
    "solution = counts.most_common(10)\n",
    "print(solution)\n",
    "moco_prob = counts.most_common(1)[0][1]/num_reps\n"
   ]
  },
  {
   "cell_type": "markdown",
   "id": "122f4a77",
   "metadata": {},
   "source": [
    "The results need to be decoded to be interpretable"
   ]
  },
  {
   "cell_type": "code",
   "execution_count": 14,
   "id": "c934bb3a",
   "metadata": {},
   "outputs": [
    {
     "name": "stdout",
     "output_type": "stream",
     "text": [
      "Best coalition: [{'1', '2'}]\n",
      "Probabilty: 0.074\n",
      "Most frequent measurment:[{'1'}, {'2'}, {'1', '2'}]\n",
      " Probabilty: 0.482\n"
     ]
    }
   ],
   "source": [
    "sol, num, prob = find_sol(counts, coalition_values)\n",
    "print(f\"Best coalition: {sol}\\nProbabilty: {prob}\")\n",
    "most_common = solution[0][0]\n",
    "moco = decode(to_bin_array(most_common, agents), coalition_values)\n",
    "print(f\"Most frequent measurment:{moco}\\nProbabilty: {moco_prob}\")"
   ]
  },
  {
   "cell_type": "markdown",
   "id": "c1253370",
   "metadata": {},
   "source": [
    "### Visualize the parameter space using a grid search for p=1 (two parameters)"
   ]
  },
  {
   "cell_type": "markdown",
   "id": "2188e6fd",
   "metadata": {},
   "source": [
    "With gamma_max and beta_max we can define the +/- range of the grid search"
   ]
  },
  {
   "cell_type": "code",
   "execution_count": 15,
   "id": "75053556",
   "metadata": {},
   "outputs": [
    {
     "data": {
      "image/png": "[encoded data removed]",
      "text/plain": [
       "<Figure size 640x480 with 2 Axes>"
      ]
     },
     "metadata": {},
     "output_type": "display_data"
    },
    {
     "name": "stdout",
     "output_type": "stream",
     "text": [
      "Numerically found parameters: Gamma = -1.0, Beta = 0.3999999999999999\n",
      "Energy = -0.43054073528028786\n"
     ]
    }
   ],
   "source": [
    "if p ==1:\n",
    "    gamma_max = 5\n",
    "    beta_max = 1 # ranges of the parameter\n",
    "    res = 5 # granularity of the image\n",
    "    \n",
    "    \n",
    "    g_size = int(gamma_max * res)\n",
    "    b_size = int(beta_max * res)\n",
    "    energies = np.zeros((2 * g_size, 2 * b_size))\n",
    "    for g in range(-g_size, g_size):\n",
    "        for b in range(-b_size, b_size):\n",
    "            vec = state_vector_params(g/g_size*gamma_max, b/b_size*beta_max, qaoa)\n",
    "            energies[g+g_size, b+b_size] = vec @ H_c @ vec\n",
    "\n",
    "    \"\"\"Plot the energy as a function of the parameters 𝛄 and β found in the grid search.\"\"\"\n",
    "    plt.ylabel(r\"$\\gamma$\")\n",
    "    plt.xlabel(r\"$\\beta$\")\n",
    "    plt.title(\"Energy as a function of parameters\")\n",
    "    plt.imshow(energies, extent=(-beta_max, beta_max, gamma_max, -gamma_max))\n",
    "    plt.colorbar()\n",
    "    plt.show()\n",
    "    \n",
    "    ind = np.unravel_index(np.argmin(energies, axis=None), energies.shape)\n",
    "    ind_gam, ind_bet = ind\n",
    "    eng = energies[ind]\n",
    "    opt_gam = -gamma_max + ind_gam / res\n",
    "    opt_bet = -beta_max + ind_bet / res\n",
    "    print(f\"Numerically found parameters: Gamma = {opt_gam}, Beta = {opt_bet}\\nEnergy = {eng}\")"
   ]
  },
  {
   "cell_type": "code",
   "execution_count": 16,
   "id": "0e622c37",
   "metadata": {},
   "outputs": [
    {
     "name": "stdout",
     "output_type": "stream",
     "text": [
      "Grid energy: -0.43054073528028786, Optimizer energy:-0.4322660583852633\n",
      "Energy lower than optimizer: False\n"
     ]
    }
   ],
   "source": [
    "if p == 1:\n",
    "    ga = opt_gam\n",
    "    be = opt_bet\n",
    "    vec = state_vector_params(ga, be, qaoa)\n",
    "    im_en = vec @ H_c @ vec\n",
    "    ga = opt_params[gamma[0]]\n",
    "    be = opt_params[beta[0]]\n",
    "    vec = state_vector_params(ga, be, qaoa)\n",
    "    op_en = vec @ H_c @ vec\n",
    "\n",
    "    print(f\"Grid energy: {im_en}, Optimizer energy:{op_en}\")\n",
    "    print(f\"Energy lower than optimizer: {im_en <= op_en}\")"
   ]
  },
  {
   "cell_type": "markdown",
   "id": "2318a169",
   "metadata": {},
   "source": [
    "Measurment results for parameters found by grid search"
   ]
  },
  {
   "cell_type": "code",
   "execution_count": 17,
   "id": "2c40f6fb",
   "metadata": {},
   "outputs": [
    {
     "data": {
      "image/png": "[encoded data removed]",
      "text/plain": [
       "<Figure size 640x480 with 1 Axes>"
      ]
     },
     "metadata": {},
     "output_type": "display_data"
    },
    {
     "name": "stdout",
     "output_type": "stream",
     "text": [
      "[(7, 487), (3, 197), (5, 117), (6, 101), (1, 72), (0, 19), (4, 5), (2, 2)]\n"
     ]
    }
   ],
   "source": [
    "plot_dict = {}\n",
    "for i in range(p):\n",
    "    plot_dict[gamma[i]] = opt_gam  \n",
    "    plot_dict[beta[i]] = opt_bet\n",
    "    plot_params = cirq.ParamResolver(plot_dict)\n",
    "plot_result = simulator.run(measure_qaoa, param_resolver=plot_params, repetitions = num_reps)\n",
    "\n",
    "cirq.plot_state_histogram(plot_result, plt.subplot())\n",
    "plt.show()\n",
    "counts = plot_result.histogram(key='result')\n",
    "solution = counts.most_common(10)\n",
    "print(solution)\n",
    "moco_prob = counts.most_common(1)[0][1]/num_reps"
   ]
  },
  {
   "cell_type": "code",
   "execution_count": 18,
   "id": "127cdcfd",
   "metadata": {},
   "outputs": [
    {
     "name": "stdout",
     "output_type": "stream",
     "text": [
      "Best coalition: [{'1', '2'}]\n",
      "Probabilty: 0.072\n",
      "Most frequent measurment:  [{'1'}, {'2'}, {'1', '2'}]\n",
      "Most frequent measurment:[{'1'}, {'2'}, {'1', '2'}]\n",
      "Probabilty: 0.487\n"
     ]
    }
   ],
   "source": [
    "sol, num, prob = find_sol(counts, coalition_values)\n",
    "print(f\"Best coalition: {sol}\\nProbabilty: {prob}\")\n",
    "most_common = solution[0][0]\n",
    "moco = decode(to_bin_array(most_common, agents), coalition_values)\n",
    "print(\"Most frequent measurment: \", moco)\n",
    "print(f\"Most frequent measurment:{moco}\\nProbabilty: {moco_prob}\")"
   ]
  },
  {
   "cell_type": "markdown",
   "id": "5af38741",
   "metadata": {},
   "source": [
    "### Using cobyla\n",
    "\n",
    "Experimenting with cobyla didn't always lead to a lower energy when the starting point is too far from the optimal solution. Changes in rhobeg can help here"
   ]
  },
  {
   "cell_type": "code",
   "execution_count": 19,
   "id": "404a30c7",
   "metadata": {},
   "outputs": [
    {
     "name": "stdout",
     "output_type": "stream",
     "text": [
      "Cobyla gamma: -0.926520035118473, beta: 0.3884603032003041\n",
      "Cobyla energy: -0.4331123002921307\n",
      "Energy lower than optimizer? True\n"
     ]
    }
   ],
   "source": [
    "def get_energy(para_array):\n",
    "    vec = state_vector_params(para_array[0], para_array[1], qaoa)\n",
    "    return vec @ H_c @ vec\n",
    "\n",
    "def constr1(x):\n",
    "    \"beta should be greater than -2\"\n",
    "    return x[1] + 2\n",
    "def constr2(x):\n",
    "    \"beta should be smaller than 2\"\n",
    "    return -x[1] + 2\n",
    "\n",
    "init = [0, 0]\n",
    "\n",
    "cob_array = scipy.optimize.fmin_cobyla(get_energy, init, [constr1, constr2], rhobeg=2.0, rhoend=0.0001, maxfun=1000, catol=0.0002)\n",
    "print(f\"Cobyla gamma: {cob_array[0]}, beta: {cob_array[1]}\")\n",
    "cob_en = get_energy(cob_array)\n",
    "print(f\"Cobyla energy: {cob_en}\")\n",
    "print(f\"Energy lower than optimizer? {op_en >= cob_en}\")"
   ]
  },
  {
   "cell_type": "markdown",
   "id": "562c4ca7",
   "metadata": {},
   "source": [
    "Measurment results for parameters found by cobyla"
   ]
  },
  {
   "cell_type": "code",
   "execution_count": 20,
   "id": "c1d71eb2",
   "metadata": {},
   "outputs": [
    {
     "data": {
      "image/png": "[encoded data removed]",
      "text/plain": [
       "<Figure size 640x480 with 1 Axes>"
      ]
     },
     "metadata": {},
     "output_type": "display_data"
    },
    {
     "name": "stdout",
     "output_type": "stream",
     "text": [
      "[(7, 448), (3, 182), (5, 141), (6, 135), (1, 77), (0, 16), (4, 1)]\n"
     ]
    }
   ],
   "source": [
    "cob_dict = {}\n",
    "for i in range(p):\n",
    "    cob_dict[gamma[i]] = cob_array[0]  \n",
    "    cob_dict[beta[i]] = cob_array[1]\n",
    "    cob_params = cirq.ParamResolver(cob_dict)\n",
    "cob_result = simulator.run(measure_qaoa, param_resolver=cob_params, repetitions = num_reps)\n",
    "\n",
    "cirq.plot_state_histogram(cob_result, plt.subplot())\n",
    "plt.show()\n",
    "counts = cob_result.histogram(key='result')\n",
    "solution = counts.most_common(10)\n",
    "print(solution)\n",
    "moco_prob = counts.most_common(1)[0][1]/num_reps"
   ]
  },
  {
   "cell_type": "code",
   "execution_count": 21,
   "id": "c3b29534",
   "metadata": {},
   "outputs": [
    {
     "name": "stdout",
     "output_type": "stream",
     "text": [
      "Best coalition: [{'1', '2'}]\n",
      "Probabilty: 0.077\n",
      "Most frequent measurment:  [{'1'}, {'2'}, {'1', '2'}]\n",
      "Most frequent measurment:[{'1'}, {'2'}, {'1', '2'}]\n",
      "Probabilty: 0.448\n"
     ]
    }
   ],
   "source": [
    "sol, num, prob = find_sol(counts, coalition_values)\n",
    "print(f\"Best coalition: {sol}\\nProbabilty: {prob}\")\n",
    "most_common = solution[0][0]\n",
    "moco = decode(to_bin_array(most_common, agents), coalition_values)\n",
    "print(\"Most frequent measurment: \", moco)\n",
    "print(f\"Most frequent measurment:{moco}\\nProbabilty: {moco_prob}\")"
   ]
  },
  {
   "cell_type": "markdown",
   "id": "1e9d2567",
   "metadata": {},
   "source": [
    "### Conclusion\n",
    "\n",
    "Both methods lack completeness in terms of finding the lowest energy level.\n",
    "For up to 3 agents they show soundness, but not in terms of finding the correct solution with the highest probability. The reason could be that H_c, though with the best of conscience and knowledge implemented, is not correct.<br>\n",
    "When using 4 agents the construction of $H_c$ takes unreasonably long. Therefore a the methods for sampling distribution approaches were devoloped to circumvent this but for the cost of much more training time and also without completness garantee."
   ]
  }
 ],
 "metadata": {
  "kernelspec": {
   "display_name": "Python 3 (ipykernel)",
   "language": "python",
   "name": "python3"
  },
  "language_info": {
   "codemirror_mode": {
    "name": "ipython",
    "version": 3
   },
   "file_extension": ".py",
   "mimetype": "text/x-python",
   "name": "python",
   "nbconvert_exporter": "python",
   "pygments_lexer": "ipython3",
   "version": "3.9.13"
  }
 },
 "nbformat": 4,
 "nbformat_minor": 5
}
