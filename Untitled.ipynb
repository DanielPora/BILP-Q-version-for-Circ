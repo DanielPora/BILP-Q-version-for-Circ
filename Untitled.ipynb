{
 "cells": [
  {
   "cell_type": "code",
   "execution_count": 2,
   "id": "c434a3ad",
   "metadata": {},
   "outputs": [
    {
     "ename": "AttributeError",
     "evalue": "module 'gmpy2' has no attribute 'version'",
     "output_type": "error",
     "traceback": [
      "\u001b[1;31m---------------------------------------------------------------------------\u001b[0m",
      "\u001b[1;31mAttributeError\u001b[0m                            Traceback (most recent call last)",
      "Cell \u001b[1;32mIn[2], line 2\u001b[0m\n\u001b[0;32m      1\u001b[0m \u001b[38;5;28;01mtry\u001b[39;00m:\n\u001b[1;32m----> 2\u001b[0m     \u001b[38;5;28;01mimport\u001b[39;00m \u001b[38;5;21;01mcirq\u001b[39;00m\n\u001b[0;32m      3\u001b[0m \u001b[38;5;28;01mexcept\u001b[39;00m \u001b[38;5;167;01mImportError\u001b[39;00m:\n\u001b[0;32m      4\u001b[0m     \u001b[38;5;28mprint\u001b[39m(\u001b[38;5;124m\"\u001b[39m\u001b[38;5;124minstalling cirq...\u001b[39m\u001b[38;5;124m\"\u001b[39m)\n",
      "File \u001b[1;32m~\\anaconda3\\lib\\site-packages\\cirq\\__init__.py:31\u001b[0m\n\u001b[0;32m     23\u001b[0m \u001b[38;5;28;01mfrom\u001b[39;00m \u001b[38;5;21;01mcirq\u001b[39;00m \u001b[38;5;28;01mimport\u001b[39;00m (\n\u001b[0;32m     24\u001b[0m     \u001b[38;5;66;03m# Low level\u001b[39;00m\n\u001b[0;32m     25\u001b[0m     _version,\n\u001b[0;32m     26\u001b[0m     _doc,\n\u001b[0;32m     27\u001b[0m     type_workarounds,\n\u001b[0;32m     28\u001b[0m )\n\u001b[0;32m     30\u001b[0m \u001b[38;5;28;01mwith\u001b[39;00m _import\u001b[38;5;241m.\u001b[39mdelay_import(\u001b[38;5;124m'\u001b[39m\u001b[38;5;124mcirq.protocols\u001b[39m\u001b[38;5;124m'\u001b[39m):\n\u001b[1;32m---> 31\u001b[0m     \u001b[38;5;28;01mfrom\u001b[39;00m \u001b[38;5;21;01mcirq\u001b[39;00m \u001b[38;5;28;01mimport\u001b[39;00m (\n\u001b[0;32m     32\u001b[0m         \u001b[38;5;66;03m# Core\u001b[39;00m\n\u001b[0;32m     33\u001b[0m         protocols,\n\u001b[0;32m     34\u001b[0m         value,\n\u001b[0;32m     35\u001b[0m         linalg,\n\u001b[0;32m     36\u001b[0m         qis,\n\u001b[0;32m     37\u001b[0m         ops,\n\u001b[0;32m     38\u001b[0m         devices,\n\u001b[0;32m     39\u001b[0m         study,\n\u001b[0;32m     40\u001b[0m     )\n\u001b[0;32m     41\u001b[0m \u001b[38;5;28;01mfrom\u001b[39;00m \u001b[38;5;21;01mcirq\u001b[39;00m \u001b[38;5;28;01mimport\u001b[39;00m (\n\u001b[0;32m     42\u001b[0m     \u001b[38;5;66;03m# Core\u001b[39;00m\n\u001b[0;32m     43\u001b[0m     circuits,\n\u001b[1;32m   (...)\u001b[0m\n\u001b[0;32m     55\u001b[0m     testing,\n\u001b[0;32m     56\u001b[0m )\n\u001b[0;32m     58\u001b[0m \u001b[38;5;66;03m# End dependency order list of sub-modules\u001b[39;00m\n",
      "File \u001b[1;32m~\\anaconda3\\lib\\site-packages\\cirq\\value\\__init__.py:18\u001b[0m\n\u001b[0;32m     15\u001b[0m \u001b[38;5;124;03m\"\"\"Value conversion utilities and classes for time and quantum states.\"\"\"\u001b[39;00m\n\u001b[0;32m     16\u001b[0m \u001b[38;5;28;01mfrom\u001b[39;00m \u001b[38;5;21;01mcirq\u001b[39;00m\u001b[38;5;21;01m.\u001b[39;00m\u001b[38;5;21;01mvalue\u001b[39;00m\u001b[38;5;21;01m.\u001b[39;00m\u001b[38;5;21;01mabc_alt\u001b[39;00m \u001b[38;5;28;01mimport\u001b[39;00m ABCMetaImplementAnyOneOf, alternative\n\u001b[1;32m---> 18\u001b[0m \u001b[38;5;28;01mfrom\u001b[39;00m \u001b[38;5;21;01mcirq\u001b[39;00m\u001b[38;5;21;01m.\u001b[39;00m\u001b[38;5;21;01mvalue\u001b[39;00m\u001b[38;5;21;01m.\u001b[39;00m\u001b[38;5;21;01mangle\u001b[39;00m \u001b[38;5;28;01mimport\u001b[39;00m (\n\u001b[0;32m     19\u001b[0m     canonicalize_half_turns,\n\u001b[0;32m     20\u001b[0m     chosen_angle_to_canonical_half_turns,\n\u001b[0;32m     21\u001b[0m     chosen_angle_to_half_turns,\n\u001b[0;32m     22\u001b[0m )\n\u001b[0;32m     24\u001b[0m \u001b[38;5;28;01mfrom\u001b[39;00m \u001b[38;5;21;01mcirq\u001b[39;00m\u001b[38;5;21;01m.\u001b[39;00m\u001b[38;5;21;01mvalue\u001b[39;00m\u001b[38;5;21;01m.\u001b[39;00m\u001b[38;5;21;01mclassical_data\u001b[39;00m \u001b[38;5;28;01mimport\u001b[39;00m (\n\u001b[0;32m     25\u001b[0m     ClassicalDataDictionaryStore,\n\u001b[0;32m     26\u001b[0m     ClassicalDataStore,\n\u001b[0;32m     27\u001b[0m     ClassicalDataStoreReader,\n\u001b[0;32m     28\u001b[0m     MeasurementType,\n\u001b[0;32m     29\u001b[0m )\n\u001b[0;32m     31\u001b[0m \u001b[38;5;28;01mfrom\u001b[39;00m \u001b[38;5;21;01mcirq\u001b[39;00m\u001b[38;5;21;01m.\u001b[39;00m\u001b[38;5;21;01mvalue\u001b[39;00m\u001b[38;5;21;01m.\u001b[39;00m\u001b[38;5;21;01mcondition\u001b[39;00m \u001b[38;5;28;01mimport\u001b[39;00m Condition, KeyCondition, SympyCondition\n",
      "File \u001b[1;32m~\\anaconda3\\lib\\site-packages\\cirq\\value\\angle.py:17\u001b[0m\n\u001b[0;32m     15\u001b[0m \u001b[38;5;28;01mfrom\u001b[39;00m \u001b[38;5;21;01mtyping\u001b[39;00m \u001b[38;5;28;01mimport\u001b[39;00m Optional, overload\n\u001b[0;32m     16\u001b[0m \u001b[38;5;28;01mimport\u001b[39;00m \u001b[38;5;21;01mnumpy\u001b[39;00m \u001b[38;5;28;01mas\u001b[39;00m \u001b[38;5;21;01mnp\u001b[39;00m\n\u001b[1;32m---> 17\u001b[0m \u001b[38;5;28;01mimport\u001b[39;00m \u001b[38;5;21;01msympy\u001b[39;00m\n\u001b[0;32m     18\u001b[0m \u001b[38;5;28;01mfrom\u001b[39;00m \u001b[38;5;21;01mcirq\u001b[39;00m\u001b[38;5;21;01m.\u001b[39;00m\u001b[38;5;21;01mvalue\u001b[39;00m \u001b[38;5;28;01mimport\u001b[39;00m type_alias\n\u001b[0;32m     21\u001b[0m \u001b[38;5;28;01mdef\u001b[39;00m \u001b[38;5;21mchosen_angle_to_half_turns\u001b[39m(\n\u001b[0;32m     22\u001b[0m     half_turns: Optional[type_alias\u001b[38;5;241m.\u001b[39mTParamVal] \u001b[38;5;241m=\u001b[39m \u001b[38;5;28;01mNone\u001b[39;00m,\n\u001b[0;32m     23\u001b[0m     rads: Optional[\u001b[38;5;28mfloat\u001b[39m] \u001b[38;5;241m=\u001b[39m \u001b[38;5;28;01mNone\u001b[39;00m,\n\u001b[0;32m     24\u001b[0m     degs: Optional[\u001b[38;5;28mfloat\u001b[39m] \u001b[38;5;241m=\u001b[39m \u001b[38;5;28;01mNone\u001b[39;00m,\n\u001b[0;32m     25\u001b[0m     default: \u001b[38;5;28mfloat\u001b[39m \u001b[38;5;241m=\u001b[39m \u001b[38;5;241m1.0\u001b[39m,\n\u001b[0;32m     26\u001b[0m ) \u001b[38;5;241m-\u001b[39m\u001b[38;5;241m>\u001b[39m type_alias\u001b[38;5;241m.\u001b[39mTParamVal:\n",
      "File \u001b[1;32m~\\anaconda3\\lib\\site-packages\\sympy\\__init__.py:51\u001b[0m\n\u001b[0;32m     47\u001b[0m         \u001b[38;5;28;01mraise\u001b[39;00m \u001b[38;5;167;01mRuntimeError\u001b[39;00m(\u001b[38;5;124m\"\u001b[39m\u001b[38;5;124munrecognized value for SYMPY_DEBUG: \u001b[39m\u001b[38;5;132;01m%s\u001b[39;00m\u001b[38;5;124m\"\u001b[39m \u001b[38;5;241m%\u001b[39m\n\u001b[0;32m     48\u001b[0m                            debug_str)\n\u001b[0;32m     49\u001b[0m SYMPY_DEBUG \u001b[38;5;241m=\u001b[39m __sympy_debug()  \u001b[38;5;66;03m# type: bool\u001b[39;00m\n\u001b[1;32m---> 51\u001b[0m \u001b[38;5;28;01mfrom\u001b[39;00m \u001b[38;5;21;01m.\u001b[39;00m\u001b[38;5;21;01mcore\u001b[39;00m \u001b[38;5;28;01mimport\u001b[39;00m (sympify, SympifyError, cacheit, Basic, Atom,\n\u001b[0;32m     52\u001b[0m         preorder_traversal, S, Expr, AtomicExpr, UnevaluatedExpr, Symbol,\n\u001b[0;32m     53\u001b[0m         Wild, Dummy, symbols, var, Number, Float, Rational, Integer,\n\u001b[0;32m     54\u001b[0m         NumberSymbol, RealNumber, igcd, ilcm, seterr, E, I, nan, oo, pi, zoo,\n\u001b[0;32m     55\u001b[0m         AlgebraicNumber, comp, mod_inverse, Pow, integer_nthroot, integer_log,\n\u001b[0;32m     56\u001b[0m         Mul, prod, Add, Mod, Rel, Eq, Ne, Lt, Le, Gt, Ge, Equality,\n\u001b[0;32m     57\u001b[0m         GreaterThan, LessThan, Unequality, StrictGreaterThan, StrictLessThan,\n\u001b[0;32m     58\u001b[0m         vectorize, Lambda, WildFunction, Derivative, diff, FunctionClass,\n\u001b[0;32m     59\u001b[0m         Function, Subs, expand, PoleError, count_ops, expand_mul, expand_log,\n\u001b[0;32m     60\u001b[0m         expand_func, expand_trig, expand_complex, expand_multinomial, nfloat,\n\u001b[0;32m     61\u001b[0m         expand_power_base, expand_power_exp, arity, PrecisionExhausted, N,\n\u001b[0;32m     62\u001b[0m         evalf, Tuple, Dict, gcd_terms, factor_terms, factor_nc, evaluate,\n\u001b[0;32m     63\u001b[0m         Catalan, EulerGamma, GoldenRatio, TribonacciConstant, bottom_up, use,\n\u001b[0;32m     64\u001b[0m         postorder_traversal, default_sort_key, ordered)\n\u001b[0;32m     66\u001b[0m \u001b[38;5;28;01mfrom\u001b[39;00m \u001b[38;5;21;01m.\u001b[39;00m\u001b[38;5;21;01mlogic\u001b[39;00m \u001b[38;5;28;01mimport\u001b[39;00m (to_cnf, to_dnf, to_nnf, And, Or, Not, Xor, Nand, Nor,\n\u001b[0;32m     67\u001b[0m         Implies, Equivalent, ITE, POSform, SOPform, simplify_logic, bool_map,\n\u001b[0;32m     68\u001b[0m         true, false, satisfiable)\n\u001b[0;32m     70\u001b[0m \u001b[38;5;28;01mfrom\u001b[39;00m \u001b[38;5;21;01m.\u001b[39;00m\u001b[38;5;21;01massumptions\u001b[39;00m \u001b[38;5;28;01mimport\u001b[39;00m (AppliedPredicate, Predicate, AssumptionsContext,\n\u001b[0;32m     71\u001b[0m         assuming, Q, ask, register_handler, remove_handler, refine)\n",
      "File \u001b[1;32m~\\anaconda3\\lib\\site-packages\\sympy\\core\\__init__.py:4\u001b[0m\n\u001b[0;32m      1\u001b[0m \u001b[38;5;124;03m\"\"\"Core module. Provides the basic operations needed in sympy.\u001b[39;00m\n\u001b[0;32m      2\u001b[0m \u001b[38;5;124;03m\"\"\"\u001b[39;00m\n\u001b[1;32m----> 4\u001b[0m \u001b[38;5;28;01mfrom\u001b[39;00m \u001b[38;5;21;01m.\u001b[39;00m\u001b[38;5;21;01msympify\u001b[39;00m \u001b[38;5;28;01mimport\u001b[39;00m sympify, SympifyError\n\u001b[0;32m      5\u001b[0m \u001b[38;5;28;01mfrom\u001b[39;00m \u001b[38;5;21;01m.\u001b[39;00m\u001b[38;5;21;01mcache\u001b[39;00m \u001b[38;5;28;01mimport\u001b[39;00m cacheit\n\u001b[0;32m      6\u001b[0m \u001b[38;5;28;01mfrom\u001b[39;00m \u001b[38;5;21;01m.\u001b[39;00m\u001b[38;5;21;01massumptions\u001b[39;00m \u001b[38;5;28;01mimport\u001b[39;00m assumptions, check_assumptions, failing_assumptions, common_assumptions\n",
      "File \u001b[1;32m~\\anaconda3\\lib\\site-packages\\sympy\\core\\sympify.py:9\u001b[0m\n\u001b[0;32m      7\u001b[0m \u001b[38;5;28;01mfrom\u001b[39;00m \u001b[38;5;21;01minspect\u001b[39;00m \u001b[38;5;28;01mimport\u001b[39;00m getmro\n\u001b[0;32m      8\u001b[0m \u001b[38;5;28;01mimport\u001b[39;00m \u001b[38;5;21;01mstring\u001b[39;00m\n\u001b[1;32m----> 9\u001b[0m \u001b[38;5;28;01mfrom\u001b[39;00m \u001b[38;5;21;01msympy\u001b[39;00m\u001b[38;5;21;01m.\u001b[39;00m\u001b[38;5;21;01mcore\u001b[39;00m\u001b[38;5;21;01m.\u001b[39;00m\u001b[38;5;21;01mrandom\u001b[39;00m \u001b[38;5;28;01mimport\u001b[39;00m choice\n\u001b[0;32m     11\u001b[0m \u001b[38;5;28;01mfrom\u001b[39;00m \u001b[38;5;21;01m.\u001b[39;00m\u001b[38;5;21;01mparameters\u001b[39;00m \u001b[38;5;28;01mimport\u001b[39;00m global_parameters\n\u001b[0;32m     13\u001b[0m \u001b[38;5;28;01mfrom\u001b[39;00m \u001b[38;5;21;01msympy\u001b[39;00m\u001b[38;5;21;01m.\u001b[39;00m\u001b[38;5;21;01mutilities\u001b[39;00m\u001b[38;5;21;01m.\u001b[39;00m\u001b[38;5;21;01mexceptions\u001b[39;00m \u001b[38;5;28;01mimport\u001b[39;00m sympy_deprecation_warning\n",
      "File \u001b[1;32m~\\anaconda3\\lib\\site-packages\\sympy\\core\\random.py:25\u001b[0m\n\u001b[0;32m      1\u001b[0m \u001b[38;5;124;03m\"\"\"\u001b[39;00m\n\u001b[0;32m      2\u001b[0m \u001b[38;5;124;03mWhen you need to use random numbers in SymPy library code, import from here\u001b[39;00m\n\u001b[0;32m      3\u001b[0m \u001b[38;5;124;03mso there is only one generator working for SymPy. Imports from here should\u001b[39;00m\n\u001b[1;32m   (...)\u001b[0m\n\u001b[0;32m     23\u001b[0m \n\u001b[0;32m     24\u001b[0m \u001b[38;5;124;03m\"\"\"\u001b[39;00m\n\u001b[1;32m---> 25\u001b[0m \u001b[38;5;28;01mfrom\u001b[39;00m \u001b[38;5;21;01msympy\u001b[39;00m\u001b[38;5;21;01m.\u001b[39;00m\u001b[38;5;21;01mutilities\u001b[39;00m\u001b[38;5;21;01m.\u001b[39;00m\u001b[38;5;21;01miterables\u001b[39;00m \u001b[38;5;28;01mimport\u001b[39;00m is_sequence\n\u001b[0;32m     26\u001b[0m \u001b[38;5;28;01mfrom\u001b[39;00m \u001b[38;5;21;01msympy\u001b[39;00m\u001b[38;5;21;01m.\u001b[39;00m\u001b[38;5;21;01mutilities\u001b[39;00m\u001b[38;5;21;01m.\u001b[39;00m\u001b[38;5;21;01mmisc\u001b[39;00m \u001b[38;5;28;01mimport\u001b[39;00m as_int\n\u001b[0;32m     28\u001b[0m \u001b[38;5;28;01mimport\u001b[39;00m \u001b[38;5;21;01mrandom\u001b[39;00m \u001b[38;5;28;01mas\u001b[39;00m \u001b[38;5;21;01m_random\u001b[39;00m\n",
      "File \u001b[1;32m~\\anaconda3\\lib\\site-packages\\sympy\\utilities\\__init__.py:4\u001b[0m\n\u001b[0;32m      1\u001b[0m \u001b[38;5;124;03m\"\"\"This module contains some general purpose utilities that are used across\u001b[39;00m\n\u001b[0;32m      2\u001b[0m \u001b[38;5;124;03mSymPy.\u001b[39;00m\n\u001b[0;32m      3\u001b[0m \u001b[38;5;124;03m\"\"\"\u001b[39;00m\n\u001b[1;32m----> 4\u001b[0m \u001b[38;5;28;01mfrom\u001b[39;00m \u001b[38;5;21;01m.\u001b[39;00m\u001b[38;5;21;01miterables\u001b[39;00m \u001b[38;5;28;01mimport\u001b[39;00m (flatten, group, take, subsets,\n\u001b[0;32m      5\u001b[0m     variations, numbered_symbols, cartes, capture, dict_merge,\n\u001b[0;32m      6\u001b[0m     prefixes, postfixes, sift, topological_sort, unflatten,\n\u001b[0;32m      7\u001b[0m     has_dups, has_variety, reshape, rotations)\n\u001b[0;32m      9\u001b[0m \u001b[38;5;28;01mfrom\u001b[39;00m \u001b[38;5;21;01m.\u001b[39;00m\u001b[38;5;21;01mmisc\u001b[39;00m \u001b[38;5;28;01mimport\u001b[39;00m filldedent\n\u001b[0;32m     11\u001b[0m \u001b[38;5;28;01mfrom\u001b[39;00m \u001b[38;5;21;01m.\u001b[39;00m\u001b[38;5;21;01mlambdify\u001b[39;00m \u001b[38;5;28;01mimport\u001b[39;00m lambdify\n",
      "File \u001b[1;32m~\\anaconda3\\lib\\site-packages\\sympy\\utilities\\iterables.py:18\u001b[0m\n\u001b[0;32m     14\u001b[0m \u001b[38;5;28;01mfrom\u001b[39;00m \u001b[38;5;21;01msympy\u001b[39;00m\u001b[38;5;21;01m.\u001b[39;00m\u001b[38;5;21;01mutilities\u001b[39;00m\u001b[38;5;21;01m.\u001b[39;00m\u001b[38;5;21;01menumerative\u001b[39;00m \u001b[38;5;28;01mimport\u001b[39;00m (\n\u001b[0;32m     15\u001b[0m     multiset_partitions_taocp, list_visitor, MultisetPartitionTraverser)\n\u001b[0;32m     17\u001b[0m \u001b[38;5;28;01mfrom\u001b[39;00m \u001b[38;5;21;01msympy\u001b[39;00m\u001b[38;5;21;01m.\u001b[39;00m\u001b[38;5;21;01mutilities\u001b[39;00m\u001b[38;5;21;01m.\u001b[39;00m\u001b[38;5;21;01mmisc\u001b[39;00m \u001b[38;5;28;01mimport\u001b[39;00m as_int\n\u001b[1;32m---> 18\u001b[0m \u001b[38;5;28;01mfrom\u001b[39;00m \u001b[38;5;21;01msympy\u001b[39;00m\u001b[38;5;21;01m.\u001b[39;00m\u001b[38;5;21;01mutilities\u001b[39;00m\u001b[38;5;21;01m.\u001b[39;00m\u001b[38;5;21;01mdecorator\u001b[39;00m \u001b[38;5;28;01mimport\u001b[39;00m deprecated\n\u001b[0;32m     21\u001b[0m \u001b[38;5;28;01mdef\u001b[39;00m \u001b[38;5;21mis_palindromic\u001b[39m(s, i\u001b[38;5;241m=\u001b[39m\u001b[38;5;241m0\u001b[39m, j\u001b[38;5;241m=\u001b[39m\u001b[38;5;28;01mNone\u001b[39;00m):\n\u001b[0;32m     22\u001b[0m     \u001b[38;5;124;03m\"\"\"\u001b[39;00m\n\u001b[0;32m     23\u001b[0m \u001b[38;5;124;03m    Return True if the sequence is the same from left to right as it\u001b[39;00m\n\u001b[0;32m     24\u001b[0m \u001b[38;5;124;03m    is from right to left in the whole sequence (default) or in the\u001b[39;00m\n\u001b[1;32m   (...)\u001b[0m\n\u001b[0;32m     50\u001b[0m \n\u001b[0;32m     51\u001b[0m \u001b[38;5;124;03m    \"\"\"\u001b[39;00m\n",
      "File \u001b[1;32m~\\anaconda3\\lib\\site-packages\\sympy\\utilities\\decorator.py:8\u001b[0m\n\u001b[0;32m      5\u001b[0m \u001b[38;5;28;01mimport\u001b[39;00m \u001b[38;5;21;01minspect\u001b[39;00m\n\u001b[0;32m      6\u001b[0m \u001b[38;5;28;01mfrom\u001b[39;00m \u001b[38;5;21;01mfunctools\u001b[39;00m \u001b[38;5;28;01mimport\u001b[39;00m wraps, update_wrapper\n\u001b[1;32m----> 8\u001b[0m \u001b[38;5;28;01mfrom\u001b[39;00m \u001b[38;5;21;01msympy\u001b[39;00m\u001b[38;5;21;01m.\u001b[39;00m\u001b[38;5;21;01mtesting\u001b[39;00m\u001b[38;5;21;01m.\u001b[39;00m\u001b[38;5;21;01mruntests\u001b[39;00m \u001b[38;5;28;01mimport\u001b[39;00m DependencyError, SymPyDocTests, PyTestReporter\n\u001b[0;32m      9\u001b[0m \u001b[38;5;28;01mfrom\u001b[39;00m \u001b[38;5;21;01msympy\u001b[39;00m\u001b[38;5;21;01m.\u001b[39;00m\u001b[38;5;21;01mutilities\u001b[39;00m\u001b[38;5;21;01m.\u001b[39;00m\u001b[38;5;21;01mexceptions\u001b[39;00m \u001b[38;5;28;01mimport\u001b[39;00m sympy_deprecation_warning\n\u001b[0;32m     11\u001b[0m \u001b[38;5;28;01mdef\u001b[39;00m \u001b[38;5;21mthreaded_factory\u001b[39m(func, use_add):\n",
      "File \u001b[1;32m~\\anaconda3\\lib\\site-packages\\sympy\\testing\\__init__.py:3\u001b[0m\n\u001b[0;32m      1\u001b[0m \u001b[38;5;124;03m\"\"\"This module contains code for running the tests in SymPy.\u001b[39;00m\n\u001b[0;32m      2\u001b[0m \u001b[38;5;124;03m\"\"\"\u001b[39;00m\n\u001b[1;32m----> 3\u001b[0m \u001b[38;5;28;01mfrom\u001b[39;00m \u001b[38;5;21;01m.\u001b[39;00m\u001b[38;5;21;01mruntests\u001b[39;00m \u001b[38;5;28;01mimport\u001b[39;00m test, doctest\n\u001b[0;32m      5\u001b[0m __all__ \u001b[38;5;241m=\u001b[39m [\n\u001b[0;32m      6\u001b[0m     \u001b[38;5;124m'\u001b[39m\u001b[38;5;124mtest\u001b[39m\u001b[38;5;124m'\u001b[39m, \u001b[38;5;124m'\u001b[39m\u001b[38;5;124mdoctest\u001b[39m\u001b[38;5;124m'\u001b[39m,\n\u001b[0;32m      7\u001b[0m ]\n",
      "File \u001b[1;32m~\\anaconda3\\lib\\site-packages\\sympy\\testing\\runtests.py:40\u001b[0m\n\u001b[0;32m     38\u001b[0m \u001b[38;5;28;01mfrom\u001b[39;00m \u001b[38;5;21;01msympy\u001b[39;00m\u001b[38;5;21;01m.\u001b[39;00m\u001b[38;5;21;01mcore\u001b[39;00m\u001b[38;5;21;01m.\u001b[39;00m\u001b[38;5;21;01mcache\u001b[39;00m \u001b[38;5;28;01mimport\u001b[39;00m clear_cache\n\u001b[0;32m     39\u001b[0m \u001b[38;5;28;01mfrom\u001b[39;00m \u001b[38;5;21;01msympy\u001b[39;00m\u001b[38;5;21;01m.\u001b[39;00m\u001b[38;5;21;01mexternal\u001b[39;00m \u001b[38;5;28;01mimport\u001b[39;00m import_module\n\u001b[1;32m---> 40\u001b[0m \u001b[38;5;28;01mfrom\u001b[39;00m \u001b[38;5;21;01msympy\u001b[39;00m\u001b[38;5;21;01m.\u001b[39;00m\u001b[38;5;21;01mexternal\u001b[39;00m\u001b[38;5;21;01m.\u001b[39;00m\u001b[38;5;21;01mgmpy\u001b[39;00m \u001b[38;5;28;01mimport\u001b[39;00m GROUND_TYPES, HAS_GMPY\n\u001b[0;32m     42\u001b[0m IS_WINDOWS \u001b[38;5;241m=\u001b[39m (os\u001b[38;5;241m.\u001b[39mname \u001b[38;5;241m==\u001b[39m \u001b[38;5;124m'\u001b[39m\u001b[38;5;124mnt\u001b[39m\u001b[38;5;124m'\u001b[39m)\n\u001b[0;32m     43\u001b[0m ON_TRAVIS \u001b[38;5;241m=\u001b[39m os\u001b[38;5;241m.\u001b[39mgetenv(\u001b[38;5;124m'\u001b[39m\u001b[38;5;124mTRAVIS_BUILD_NUMBER\u001b[39m\u001b[38;5;124m'\u001b[39m, \u001b[38;5;28;01mNone\u001b[39;00m)\n",
      "File \u001b[1;32m~\\anaconda3\\lib\\site-packages\\sympy\\external\\gmpy.py:53\u001b[0m\n\u001b[0;32m     45\u001b[0m \u001b[38;5;66;03m#\u001b[39;00m\n\u001b[0;32m     46\u001b[0m \u001b[38;5;66;03m# Try to import gmpy2 by default. If gmpy or gmpy2 is specified in\u001b[39;00m\n\u001b[0;32m     47\u001b[0m \u001b[38;5;66;03m# SYMPY_GROUND_TYPES then warn if gmpy2 is not found. In all cases there is a\u001b[39;00m\n\u001b[0;32m     48\u001b[0m \u001b[38;5;66;03m# fallback based on pure Python int and PythonMPQ that should still work fine.\u001b[39;00m\n\u001b[0;32m     49\u001b[0m \u001b[38;5;66;03m#\u001b[39;00m\n\u001b[0;32m     50\u001b[0m \u001b[38;5;28;01mif\u001b[39;00m GROUND_TYPES \u001b[38;5;129;01min\u001b[39;00m (\u001b[38;5;124m'\u001b[39m\u001b[38;5;124mauto\u001b[39m\u001b[38;5;124m'\u001b[39m, \u001b[38;5;124m'\u001b[39m\u001b[38;5;124mgmpy\u001b[39m\u001b[38;5;124m'\u001b[39m, \u001b[38;5;124m'\u001b[39m\u001b[38;5;124mgmpy2\u001b[39m\u001b[38;5;124m'\u001b[39m):\n\u001b[0;32m     51\u001b[0m \n\u001b[0;32m     52\u001b[0m     \u001b[38;5;66;03m# Actually import gmpy2\u001b[39;00m\n\u001b[1;32m---> 53\u001b[0m     gmpy \u001b[38;5;241m=\u001b[39m \u001b[43mimport_module\u001b[49m\u001b[43m(\u001b[49m\u001b[38;5;124;43m'\u001b[39;49m\u001b[38;5;124;43mgmpy2\u001b[39;49m\u001b[38;5;124;43m'\u001b[39;49m\u001b[43m,\u001b[49m\u001b[43m \u001b[49m\u001b[43mmin_module_version\u001b[49m\u001b[38;5;241;43m=\u001b[39;49m\u001b[38;5;124;43m'\u001b[39;49m\u001b[38;5;124;43m2.0.0\u001b[39;49m\u001b[38;5;124;43m'\u001b[39;49m\u001b[43m,\u001b[49m\n\u001b[0;32m     54\u001b[0m \u001b[43m                \u001b[49m\u001b[43mmodule_version_attr\u001b[49m\u001b[38;5;241;43m=\u001b[39;49m\u001b[38;5;124;43m'\u001b[39;49m\u001b[38;5;124;43mversion\u001b[39;49m\u001b[38;5;124;43m'\u001b[39;49m\u001b[43m,\u001b[49m\u001b[43m \u001b[49m\u001b[43mmodule_version_attr_call_args\u001b[49m\u001b[38;5;241;43m=\u001b[39;49m\u001b[43m(\u001b[49m\u001b[43m)\u001b[49m\u001b[43m)\u001b[49m\n\u001b[0;32m     56\u001b[0m     \u001b[38;5;66;03m# Warn if user explicitly asked for gmpy but it isn't available.\u001b[39;00m\n\u001b[0;32m     57\u001b[0m     \u001b[38;5;28;01mif\u001b[39;00m gmpy \u001b[38;5;129;01mis\u001b[39;00m \u001b[38;5;28;01mNone\u001b[39;00m \u001b[38;5;129;01mand\u001b[39;00m GROUND_TYPES \u001b[38;5;129;01min\u001b[39;00m (\u001b[38;5;124m'\u001b[39m\u001b[38;5;124mgmpy\u001b[39m\u001b[38;5;124m'\u001b[39m, \u001b[38;5;124m'\u001b[39m\u001b[38;5;124mgmpy2\u001b[39m\u001b[38;5;124m'\u001b[39m):\n",
      "File \u001b[1;32m~\\anaconda3\\lib\\site-packages\\sympy\\external\\importtools.py:168\u001b[0m, in \u001b[0;36mimport_module\u001b[1;34m(module, min_module_version, min_python_version, warn_not_installed, warn_old_version, module_version_attr, module_version_attr_call_args, import_kwargs, catch)\u001b[0m\n\u001b[0;32m    165\u001b[0m     \u001b[38;5;28;01mreturn\u001b[39;00m\n\u001b[0;32m    167\u001b[0m \u001b[38;5;28;01mif\u001b[39;00m min_module_version:\n\u001b[1;32m--> 168\u001b[0m     modversion \u001b[38;5;241m=\u001b[39m \u001b[38;5;28;43mgetattr\u001b[39;49m\u001b[43m(\u001b[49m\u001b[43mmod\u001b[49m\u001b[43m,\u001b[49m\u001b[43m \u001b[49m\u001b[43mmodule_version_attr\u001b[49m\u001b[43m)\u001b[49m\n\u001b[0;32m    169\u001b[0m     \u001b[38;5;28;01mif\u001b[39;00m module_version_attr_call_args \u001b[38;5;129;01mis\u001b[39;00m \u001b[38;5;129;01mnot\u001b[39;00m \u001b[38;5;28;01mNone\u001b[39;00m:\n\u001b[0;32m    170\u001b[0m         modversion \u001b[38;5;241m=\u001b[39m modversion(\u001b[38;5;241m*\u001b[39mmodule_version_attr_call_args)\n",
      "\u001b[1;31mAttributeError\u001b[0m: module 'gmpy2' has no attribute 'version'"
     ]
    }
   ],
   "source": [
    "try:\n",
    "    import cirq\n",
    "except ImportError:\n",
    "    print(\"installing cirq...\")\n",
    "    !pip install --quiet cirq\n",
    "    print(\"installed cirq.\")\n",
    "    import cirq\n",
    "import sympy\n",
    "from Utils_cirq import *\n",
    "from cirq.contrib.svg import SVGCircuit"
   ]
  },
  {
   "cell_type": "code",
   "execution_count": null,
   "id": "15e338c1",
   "metadata": {},
   "outputs": [],
   "source": []
  },
  {
   "cell_type": "code",
   "execution_count": 3,
   "id": "014885f3",
   "metadata": {},
   "outputs": [],
   "source": [
    "agents = 3\n",
    "p = 2"
   ]
  },
  {
   "cell_type": "code",
   "execution_count": 4,
   "id": "24539967",
   "metadata": {},
   "outputs": [
    {
     "ename": "NameError",
     "evalue": "name 'get_coalition' is not defined",
     "output_type": "error",
     "traceback": [
      "\u001b[1;31m---------------------------------------------------------------------------\u001b[0m",
      "\u001b[1;31mNameError\u001b[0m                                 Traceback (most recent call last)",
      "Cell \u001b[1;32mIn[4], line 1\u001b[0m\n\u001b[1;32m----> 1\u001b[0m coalition_values \u001b[38;5;241m=\u001b[39m \u001b[43mget_coalition\u001b[49m(agents)\n",
      "\u001b[1;31mNameError\u001b[0m: name 'get_coalition' is not defined"
     ]
    }
   ],
   "source": [
    "coalition_values = get_coalition(agents)"
   ]
  },
  {
   "cell_type": "code",
   "execution_count": null,
   "id": "9dbad4b4",
   "metadata": {},
   "outputs": [],
   "source": [
    "Q = get_Q(coalition_values)"
   ]
  },
  {
   "cell_type": "markdown",
   "id": "3b283fcc",
   "metadata": {},
   "source": [
    "## Building the quantum circuit to solve the QUBO-Problem"
   ]
  },
  {
   "cell_type": "markdown",
   "id": "fbe6b365",
   "metadata": {},
   "source": [
    "In order to later plug in parameter values into the variational quantum circuit,\n",
    "we need a dictionary to store the values for each parameter.\n",
    "\n",
    "Following the naming convention from the paper we have β in the mixer layer and γ in the cost layer.\n",
    "\n",
    "In cirq parameters are realized via the sympy.Symbol function"
   ]
  },
  {
   "cell_type": "code",
   "execution_count": null,
   "id": "25ef3eb6",
   "metadata": {},
   "outputs": [],
   "source": [
    "beta = [sympy.Symbol(\"β_\"+str(i)) for i in range(p)]\n",
    "gamma = [sympy.Symbol(\"γ_\"+str(i)) for i in range(p)]\n",
    "print(f\"The beta and gamma variables: {beta} and {gamma}\")"
   ]
  },
  {
   "cell_type": "markdown",
   "id": "f5f6d6c0",
   "metadata": {},
   "source": [
    "After random initialization a parameter dictionary looks like this:"
   ]
  },
  {
   "cell_type": "code",
   "execution_count": null,
   "id": "54de4724",
   "metadata": {},
   "outputs": [],
   "source": [
    "param_dict = {}\n",
    "for i in range(p):\n",
    "    param_dict[gamma[i]] = round(random.uniform(-2, 2),2)\n",
    "    param_dict[beta[i]] = round(random.uniform(-2, 2),2)\n",
    "param_dict"
   ]
  },
  {
   "cell_type": "markdown",
   "id": "e44158c8",
   "metadata": {},
   "source": [
    "### Now we will initialize the circuit and apply a hadamard gate on every qubit. The number of qubits is given by the size of the QUBO matrix"
   ]
  },
  {
   "cell_type": "code",
   "execution_count": null,
   "id": "d1ec7901",
   "metadata": {},
   "outputs": [],
   "source": [
    "problem_size = len(Q)\n",
    "qaoa, qubits = cirq_init(problem_size)"
   ]
  },
  {
   "cell_type": "markdown",
   "id": "fe8f7d1b",
   "metadata": {},
   "source": [
    "Note: the function also returns the qubits that are used in the circuit in order to address them later"
   ]
  },
  {
   "cell_type": "markdown",
   "id": "f279c891",
   "metadata": {},
   "source": [
    "#### Adding cost and mixer layer p times"
   ]
  },
  {
   "cell_type": "code",
   "execution_count": null,
   "id": "f550d9c9",
   "metadata": {},
   "outputs": [],
   "source": [
    "for i in range(p):\n",
    "    qaoa = cost_layer(qaoa, qubits, gamma[i], Q)\n",
    "    qaoa = mixer_layer(qaoa, qubits, beta[i])"
   ]
  },
  {
   "cell_type": "markdown",
   "id": "b0b51b9e",
   "metadata": {},
   "source": [
    "Now the parameterized circuit looks like this:"
   ]
  },
  {
   "cell_type": "code",
   "execution_count": null,
   "id": "4762081c",
   "metadata": {},
   "outputs": [],
   "source": [
    "SVGCircuit(qaoa)"
   ]
  }
 ],
 "metadata": {
  "kernelspec": {
   "display_name": "Python 3 (ipykernel)",
   "language": "python",
   "name": "python3"
  },
  "language_info": {
   "codemirror_mode": {
    "name": "ipython",
    "version": 3
   },
   "file_extension": ".py",
   "mimetype": "text/x-python",
   "name": "python",
   "nbconvert_exporter": "python",
   "pygments_lexer": "ipython3",
   "version": "3.8.16"
  }
 },
 "nbformat": 4,
 "nbformat_minor": 5
}
