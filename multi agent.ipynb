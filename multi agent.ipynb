{
 "cells": [
  {
   "cell_type": "code",
   "execution_count": 1,
   "id": "83efb490",
   "metadata": {},
   "outputs": [],
   "source": [
    "try:\n",
    "    import cirq\n",
    "except ImportError:\n",
    "    print(\"installing cirq...\")\n",
    "    !pip install --quiet cirq\n",
    "    print(\"installed cirq.\")\n",
    "    import cirq\n",
    "import cirq_google\n",
    "from Utils_CSG import *\n",
    "import sympy \n",
    "import numpy as np\n",
    "from typing import Sequence, Tuple\n",
    "from cirq.circuits import InsertStrategy\n",
    "from cirq.contrib.svg import SVGCircuit\n",
    "import matplotlib.pyplot as plt\n",
    "import time\n",
    "import pandas as pd"
   ]
  },
  {
   "cell_type": "code",
   "execution_count": 2,
   "id": "9c7e34cb",
   "metadata": {},
   "outputs": [],
   "source": [
    "agents = 3"
   ]
  },
  {
   "cell_type": "code",
   "execution_count": 3,
   "id": "3b29fabf",
   "metadata": {},
   "outputs": [],
   "source": [
    "if agents == 4:\n",
    "    coalition_values={\n",
    "        '1':30,\n",
    "        '2':40,\n",
    "        '3':25,\n",
    "        '4':35,\n",
    "        '1,2':75,\n",
    "        '1,3':60,\n",
    "        '1,4':70,\n",
    "        '2,3':65,\n",
    "        '2,4':60,\n",
    "        '3,4':80,\n",
    "        '1,2,3':90,\n",
    "        '1,2,4':95,\n",
    "        '1,3,4':100,\n",
    "        '2,3,4':110,\n",
    "        '1,2,3,4':160\n",
    "    }\n",
    "    print(coalition_values)\n",
    "    c,S,b = convert_to_BILP(coalition_values)       # A function in Utils_CSG.py\n",
    "    print(f'c = {c}\\nS = {S}\\nb = {b}')"
   ]
  },
  {
   "cell_type": "code",
   "execution_count": 4,
   "id": "c5cc40eb",
   "metadata": {},
   "outputs": [
    {
     "name": "stdout",
     "output_type": "stream",
     "text": [
      "{'1': 30, '2': 40, '3': 25, '1,2': 70, '1,3': 60, '2,3': 65, '1,2,3': 90}\n",
      "c = [30, 40, 25, 70, 60, 65, 90]\n",
      "S = [[1, 0, 0, 1, 1, 0, 1], [0, 1, 0, 1, 0, 1, 1], [0, 0, 1, 0, 1, 1, 1]]\n",
      "b = [1, 1, 1]\n"
     ]
    }
   ],
   "source": [
    "if agents ==3:\n",
    "    coalition_values={\n",
    "          '1':30,\n",
    "          '2':40,\n",
    "          '3':25,\n",
    "          '1,2':70,\n",
    "          '1,3':60,\n",
    "          '2,3':65,\n",
    "          '1,2,3':90\n",
    "    }\n",
    "    print(coalition_values)\n",
    "    c,S,b = convert_to_BILP(coalition_values)       # A function in Utils_CSG.py\n",
    "    print(f'c = {c}\\nS = {S}\\nb = {b}')"
   ]
  },
  {
   "cell_type": "code",
   "execution_count": 5,
   "id": "20ae8d13",
   "metadata": {},
   "outputs": [],
   "source": [
    "if agents == 2:\n",
    "    coalition_values={\n",
    "        '1':30,\n",
    "        '2':40,\n",
    "        '1,2':75\n",
    "\n",
    "    }\n",
    "    print(coalition_values)\n",
    "    c,S,b = convert_to_BILP(coalition_values)       # A function in Utils_CSG.py\n",
    "    print(f'c = {c}\\nS = {S}\\nb = {b}')"
   ]
  },
  {
   "cell_type": "code",
   "execution_count": 6,
   "id": "80a2607d",
   "metadata": {},
   "outputs": [
    {
     "name": "stdout",
     "output_type": "stream",
     "text": [
      "[ -70.  -60.  -75. -130. -140. -135. -210.]\n"
     ]
    },
    {
     "data": {
      "text/plain": [
       "array([[-0.3,  0. ,  0. ,  0.2,  0.2,  0. ,  0.2],\n",
       "       [ 0. , -0.4,  0. ,  0.2,  0. ,  0.2,  0.2],\n",
       "       [ 0. ,  0. , -0.3,  0. ,  0.2,  0.2,  0.2],\n",
       "       [ 0.2,  0.2,  0. , -0.7,  0.2,  0.2,  0.4],\n",
       "       [ 0.2,  0. ,  0.2,  0.2, -0.7,  0.2,  0.4],\n",
       "       [ 0. ,  0.2,  0.2,  0.2,  0.2, -0.7,  0.4],\n",
       "       [ 0.2,  0.2,  0.2,  0.4,  0.4,  0.4, -1. ]])"
      ]
     },
     "execution_count": 6,
     "metadata": {},
     "output_type": "execute_result"
    }
   ],
   "source": [
    "qubo_penalty = 50 * -1\n",
    "linear,quadratic = get_QUBO_coeffs(c,S,b,qubo_penalty)  \n",
    "Q = np.zeros([len(linear),len(linear)])\n",
    "Qmax = 0\n",
    "#diagonal elements\n",
    "for key,value in linear.items():\n",
    "    if Qmax < abs(value):\n",
    "        Qmax = abs(value)\n",
    "        \n",
    "    Q[int(key.split('_')[1]),int(key.split('_')[1])] = value\n",
    "\n",
    "#non diagonal elements\n",
    "for key,value in quadratic.items():\n",
    "    if Qmax < abs(value/2):\n",
    "        Qmax = abs(value/2)\n",
    "    Q[int(key[0].split('_')[1]),int(key[1].split('_')[1])] = value/2\n",
    "    Q[int(key[1].split('_')[1]),int(key[0].split('_')[1])] = value/2\n",
    "\n",
    "w = np.zeros(len(Q[0]))\n",
    "w = -Q.sum(axis = 1)\n",
    "print(w)\n",
    "Q = Q/Qmax\n",
    "Q.round(1)"
   ]
  },
  {
   "cell_type": "markdown",
   "id": "c9eab10b",
   "metadata": {},
   "source": [
    "# Utilities"
   ]
  },
  {
   "cell_type": "markdown",
   "id": "34026bae",
   "metadata": {},
   "source": [
    "## Mixer, Cost, Hadamard layer"
   ]
  },
  {
   "cell_type": "code",
   "execution_count": 7,
   "id": "46b618e7",
   "metadata": {},
   "outputs": [],
   "source": [
    "def mixer_layer(in_circuit, beta_value: float):\n",
    "    \"\"\"Adds a mixer layer to circuit with parameter beta_value\"\"\"\n",
    "    circuit = in_circuit.copy() \n",
    "    # without copy() circuit would still be the same instance of in_circuit\n",
    "    # and mixer() would in-place change in_circuit\n",
    "    \n",
    "    n_qubits = len(circuit.get_independent_qubit_sets())\n",
    "    circuit.append([cirq.X(q) ** (np.pi *beta_value) for q in qubits],  strategy=InsertStrategy.NEW_THEN_INLINE)\n",
    "    # adding an X-gate to the power of beta_value to every qubit. Using an insert strategy to put them all in the same moment\n",
    "    # for better readability in the diagram later\n",
    "    return circuit\n",
    "\n",
    "def cost_layer(in_circuit:cirq.circuits.circuit.Circuit, gamma_value:float, Q:np.ndarray) -> cirq.circuits.circuit.Circuit:\n",
    "    \"\"\"Adds the cost layer defined by QUBO matrix Q to circuit with the parameter gamma_value\"\"\"\n",
    "    \n",
    "    \n",
    "    circuit = in_circuit.copy()\n",
    "    nrow = np. size(Q, 0)\n",
    "    ncol = np. size(Q, 1)\n",
    "    \n",
    "    # in the Q matrix, diagonal entries represent the coefficients for linear terms, while the of-diagonal non-zero elements\n",
    "    # are the coefficients for mixed terms. A linear term will be implemented as Z rotation gate on the resprective qubit,\n",
    "    # while a mixed term is implemented as ZZ rotational gate on the 2 resprective qubits.\n",
    "    # the rotations are parametrized by the gamma_value for this sprecific layer\n",
    "    \n",
    "    for row in range(nrow):\n",
    "        # we don't need to iterrate through the whole matrix, since it's symetrical. The upper right part and diagonal is enough\n",
    "        for col in range(row, ncol):\n",
    "            \n",
    "            if row == col:\n",
    "                lin = Q[row,col]\n",
    "                continue \n",
    "                # if the element is on the diagonal we will collect the coefficient to apply the single Z gate after all\n",
    "                # ZZ gates are done on this qubit\n",
    "            \n",
    "            elif Q[row,col] != 0:\n",
    "                # when we have a non-diagonal element that is not zero we append a gama_value\n",
    "                # parametrized ZZ rotation gate on the resprective 2 qubits\n",
    "                circuit.append(cirq.ZZ(qubits[row],qubits[col]) ** (np.pi * gamma_value * Q[row,col]))\n",
    "        # the single qubit z gate for linear terms at the end of all ZZ gate for this qubit \n",
    "        if lin != 0:\n",
    "            circuit.append(cirq.Z(qubits[row]) ** (np.pi * gamma_value *  w[row]))\n",
    "                  \n",
    "    return circuit\n",
    "\n",
    "def cirq_init(n_prob):\n",
    "    \"\"\"Initializes a circuit of n_prob Line Qubits in equal superposition\n",
    "    Return: the circuit itself and the quibits used in it\"\"\"\n",
    "    circuit = cirq.Circuit() #initializing a circuit object\n",
    "    qubits = cirq.LineQubit.range(n_prob) # creating n_prob qubits\n",
    "    circuit.append(cirq.H(q) for q in qubits) # adding the just created qubits each with a H-Gate to the circuit\n",
    "    return circuit, qubits"
   ]
  },
  {
   "cell_type": "markdown",
   "id": "efe968c3",
   "metadata": {},
   "source": [
    "### State vector"
   ]
  },
  {
   "cell_type": "code",
   "execution_count": 8,
   "id": "d6d9b668",
   "metadata": {},
   "outputs": [],
   "source": [
    "def state_vector_params(gamma, beta, circuit):\n",
    "    simulator = cirq.Simulator() # initializing the simulator object\n",
    "    params = cirq.ParamResolver({\"γ_0\": gamma, \"β_0\": beta}) \n",
    "    #the param resolver maps values from the function input to the respective variables in the circuit\n",
    "    \n",
    "    result = abs(simulator.simulate(circuit, param_resolver=params).final_state_vector)\n",
    "    # simulates the final state vector of the circuit with the input values for the parameters gamma and beta\n",
    "    # only take tha absolut values since the imaginary parts should only exist due to rounding errors\n",
    "    sum = 0\n",
    "    for elm in result:\n",
    "        sum += elm**2\n",
    "    if 1 != round(sum,3):\n",
    "        print(\"Warning: final state vector is normalized. Difference to 1 is more than .001\")\n",
    "    \n",
    "    return result"
   ]
  },
  {
   "cell_type": "markdown",
   "id": "1a47c5ac",
   "metadata": {},
   "source": [
    "## Measurment and decoding"
   ]
  },
  {
   "cell_type": "code",
   "execution_count": 9,
   "id": "fd113725",
   "metadata": {},
   "outputs": [],
   "source": [
    "def M_z(dim):\n",
    "    \"\"\"For measurments in the computational basis this function can create a matrix corresponding to the \n",
    "    tensor produkt of number of dim Pauli-Z matrices. \n",
    "    dim: number of qubits in the circuit\"\"\"\n",
    "    mat_Z = np.eye(2)\n",
    "    mat_Z[1,1] = -1\n",
    "    M = [1]\n",
    "    for i in range(dim):\n",
    "        M = np.kron(M, mat_Z)\n",
    "    return M\n",
    "\n",
    "def ez_filter(n, dim):\n",
    "    '''\n",
    "    Creates matrices like Z_n (for n={1,...,#qubits}) , where we apply the Z gate to the n-th qubit\n",
    "    in a circuit of dim number of qubits\n",
    "    '''\n",
    "    # start with Pauli-Z matrix\n",
    "    ez_f = np.eye(2)\n",
    "    ez_f[1,1] = -1\n",
    "\n",
    "    if n == 1:\n",
    "        #with for Z_1 we need to do the tensor product of Pauli-Z with dim-1 unit matrices\n",
    "        ez_f = np.kron(ez_f, np.eye(2**(dim-1) ))\n",
    "        \n",
    "    else:\n",
    "        #for Z_n we need a tensor product of n-1 unit matrices then Pauli-Z and again unit matrices for all the other qubits\n",
    "        ez_f = np.kron(np.eye(2**(n-1)), ez_f)\n",
    "        ez_f = np.kron(ez_f, np.eye(2**(dim-n)))   \n",
    "\n",
    "    return ez_f\n",
    "\n",
    "def m_op(Q):\n",
    "    '''\n",
    "    A matrix corresponding to the problem hamiltonian H_c. To compute the expectation values in terms of cost for the qubo\n",
    "    '''\n",
    "    dim = len(Q[1])\n",
    "    \n",
    "    nrow = np. size(Q, 0)\n",
    "    \n",
    "    ncol = np. size(Q, 1)\n",
    "        \n",
    "    ez = np.zeros((2**nrow, 2**ncol))\n",
    "\n",
    "    for row in range(nrow):\n",
    "        \n",
    "        for col in range(row, ncol):\n",
    "            \n",
    "            if row == col:\n",
    "                lin = Q[row,col]\n",
    "               \n",
    "                continue \n",
    "\n",
    "\n",
    "            elif Q[row,col] != 0:\n",
    "               \n",
    "                ez += Q[row,col] * ez_filter(row+1, dim) @ ez_filter(col+1, dim)\n",
    "\n",
    "\n",
    "        if lin != 0:\n",
    "            ez += w[row] * ez_filter(row+1, dim)\n",
    "\n",
    "        \n",
    "    return ez\n",
    "\n",
    "\n",
    "def to_bin_array3(n):\n",
    "    ar = np.zeros(2**agents - 1)\n",
    "    for i in str(bin(n))[2:]:\n",
    "        ar = np.append(ar, int(i))\n",
    " \n",
    "\n",
    "    return ar[-(2**agents-1):]\n",
    "\n",
    "def cost(sample_results):\n",
    "    '''calculates the accumulated cost xQx for all x in samples_results'''\n",
    "    cost = 0\n",
    "    num = 0\n",
    "    for k in sample_results:\n",
    "        bits = np.array(to_bin_array3(k))\n",
    "        num += sample_results[k]\n",
    "        cost += sample_results[k] * bits @ Q @ bits\n",
    "        \n",
    "    return cost/num\n",
    "\n",
    "def find_sol(sol_counter):\n",
    "    min_cost = float(\"inf\")\n",
    "    tot = 0\n",
    "    for k in sol_counter:\n",
    "        v = sol_counter[k]\n",
    "        tot += v\n",
    "        bits = np.array(to_bin_array3(k))\n",
    "        cost_sol =  bits @ Q @ bits\n",
    "        if cost_sol < min_cost:\n",
    "            min_cost = cost_sol\n",
    "            sol = k\n",
    "        \n",
    "  \n",
    "    prob = sol_counter[sol]/tot\n",
    "    sol_coalition = decode(np.array(to_bin_array3(sol)), coalition_values)\n",
    "    return sol_coalition, sol, prob"
   ]
  },
  {
   "cell_type": "markdown",
   "id": "909a6953",
   "metadata": {},
   "source": [
    "## Creating the Circuit and define depth of QAOA"
   ]
  },
  {
   "cell_type": "code",
   "execution_count": 10,
   "id": "96495537",
   "metadata": {},
   "outputs": [
    {
     "name": "stdout",
     "output_type": "stream",
     "text": [
      "[β_0, β_1] [γ_0, γ_1]\n"
     ]
    },
    {
     "data": {
      "text/plain": [
       "{γ_0: 0, β_0: 0, γ_1: 0, β_1: 0}"
      ]
     },
     "execution_count": 10,
     "metadata": {},
     "output_type": "execute_result"
    }
   ],
   "source": [
    "p = 2 # number of layers\n",
    "\n",
    "# Parameters are introduced as 'symbols'. Symbols can be used like variables in a circuit but need to be 'resolved'\n",
    "# (get a value assigned to) when we want to simulate or run the circuit\n",
    "beta = [sympy.Symbol(\"β_\"+str(i)) for i in range(p)]\n",
    "gamma = [sympy.Symbol(\"γ_\"+str(i)) for i in range(p)]\n",
    "print(beta, gamma)\n",
    "problem_size = len(Q[0]) # defines how many qubits will be necessary to represent the problem \n",
    "\n",
    "qaoa, qubits = cirq_init(problem_size)\n",
    "\n",
    "param_dict = {} #used to store the parameters in a dictionary. For later use in the param resolver\n",
    "for i in range(p):\n",
    "    qaoa = cost_layer(qaoa, gamma[i], Q)\n",
    "    qaoa = mixer_layer(qaoa, beta[i])\n",
    "    param_dict[gamma[i]] = 0\n",
    "    param_dict[beta[i]] = 0\n",
    "    \n",
    "param_dict"
   ]
  },
  {
   "cell_type": "code",
   "execution_count": 11,
   "id": "c83883e1",
   "metadata": {},
   "outputs": [
    {
     "data": {
      "image/svg+xml": [
       "<svg xmlns=\"http://www.w3.org/2000/svg\" width=\"7217.153828125006\" height=\"390.0\"><line x1=\"30.0\" x2=\"7187.153828125006\" y1=\"45.0\" y2=\"45.0\" stroke=\"#1967d2\" stroke-width=\"1\" /><line x1=\"30.0\" x2=\"7187.153828125006\" y1=\"95.0\" y2=\"95.0\" stroke=\"#1967d2\" stroke-width=\"1\" /><line x1=\"30.0\" x2=\"7187.153828125006\" y1=\"145.0\" y2=\"145.0\" stroke=\"#1967d2\" stroke-width=\"1\" /><line x1=\"30.0\" x2=\"7187.153828125006\" y1=\"195.0\" y2=\"195.0\" stroke=\"#1967d2\" stroke-width=\"1\" /><line x1=\"30.0\" x2=\"7187.153828125006\" y1=\"245.0\" y2=\"245.0\" stroke=\"#1967d2\" stroke-width=\"1\" /><line x1=\"30.0\" x2=\"7187.153828125006\" y1=\"295.0\" y2=\"295.0\" stroke=\"#1967d2\" stroke-width=\"1\" /><line x1=\"30.0\" x2=\"7187.153828125006\" y1=\"345.0\" y2=\"345.0\" stroke=\"#1967d2\" stroke-width=\"1\" /><line x1=\"5934.271328125004\" x2=\"6333.884179687505\" y1=\"5.0\" y2=\"5.0\" stroke=\"black\" stroke-width=\"1\" /><line x1=\"5934.271328125004\" x2=\"6333.884179687505\" y1=\"385.0\" y2=\"385.0\" stroke=\"black\" stroke-width=\"1\" /><line x1=\"5516.872343750004\" x2=\"5924.271328125004\" y1=\"5.0\" y2=\"5.0\" stroke=\"black\" stroke-width=\"1\" /><line x1=\"5516.872343750004\" x2=\"5924.271328125004\" y1=\"385.0\" y2=\"385.0\" stroke=\"black\" stroke-width=\"1\" /><line x1=\"4900.773867187503\" x2=\"5506.872343750004\" y1=\"5.0\" y2=\"5.0\" stroke=\"black\" stroke-width=\"1\" /><line x1=\"4900.773867187503\" x2=\"5506.872343750004\" y1=\"385.0\" y2=\"385.0\" stroke=\"black\" stroke-width=\"1\" /><line x1=\"4284.675390625002\" x2=\"4890.773867187503\" y1=\"5.0\" y2=\"5.0\" stroke=\"black\" stroke-width=\"1\" /><line x1=\"4284.675390625002\" x2=\"4890.773867187503\" y1=\"385.0\" y2=\"385.0\" stroke=\"black\" stroke-width=\"1\" /><line x1=\"3867.276406250002\" x2=\"4274.675390625002\" y1=\"5.0\" y2=\"5.0\" stroke=\"black\" stroke-width=\"1\" /><line x1=\"3867.276406250002\" x2=\"4274.675390625002\" y1=\"385.0\" y2=\"385.0\" stroke=\"black\" stroke-width=\"1\" /><line x1=\"2405.6944140625\" x2=\"2805.3072656250006\" y1=\"5.0\" y2=\"5.0\" stroke=\"black\" stroke-width=\"1\" /><line x1=\"2405.6944140625\" x2=\"2805.3072656250006\" y1=\"385.0\" y2=\"385.0\" stroke=\"black\" stroke-width=\"1\" /><line x1=\"1988.2954296875002\" x2=\"2395.6944140625\" y1=\"5.0\" y2=\"5.0\" stroke=\"black\" stroke-width=\"1\" /><line x1=\"1988.2954296875002\" x2=\"2395.6944140625\" y1=\"385.0\" y2=\"385.0\" stroke=\"black\" stroke-width=\"1\" /><line x1=\"1372.1969531250002\" x2=\"1978.2954296875002\" y1=\"5.0\" y2=\"5.0\" stroke=\"black\" stroke-width=\"1\" /><line x1=\"1372.1969531250002\" x2=\"1978.2954296875002\" y1=\"385.0\" y2=\"385.0\" stroke=\"black\" stroke-width=\"1\" /><line x1=\"756.0984765625001\" x2=\"1362.1969531250002\" y1=\"5.0\" y2=\"5.0\" stroke=\"black\" stroke-width=\"1\" /><line x1=\"756.0984765625001\" x2=\"1362.1969531250002\" y1=\"385.0\" y2=\"385.0\" stroke=\"black\" stroke-width=\"1\" /><line x1=\"338.6994921875\" x2=\"746.0984765625001\" y1=\"5.0\" y2=\"5.0\" stroke=\"black\" stroke-width=\"1\" /><line x1=\"338.6994921875\" x2=\"746.0984765625001\" y1=\"385.0\" y2=\"385.0\" stroke=\"black\" stroke-width=\"1\" /><line x1=\"229.34974609375\" x2=\"229.34974609375\" y1=\"45.0\" y2=\"195.0\" stroke=\"black\" stroke-width=\"3\" /><line x1=\"438.04923828125004\" x2=\"438.04923828125004\" y1=\"45.0\" y2=\"245.0\" stroke=\"black\" stroke-width=\"3\" /><line x1=\"636.7487304687501\" x2=\"636.7487304687501\" y1=\"95.0\" y2=\"195.0\" stroke=\"black\" stroke-width=\"3\" /><line x1=\"855.4482226562501\" x2=\"855.4482226562501\" y1=\"45.0\" y2=\"345.0\" stroke=\"black\" stroke-width=\"3\" /><line x1=\"1054.1477148437502\" x2=\"1054.1477148437502\" y1=\"95.0\" y2=\"295.0\" stroke=\"black\" stroke-width=\"3\" /><line x1=\"1252.84720703125\" x2=\"1252.84720703125\" y1=\"145.0\" y2=\"245.0\" stroke=\"black\" stroke-width=\"3\" /><line x1=\"1471.5466992187503\" x2=\"1471.5466992187503\" y1=\"95.0\" y2=\"345.0\" stroke=\"black\" stroke-width=\"3\" /><line x1=\"1670.24619140625\" x2=\"1670.24619140625\" y1=\"145.0\" y2=\"295.0\" stroke=\"black\" stroke-width=\"3\" /><line x1=\"1868.9456835937503\" x2=\"1868.9456835937503\" y1=\"195.0\" y2=\"245.0\" stroke=\"black\" stroke-width=\"3\" /><line x1=\"2087.64517578125\" x2=\"2087.64517578125\" y1=\"145.0\" y2=\"345.0\" stroke=\"black\" stroke-width=\"3\" /><line x1=\"2286.3446679687504\" x2=\"2286.3446679687504\" y1=\"195.0\" y2=\"295.0\" stroke=\"black\" stroke-width=\"3\" /><line x1=\"2501.15109375\" x2=\"2501.15109375\" y1=\"195.0\" y2=\"345.0\" stroke=\"black\" stroke-width=\"3\" /><line x1=\"2695.9575195312505\" x2=\"2695.9575195312505\" y1=\"245.0\" y2=\"295.0\" stroke=\"black\" stroke-width=\"3\" /><line x1=\"2920.7639453125007\" x2=\"2920.7639453125007\" y1=\"245.0\" y2=\"345.0\" stroke=\"black\" stroke-width=\"3\" /><line x1=\"3131.677304687501\" x2=\"3131.677304687501\" y1=\"295.0\" y2=\"345.0\" stroke=\"black\" stroke-width=\"3\" /><line x1=\"3757.9266601562517\" x2=\"3757.9266601562517\" y1=\"45.0\" y2=\"195.0\" stroke=\"black\" stroke-width=\"3\" /><line x1=\"3966.626152343752\" x2=\"3966.626152343752\" y1=\"45.0\" y2=\"245.0\" stroke=\"black\" stroke-width=\"3\" /><line x1=\"4165.325644531252\" x2=\"4165.325644531252\" y1=\"95.0\" y2=\"195.0\" stroke=\"black\" stroke-width=\"3\" /><line x1=\"4384.025136718752\" x2=\"4384.025136718752\" y1=\"45.0\" y2=\"345.0\" stroke=\"black\" stroke-width=\"3\" /><line x1=\"4582.724628906252\" x2=\"4582.724628906252\" y1=\"95.0\" y2=\"295.0\" stroke=\"black\" stroke-width=\"3\" /><line x1=\"4781.424121093753\" x2=\"4781.424121093753\" y1=\"145.0\" y2=\"245.0\" stroke=\"black\" stroke-width=\"3\" /><line x1=\"5000.123613281253\" x2=\"5000.123613281253\" y1=\"95.0\" y2=\"345.0\" stroke=\"black\" stroke-width=\"3\" /><line x1=\"5198.823105468753\" x2=\"5198.823105468753\" y1=\"145.0\" y2=\"295.0\" stroke=\"black\" stroke-width=\"3\" /><line x1=\"5397.522597656253\" x2=\"5397.522597656253\" y1=\"195.0\" y2=\"245.0\" stroke=\"black\" stroke-width=\"3\" /><line x1=\"5616.222089843754\" x2=\"5616.222089843754\" y1=\"145.0\" y2=\"345.0\" stroke=\"black\" stroke-width=\"3\" /><line x1=\"5814.921582031254\" x2=\"5814.921582031254\" y1=\"195.0\" y2=\"295.0\" stroke=\"black\" stroke-width=\"3\" /><line x1=\"6029.728007812504\" x2=\"6029.728007812504\" y1=\"195.0\" y2=\"345.0\" stroke=\"black\" stroke-width=\"3\" /><line x1=\"6224.534433593754\" x2=\"6224.534433593754\" y1=\"245.0\" y2=\"295.0\" stroke=\"black\" stroke-width=\"3\" /><line x1=\"6449.340859375005\" x2=\"6449.340859375005\" y1=\"245.0\" y2=\"345.0\" stroke=\"black\" stroke-width=\"3\" /><line x1=\"6660.254218750005\" x2=\"6660.254218750005\" y1=\"295.0\" y2=\"345.0\" stroke=\"black\" stroke-width=\"3\" /><line x1=\"5934.271328125004\" x2=\"5934.271328125004\" y1=\"5.0\" y2=\"15.0\" stroke=\"black\" stroke-width=\"3\" /><line x1=\"6333.884179687505\" x2=\"6333.884179687505\" y1=\"5.0\" y2=\"15.0\" stroke=\"black\" stroke-width=\"3\" /><line x1=\"5934.271328125004\" x2=\"5934.271328125004\" y1=\"375.0\" y2=\"385.0\" stroke=\"black\" stroke-width=\"3\" /><line x1=\"6333.884179687505\" x2=\"6333.884179687505\" y1=\"375.0\" y2=\"385.0\" stroke=\"black\" stroke-width=\"3\" /><line x1=\"5516.872343750004\" x2=\"5516.872343750004\" y1=\"5.0\" y2=\"15.0\" stroke=\"black\" stroke-width=\"3\" /><line x1=\"5924.271328125004\" x2=\"5924.271328125004\" y1=\"5.0\" y2=\"15.0\" stroke=\"black\" stroke-width=\"3\" /><line x1=\"5516.872343750004\" x2=\"5516.872343750004\" y1=\"375.0\" y2=\"385.0\" stroke=\"black\" stroke-width=\"3\" /><line x1=\"5924.271328125004\" x2=\"5924.271328125004\" y1=\"375.0\" y2=\"385.0\" stroke=\"black\" stroke-width=\"3\" /><line x1=\"4900.773867187503\" x2=\"4900.773867187503\" y1=\"5.0\" y2=\"15.0\" stroke=\"black\" stroke-width=\"3\" /><line x1=\"5506.872343750004\" x2=\"5506.872343750004\" y1=\"5.0\" y2=\"15.0\" stroke=\"black\" stroke-width=\"3\" /><line x1=\"4900.773867187503\" x2=\"4900.773867187503\" y1=\"375.0\" y2=\"385.0\" stroke=\"black\" stroke-width=\"3\" /><line x1=\"5506.872343750004\" x2=\"5506.872343750004\" y1=\"375.0\" y2=\"385.0\" stroke=\"black\" stroke-width=\"3\" /><line x1=\"4284.675390625002\" x2=\"4284.675390625002\" y1=\"5.0\" y2=\"15.0\" stroke=\"black\" stroke-width=\"3\" /><line x1=\"4890.773867187503\" x2=\"4890.773867187503\" y1=\"5.0\" y2=\"15.0\" stroke=\"black\" stroke-width=\"3\" /><line x1=\"4284.675390625002\" x2=\"4284.675390625002\" y1=\"375.0\" y2=\"385.0\" stroke=\"black\" stroke-width=\"3\" /><line x1=\"4890.773867187503\" x2=\"4890.773867187503\" y1=\"375.0\" y2=\"385.0\" stroke=\"black\" stroke-width=\"3\" /><line x1=\"3867.276406250002\" x2=\"3867.276406250002\" y1=\"5.0\" y2=\"15.0\" stroke=\"black\" stroke-width=\"3\" /><line x1=\"4274.675390625002\" x2=\"4274.675390625002\" y1=\"5.0\" y2=\"15.0\" stroke=\"black\" stroke-width=\"3\" /><line x1=\"3867.276406250002\" x2=\"3867.276406250002\" y1=\"375.0\" y2=\"385.0\" stroke=\"black\" stroke-width=\"3\" /><line x1=\"4274.675390625002\" x2=\"4274.675390625002\" y1=\"375.0\" y2=\"385.0\" stroke=\"black\" stroke-width=\"3\" /><line x1=\"2405.6944140625\" x2=\"2405.6944140625\" y1=\"5.0\" y2=\"15.0\" stroke=\"black\" stroke-width=\"3\" /><line x1=\"2805.3072656250006\" x2=\"2805.3072656250006\" y1=\"5.0\" y2=\"15.0\" stroke=\"black\" stroke-width=\"3\" /><line x1=\"2405.6944140625\" x2=\"2405.6944140625\" y1=\"375.0\" y2=\"385.0\" stroke=\"black\" stroke-width=\"3\" /><line x1=\"2805.3072656250006\" x2=\"2805.3072656250006\" y1=\"375.0\" y2=\"385.0\" stroke=\"black\" stroke-width=\"3\" /><line x1=\"1988.2954296875002\" x2=\"1988.2954296875002\" y1=\"5.0\" y2=\"15.0\" stroke=\"black\" stroke-width=\"3\" /><line x1=\"2395.6944140625\" x2=\"2395.6944140625\" y1=\"5.0\" y2=\"15.0\" stroke=\"black\" stroke-width=\"3\" /><line x1=\"1988.2954296875002\" x2=\"1988.2954296875002\" y1=\"375.0\" y2=\"385.0\" stroke=\"black\" stroke-width=\"3\" /><line x1=\"2395.6944140625\" x2=\"2395.6944140625\" y1=\"375.0\" y2=\"385.0\" stroke=\"black\" stroke-width=\"3\" /><line x1=\"1372.1969531250002\" x2=\"1372.1969531250002\" y1=\"5.0\" y2=\"15.0\" stroke=\"black\" stroke-width=\"3\" /><line x1=\"1978.2954296875002\" x2=\"1978.2954296875002\" y1=\"5.0\" y2=\"15.0\" stroke=\"black\" stroke-width=\"3\" /><line x1=\"1372.1969531250002\" x2=\"1372.1969531250002\" y1=\"375.0\" y2=\"385.0\" stroke=\"black\" stroke-width=\"3\" /><line x1=\"1978.2954296875002\" x2=\"1978.2954296875002\" y1=\"375.0\" y2=\"385.0\" stroke=\"black\" stroke-width=\"3\" /><line x1=\"756.0984765625001\" x2=\"756.0984765625001\" y1=\"5.0\" y2=\"15.0\" stroke=\"black\" stroke-width=\"3\" /><line x1=\"1362.1969531250002\" x2=\"1362.1969531250002\" y1=\"5.0\" y2=\"15.0\" stroke=\"black\" stroke-width=\"3\" /><line x1=\"756.0984765625001\" x2=\"756.0984765625001\" y1=\"375.0\" y2=\"385.0\" stroke=\"black\" stroke-width=\"3\" /><line x1=\"1362.1969531250002\" x2=\"1362.1969531250002\" y1=\"375.0\" y2=\"385.0\" stroke=\"black\" stroke-width=\"3\" /><line x1=\"338.6994921875\" x2=\"338.6994921875\" y1=\"5.0\" y2=\"15.0\" stroke=\"black\" stroke-width=\"3\" /><line x1=\"746.0984765625001\" x2=\"746.0984765625001\" y1=\"5.0\" y2=\"15.0\" stroke=\"black\" stroke-width=\"3\" /><line x1=\"338.6994921875\" x2=\"338.6994921875\" y1=\"375.0\" y2=\"385.0\" stroke=\"black\" stroke-width=\"3\" /><line x1=\"746.0984765625001\" x2=\"746.0984765625001\" y1=\"375.0\" y2=\"385.0\" stroke=\"black\" stroke-width=\"3\" /><rect x=\"10.0\" y=\"25.0\" width=\"40\" height=\"40\" stroke=\"black\" fill=\"white\" stroke-width=\"0\" /><text x=\"30.0\" y=\"45.0\" dominant-baseline=\"middle\" text-anchor=\"middle\" font-size=\"14px\" font-family=\"Arial\">0: </text><rect x=\"10.0\" y=\"75.0\" width=\"40\" height=\"40\" stroke=\"black\" fill=\"white\" stroke-width=\"0\" /><text x=\"30.0\" y=\"95.0\" dominant-baseline=\"middle\" text-anchor=\"middle\" font-size=\"14px\" font-family=\"Arial\">1: </text><rect x=\"10.0\" y=\"125.0\" width=\"40\" height=\"40\" stroke=\"black\" fill=\"white\" stroke-width=\"0\" /><text x=\"30.0\" y=\"145.0\" dominant-baseline=\"middle\" text-anchor=\"middle\" font-size=\"14px\" font-family=\"Arial\">2: </text><rect x=\"10.0\" y=\"175.0\" width=\"40\" height=\"40\" stroke=\"black\" fill=\"white\" stroke-width=\"0\" /><text x=\"30.0\" y=\"195.0\" dominant-baseline=\"middle\" text-anchor=\"middle\" font-size=\"14px\" font-family=\"Arial\">3: </text><rect x=\"10.0\" y=\"225.0\" width=\"40\" height=\"40\" stroke=\"black\" fill=\"white\" stroke-width=\"0\" /><text x=\"30.0\" y=\"245.0\" dominant-baseline=\"middle\" text-anchor=\"middle\" font-size=\"14px\" font-family=\"Arial\">4: </text><rect x=\"10.0\" y=\"275.0\" width=\"40\" height=\"40\" stroke=\"black\" fill=\"white\" stroke-width=\"0\" /><text x=\"30.0\" y=\"295.0\" dominant-baseline=\"middle\" text-anchor=\"middle\" font-size=\"14px\" font-family=\"Arial\">5: </text><rect x=\"10.0\" y=\"325.0\" width=\"40\" height=\"40\" stroke=\"black\" fill=\"white\" stroke-width=\"0\" /><text x=\"30.0\" y=\"345.0\" dominant-baseline=\"middle\" text-anchor=\"middle\" font-size=\"14px\" font-family=\"Arial\">6: </text><rect x=\"70.0\" y=\"25.0\" width=\"40\" height=\"40\" stroke=\"black\" fill=\"white\" stroke-width=\"1\" /><text x=\"90.0\" y=\"45.0\" dominant-baseline=\"middle\" text-anchor=\"middle\" font-size=\"18px\" font-family=\"Arial\">H</text><rect x=\"70.0\" y=\"75.0\" width=\"40\" height=\"40\" stroke=\"black\" fill=\"white\" stroke-width=\"1\" /><text x=\"90.0\" y=\"95.0\" dominant-baseline=\"middle\" text-anchor=\"middle\" font-size=\"18px\" font-family=\"Arial\">H</text><rect x=\"70.0\" y=\"125.0\" width=\"40\" height=\"40\" stroke=\"black\" fill=\"white\" stroke-width=\"1\" /><text x=\"90.0\" y=\"145.0\" dominant-baseline=\"middle\" text-anchor=\"middle\" font-size=\"18px\" font-family=\"Arial\">H</text><rect x=\"70.0\" y=\"175.0\" width=\"40\" height=\"40\" stroke=\"black\" fill=\"white\" stroke-width=\"1\" /><text x=\"90.0\" y=\"195.0\" dominant-baseline=\"middle\" text-anchor=\"middle\" font-size=\"18px\" font-family=\"Arial\">H</text><rect x=\"70.0\" y=\"225.0\" width=\"40\" height=\"40\" stroke=\"black\" fill=\"white\" stroke-width=\"1\" /><text x=\"90.0\" y=\"245.0\" dominant-baseline=\"middle\" text-anchor=\"middle\" font-size=\"18px\" font-family=\"Arial\">H</text><rect x=\"70.0\" y=\"275.0\" width=\"40\" height=\"40\" stroke=\"black\" fill=\"white\" stroke-width=\"1\" /><text x=\"90.0\" y=\"295.0\" dominant-baseline=\"middle\" text-anchor=\"middle\" font-size=\"18px\" font-family=\"Arial\">H</text><rect x=\"70.0\" y=\"325.0\" width=\"40\" height=\"40\" stroke=\"black\" fill=\"white\" stroke-width=\"1\" /><text x=\"90.0\" y=\"345.0\" dominant-baseline=\"middle\" text-anchor=\"middle\" font-size=\"18px\" font-family=\"Arial\">H</text><rect x=\"130.0\" y=\"25.0\" width=\"198.69949218750003\" height=\"40\" stroke=\"black\" fill=\"white\" stroke-width=\"1\" /><text x=\"229.34974609375\" y=\"45.0\" dominant-baseline=\"middle\" text-anchor=\"middle\" font-size=\"14px\" font-family=\"Arial\">ZZ</text><rect x=\"130.0\" y=\"175.0\" width=\"198.69949218750003\" height=\"40\" stroke=\"black\" fill=\"white\" stroke-width=\"1\" /><text x=\"229.34974609375\" y=\"195.0\" dominant-baseline=\"middle\" text-anchor=\"middle\" font-size=\"14px\" font-family=\"Arial\">ZZ^(0.654498469497874*γ_0)</text><rect x=\"338.6994921875\" y=\"25.0\" width=\"198.69949218750003\" height=\"40\" stroke=\"black\" fill=\"white\" stroke-width=\"1\" /><text x=\"438.04923828125004\" y=\"45.0\" dominant-baseline=\"middle\" text-anchor=\"middle\" font-size=\"14px\" font-family=\"Arial\">ZZ</text><rect x=\"338.6994921875\" y=\"225.0\" width=\"198.69949218750003\" height=\"40\" stroke=\"black\" fill=\"white\" stroke-width=\"1\" /><text x=\"438.04923828125004\" y=\"245.0\" dominant-baseline=\"middle\" text-anchor=\"middle\" font-size=\"14px\" font-family=\"Arial\">ZZ^(0.654498469497874*γ_0)</text><rect x=\"537.398984375\" y=\"75.0\" width=\"198.69949218750003\" height=\"40\" stroke=\"black\" fill=\"white\" stroke-width=\"1\" /><text x=\"636.7487304687501\" y=\"95.0\" dominant-baseline=\"middle\" text-anchor=\"middle\" font-size=\"14px\" font-family=\"Arial\">ZZ</text><rect x=\"537.398984375\" y=\"175.0\" width=\"198.69949218750003\" height=\"40\" stroke=\"black\" fill=\"white\" stroke-width=\"1\" /><text x=\"636.7487304687501\" y=\"195.0\" dominant-baseline=\"middle\" text-anchor=\"middle\" font-size=\"14px\" font-family=\"Arial\">ZZ^(0.654498469497874*γ_0)</text><rect x=\"756.0984765625001\" y=\"25.0\" width=\"198.69949218750003\" height=\"40\" stroke=\"black\" fill=\"white\" stroke-width=\"1\" /><text x=\"855.4482226562501\" y=\"45.0\" dominant-baseline=\"middle\" text-anchor=\"middle\" font-size=\"14px\" font-family=\"Arial\">ZZ</text><rect x=\"756.0984765625001\" y=\"325.0\" width=\"198.69949218750003\" height=\"40\" stroke=\"black\" fill=\"white\" stroke-width=\"1\" /><text x=\"855.4482226562501\" y=\"345.0\" dominant-baseline=\"middle\" text-anchor=\"middle\" font-size=\"14px\" font-family=\"Arial\">ZZ^(0.654498469497874*γ_0)</text><rect x=\"954.7979687500002\" y=\"75.0\" width=\"198.69949218750003\" height=\"40\" stroke=\"black\" fill=\"white\" stroke-width=\"1\" /><text x=\"1054.1477148437502\" y=\"95.0\" dominant-baseline=\"middle\" text-anchor=\"middle\" font-size=\"14px\" font-family=\"Arial\">ZZ</text><rect x=\"954.7979687500002\" y=\"275.0\" width=\"198.69949218750003\" height=\"40\" stroke=\"black\" fill=\"white\" stroke-width=\"1\" /><text x=\"1054.1477148437502\" y=\"295.0\" dominant-baseline=\"middle\" text-anchor=\"middle\" font-size=\"14px\" font-family=\"Arial\">ZZ^(0.654498469497874*γ_0)</text><rect x=\"1153.4974609375\" y=\"125.0\" width=\"198.69949218750003\" height=\"40\" stroke=\"black\" fill=\"white\" stroke-width=\"1\" /><text x=\"1252.84720703125\" y=\"145.0\" dominant-baseline=\"middle\" text-anchor=\"middle\" font-size=\"14px\" font-family=\"Arial\">ZZ</text><rect x=\"1153.4974609375\" y=\"225.0\" width=\"198.69949218750003\" height=\"40\" stroke=\"black\" fill=\"white\" stroke-width=\"1\" /><text x=\"1252.84720703125\" y=\"245.0\" dominant-baseline=\"middle\" text-anchor=\"middle\" font-size=\"14px\" font-family=\"Arial\">ZZ^(0.654498469497874*γ_0)</text><rect x=\"1372.1969531250002\" y=\"25.0\" width=\"198.69949218750003\" height=\"40\" stroke=\"black\" fill=\"white\" stroke-width=\"1\" /><text x=\"1471.5466992187503\" y=\"45.0\" dominant-baseline=\"middle\" text-anchor=\"middle\" font-size=\"14px\" font-family=\"Arial\">Z^(-219.911485751286*γ_0)</text><rect x=\"1372.1969531250002\" y=\"75.0\" width=\"198.69949218750003\" height=\"40\" stroke=\"black\" fill=\"white\" stroke-width=\"1\" /><text x=\"1471.5466992187503\" y=\"95.0\" dominant-baseline=\"middle\" text-anchor=\"middle\" font-size=\"14px\" font-family=\"Arial\">ZZ</text><rect x=\"1372.1969531250002\" y=\"325.0\" width=\"198.69949218750003\" height=\"40\" stroke=\"black\" fill=\"white\" stroke-width=\"1\" /><text x=\"1471.5466992187503\" y=\"345.0\" dominant-baseline=\"middle\" text-anchor=\"middle\" font-size=\"14px\" font-family=\"Arial\">ZZ^(0.654498469497874*γ_0)</text><rect x=\"1570.8964453125\" y=\"125.0\" width=\"198.69949218750003\" height=\"40\" stroke=\"black\" fill=\"white\" stroke-width=\"1\" /><text x=\"1670.24619140625\" y=\"145.0\" dominant-baseline=\"middle\" text-anchor=\"middle\" font-size=\"14px\" font-family=\"Arial\">ZZ</text><rect x=\"1570.8964453125\" y=\"275.0\" width=\"198.69949218750003\" height=\"40\" stroke=\"black\" fill=\"white\" stroke-width=\"1\" /><text x=\"1670.24619140625\" y=\"295.0\" dominant-baseline=\"middle\" text-anchor=\"middle\" font-size=\"14px\" font-family=\"Arial\">ZZ^(0.654498469497874*γ_0)</text><rect x=\"1769.5959375000002\" y=\"175.0\" width=\"198.69949218750003\" height=\"40\" stroke=\"black\" fill=\"white\" stroke-width=\"1\" /><text x=\"1868.9456835937503\" y=\"195.0\" dominant-baseline=\"middle\" text-anchor=\"middle\" font-size=\"14px\" font-family=\"Arial\">ZZ</text><rect x=\"1769.5959375000002\" y=\"225.0\" width=\"198.69949218750003\" height=\"40\" stroke=\"black\" fill=\"white\" stroke-width=\"1\" /><text x=\"1868.9456835937503\" y=\"245.0\" dominant-baseline=\"middle\" text-anchor=\"middle\" font-size=\"14px\" font-family=\"Arial\">ZZ^(0.654498469497874*γ_0)</text><rect x=\"1988.2954296875\" y=\"75.0\" width=\"198.69949218750003\" height=\"40\" stroke=\"black\" fill=\"white\" stroke-width=\"1\" /><text x=\"2087.64517578125\" y=\"95.0\" dominant-baseline=\"middle\" text-anchor=\"middle\" font-size=\"14px\" font-family=\"Arial\">Z^(-188.495559215388*γ_0)</text><rect x=\"1988.2954296875\" y=\"125.0\" width=\"198.69949218750003\" height=\"40\" stroke=\"black\" fill=\"white\" stroke-width=\"1\" /><text x=\"2087.64517578125\" y=\"145.0\" dominant-baseline=\"middle\" text-anchor=\"middle\" font-size=\"14px\" font-family=\"Arial\">ZZ</text><rect x=\"1988.2954296875\" y=\"325.0\" width=\"198.69949218750003\" height=\"40\" stroke=\"black\" fill=\"white\" stroke-width=\"1\" /><text x=\"2087.64517578125\" y=\"345.0\" dominant-baseline=\"middle\" text-anchor=\"middle\" font-size=\"14px\" font-family=\"Arial\">ZZ^(0.654498469497874*γ_0)</text><rect x=\"2186.9949218750003\" y=\"175.0\" width=\"198.69949218750003\" height=\"40\" stroke=\"black\" fill=\"white\" stroke-width=\"1\" /><text x=\"2286.3446679687504\" y=\"195.0\" dominant-baseline=\"middle\" text-anchor=\"middle\" font-size=\"14px\" font-family=\"Arial\">ZZ</text><rect x=\"2186.9949218750003\" y=\"275.0\" width=\"198.69949218750003\" height=\"40\" stroke=\"black\" fill=\"white\" stroke-width=\"1\" /><text x=\"2286.3446679687504\" y=\"295.0\" dominant-baseline=\"middle\" text-anchor=\"middle\" font-size=\"14px\" font-family=\"Arial\">ZZ^(0.654498469497874*γ_0)</text><rect x=\"2405.6944140625\" y=\"125.0\" width=\"190.91335937500003\" height=\"40\" stroke=\"black\" fill=\"white\" stroke-width=\"1\" /><text x=\"2501.15109375\" y=\"145.0\" dominant-baseline=\"middle\" text-anchor=\"middle\" font-size=\"14px\" font-family=\"Arial\">Z^(-235.619449019234*γ_0)</text><rect x=\"2405.6944140625\" y=\"175.0\" width=\"190.91335937500003\" height=\"40\" stroke=\"black\" fill=\"white\" stroke-width=\"1\" /><text x=\"2501.15109375\" y=\"195.0\" dominant-baseline=\"middle\" text-anchor=\"middle\" font-size=\"14px\" font-family=\"Arial\">ZZ</text><rect x=\"2405.6944140625\" y=\"325.0\" width=\"190.91335937500003\" height=\"40\" stroke=\"black\" fill=\"white\" stroke-width=\"1\" /><text x=\"2501.15109375\" y=\"345.0\" dominant-baseline=\"middle\" text-anchor=\"middle\" font-size=\"14px\" font-family=\"Arial\">ZZ^(1.30899693899575*γ_0)</text><rect x=\"2596.6077734375003\" y=\"225.0\" width=\"198.69949218750003\" height=\"40\" stroke=\"black\" fill=\"white\" stroke-width=\"1\" /><text x=\"2695.9575195312505\" y=\"245.0\" dominant-baseline=\"middle\" text-anchor=\"middle\" font-size=\"14px\" font-family=\"Arial\">ZZ</text><rect x=\"2596.6077734375003\" y=\"275.0\" width=\"198.69949218750003\" height=\"40\" stroke=\"black\" fill=\"white\" stroke-width=\"1\" /><text x=\"2695.9575195312505\" y=\"295.0\" dominant-baseline=\"middle\" text-anchor=\"middle\" font-size=\"14px\" font-family=\"Arial\">ZZ^(0.654498469497874*γ_0)</text><rect x=\"2825.3072656250006\" y=\"175.0\" width=\"190.91335937500003\" height=\"40\" stroke=\"black\" fill=\"white\" stroke-width=\"1\" /><text x=\"2920.7639453125007\" y=\"195.0\" dominant-baseline=\"middle\" text-anchor=\"middle\" font-size=\"14px\" font-family=\"Arial\">Z^(-408.407044966673*γ_0)</text><rect x=\"2825.3072656250006\" y=\"225.0\" width=\"190.91335937500003\" height=\"40\" stroke=\"black\" fill=\"white\" stroke-width=\"1\" /><text x=\"2920.7639453125007\" y=\"245.0\" dominant-baseline=\"middle\" text-anchor=\"middle\" font-size=\"14px\" font-family=\"Arial\">ZZ</text><rect x=\"2825.3072656250006\" y=\"325.0\" width=\"190.91335937500003\" height=\"40\" stroke=\"black\" fill=\"white\" stroke-width=\"1\" /><text x=\"2920.7639453125007\" y=\"345.0\" dominant-baseline=\"middle\" text-anchor=\"middle\" font-size=\"14px\" font-family=\"Arial\">ZZ^(1.30899693899575*γ_0)</text><rect x=\"3036.220625000001\" y=\"225.0\" width=\"190.91335937500003\" height=\"40\" stroke=\"black\" fill=\"white\" stroke-width=\"1\" /><text x=\"3131.677304687501\" y=\"245.0\" dominant-baseline=\"middle\" text-anchor=\"middle\" font-size=\"14px\" font-family=\"Arial\">Z^(-439.822971502571*γ_0)</text><rect x=\"3036.220625000001\" y=\"275.0\" width=\"190.91335937500003\" height=\"40\" stroke=\"black\" fill=\"white\" stroke-width=\"1\" /><text x=\"3131.677304687501\" y=\"295.0\" dominant-baseline=\"middle\" text-anchor=\"middle\" font-size=\"14px\" font-family=\"Arial\">ZZ</text><rect x=\"3036.220625000001\" y=\"325.0\" width=\"190.91335937500003\" height=\"40\" stroke=\"black\" fill=\"white\" stroke-width=\"1\" /><text x=\"3131.677304687501\" y=\"345.0\" dominant-baseline=\"middle\" text-anchor=\"middle\" font-size=\"14px\" font-family=\"Arial\">ZZ^(1.30899693899575*γ_0)</text><rect x=\"3247.133984375001\" y=\"275.0\" width=\"187.02371093750003\" height=\"40\" stroke=\"black\" fill=\"white\" stroke-width=\"1\" /><text x=\"3340.645839843751\" y=\"295.0\" dominant-baseline=\"middle\" text-anchor=\"middle\" font-size=\"14px\" font-family=\"Arial\">Z^(-424.115008234622*γ_0)</text><rect x=\"3247.133984375001\" y=\"325.0\" width=\"187.02371093750003\" height=\"40\" stroke=\"black\" fill=\"white\" stroke-width=\"1\" /><text x=\"3340.645839843751\" y=\"345.0\" dominant-baseline=\"middle\" text-anchor=\"middle\" font-size=\"14px\" font-family=\"Arial\">Z^(-659.734457253857*γ_0)</text><rect x=\"3454.1576953125013\" y=\"25.0\" width=\"184.41921875000003\" height=\"40\" stroke=\"black\" fill=\"white\" stroke-width=\"1\" /><text x=\"3546.3673046875015\" y=\"45.0\" dominant-baseline=\"middle\" text-anchor=\"middle\" font-size=\"14px\" font-family=\"Arial\">X^(3.14159265358979*β_0)</text><rect x=\"3454.1576953125013\" y=\"75.0\" width=\"184.41921875000003\" height=\"40\" stroke=\"black\" fill=\"white\" stroke-width=\"1\" /><text x=\"3546.3673046875015\" y=\"95.0\" dominant-baseline=\"middle\" text-anchor=\"middle\" font-size=\"14px\" font-family=\"Arial\">X^(3.14159265358979*β_0)</text><rect x=\"3454.1576953125013\" y=\"125.0\" width=\"184.41921875000003\" height=\"40\" stroke=\"black\" fill=\"white\" stroke-width=\"1\" /><text x=\"3546.3673046875015\" y=\"145.0\" dominant-baseline=\"middle\" text-anchor=\"middle\" font-size=\"14px\" font-family=\"Arial\">X^(3.14159265358979*β_0)</text><rect x=\"3454.1576953125013\" y=\"175.0\" width=\"184.41921875000003\" height=\"40\" stroke=\"black\" fill=\"white\" stroke-width=\"1\" /><text x=\"3546.3673046875015\" y=\"195.0\" dominant-baseline=\"middle\" text-anchor=\"middle\" font-size=\"14px\" font-family=\"Arial\">X^(3.14159265358979*β_0)</text><rect x=\"3454.1576953125013\" y=\"225.0\" width=\"184.41921875000003\" height=\"40\" stroke=\"black\" fill=\"white\" stroke-width=\"1\" /><text x=\"3546.3673046875015\" y=\"245.0\" dominant-baseline=\"middle\" text-anchor=\"middle\" font-size=\"14px\" font-family=\"Arial\">X^(3.14159265358979*β_0)</text><rect x=\"3454.1576953125013\" y=\"275.0\" width=\"184.41921875000003\" height=\"40\" stroke=\"black\" fill=\"white\" stroke-width=\"1\" /><text x=\"3546.3673046875015\" y=\"295.0\" dominant-baseline=\"middle\" text-anchor=\"middle\" font-size=\"14px\" font-family=\"Arial\">X^(3.14159265358979*β_0)</text><rect x=\"3454.1576953125013\" y=\"325.0\" width=\"184.41921875000003\" height=\"40\" stroke=\"black\" fill=\"white\" stroke-width=\"1\" /><text x=\"3546.3673046875015\" y=\"345.0\" dominant-baseline=\"middle\" text-anchor=\"middle\" font-size=\"14px\" font-family=\"Arial\">X^(3.14159265358979*β_0)</text><rect x=\"3658.5769140625016\" y=\"25.0\" width=\"198.69949218750003\" height=\"40\" stroke=\"black\" fill=\"white\" stroke-width=\"1\" /><text x=\"3757.9266601562517\" y=\"45.0\" dominant-baseline=\"middle\" text-anchor=\"middle\" font-size=\"14px\" font-family=\"Arial\">ZZ</text><rect x=\"3658.5769140625016\" y=\"175.0\" width=\"198.69949218750003\" height=\"40\" stroke=\"black\" fill=\"white\" stroke-width=\"1\" /><text x=\"3757.9266601562517\" y=\"195.0\" dominant-baseline=\"middle\" text-anchor=\"middle\" font-size=\"14px\" font-family=\"Arial\">ZZ^(0.654498469497874*γ_1)</text><rect x=\"3867.276406250002\" y=\"25.0\" width=\"198.69949218750003\" height=\"40\" stroke=\"black\" fill=\"white\" stroke-width=\"1\" /><text x=\"3966.626152343752\" y=\"45.0\" dominant-baseline=\"middle\" text-anchor=\"middle\" font-size=\"14px\" font-family=\"Arial\">ZZ</text><rect x=\"3867.276406250002\" y=\"225.0\" width=\"198.69949218750003\" height=\"40\" stroke=\"black\" fill=\"white\" stroke-width=\"1\" /><text x=\"3966.626152343752\" y=\"245.0\" dominant-baseline=\"middle\" text-anchor=\"middle\" font-size=\"14px\" font-family=\"Arial\">ZZ^(0.654498469497874*γ_1)</text><rect x=\"4065.9758984375017\" y=\"75.0\" width=\"198.69949218750003\" height=\"40\" stroke=\"black\" fill=\"white\" stroke-width=\"1\" /><text x=\"4165.325644531252\" y=\"95.0\" dominant-baseline=\"middle\" text-anchor=\"middle\" font-size=\"14px\" font-family=\"Arial\">ZZ</text><rect x=\"4065.9758984375017\" y=\"175.0\" width=\"198.69949218750003\" height=\"40\" stroke=\"black\" fill=\"white\" stroke-width=\"1\" /><text x=\"4165.325644531252\" y=\"195.0\" dominant-baseline=\"middle\" text-anchor=\"middle\" font-size=\"14px\" font-family=\"Arial\">ZZ^(0.654498469497874*γ_1)</text><rect x=\"4284.675390625002\" y=\"25.0\" width=\"198.69949218750003\" height=\"40\" stroke=\"black\" fill=\"white\" stroke-width=\"1\" /><text x=\"4384.025136718752\" y=\"45.0\" dominant-baseline=\"middle\" text-anchor=\"middle\" font-size=\"14px\" font-family=\"Arial\">ZZ</text><rect x=\"4284.675390625002\" y=\"325.0\" width=\"198.69949218750003\" height=\"40\" stroke=\"black\" fill=\"white\" stroke-width=\"1\" /><text x=\"4384.025136718752\" y=\"345.0\" dominant-baseline=\"middle\" text-anchor=\"middle\" font-size=\"14px\" font-family=\"Arial\">ZZ^(0.654498469497874*γ_1)</text><rect x=\"4483.374882812503\" y=\"75.0\" width=\"198.69949218750003\" height=\"40\" stroke=\"black\" fill=\"white\" stroke-width=\"1\" /><text x=\"4582.724628906252\" y=\"95.0\" dominant-baseline=\"middle\" text-anchor=\"middle\" font-size=\"14px\" font-family=\"Arial\">ZZ</text><rect x=\"4483.374882812503\" y=\"275.0\" width=\"198.69949218750003\" height=\"40\" stroke=\"black\" fill=\"white\" stroke-width=\"1\" /><text x=\"4582.724628906252\" y=\"295.0\" dominant-baseline=\"middle\" text-anchor=\"middle\" font-size=\"14px\" font-family=\"Arial\">ZZ^(0.654498469497874*γ_1)</text><rect x=\"4682.074375000003\" y=\"125.0\" width=\"198.69949218750003\" height=\"40\" stroke=\"black\" fill=\"white\" stroke-width=\"1\" /><text x=\"4781.424121093753\" y=\"145.0\" dominant-baseline=\"middle\" text-anchor=\"middle\" font-size=\"14px\" font-family=\"Arial\">ZZ</text><rect x=\"4682.074375000003\" y=\"225.0\" width=\"198.69949218750003\" height=\"40\" stroke=\"black\" fill=\"white\" stroke-width=\"1\" /><text x=\"4781.424121093753\" y=\"245.0\" dominant-baseline=\"middle\" text-anchor=\"middle\" font-size=\"14px\" font-family=\"Arial\">ZZ^(0.654498469497874*γ_1)</text><rect x=\"4900.773867187503\" y=\"25.0\" width=\"198.69949218750003\" height=\"40\" stroke=\"black\" fill=\"white\" stroke-width=\"1\" /><text x=\"5000.123613281253\" y=\"45.0\" dominant-baseline=\"middle\" text-anchor=\"middle\" font-size=\"14px\" font-family=\"Arial\">Z^(-219.911485751286*γ_1)</text><rect x=\"4900.773867187503\" y=\"75.0\" width=\"198.69949218750003\" height=\"40\" stroke=\"black\" fill=\"white\" stroke-width=\"1\" /><text x=\"5000.123613281253\" y=\"95.0\" dominant-baseline=\"middle\" text-anchor=\"middle\" font-size=\"14px\" font-family=\"Arial\">ZZ</text><rect x=\"4900.773867187503\" y=\"325.0\" width=\"198.69949218750003\" height=\"40\" stroke=\"black\" fill=\"white\" stroke-width=\"1\" /><text x=\"5000.123613281253\" y=\"345.0\" dominant-baseline=\"middle\" text-anchor=\"middle\" font-size=\"14px\" font-family=\"Arial\">ZZ^(0.654498469497874*γ_1)</text><rect x=\"5099.473359375003\" y=\"125.0\" width=\"198.69949218750003\" height=\"40\" stroke=\"black\" fill=\"white\" stroke-width=\"1\" /><text x=\"5198.823105468753\" y=\"145.0\" dominant-baseline=\"middle\" text-anchor=\"middle\" font-size=\"14px\" font-family=\"Arial\">ZZ</text><rect x=\"5099.473359375003\" y=\"275.0\" width=\"198.69949218750003\" height=\"40\" stroke=\"black\" fill=\"white\" stroke-width=\"1\" /><text x=\"5198.823105468753\" y=\"295.0\" dominant-baseline=\"middle\" text-anchor=\"middle\" font-size=\"14px\" font-family=\"Arial\">ZZ^(0.654498469497874*γ_1)</text><rect x=\"5298.172851562504\" y=\"175.0\" width=\"198.69949218750003\" height=\"40\" stroke=\"black\" fill=\"white\" stroke-width=\"1\" /><text x=\"5397.522597656253\" y=\"195.0\" dominant-baseline=\"middle\" text-anchor=\"middle\" font-size=\"14px\" font-family=\"Arial\">ZZ</text><rect x=\"5298.172851562504\" y=\"225.0\" width=\"198.69949218750003\" height=\"40\" stroke=\"black\" fill=\"white\" stroke-width=\"1\" /><text x=\"5397.522597656253\" y=\"245.0\" dominant-baseline=\"middle\" text-anchor=\"middle\" font-size=\"14px\" font-family=\"Arial\">ZZ^(0.654498469497874*γ_1)</text><rect x=\"5516.872343750004\" y=\"75.0\" width=\"198.69949218750003\" height=\"40\" stroke=\"black\" fill=\"white\" stroke-width=\"1\" /><text x=\"5616.222089843754\" y=\"95.0\" dominant-baseline=\"middle\" text-anchor=\"middle\" font-size=\"14px\" font-family=\"Arial\">Z^(-188.495559215388*γ_1)</text><rect x=\"5516.872343750004\" y=\"125.0\" width=\"198.69949218750003\" height=\"40\" stroke=\"black\" fill=\"white\" stroke-width=\"1\" /><text x=\"5616.222089843754\" y=\"145.0\" dominant-baseline=\"middle\" text-anchor=\"middle\" font-size=\"14px\" font-family=\"Arial\">ZZ</text><rect x=\"5516.872343750004\" y=\"325.0\" width=\"198.69949218750003\" height=\"40\" stroke=\"black\" fill=\"white\" stroke-width=\"1\" /><text x=\"5616.222089843754\" y=\"345.0\" dominant-baseline=\"middle\" text-anchor=\"middle\" font-size=\"14px\" font-family=\"Arial\">ZZ^(0.654498469497874*γ_1)</text><rect x=\"5715.571835937504\" y=\"175.0\" width=\"198.69949218750003\" height=\"40\" stroke=\"black\" fill=\"white\" stroke-width=\"1\" /><text x=\"5814.921582031254\" y=\"195.0\" dominant-baseline=\"middle\" text-anchor=\"middle\" font-size=\"14px\" font-family=\"Arial\">ZZ</text><rect x=\"5715.571835937504\" y=\"275.0\" width=\"198.69949218750003\" height=\"40\" stroke=\"black\" fill=\"white\" stroke-width=\"1\" /><text x=\"5814.921582031254\" y=\"295.0\" dominant-baseline=\"middle\" text-anchor=\"middle\" font-size=\"14px\" font-family=\"Arial\">ZZ^(0.654498469497874*γ_1)</text><rect x=\"5934.271328125004\" y=\"125.0\" width=\"190.91335937500003\" height=\"40\" stroke=\"black\" fill=\"white\" stroke-width=\"1\" /><text x=\"6029.728007812504\" y=\"145.0\" dominant-baseline=\"middle\" text-anchor=\"middle\" font-size=\"14px\" font-family=\"Arial\">Z^(-235.619449019234*γ_1)</text><rect x=\"5934.271328125004\" y=\"175.0\" width=\"190.91335937500003\" height=\"40\" stroke=\"black\" fill=\"white\" stroke-width=\"1\" /><text x=\"6029.728007812504\" y=\"195.0\" dominant-baseline=\"middle\" text-anchor=\"middle\" font-size=\"14px\" font-family=\"Arial\">ZZ</text><rect x=\"5934.271328125004\" y=\"325.0\" width=\"190.91335937500003\" height=\"40\" stroke=\"black\" fill=\"white\" stroke-width=\"1\" /><text x=\"6029.728007812504\" y=\"345.0\" dominant-baseline=\"middle\" text-anchor=\"middle\" font-size=\"14px\" font-family=\"Arial\">ZZ^(1.30899693899575*γ_1)</text><rect x=\"6125.184687500005\" y=\"225.0\" width=\"198.69949218750003\" height=\"40\" stroke=\"black\" fill=\"white\" stroke-width=\"1\" /><text x=\"6224.534433593754\" y=\"245.0\" dominant-baseline=\"middle\" text-anchor=\"middle\" font-size=\"14px\" font-family=\"Arial\">ZZ</text><rect x=\"6125.184687500005\" y=\"275.0\" width=\"198.69949218750003\" height=\"40\" stroke=\"black\" fill=\"white\" stroke-width=\"1\" /><text x=\"6224.534433593754\" y=\"295.0\" dominant-baseline=\"middle\" text-anchor=\"middle\" font-size=\"14px\" font-family=\"Arial\">ZZ^(0.654498469497874*γ_1)</text><rect x=\"6353.884179687505\" y=\"175.0\" width=\"190.91335937500003\" height=\"40\" stroke=\"black\" fill=\"white\" stroke-width=\"1\" /><text x=\"6449.340859375005\" y=\"195.0\" dominant-baseline=\"middle\" text-anchor=\"middle\" font-size=\"14px\" font-family=\"Arial\">Z^(-408.407044966673*γ_1)</text><rect x=\"6353.884179687505\" y=\"225.0\" width=\"190.91335937500003\" height=\"40\" stroke=\"black\" fill=\"white\" stroke-width=\"1\" /><text x=\"6449.340859375005\" y=\"245.0\" dominant-baseline=\"middle\" text-anchor=\"middle\" font-size=\"14px\" font-family=\"Arial\">ZZ</text><rect x=\"6353.884179687505\" y=\"325.0\" width=\"190.91335937500003\" height=\"40\" stroke=\"black\" fill=\"white\" stroke-width=\"1\" /><text x=\"6449.340859375005\" y=\"345.0\" dominant-baseline=\"middle\" text-anchor=\"middle\" font-size=\"14px\" font-family=\"Arial\">ZZ^(1.30899693899575*γ_1)</text><rect x=\"6564.797539062505\" y=\"225.0\" width=\"190.91335937500003\" height=\"40\" stroke=\"black\" fill=\"white\" stroke-width=\"1\" /><text x=\"6660.254218750005\" y=\"245.0\" dominant-baseline=\"middle\" text-anchor=\"middle\" font-size=\"14px\" font-family=\"Arial\">Z^(-439.822971502571*γ_1)</text><rect x=\"6564.797539062505\" y=\"275.0\" width=\"190.91335937500003\" height=\"40\" stroke=\"black\" fill=\"white\" stroke-width=\"1\" /><text x=\"6660.254218750005\" y=\"295.0\" dominant-baseline=\"middle\" text-anchor=\"middle\" font-size=\"14px\" font-family=\"Arial\">ZZ</text><rect x=\"6564.797539062505\" y=\"325.0\" width=\"190.91335937500003\" height=\"40\" stroke=\"black\" fill=\"white\" stroke-width=\"1\" /><text x=\"6660.254218750005\" y=\"345.0\" dominant-baseline=\"middle\" text-anchor=\"middle\" font-size=\"14px\" font-family=\"Arial\">ZZ^(1.30899693899575*γ_1)</text><rect x=\"6775.710898437505\" y=\"275.0\" width=\"187.02371093750003\" height=\"40\" stroke=\"black\" fill=\"white\" stroke-width=\"1\" /><text x=\"6869.222753906255\" y=\"295.0\" dominant-baseline=\"middle\" text-anchor=\"middle\" font-size=\"14px\" font-family=\"Arial\">Z^(-424.115008234622*γ_1)</text><rect x=\"6775.710898437505\" y=\"325.0\" width=\"187.02371093750003\" height=\"40\" stroke=\"black\" fill=\"white\" stroke-width=\"1\" /><text x=\"6869.222753906255\" y=\"345.0\" dominant-baseline=\"middle\" text-anchor=\"middle\" font-size=\"14px\" font-family=\"Arial\">Z^(-659.734457253857*γ_1)</text><rect x=\"6982.734609375006\" y=\"25.0\" width=\"184.41921875000003\" height=\"40\" stroke=\"black\" fill=\"white\" stroke-width=\"1\" /><text x=\"7074.944218750005\" y=\"45.0\" dominant-baseline=\"middle\" text-anchor=\"middle\" font-size=\"14px\" font-family=\"Arial\">X^(3.14159265358979*β_1)</text><rect x=\"6982.734609375006\" y=\"75.0\" width=\"184.41921875000003\" height=\"40\" stroke=\"black\" fill=\"white\" stroke-width=\"1\" /><text x=\"7074.944218750005\" y=\"95.0\" dominant-baseline=\"middle\" text-anchor=\"middle\" font-size=\"14px\" font-family=\"Arial\">X^(3.14159265358979*β_1)</text><rect x=\"6982.734609375006\" y=\"125.0\" width=\"184.41921875000003\" height=\"40\" stroke=\"black\" fill=\"white\" stroke-width=\"1\" /><text x=\"7074.944218750005\" y=\"145.0\" dominant-baseline=\"middle\" text-anchor=\"middle\" font-size=\"14px\" font-family=\"Arial\">X^(3.14159265358979*β_1)</text><rect x=\"6982.734609375006\" y=\"175.0\" width=\"184.41921875000003\" height=\"40\" stroke=\"black\" fill=\"white\" stroke-width=\"1\" /><text x=\"7074.944218750005\" y=\"195.0\" dominant-baseline=\"middle\" text-anchor=\"middle\" font-size=\"14px\" font-family=\"Arial\">X^(3.14159265358979*β_1)</text><rect x=\"6982.734609375006\" y=\"225.0\" width=\"184.41921875000003\" height=\"40\" stroke=\"black\" fill=\"white\" stroke-width=\"1\" /><text x=\"7074.944218750005\" y=\"245.0\" dominant-baseline=\"middle\" text-anchor=\"middle\" font-size=\"14px\" font-family=\"Arial\">X^(3.14159265358979*β_1)</text><rect x=\"6982.734609375006\" y=\"275.0\" width=\"184.41921875000003\" height=\"40\" stroke=\"black\" fill=\"white\" stroke-width=\"1\" /><text x=\"7074.944218750005\" y=\"295.0\" dominant-baseline=\"middle\" text-anchor=\"middle\" font-size=\"14px\" font-family=\"Arial\">X^(3.14159265358979*β_1)</text><rect x=\"6982.734609375006\" y=\"325.0\" width=\"184.41921875000003\" height=\"40\" stroke=\"black\" fill=\"white\" stroke-width=\"1\" /><text x=\"7074.944218750005\" y=\"345.0\" dominant-baseline=\"middle\" text-anchor=\"middle\" font-size=\"14px\" font-family=\"Arial\">X^(3.14159265358979*β_1)</text></svg>"
      ],
      "text/plain": [
       "<cirq.contrib.svg.svg.SVGCircuit at 0x131c2355520>"
      ]
     },
     "execution_count": 11,
     "metadata": {},
     "output_type": "execute_result"
    }
   ],
   "source": [
    "# better printing with SVG\n",
    "SVGCircuit(qaoa)"
   ]
  },
  {
   "cell_type": "code",
   "execution_count": 12,
   "id": "e542b3e5",
   "metadata": {},
   "outputs": [],
   "source": [
    "# defining the measurement operator\n",
    "M = m_op(Q)\n",
    "# M = M_z(problem_size)\n",
    "# M.shape"
   ]
  },
  {
   "cell_type": "code",
   "execution_count": 13,
   "id": "810a106c",
   "metadata": {},
   "outputs": [],
   "source": [
    "if p == 1:\n",
    "    grid_size = 40\n",
    "    gamma_max = 4\n",
    "    beta_max = 1\n",
    "\n",
    "    # Do the grid search.\n",
    "    energies = np.zeros((grid_size, grid_size))\n",
    "    for i in range(0,grid_size):\n",
    "        for j in range(0,grid_size):\n",
    "            vec = state_vector_params(i * gamma_max / grid_size, j * beta_max / grid_size, qaoa)\n",
    "            energies[i, j] = vec @ M @ vec\n",
    "\n",
    "    \"\"\"Plot the energy as a function of the parameters 𝛄 and β found in the grid search.\"\"\"\n",
    "    plt.ylabel(r\"$\\gamma$\")\n",
    "    plt.xlabel(r\"$\\beta$\")\n",
    "    plt.title(\"Energy as a function of parameters\")\n",
    "    plt.imshow(energies, extent=(0, beta_max, gamma_max, 0))\n",
    "    plt.colorbar()\n",
    "    plt.show()\n",
    "    ind = np.unravel_index(np.argmin(energies, axis=None), energies.shape) \n",
    "    ind_gam, ind_bet = ind\n",
    "    eng = energies[ind]\n",
    "    opt_gam = ind_gam / grid_size * gamma_max\n",
    "    opt_bet = ind_bet / grid_size * beta_max\n",
    "    print(f\"Numerically found parameters: Gamma = {opt_gam}, Beta = {opt_bet}\\nEnergy = {eng}\")"
   ]
  },
  {
   "cell_type": "code",
   "execution_count": 14,
   "id": "11100263",
   "metadata": {},
   "outputs": [],
   "source": [
    "# Adding a measurement layer\n",
    "measure_qaoa = qaoa.copy()\n",
    "measure_qaoa.append(cirq.measure(qubits, key = 'result'))\n",
    "simulator = cirq.Simulator()"
   ]
  },
  {
   "cell_type": "code",
   "execution_count": 15,
   "id": "03ae6513",
   "metadata": {},
   "outputs": [],
   "source": [
    "# Basic gradient descent to find the best parameter for the lowest energy level\n",
    "def q_cost(X):\n",
    "    val = 0\n",
    "    i = 0\n",
    "    for prob in X:\n",
    "        bits = np.array(to_bin_array3(i))\n",
    "        val += prob**2 * bits @ Q @ bits\n",
    "        i += 1\n",
    "    return val\n",
    "\n",
    "def Q_optim(param_dict, circuit, qubits, lr, epochs, rr = True, prints = True):\n",
    "    \"\"\"param_dict: dictionary with parameters {γ_0: 0, β_0: 0, .... }\n",
    "       returns one step optimimized parameter dictionary\n",
    "    \"\"\"\n",
    "    t_start = time.time()\n",
    "    \n",
    "    \n",
    "    # setting up some utilities\n",
    "    opt_cost = float('inf')\n",
    "    opt_param_dict = {}\n",
    "    simulator = cirq.Simulator() # initializing the simulator object\n",
    "    params = cirq.ParamResolver(param_dict)\n",
    "    \n",
    "    random_restart = 0\n",
    "    vals = []\n",
    "    \n",
    "    \n",
    "    for step in range(epochs):\n",
    "        \n",
    "        # The final state vector and energy of the circuit with the parameter values given by param_dict\n",
    "        base_state = abs(simulator.simulate(circuit, param_resolver=params).final_state_vector)\n",
    "        base_cost = q_cost(base_state)\n",
    "        vals.append(base_cost)\n",
    "        # whenever the energy is lower than previously detected, the best value and it's parameter will be stored\n",
    "        if base_cost < opt_cost: \n",
    "            opt_cost = base_cost\n",
    "            opt_param_dict = param_dict\n",
    "        \n",
    "        # Calculating the gradient numerically    \n",
    "        grad = np.zeros(len(param_dict))\n",
    "        j = 0\n",
    "        for i in param_dict:\n",
    "\n",
    "            param_dict[i] += 0.001\n",
    "            params = cirq.ParamResolver(param_dict)\n",
    "            eps_cost = q_cost(abs(simulator.simulate(circuit, param_resolver=params).final_state_vector))\n",
    "            param_dict[i] -= 0.001\n",
    "            eps = base_cost - eps_cost\n",
    "            grad[j] = eps\n",
    "            j += 1\n",
    "\n",
    "        grad = grad * lr\n",
    "        \n",
    "        j = 0\n",
    "        for i in param_dict:\n",
    "            param_dict[i] += grad[j]\n",
    "            j +=1\n",
    "        \n",
    "        # the energy of the learned state = base state + gradient * learning rate\n",
    "        params = cirq.ParamResolver(param_dict) # new parameter after the gradient step \n",
    "        vec = abs(simulator.simulate(circuit, param_resolver=params).final_state_vector)\n",
    "        grad_cost = q_cost(vec) #energy after the gradient step\n",
    "        if grad_cost < opt_cost:\n",
    "            opt_cost = grad_cost\n",
    "            opt_param_dict = param_dict\n",
    "        \n",
    "        if grad_cost >= base_cost: \n",
    "            random_restart +=1\n",
    "        elif abs(base_cost - grad_cost) < 0.00001 and rr:\n",
    "            if prints:\n",
    "                print(\"Grad vanished\")\n",
    "            random_restart = epochs//20\n",
    "        \n",
    "        \n",
    "        if rr and random_restart >= epochs//20:\n",
    "            if prints:\n",
    "                print(\"Restart\")\n",
    "            random_restart = 0\n",
    "            for par in param_dict:\n",
    "                param_dict[par] += random.uniform(-2, 2)\n",
    "            \n",
    "        if not step % 25 and prints:    \n",
    "            print(f\"Epoch {step+1}, Cost: {opt_cost}\")\n",
    "        t_end = time.time()\n",
    "        last_epoch = step\n",
    "        \n",
    "        if t_end - t_start > 600 and prints:\n",
    "            print(\"More than 600s runtime\")\n",
    "            break\n",
    "    if prints:\n",
    "        x = (range(len(vals)))\n",
    "        plt.plot(x,vals)\n",
    "        plt.show()\n",
    "        \n",
    "    tte = round(t_end - t_start,2)\n",
    "    if prints:\n",
    "        print(f\"Time elapsed: {tte}s\")\n",
    "        print(f\"Time per epoch: {round((t_end - t_start)/last_epoch,4)}s\")\n",
    "    return opt_param_dict, opt_cost, tte"
   ]
  },
  {
   "cell_type": "code",
   "execution_count": 24,
   "id": "3c9dd614",
   "metadata": {},
   "outputs": [
    {
     "name": "stdout",
     "output_type": "stream",
     "text": [
      "Run 0, ep 100, lr 0.1\n",
      "Run 0, ep 100, lr 1\n",
      "Run 0, ep 200, lr 0.1\n",
      "Run 0, ep 200, lr 1\n"
     ]
    },
    {
     "data": {
      "text/plain": [
       "{'#Agents': [3, 3, 3, 3],\n",
       " '#Layers': [2, 2, 2, 2],\n",
       " 'init': [[{γ_0: 0.2507629062271808,\n",
       "    β_0: 4.283103650279651,\n",
       "    γ_1: 6.587731123146383,\n",
       "    β_1: -2.6902988249426705}],\n",
       "  [{γ_0: 0.2507629062271808,\n",
       "    β_0: 4.283103650279651,\n",
       "    γ_1: 6.587731123146383,\n",
       "    β_1: -2.6902988249426705}],\n",
       "  [{γ_0: 0.2507629062271808,\n",
       "    β_0: 4.283103650279651,\n",
       "    γ_1: 6.587731123146383,\n",
       "    β_1: -2.6902988249426705}],\n",
       "  [{γ_0: 0.2507629062271808,\n",
       "    β_0: 4.283103650279651,\n",
       "    γ_1: 6.587731123146383,\n",
       "    β_1: -2.6902988249426705}]],\n",
       " 'P(true sol)': [0.017, 0.018, 0.013, 0.009],\n",
       " 'Epochs': [100, 100, 200, 200],\n",
       " 'LR': [0.1, 1, 0.1, 1],\n",
       " 'TTE': [47.63, 30.87, 49.23, 47.71]}"
      ]
     },
     "execution_count": 24,
     "metadata": {},
     "output_type": "execute_result"
    }
   ],
   "source": [
    "runs = 1\n",
    "dataset = {'#Agents' : [],\n",
    "           '#Layers' : [],\n",
    "          'init' : [],\n",
    "          'P(true sol)' : [],\n",
    "           'Epochs' : [],\n",
    "           'LR': [],\n",
    "          'TTE' : []}\n",
    "\n",
    "for ep in [100, 200]:\n",
    "    for lr in [0.1, 1]:\n",
    "        for a in range(runs):\n",
    "            print(f\"Run {a+1}, ep {ep}, lr {lr}\")\n",
    "            dataset['#Agents'].append(agents)\n",
    "            dataset['#Layers'].append(p)\n",
    "            dataset['Epochs'].append(ep)\n",
    "            dataset['LR'].append(lr)\n",
    "            for i in range(p):\n",
    "                param_dict[gamma[i]] = random.uniform(-2, 2)\n",
    "                param_dict[beta[i]] = random.uniform(-2, 2)\n",
    "\n",
    "            dataset['init'].append([param_dict])\n",
    "            solutions = []\n",
    "            solutions.append(Q_optim(param_dict, qaoa, qubits, lr, ep, rr = True, prints = False))\n",
    "            opt_params = solutions[0][0]\n",
    "\n",
    "            num_reps = 1000\n",
    "            params = cirq.ParamResolver(opt_params)\n",
    "\n",
    "            measure_result = simulator.run(measure_qaoa, param_resolver=params, repetitions = num_reps)\n",
    "            counts = measure_result.histogram(key='result')\n",
    "\n",
    "            sol, num, prob = find_sol(counts)\n",
    "            dataset['P(true sol)'].append(prob)\n",
    "            dataset['TTE'].append(solutions[0][2])\n",
    "\n",
    "dataset"
   ]
  },
  {
   "cell_type": "code",
   "execution_count": null,
   "id": "2e065eb0",
   "metadata": {},
   "outputs": [],
   "source": [
    "for i in range(p):\n",
    "    param_dict[gamma[i]] = random.uniform(-2, 2)\n",
    "    param_dict[beta[i]] = random.uniform(-2, 2)\n",
    "    \n",
    "solutions = []\n",
    "# \n",
    "print(param_dict)\n",
    "\n",
    "solutions.append(Q_optim(param_dict, qaoa, qubits, 1, 400, rr = True, plot = False))\n",
    "opt_params = dict()\n",
    "opt_params = solutions[0][0]\n"
   ]
  },
  {
   "cell_type": "code",
   "execution_count": null,
   "id": "ed043d76",
   "metadata": {},
   "outputs": [],
   "source": [
    "num_reps = 1000\n",
    "params = cirq.ParamResolver(opt_params)\n",
    "print(params)\n",
    "measure_result = simulator.run(measure_qaoa, param_resolver=params, repetitions = num_reps)\n",
    "cirq.plot_state_histogram(measure_result, plt.subplot())\n",
    "plt.show()\n",
    "counts = measure_result.histogram(key='result')\n",
    "solution = counts.most_common(10)\n",
    "solution"
   ]
  },
  {
   "cell_type": "code",
   "execution_count": null,
   "id": "066b6880",
   "metadata": {},
   "outputs": [],
   "source": [
    "sol, num, prob = find_sol(counts)\n",
    "print(f\"Best coalition: {sol}\\nProbabilty: {prob}\")\n",
    "num"
   ]
  },
  {
   "cell_type": "code",
   "execution_count": null,
   "id": "f706bbe6",
   "metadata": {},
   "outputs": [],
   "source": [
    "most_common = solution[0][0]\n",
    "print(\"Most frequent measurment: \", most_common)\n",
    "decode(to_bin_array3(most_common), coalition_values)"
   ]
  },
  {
   "cell_type": "code",
   "execution_count": null,
   "id": "49c3fa42",
   "metadata": {},
   "outputs": [],
   "source": [
    "def show_cost():\n",
    "    op = float('inf')\n",
    "    vals = []\n",
    "    for i in range(2**problem_size):\n",
    "        bits = np.array(to_bin_array3(i))\n",
    "        co = bits @ Q @ bits\n",
    "        vals.append(co)\n",
    "        if co < op:\n",
    "            op = co\n",
    "            index = i\n",
    "\n",
    "    print(index, op)\n",
    "\n",
    "    x = range(len(vals))\n",
    "    plt.plot(x,vals)\n",
    "    \n",
    "\n",
    "show_cost()\n"
   ]
  },
  {
   "cell_type": "code",
   "execution_count": null,
   "id": "0fc1e6c6",
   "metadata": {},
   "outputs": [],
   "source": []
  }
 ],
 "metadata": {
  "kernelspec": {
   "display_name": "Python 3 (ipykernel)",
   "language": "python",
   "name": "python3"
  },
  "language_info": {
   "codemirror_mode": {
    "name": "ipython",
    "version": 3
   },
   "file_extension": ".py",
   "mimetype": "text/x-python",
   "name": "python",
   "nbconvert_exporter": "python",
   "pygments_lexer": "ipython3",
   "version": "3.9.13"
  }
 },
 "nbformat": 4,
 "nbformat_minor": 5
}
