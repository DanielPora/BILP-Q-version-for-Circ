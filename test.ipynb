{
 "cells": [
  {
   "cell_type": "code",
   "execution_count": 1,
   "id": "0fc35b29",
   "metadata": {},
   "outputs": [],
   "source": [
    "try:\n",
    "    import cirq\n",
    "except ImportError:\n",
    "    print(\"installing cirq...\")\n",
    "    !pip install --quiet cirq\n",
    "    print(\"installed cirq.\")\n",
    "    import cirq\n",
    "import cirq_google\n",
    "from Utils_CSG import *\n",
    "import sympy \n",
    "import numpy as np\n",
    "from typing import Sequence, Tuple\n",
    "from cirq.circuits import InsertStrategy\n",
    "from cirq.contrib.svg import SVGCircuit\n",
    "import matplotlib.pyplot as plt"
   ]
  },
  {
   "cell_type": "code",
   "execution_count": 8,
   "id": "32e6da6f",
   "metadata": {},
   "outputs": [
    {
     "name": "stdout",
     "output_type": "stream",
     "text": [
      "source: ───PauliString(+Z)───\n",
      "           │\n",
      "target: ───Z─────────────────\n",
      "[(1+0j)]\n"
     ]
    }
   ],
   "source": [
    "q0 = cirq.NamedQubit('source')\n",
    "q1 = cirq.NamedQubit('target')\n",
    "ck = cirq.Circuit()\n",
    "ck.append(cirq.Z(q0)*cirq.Z(q1))\n",
    "print(ck)\n",
    "simulator = cirq.Simulator()\n",
    "ev_list = simulator.simulate_expectation_values(\n",
    "    ck, observables=cirq.Z(q0)*cirq.Z(q1))\n",
    "\n",
    "print(ev_list)"
   ]
  },
  {
   "cell_type": "code",
   "execution_count": 23,
   "id": "cfab23c9",
   "metadata": {},
   "outputs": [
    {
     "data": {
      "text/plain": [
       "array([[ 1,  1,  1,  1, -1, -1, -1, -1],\n",
       "       [ 1,  1, -1, -1,  1,  1, -1, -1],\n",
       "       [ 1, -1,  1, -1,  1, -1,  1, -1]], dtype=int32)"
      ]
     },
     "execution_count": 23,
     "metadata": {},
     "output_type": "execute_result"
    }
   ],
   "source": [
    "n_sites = 3\n",
    "Z = np.array(\n",
    "        [(-1) ** (np.arange(2**n_sites) >> i) for i in range(n_sites - 1, -1, -1)]\n",
    "            )\n",
    "Z"
   ]
  }
 ],
 "metadata": {
  "kernelspec": {
   "display_name": "Python 3 (ipykernel)",
   "language": "python",
   "name": "python3"
  },
  "language_info": {
   "codemirror_mode": {
    "name": "ipython",
    "version": 3
   },
   "file_extension": ".py",
   "mimetype": "text/x-python",
   "name": "python",
   "nbconvert_exporter": "python",
   "pygments_lexer": "ipython3",
   "version": "3.9.13"
  }
 },
 "nbformat": 4,
 "nbformat_minor": 5
}
